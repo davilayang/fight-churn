{
 "cells": [
  {
   "cell_type": "markdown",
   "id": "ae513752-e614-4db3-8add-f743dc881826",
   "metadata": {},
   "source": [
    "# 06 Relationships between customer behaviors"
   ]
  },
  {
   "cell_type": "code",
   "execution_count": 1,
   "id": "cfcdf370-9ce3-4e1e-bb5f-f9d33114f649",
   "metadata": {},
   "outputs": [],
   "source": [
    "import json\n",
    "import sqlalchemy\n",
    "import pandas as pd\n",
    "\n",
    "from pprint import pprint"
   ]
  },
  {
   "cell_type": "code",
   "execution_count": 2,
   "id": "bc776646-caf3-4d2d-8eb0-86c9131fdd84",
   "metadata": {},
   "outputs": [
    {
     "data": {
      "text/html": [
       "<div>\n",
       "<style scoped>\n",
       "    .dataframe tbody tr th:only-of-type {\n",
       "        vertical-align: middle;\n",
       "    }\n",
       "\n",
       "    .dataframe tbody tr th {\n",
       "        vertical-align: top;\n",
       "    }\n",
       "\n",
       "    .dataframe thead th {\n",
       "        text-align: right;\n",
       "    }\n",
       "</style>\n",
       "<table border=\"1\" class=\"dataframe\">\n",
       "  <thead>\n",
       "    <tr style=\"text-align: right;\">\n",
       "      <th></th>\n",
       "      <th>table_catalog</th>\n",
       "      <th>table_schema</th>\n",
       "      <th>table_name</th>\n",
       "      <th>table_type</th>\n",
       "      <th>self_referencing_column_name</th>\n",
       "      <th>reference_generation</th>\n",
       "      <th>user_defined_type_catalog</th>\n",
       "      <th>user_defined_type_schema</th>\n",
       "      <th>user_defined_type_name</th>\n",
       "      <th>is_insertable_into</th>\n",
       "      <th>is_typed</th>\n",
       "      <th>commit_action</th>\n",
       "    </tr>\n",
       "  </thead>\n",
       "  <tbody>\n",
       "    <tr>\n",
       "      <th>0</th>\n",
       "      <td>churn</td>\n",
       "      <td>socialnet7</td>\n",
       "      <td>active_period</td>\n",
       "      <td>BASE TABLE</td>\n",
       "      <td>None</td>\n",
       "      <td>None</td>\n",
       "      <td>None</td>\n",
       "      <td>None</td>\n",
       "      <td>None</td>\n",
       "      <td>YES</td>\n",
       "      <td>NO</td>\n",
       "      <td>None</td>\n",
       "    </tr>\n",
       "    <tr>\n",
       "      <th>1</th>\n",
       "      <td>churn</td>\n",
       "      <td>socialnet7</td>\n",
       "      <td>event_type</td>\n",
       "      <td>BASE TABLE</td>\n",
       "      <td>None</td>\n",
       "      <td>None</td>\n",
       "      <td>None</td>\n",
       "      <td>None</td>\n",
       "      <td>None</td>\n",
       "      <td>YES</td>\n",
       "      <td>NO</td>\n",
       "      <td>None</td>\n",
       "    </tr>\n",
       "    <tr>\n",
       "      <th>2</th>\n",
       "      <td>churn</td>\n",
       "      <td>socialnet7</td>\n",
       "      <td>metric_name</td>\n",
       "      <td>BASE TABLE</td>\n",
       "      <td>None</td>\n",
       "      <td>None</td>\n",
       "      <td>None</td>\n",
       "      <td>None</td>\n",
       "      <td>None</td>\n",
       "      <td>YES</td>\n",
       "      <td>NO</td>\n",
       "      <td>None</td>\n",
       "    </tr>\n",
       "  </tbody>\n",
       "</table>\n",
       "</div>"
      ],
      "text/plain": [
       "  table_catalog table_schema     table_name  table_type  \\\n",
       "0         churn   socialnet7  active_period  BASE TABLE   \n",
       "1         churn   socialnet7     event_type  BASE TABLE   \n",
       "2         churn   socialnet7    metric_name  BASE TABLE   \n",
       "\n",
       "  self_referencing_column_name reference_generation user_defined_type_catalog  \\\n",
       "0                         None                 None                      None   \n",
       "1                         None                 None                      None   \n",
       "2                         None                 None                      None   \n",
       "\n",
       "  user_defined_type_schema user_defined_type_name is_insertable_into is_typed  \\\n",
       "0                     None                   None                YES       NO   \n",
       "1                     None                   None                YES       NO   \n",
       "2                     None                   None                YES       NO   \n",
       "\n",
       "  commit_action  \n",
       "0          None  \n",
       "1          None  \n",
       "2          None  "
      ]
     },
     "execution_count": 2,
     "metadata": {},
     "output_type": "execute_result"
    }
   ],
   "source": [
    "# Make a sql connection with sqlalchmey\n",
    "conn_string = \"postgresql://postgres-db/churn?user=postgres&password=password\" \n",
    "engine = sqlalchemy.create_engine(\n",
    "    conn_string, connect_args={'options': '-csearch_path={}'.format(\"socialnet7,public\")}\n",
    ")\n",
    "conn = engine.connect()\n",
    "\n",
    "# Query with Pandas, e.g. list all tables\n",
    "tables = pd.read_sql_query(\"SELECT * FROM information_schema.tables;\", conn)\n",
    "tables.head(3)"
   ]
  },
  {
   "cell_type": "code",
   "execution_count": 3,
   "id": "70b7a729-0bfc-4b7d-bec3-170642aac4b1",
   "metadata": {},
   "outputs": [],
   "source": [
    "with open(\"/app/fightchurn/listings/conf/socialnet7_listings.json\", \"r\") as f: \n",
    "    conf = json.loads(f.read())\n",
    "\n",
    "chap4 = conf[\"chap4\"]\n",
    "chap6 = conf[\"chap6\"]"
   ]
  },
  {
   "cell_type": "code",
   "execution_count": null,
   "id": "80ec8b9d-ac9c-47dd-8be3-2453c9625a3b",
   "metadata": {},
   "outputs": [],
   "source": []
  },
  {
   "cell_type": "markdown",
   "id": "5bee3540-c2ea-4954-a85f-feb2ca76b405",
   "metadata": {},
   "source": [
    "## Dependent Data"
   ]
  },
  {
   "cell_type": "code",
   "execution_count": 4,
   "id": "10473e02-090d-42bc-aa44-f86105c74e57",
   "metadata": {},
   "outputs": [
    {
     "name": "stdout",
     "output_type": "stream",
     "text": [
      "{'defaults': {'%from_yyyy-mm-dd': '2020-02-09',\n",
      "              '%to_yyyy-mm-dd': '2020-05-10',\n",
      "              'mode': 'run',\n",
      "              'type': 'sql'},\n",
      " 'list1': {'name': 'ongoing_active_periods',\n",
      "           'params': {'%gap_interval': '7 day'}},\n",
      " 'list2': {'name': 'churned_periods', 'params': {'%gap_interval': '7 day'}},\n",
      " 'list3': {'name': 'active_event_weeks', 'params': {}},\n",
      " 'list4': {'name': 'observation_dates',\n",
      "           'params': {'%lead_time': '5 day', '%obs_interval': '1 month'}},\n",
      " 'list5': {'name': 'dataset',\n",
      "           'params': {'%metric_interval': '7 day', 'mode': 'save'}},\n",
      " 'list6': {'name': 'current_customers',\n",
      "           'params': {'%from_yyyy-mm-dd': '2020-05-10',\n",
      "                      '%metric_interval': '7 day',\n",
      "                      '%to_yyyy-mm-dd': '2020-05-10',\n",
      "                      'mode': 'save'}}}\n"
     ]
    }
   ],
   "source": [
    "pprint(chap4)"
   ]
  },
  {
   "cell_type": "code",
   "execution_count": 112,
   "id": "ddcfb130-e0a2-4f29-b416-169b813567d5",
   "metadata": {},
   "outputs": [
    {
     "data": {
      "text/plain": [
       "(54188, 9)"
      ]
     },
     "metadata": {},
     "output_type": "display_data"
    },
    {
     "data": {
      "text/html": [
       "<div>\n",
       "<style scoped>\n",
       "    .dataframe tbody tr th:only-of-type {\n",
       "        vertical-align: middle;\n",
       "    }\n",
       "\n",
       "    .dataframe tbody tr th {\n",
       "        vertical-align: top;\n",
       "    }\n",
       "\n",
       "    .dataframe thead th {\n",
       "        text-align: right;\n",
       "    }\n",
       "</style>\n",
       "<table border=\"1\" class=\"dataframe\">\n",
       "  <thead>\n",
       "    <tr style=\"text-align: right;\">\n",
       "      <th></th>\n",
       "      <th>id</th>\n",
       "      <th>account_id</th>\n",
       "      <th>product</th>\n",
       "      <th>start_date</th>\n",
       "      <th>end_date</th>\n",
       "      <th>mrr</th>\n",
       "      <th>quantity</th>\n",
       "      <th>units</th>\n",
       "      <th>bill_period_months</th>\n",
       "    </tr>\n",
       "  </thead>\n",
       "  <tbody>\n",
       "    <tr>\n",
       "      <th>0</th>\n",
       "      <td>0</td>\n",
       "      <td>1</td>\n",
       "      <td>'socialnet7'</td>\n",
       "      <td>2020-01-28</td>\n",
       "      <td>2020-02-28</td>\n",
       "      <td>9.99</td>\n",
       "      <td>None</td>\n",
       "      <td>None</td>\n",
       "      <td>1</td>\n",
       "    </tr>\n",
       "    <tr>\n",
       "      <th>1</th>\n",
       "      <td>1</td>\n",
       "      <td>1</td>\n",
       "      <td>'socialnet7'</td>\n",
       "      <td>2020-02-28</td>\n",
       "      <td>2020-03-28</td>\n",
       "      <td>9.99</td>\n",
       "      <td>None</td>\n",
       "      <td>None</td>\n",
       "      <td>1</td>\n",
       "    </tr>\n",
       "    <tr>\n",
       "      <th>2</th>\n",
       "      <td>2</td>\n",
       "      <td>1</td>\n",
       "      <td>'socialnet7'</td>\n",
       "      <td>2020-03-28</td>\n",
       "      <td>2020-04-28</td>\n",
       "      <td>9.99</td>\n",
       "      <td>None</td>\n",
       "      <td>None</td>\n",
       "      <td>1</td>\n",
       "    </tr>\n",
       "    <tr>\n",
       "      <th>3</th>\n",
       "      <td>3</td>\n",
       "      <td>1</td>\n",
       "      <td>'socialnet7'</td>\n",
       "      <td>2020-04-28</td>\n",
       "      <td>2020-05-28</td>\n",
       "      <td>9.99</td>\n",
       "      <td>None</td>\n",
       "      <td>None</td>\n",
       "      <td>1</td>\n",
       "    </tr>\n",
       "    <tr>\n",
       "      <th>4</th>\n",
       "      <td>4</td>\n",
       "      <td>1</td>\n",
       "      <td>'socialnet7'</td>\n",
       "      <td>2020-05-28</td>\n",
       "      <td>2020-06-28</td>\n",
       "      <td>9.99</td>\n",
       "      <td>None</td>\n",
       "      <td>None</td>\n",
       "      <td>1</td>\n",
       "    </tr>\n",
       "  </tbody>\n",
       "</table>\n",
       "</div>"
      ],
      "text/plain": [
       "   id  account_id       product  start_date    end_date   mrr quantity units  \\\n",
       "0   0           1  'socialnet7'  2020-01-28  2020-02-28  9.99     None  None   \n",
       "1   1           1  'socialnet7'  2020-02-28  2020-03-28  9.99     None  None   \n",
       "2   2           1  'socialnet7'  2020-03-28  2020-04-28  9.99     None  None   \n",
       "3   3           1  'socialnet7'  2020-04-28  2020-05-28  9.99     None  None   \n",
       "4   4           1  'socialnet7'  2020-05-28  2020-06-28  9.99     None  None   \n",
       "\n",
       "   bill_period_months  \n",
       "0                   1  \n",
       "1                   1  \n",
       "2                   1  \n",
       "3                   1  \n",
       "4                   1  "
      ]
     },
     "execution_count": 112,
     "metadata": {},
     "output_type": "execute_result"
    }
   ],
   "source": [
    "subs = pd.read_sql_query(\"SELECT * FROM subscription ORDER BY account_id, start_date\", conn) \n",
    "# table schema already set with connection\n",
    "\n",
    "# subs = pd.read_sql_query(\"SELECT * FROM socialnet7.subscription\", conn)\n",
    "display(subs.shape)\n",
    "subs.head()"
   ]
  },
  {
   "cell_type": "code",
   "execution_count": 113,
   "id": "adc47764-79dd-4986-91f1-a62e6e92ca72",
   "metadata": {},
   "outputs": [
    {
     "data": {
      "text/html": [
       "<div>\n",
       "<style scoped>\n",
       "    .dataframe tbody tr th:only-of-type {\n",
       "        vertical-align: middle;\n",
       "    }\n",
       "\n",
       "    .dataframe tbody tr th {\n",
       "        vertical-align: top;\n",
       "    }\n",
       "\n",
       "    .dataframe thead th {\n",
       "        text-align: right;\n",
       "    }\n",
       "</style>\n",
       "<table border=\"1\" class=\"dataframe\">\n",
       "  <thead>\n",
       "    <tr style=\"text-align: right;\">\n",
       "      <th></th>\n",
       "      <th>account_id</th>\n",
       "      <th>start_date</th>\n",
       "      <th>end_date</th>\n",
       "      <th>prev_end_date</th>\n",
       "    </tr>\n",
       "  </thead>\n",
       "  <tbody>\n",
       "  </tbody>\n",
       "</table>\n",
       "</div>"
      ],
      "text/plain": [
       "Empty DataFrame\n",
       "Columns: [account_id, start_date, end_date, prev_end_date]\n",
       "Index: []"
      ]
     },
     "execution_count": 113,
     "metadata": {},
     "output_type": "execute_result"
    }
   ],
   "source": [
    "# find accounts that have subscription gaps greater than 0 day\n",
    "tmp = (\n",
    "    subs[[\"account_id\", \"start_date\", \"end_date\"]]\n",
    "    .sort_values([\"account_id\", \"start_date\"])\n",
    "    .assign(prev_end_date=lambda d: d.groupby(\"account_id\")[\"end_date\"].shift(1))\n",
    ")\n",
    "tmp.query(\"abs((start_date - prev_end_date).dt.days) > 0\", engine=\"python\")\n",
    "# no rows means all subsciptions starts with the end of previous subscriptions?!"
   ]
  },
  {
   "cell_type": "markdown",
   "id": "52e994d1-fe5b-4c60-9bf0-5468fea11ef9",
   "metadata": {},
   "source": [
    "> TODO: try patch the data to have some subscription start after 7 days from last end"
   ]
  },
  {
   "cell_type": "code",
   "execution_count": 6,
   "id": "f361532a-3e7a-4d32-ac00-e8fd14d0705b",
   "metadata": {},
   "outputs": [
    {
     "data": {
      "text/plain": [
       "(15000, 3)"
      ]
     },
     "metadata": {},
     "output_type": "display_data"
    },
    {
     "data": {
      "text/html": [
       "<div>\n",
       "<style scoped>\n",
       "    .dataframe tbody tr th:only-of-type {\n",
       "        vertical-align: middle;\n",
       "    }\n",
       "\n",
       "    .dataframe tbody tr th {\n",
       "        vertical-align: top;\n",
       "    }\n",
       "\n",
       "    .dataframe thead th {\n",
       "        text-align: right;\n",
       "    }\n",
       "</style>\n",
       "<table border=\"1\" class=\"dataframe\">\n",
       "  <thead>\n",
       "    <tr style=\"text-align: right;\">\n",
       "      <th></th>\n",
       "      <th>account_id</th>\n",
       "      <th>event_time</th>\n",
       "      <th>event_type_id</th>\n",
       "    </tr>\n",
       "  </thead>\n",
       "  <tbody>\n",
       "    <tr>\n",
       "      <th>0</th>\n",
       "      <td>1</td>\n",
       "      <td>2020-01-28 01:17:55</td>\n",
       "      <td>0</td>\n",
       "    </tr>\n",
       "    <tr>\n",
       "      <th>1</th>\n",
       "      <td>1</td>\n",
       "      <td>2020-01-28 08:44:31</td>\n",
       "      <td>2</td>\n",
       "    </tr>\n",
       "    <tr>\n",
       "      <th>2</th>\n",
       "      <td>1</td>\n",
       "      <td>2020-01-29 17:02:34</td>\n",
       "      <td>0</td>\n",
       "    </tr>\n",
       "    <tr>\n",
       "      <th>3</th>\n",
       "      <td>1</td>\n",
       "      <td>2020-01-30 08:14:45</td>\n",
       "      <td>0</td>\n",
       "    </tr>\n",
       "    <tr>\n",
       "      <th>4</th>\n",
       "      <td>1</td>\n",
       "      <td>2020-02-02 14:52:25</td>\n",
       "      <td>6</td>\n",
       "    </tr>\n",
       "  </tbody>\n",
       "</table>\n",
       "</div>"
      ],
      "text/plain": [
       "   account_id          event_time  event_type_id\n",
       "0           1 2020-01-28 01:17:55              0\n",
       "1           1 2020-01-28 08:44:31              2\n",
       "2           1 2020-01-29 17:02:34              0\n",
       "3           1 2020-01-30 08:14:45              0\n",
       "4           1 2020-02-02 14:52:25              6"
      ]
     },
     "execution_count": 6,
     "metadata": {},
     "output_type": "execute_result"
    }
   ],
   "source": [
    "event = pd.read_sql_query(\"SELECT * FROM event LIMIT 15000\", conn) \n",
    "display(event.shape)\n",
    "event.head()"
   ]
  },
  {
   "cell_type": "code",
   "execution_count": 7,
   "id": "4abfe475-3480-4164-be7e-c0a0b1a7f2f6",
   "metadata": {},
   "outputs": [
    {
     "data": {
      "text/plain": [
       "(0, 4)"
      ]
     },
     "metadata": {},
     "output_type": "display_data"
    },
    {
     "data": {
      "text/html": [
       "<div>\n",
       "<style scoped>\n",
       "    .dataframe tbody tr th:only-of-type {\n",
       "        vertical-align: middle;\n",
       "    }\n",
       "\n",
       "    .dataframe tbody tr th {\n",
       "        vertical-align: top;\n",
       "    }\n",
       "\n",
       "    .dataframe thead th {\n",
       "        text-align: right;\n",
       "    }\n",
       "</style>\n",
       "<table border=\"1\" class=\"dataframe\">\n",
       "  <thead>\n",
       "    <tr style=\"text-align: right;\">\n",
       "      <th></th>\n",
       "      <th>account_id</th>\n",
       "      <th>metric_time</th>\n",
       "      <th>metric_name_id</th>\n",
       "      <th>metric_value</th>\n",
       "    </tr>\n",
       "  </thead>\n",
       "  <tbody>\n",
       "  </tbody>\n",
       "</table>\n",
       "</div>"
      ],
      "text/plain": [
       "Empty DataFrame\n",
       "Columns: [account_id, metric_time, metric_name_id, metric_value]\n",
       "Index: []"
      ]
     },
     "execution_count": 7,
     "metadata": {},
     "output_type": "execute_result"
    }
   ],
   "source": [
    "metric = pd.read_sql_query(\"SELECT * FROM metric\", conn) \n",
    "display(metric.shape)\n",
    "# by default, metric dataset is empty \n",
    "metric.head()"
   ]
  },
  {
   "cell_type": "code",
   "execution_count": null,
   "id": "9cafa3e3-5899-44a3-8cc7-868883eb5308",
   "metadata": {},
   "outputs": [],
   "source": []
  },
  {
   "cell_type": "code",
   "execution_count": null,
   "id": "25ab036a-6e18-452a-9d10-64f1ade69c42",
   "metadata": {},
   "outputs": [],
   "source": []
  },
  {
   "cell_type": "markdown",
   "id": "c6236b6c-77eb-455f-9349-df6144cefdf6",
   "metadata": {
    "tags": []
   },
   "source": [
    "### 4.3 Identifying active periods from subscriptions\n",
    "\n",
    "- 4.3.3 Finding active periods that are ongoing\n",
    "- Listing 4.1"
   ]
  },
  {
   "cell_type": "markdown",
   "id": "f0d223e1-06ce-4023-a27f-5eaba4f4fb46",
   "metadata": {},
   "source": [
    "#### active periods\n",
    "\n",
    "- different from \"subscriptions\"\n",
    "- active periods _merge_ any multiple subscriptions and ignores short gaps\n",
    "- each account can only in one active periods at a time"
   ]
  },
  {
   "cell_type": "code",
   "execution_count": 8,
   "id": "cb76a7f0-39c0-4930-b2f7-b20decbd7543",
   "metadata": {},
   "outputs": [
    {
     "data": {
      "text/plain": [
       "('7 day', '2020-05-10')"
      ]
     },
     "execution_count": 8,
     "metadata": {},
     "output_type": "execute_result"
    }
   ],
   "source": [
    "gap_interval = chap4[\"list1\"][\"params\"][\"%gap_interval\"]\n",
    "to_yyyy_mm_dd = chap4[\"defaults\"][\"%to_yyyy-mm-dd\"]\n",
    "\n",
    "gap_interval, to_yyyy_mm_dd"
   ]
  },
  {
   "cell_type": "code",
   "execution_count": 159,
   "id": "6cc631ae-4345-4ebc-bc1f-e9a86424e2ec",
   "metadata": {},
   "outputs": [
    {
     "data": {
      "text/html": [
       "<div>\n",
       "<style scoped>\n",
       "    .dataframe tbody tr th:only-of-type {\n",
       "        vertical-align: middle;\n",
       "    }\n",
       "\n",
       "    .dataframe tbody tr th {\n",
       "        vertical-align: top;\n",
       "    }\n",
       "\n",
       "    .dataframe thead th {\n",
       "        text-align: right;\n",
       "    }\n",
       "</style>\n",
       "<table border=\"1\" class=\"dataframe\">\n",
       "  <thead>\n",
       "    <tr style=\"text-align: right;\">\n",
       "      <th></th>\n",
       "      <th>account_id</th>\n",
       "      <th>start_date</th>\n",
       "      <th>churn_date</th>\n",
       "    </tr>\n",
       "  </thead>\n",
       "  <tbody>\n",
       "    <tr>\n",
       "      <th>3259</th>\n",
       "      <td>1</td>\n",
       "      <td>2020-01-28</td>\n",
       "      <td>None</td>\n",
       "    </tr>\n",
       "    <tr>\n",
       "      <th>2760</th>\n",
       "      <td>4</td>\n",
       "      <td>2020-01-29</td>\n",
       "      <td>None</td>\n",
       "    </tr>\n",
       "    <tr>\n",
       "      <th>3452</th>\n",
       "      <td>7</td>\n",
       "      <td>2020-01-31</td>\n",
       "      <td>None</td>\n",
       "    </tr>\n",
       "    <tr>\n",
       "      <th>3622</th>\n",
       "      <td>8</td>\n",
       "      <td>2020-01-04</td>\n",
       "      <td>None</td>\n",
       "    </tr>\n",
       "    <tr>\n",
       "      <th>7213</th>\n",
       "      <td>10</td>\n",
       "      <td>2020-01-04</td>\n",
       "      <td>None</td>\n",
       "    </tr>\n",
       "  </tbody>\n",
       "</table>\n",
       "</div>"
      ],
      "text/plain": [
       "      account_id  start_date churn_date\n",
       "3259           1  2020-01-28       None\n",
       "2760           4  2020-01-29       None\n",
       "3452           7  2020-01-31       None\n",
       "3622           8  2020-01-04       None\n",
       "7213          10  2020-01-04       None"
      ]
     },
     "execution_count": 159,
     "metadata": {},
     "output_type": "execute_result"
    }
   ],
   "source": [
    "# listing_4_1_ongoing_active_periods.sql\n",
    "query = f\"\"\"\\\n",
    "WITH RECURSIVE active_period_params AS (\n",
    "    SELECT\n",
    "        interval '{gap_interval}' AS allowed_gap,\n",
    "        '{to_yyyy_mm_dd}'::date AS calc_date\n",
    "),\n",
    "active AS (\n",
    "  -- find all accounts that are currently active\n",
    "    SELECT\n",
    "  DISTINCT\n",
    "        account_id,\n",
    "        min(start_date) AS start_date\n",
    "      FROM socialnet7.subscription\n",
    "INNER JOIN active_period_params AS params\n",
    "        ON start_date <= params.calc_date\n",
    "       AND (end_date > params.calc_date OR end_date IS null) -- subscriptions that haven't ended\n",
    "  GROUP BY account_id\n",
    "\n",
    "     UNION\n",
    "\n",
    "  -- find earlier subscriptions that overlapped with or are continuous with\n",
    "  -- but older than the subscriptions currently found\n",
    "    SELECT\n",
    "        subs.account_id,\n",
    "        subs.start_date\n",
    "      FROM socialnet7.subscription AS subs\n",
    "CROSS JOIN active_period_params AS params\n",
    "INNER JOIN active -- self, i.e. recursive join\n",
    "        ON subs.account_id = active.account_id\n",
    "       AND subs.start_date < active.start_date -- subscriptions that starts before THIS subscription\n",
    "       AND subs.end_date >= (active.start_date - params.allowed_gap)::date -- subscriptions that ends after THIS subscription\n",
    ")\n",
    "\n",
    "-- INSERT INTO active_period (account_id, start_date, churn_date)\n",
    "     SELECT\n",
    "        account_id,\n",
    "        min(start_date) AS start_date,\n",
    "        NULL::date as churn_date\n",
    "       FROM active\n",
    "   GROUP BY account_id, churn_date\n",
    "\"\"\" \n",
    "res = pd.read_sql_query(query, conn).sort_values([\"account_id\", \"start_date\"])\n",
    "res.head()"
   ]
  },
  {
   "cell_type": "code",
   "execution_count": 127,
   "id": "7a601db7-9235-474c-b84d-ca3e205bdaad",
   "metadata": {},
   "outputs": [
    {
     "data": {
      "text/html": [
       "<div>\n",
       "<style scoped>\n",
       "    .dataframe tbody tr th:only-of-type {\n",
       "        vertical-align: middle;\n",
       "    }\n",
       "\n",
       "    .dataframe tbody tr th {\n",
       "        vertical-align: top;\n",
       "    }\n",
       "\n",
       "    .dataframe thead th {\n",
       "        text-align: right;\n",
       "    }\n",
       "</style>\n",
       "<table border=\"1\" class=\"dataframe\">\n",
       "  <thead>\n",
       "    <tr style=\"text-align: right;\">\n",
       "      <th></th>\n",
       "      <th>account_id</th>\n",
       "      <th>start_date</th>\n",
       "    </tr>\n",
       "  </thead>\n",
       "  <tbody>\n",
       "    <tr>\n",
       "      <th>37483</th>\n",
       "      <td>1</td>\n",
       "      <td>2020-01-28</td>\n",
       "    </tr>\n",
       "    <tr>\n",
       "      <th>29098</th>\n",
       "      <td>1</td>\n",
       "      <td>2020-02-28</td>\n",
       "    </tr>\n",
       "    <tr>\n",
       "      <th>19831</th>\n",
       "      <td>1</td>\n",
       "      <td>2020-03-28</td>\n",
       "    </tr>\n",
       "    <tr>\n",
       "      <th>9450</th>\n",
       "      <td>1</td>\n",
       "      <td>2020-04-28</td>\n",
       "    </tr>\n",
       "    <tr>\n",
       "      <th>30702</th>\n",
       "      <td>4</td>\n",
       "      <td>2020-01-29</td>\n",
       "    </tr>\n",
       "  </tbody>\n",
       "</table>\n",
       "</div>"
      ],
      "text/plain": [
       "       account_id  start_date\n",
       "37483           1  2020-01-28\n",
       "29098           1  2020-02-28\n",
       "19831           1  2020-03-28\n",
       "9450            1  2020-04-28\n",
       "30702           4  2020-01-29"
      ]
     },
     "execution_count": 152,
     "metadata": {},
     "output_type": "execute_result"
    }
   ],
   "source": [
    "query = f\"\"\"\\\n",
    "WITH RECURSIVE active_period_params AS (\n",
    "    SELECT\n",
    "        interval '{gap_interval}' AS allowed_gap,\n",
    "        '{to_yyyy_mm_dd}'::date AS calc_date\n",
    "),\n",
    "active AS (\n",
    "  -- find all accounts that are currently active (i.e. date of to_yyyy_mm_dd)\n",
    "    SELECT\n",
    "  DISTINCT\n",
    "        account_id,\n",
    "        min(start_date) AS start_date\n",
    "      FROM subscription\n",
    "INNER JOIN active_period_params AS params\n",
    "        ON start_date <= params.calc_date\n",
    "       AND (end_date > params.calc_date OR end_date IS null) \n",
    "       -- start before current date AND end after current date (or it's null)\n",
    "  GROUP BY account_id\n",
    "\n",
    "     UNION\n",
    "  -- find earlier subscriptions that overlapped with or are continuous with\n",
    "  -- but older than the subscriptions currently found\n",
    "    SELECT\n",
    "        subs.account_id,\n",
    "        subs.start_date\n",
    "      FROM subscription AS subs\n",
    "CROSS JOIN active_period_params AS params\n",
    "INNER JOIN active -- self, i.e. recursive join\n",
    "        ON subs.account_id = active.account_id -- recursive self join\n",
    "       AND subs.start_date < active.start_date -- subscriptions that are earlier than THIS subscription\n",
    "       AND subs.end_date >= (active.start_date - params.allowed_gap)::date -- subscriptions that end after THIS subscription\n",
    ")\n",
    "SELECT * FROM active\n",
    "\"\"\" \n",
    "res = pd.read_sql_query(query, conn).sort_values([\"account_id\", \"start_date\"])\n",
    "res.head()\n",
    "# each account's subscriptions, their "
   ]
  },
  {
   "cell_type": "code",
   "execution_count": null,
   "id": "3b4154f0-2768-4622-9c53-0b97d270b034",
   "metadata": {},
   "outputs": [],
   "source": []
  },
  {
   "cell_type": "code",
   "execution_count": 123,
   "id": "f9495a96-abd9-49b1-9142-e914bbdbe0b9",
   "metadata": {},
   "outputs": [
    {
     "data": {
      "text/plain": [
       "(Timedelta('7 days 00:00:00'), Timestamp('2020-05-10 00:00:00'))"
      ]
     },
     "execution_count": 123,
     "metadata": {},
     "output_type": "execute_result"
    }
   ],
   "source": [
    "gap_interval = pd.Timedelta(days=7)\n",
    "to_yyyy_mm_dd = pd.Timestamp(chap4[\"defaults\"][\"%to_yyyy-mm-dd\"])\n",
    "gap_interval, to_yyyy_mm_dd"
   ]
  },
  {
   "cell_type": "code",
   "execution_count": 154,
   "id": "c59fb4ab-18bf-44c6-a464-65f0a629830a",
   "metadata": {},
   "outputs": [
    {
     "data": {
      "text/html": [
       "<div>\n",
       "<style scoped>\n",
       "    .dataframe tbody tr th:only-of-type {\n",
       "        vertical-align: middle;\n",
       "    }\n",
       "\n",
       "    .dataframe tbody tr th {\n",
       "        vertical-align: top;\n",
       "    }\n",
       "\n",
       "    .dataframe thead th {\n",
       "        text-align: right;\n",
       "    }\n",
       "</style>\n",
       "<table border=\"1\" class=\"dataframe\">\n",
       "  <thead>\n",
       "    <tr style=\"text-align: right;\">\n",
       "      <th></th>\n",
       "      <th>account_id</th>\n",
       "      <th>start_date</th>\n",
       "      <th>end_date</th>\n",
       "    </tr>\n",
       "  </thead>\n",
       "  <tbody>\n",
       "    <tr>\n",
       "      <th>0</th>\n",
       "      <td>1</td>\n",
       "      <td>2020-01-28</td>\n",
       "      <td>2020-02-28</td>\n",
       "    </tr>\n",
       "    <tr>\n",
       "      <th>1</th>\n",
       "      <td>1</td>\n",
       "      <td>2020-02-28</td>\n",
       "      <td>2020-03-28</td>\n",
       "    </tr>\n",
       "    <tr>\n",
       "      <th>2</th>\n",
       "      <td>1</td>\n",
       "      <td>2020-03-28</td>\n",
       "      <td>2020-04-28</td>\n",
       "    </tr>\n",
       "    <tr>\n",
       "      <th>3</th>\n",
       "      <td>1</td>\n",
       "      <td>2020-04-28</td>\n",
       "      <td>2020-05-28</td>\n",
       "    </tr>\n",
       "    <tr>\n",
       "      <th>8</th>\n",
       "      <td>4</td>\n",
       "      <td>2020-01-29</td>\n",
       "      <td>2020-02-29</td>\n",
       "    </tr>\n",
       "  </tbody>\n",
       "</table>\n",
       "</div>"
      ],
      "text/plain": [
       "   account_id  start_date    end_date\n",
       "0           1  2020-01-28  2020-02-28\n",
       "1           1  2020-02-28  2020-03-28\n",
       "2           1  2020-03-28  2020-04-28\n",
       "3           1  2020-04-28  2020-05-28\n",
       "8           4  2020-01-29  2020-02-29"
      ]
     },
     "execution_count": 154,
     "metadata": {},
     "output_type": "execute_result"
    }
   ],
   "source": [
    "# find all subscriptions that \n",
    "# - having next subscription started \n",
    "# - having subscriptions coninued\n",
    "# n.b. this doesn't consider the gap between subscriptions\n",
    "tmp =( \n",
    "    subs[[\"account_id\", \"start_date\", \"end_date\"]]\n",
    "    .sort_values([\"account_id\", \"start_date\"])\n",
    "    .assign(\n",
    "        next_start_date=lambda d: d.groupby(\"account_id\")[\"start_date\"].shift(-1),\n",
    "        last_end_date=lambda d: d.groupby(\"account_id\")[\"end_date\"].transform(lambda series: series.iloc[-1]) # max())\n",
    "    )\n",
    "    .query(\"next_start_date == next_start_date\") # filter out those don't have next subscription\n",
    "    .query(\"last_end_date >= @to_yyyy_mm_dd\") # filter out those not in \"current\" context\n",
    "    .drop(columns=[\"next_start_date\", \"last_end_date\"])\n",
    "    \n",
    ")\n",
    "tmp.head(5)"
   ]
  },
  {
   "cell_type": "code",
   "execution_count": 158,
   "id": "de24810b-9afe-46ad-8dfd-687f0b4f6576",
   "metadata": {},
   "outputs": [
    {
     "data": {
      "text/html": [
       "<div>\n",
       "<style scoped>\n",
       "    .dataframe tbody tr th:only-of-type {\n",
       "        vertical-align: middle;\n",
       "    }\n",
       "\n",
       "    .dataframe tbody tr th {\n",
       "        vertical-align: top;\n",
       "    }\n",
       "\n",
       "    .dataframe thead th {\n",
       "        text-align: right;\n",
       "    }\n",
       "</style>\n",
       "<table border=\"1\" class=\"dataframe\">\n",
       "  <thead>\n",
       "    <tr style=\"text-align: right;\">\n",
       "      <th></th>\n",
       "      <th>account_id</th>\n",
       "      <th>start_date</th>\n",
       "      <th>end_date</th>\n",
       "    </tr>\n",
       "  </thead>\n",
       "  <tbody>\n",
       "    <tr>\n",
       "      <th>0</th>\n",
       "      <td>1</td>\n",
       "      <td>2020-01-28</td>\n",
       "      <td>None</td>\n",
       "    </tr>\n",
       "    <tr>\n",
       "      <th>1</th>\n",
       "      <td>4</td>\n",
       "      <td>2020-01-29</td>\n",
       "      <td>None</td>\n",
       "    </tr>\n",
       "    <tr>\n",
       "      <th>2</th>\n",
       "      <td>7</td>\n",
       "      <td>2020-01-31</td>\n",
       "      <td>None</td>\n",
       "    </tr>\n",
       "    <tr>\n",
       "      <th>3</th>\n",
       "      <td>8</td>\n",
       "      <td>2020-01-04</td>\n",
       "      <td>None</td>\n",
       "    </tr>\n",
       "    <tr>\n",
       "      <th>4</th>\n",
       "      <td>10</td>\n",
       "      <td>2020-01-04</td>\n",
       "      <td>None</td>\n",
       "    </tr>\n",
       "  </tbody>\n",
       "</table>\n",
       "</div>"
      ],
      "text/plain": [
       "   account_id  start_date end_date\n",
       "0           1  2020-01-28     None\n",
       "1           4  2020-01-29     None\n",
       "2           7  2020-01-31     None\n",
       "3           8  2020-01-04     None\n",
       "4          10  2020-01-04     None"
      ]
     },
     "execution_count": 158,
     "metadata": {},
     "output_type": "execute_result"
    }
   ],
   "source": [
    "(\n",
    "    tmp.groupby(\"account_id\", as_index=False)['start_date'].min()\n",
    "    .assign(end_date=None)\n",
    ").head()"
   ]
  },
  {
   "cell_type": "code",
   "execution_count": null,
   "id": "83479ec3-c152-48e5-8a04-7b3eb3bc83d3",
   "metadata": {},
   "outputs": [],
   "source": []
  },
  {
   "cell_type": "markdown",
   "id": "7c72884c-5acf-4b09-a89a-3fd326f97761",
   "metadata": {},
   "source": [
    "#### churned periods"
   ]
  },
  {
   "cell_type": "markdown",
   "id": "58d54ebc-3480-45ef-89be-e82f73752dde",
   "metadata": {
    "jp-MarkdownHeadingCollapsed": true,
    "tags": []
   },
   "source": [
    "- 4.3.4 Finding active periods ending in churn\n",
    "- Listing 4.2"
   ]
  },
  {
   "cell_type": "code",
   "execution_count": 162,
   "id": "3b0cd883-0d5d-4cc6-b284-1772675258a3",
   "metadata": {},
   "outputs": [
    {
     "data": {
      "text/plain": [
       "('7 day', '2020-02-09', '2020-05-10')"
      ]
     },
     "execution_count": 162,
     "metadata": {},
     "output_type": "execute_result"
    }
   ],
   "source": [
    "gap_interval = chap4[\"list2\"][\"params\"][\"%gap_interval\"]\n",
    "from_yyyy_mm_dd = chap4[\"defaults\"][\"%from_yyyy-mm-dd\"]\n",
    "to_yyyy_mm_dd = chap4[\"defaults\"][\"%to_yyyy-mm-dd\"]\n",
    "\n",
    "gap_interval, from_yyyy_mm_dd, to_yyyy_mm_dd"
   ]
  },
  {
   "cell_type": "code",
   "execution_count": 180,
   "id": "cc369f9e-5c87-4cea-baa9-a286e570151c",
   "metadata": {},
   "outputs": [
    {
     "data": {
      "text/plain": [
       "(2142, 3)"
      ]
     },
     "metadata": {},
     "output_type": "display_data"
    },
    {
     "data": {
      "text/html": [
       "<div>\n",
       "<style scoped>\n",
       "    .dataframe tbody tr th:only-of-type {\n",
       "        vertical-align: middle;\n",
       "    }\n",
       "\n",
       "    .dataframe tbody tr th {\n",
       "        vertical-align: top;\n",
       "    }\n",
       "\n",
       "    .dataframe thead th {\n",
       "        text-align: right;\n",
       "    }\n",
       "</style>\n",
       "<table border=\"1\" class=\"dataframe\">\n",
       "  <thead>\n",
       "    <tr style=\"text-align: right;\">\n",
       "      <th></th>\n",
       "      <th>account_id</th>\n",
       "      <th>start_date</th>\n",
       "      <th>churn_date</th>\n",
       "    </tr>\n",
       "  </thead>\n",
       "  <tbody>\n",
       "    <tr>\n",
       "      <th>1477</th>\n",
       "      <td>2</td>\n",
       "      <td>2020-01-13</td>\n",
       "      <td>2020-03-13</td>\n",
       "    </tr>\n",
       "    <tr>\n",
       "      <th>188</th>\n",
       "      <td>3</td>\n",
       "      <td>2020-01-11</td>\n",
       "      <td>2020-02-11</td>\n",
       "    </tr>\n",
       "    <tr>\n",
       "      <th>2084</th>\n",
       "      <td>5</td>\n",
       "      <td>2020-01-10</td>\n",
       "      <td>2020-02-10</td>\n",
       "    </tr>\n",
       "    <tr>\n",
       "      <th>1239</th>\n",
       "      <td>6</td>\n",
       "      <td>2020-01-21</td>\n",
       "      <td>2020-04-21</td>\n",
       "    </tr>\n",
       "    <tr>\n",
       "      <th>1841</th>\n",
       "      <td>9</td>\n",
       "      <td>2020-01-21</td>\n",
       "      <td>2020-02-21</td>\n",
       "    </tr>\n",
       "  </tbody>\n",
       "</table>\n",
       "</div>"
      ],
      "text/plain": [
       "      account_id  start_date  churn_date\n",
       "1477           2  2020-01-13  2020-03-13\n",
       "188            3  2020-01-11  2020-02-11\n",
       "2084           5  2020-01-10  2020-02-10\n",
       "1239           6  2020-01-21  2020-04-21\n",
       "1841           9  2020-01-21  2020-02-21"
      ]
     },
     "execution_count": 180,
     "metadata": {},
     "output_type": "execute_result"
    }
   ],
   "source": [
    "# listing_4_2_churned_periods.sql\n",
    "\n",
    "query = f\"\"\"\\\n",
    "WITH RECURSIVE active_period_params AS (\n",
    "  SELECT INTERVAL '{gap_interval}' AS allowed_gap,\n",
    "         '{to_yyyy_mm_dd}'::date AS observe_end,\n",
    "         '{from_yyyy_mm_dd}'::date AS observe_start\n",
    "),\n",
    "end_dates AS (\n",
    "    SELECT \n",
    "  DISTINCT \n",
    "        account_id, \n",
    "        start_date, \n",
    "        end_date, \n",
    "        (end_date + allowed_gap)::date AS extension_max \n",
    "      FROM \n",
    "        subscription \n",
    "INNER JOIN active_period_params \n",
    "        ON end_date BETWEEN observe_start AND observe_end    \n",
    "), \n",
    "resignups AS (\n",
    "    SELECT \n",
    "  DISTINCT \n",
    "        e.account_id, \n",
    "        e.end_date   \n",
    "      FROM end_dates AS e \n",
    "INNER JOIN subscription AS s \n",
    "        ON e.account_id = s.account_id\n",
    "       AND s.start_date <= e.extension_max\n",
    "       AND (s.end_date > e.end_date \n",
    "        OR s.end_date IS null)      \n",
    "),\n",
    "churns AS (\n",
    "         SELECT \n",
    "             e.account_id, \n",
    "             e.start_date, \n",
    "             e.end_date AS churn_date    \n",
    "           FROM \n",
    "             end_dates AS e \n",
    "LEFT OUTER JOIN resignups AS r  ON e.account_id = r.account_id    \n",
    "            AND e.end_date = r.end_date\n",
    "          WHERE r.end_date IS null\n",
    "\n",
    "          UNION\n",
    "\n",
    "         SELECT \n",
    "              s.account_id, \n",
    "              s.start_date, \n",
    "              e.churn_date    \n",
    "           FROM subscription AS s \n",
    "     CROSS JOIN active_period_params\n",
    "     INNER JOIN churns e ON s.account_id=e.account_id\n",
    "            AND s.start_date < e.start_date\n",
    "            AND s.end_date >= (e.start_date- allowed_gap)::date\n",
    ") \n",
    "\n",
    "-- INSERT INTO active_period (account_id, start_date, churn_date)\n",
    "    SELECT\n",
    "        account_id,\n",
    "        MIN(start_date) AS start_date,\n",
    "        churn_date\n",
    "      FROM churns\n",
    "  GROUP BY account_id, churn_date\n",
    "\"\"\"\n",
    "res = pd.read_sql_query(query, conn).sort_values([\"account_id\", \"start_date\"])\n",
    "display(res.shape)\n",
    "res.head()"
   ]
  },
  {
   "cell_type": "code",
   "execution_count": 166,
   "id": "766d124d-1631-4904-a720-cf1dc8766e36",
   "metadata": {},
   "outputs": [
    {
     "data": {
      "text/plain": [
       "True"
      ]
     },
     "execution_count": 166,
     "metadata": {},
     "output_type": "execute_result"
    }
   ],
   "source": [
    "res.account_id.is_unique"
   ]
  },
  {
   "cell_type": "code",
   "execution_count": 170,
   "id": "0a7b71ee-49c2-40b4-acaa-f81bfca02bb3",
   "metadata": {},
   "outputs": [
    {
     "data": {
      "text/plain": [
       "(Timedelta('7 days 00:00:00'),\n",
       " Timestamp('2020-02-09 00:00:00'),\n",
       " Timestamp('2020-05-10 00:00:00'))"
      ]
     },
     "execution_count": 170,
     "metadata": {},
     "output_type": "execute_result"
    }
   ],
   "source": [
    "# find accounts that are churned, and their start and churned date\n",
    "# what are churned accounts? \n",
    "# - having subscriptions terminated before the \"current\" date\n",
    "# - having gap between subscriptions, but within allowed differences\n",
    "# - \n",
    "\n",
    "gap_interval = pd.Timedelta(days=7)\n",
    "from_yyyy_mm_dd = pd.Timestamp(chap4[\"defaults\"][\"%from_yyyy-mm-dd\"])\n",
    "to_yyyy_mm_dd = pd.Timestamp(chap4[\"defaults\"][\"%to_yyyy-mm-dd\"])\n",
    "gap_interval, from_yyyy_mm_dd, to_yyyy_mm_dd"
   ]
  },
  {
   "cell_type": "code",
   "execution_count": 191,
   "id": "3f21388c-ed50-4137-9551-18e2c6780a4f",
   "metadata": {},
   "outputs": [
    {
     "data": {
      "text/html": [
       "<div>\n",
       "<style scoped>\n",
       "    .dataframe tbody tr th:only-of-type {\n",
       "        vertical-align: middle;\n",
       "    }\n",
       "\n",
       "    .dataframe tbody tr th {\n",
       "        vertical-align: top;\n",
       "    }\n",
       "\n",
       "    .dataframe thead th {\n",
       "        text-align: right;\n",
       "    }\n",
       "</style>\n",
       "<table border=\"1\" class=\"dataframe\">\n",
       "  <thead>\n",
       "    <tr style=\"text-align: right;\">\n",
       "      <th></th>\n",
       "      <th>account_id</th>\n",
       "      <th>start_date</th>\n",
       "      <th>end_date</th>\n",
       "      <th>last_end_date</th>\n",
       "    </tr>\n",
       "  </thead>\n",
       "  <tbody>\n",
       "    <tr>\n",
       "      <th>5</th>\n",
       "      <td>2</td>\n",
       "      <td>2020-01-13</td>\n",
       "      <td>2020-02-13</td>\n",
       "      <td>2020-03-13</td>\n",
       "    </tr>\n",
       "    <tr>\n",
       "      <th>6</th>\n",
       "      <td>2</td>\n",
       "      <td>2020-02-13</td>\n",
       "      <td>2020-03-13</td>\n",
       "      <td>2020-03-13</td>\n",
       "    </tr>\n",
       "    <tr>\n",
       "      <th>7</th>\n",
       "      <td>3</td>\n",
       "      <td>2020-01-11</td>\n",
       "      <td>2020-02-11</td>\n",
       "      <td>2020-02-11</td>\n",
       "    </tr>\n",
       "    <tr>\n",
       "      <th>13</th>\n",
       "      <td>5</td>\n",
       "      <td>2020-01-10</td>\n",
       "      <td>2020-02-10</td>\n",
       "      <td>2020-02-10</td>\n",
       "    </tr>\n",
       "    <tr>\n",
       "      <th>14</th>\n",
       "      <td>6</td>\n",
       "      <td>2020-01-21</td>\n",
       "      <td>2020-02-21</td>\n",
       "      <td>2020-04-21</td>\n",
       "    </tr>\n",
       "  </tbody>\n",
       "</table>\n",
       "</div>"
      ],
      "text/plain": [
       "    account_id  start_date    end_date last_end_date\n",
       "5            2  2020-01-13  2020-02-13    2020-03-13\n",
       "6            2  2020-02-13  2020-03-13    2020-03-13\n",
       "7            3  2020-01-11  2020-02-11    2020-02-11\n",
       "13           5  2020-01-10  2020-02-10    2020-02-10\n",
       "14           6  2020-01-21  2020-02-21    2020-04-21"
      ]
     },
     "execution_count": 191,
     "metadata": {},
     "output_type": "execute_result"
    }
   ],
   "source": [
    "churned_subs = (\n",
    "    subs[[\"account_id\", \"start_date\", \"end_date\"]]\n",
    "    .assign(last_end_date=lambda d: d.groupby(\"account_id\")[\"end_date\"].transform(lambda series: series.max()))\n",
    "    .query(\"end_date >= @from_yyyy_mm_dd & last_end_date <= @to_yyyy_mm_dd\")\n",
    ")\n",
    "churned_subs.head()"
   ]
  },
  {
   "cell_type": "code",
   "execution_count": 192,
   "id": "6fc13f3e-f838-4a96-a474-c21509da6c3a",
   "metadata": {},
   "outputs": [
    {
     "data": {
      "text/html": [
       "<div>\n",
       "<style scoped>\n",
       "    .dataframe tbody tr th:only-of-type {\n",
       "        vertical-align: middle;\n",
       "    }\n",
       "\n",
       "    .dataframe tbody tr th {\n",
       "        vertical-align: top;\n",
       "    }\n",
       "\n",
       "    .dataframe thead th {\n",
       "        text-align: right;\n",
       "    }\n",
       "</style>\n",
       "<table border=\"1\" class=\"dataframe\">\n",
       "  <thead>\n",
       "    <tr style=\"text-align: right;\">\n",
       "      <th></th>\n",
       "      <th>account_id</th>\n",
       "      <th>start_date</th>\n",
       "      <th>last_end_date</th>\n",
       "    </tr>\n",
       "  </thead>\n",
       "  <tbody>\n",
       "    <tr>\n",
       "      <th>0</th>\n",
       "      <td>2</td>\n",
       "      <td>2020-01-13</td>\n",
       "      <td>2020-03-13</td>\n",
       "    </tr>\n",
       "    <tr>\n",
       "      <th>1</th>\n",
       "      <td>3</td>\n",
       "      <td>2020-01-11</td>\n",
       "      <td>2020-02-11</td>\n",
       "    </tr>\n",
       "    <tr>\n",
       "      <th>2</th>\n",
       "      <td>5</td>\n",
       "      <td>2020-01-10</td>\n",
       "      <td>2020-02-10</td>\n",
       "    </tr>\n",
       "    <tr>\n",
       "      <th>3</th>\n",
       "      <td>6</td>\n",
       "      <td>2020-01-21</td>\n",
       "      <td>2020-04-21</td>\n",
       "    </tr>\n",
       "    <tr>\n",
       "      <th>4</th>\n",
       "      <td>9</td>\n",
       "      <td>2020-01-21</td>\n",
       "      <td>2020-02-21</td>\n",
       "    </tr>\n",
       "  </tbody>\n",
       "</table>\n",
       "</div>"
      ],
      "text/plain": [
       "   account_id  start_date last_end_date\n",
       "0           2  2020-01-13    2020-03-13\n",
       "1           3  2020-01-11    2020-02-11\n",
       "2           5  2020-01-10    2020-02-10\n",
       "3           6  2020-01-21    2020-04-21\n",
       "4           9  2020-01-21    2020-02-21"
      ]
     },
     "execution_count": 192,
     "metadata": {},
     "output_type": "execute_result"
    }
   ],
   "source": [
    "churned = (\n",
    "    churned_subs.groupby(\"account_id\", as_index=False)\n",
    "    .agg({\"start_date\": min, \"last_end_date\": \"last\"})\n",
    "    .sort_values([\"account_id\", \"start_date\"])\n",
    ")\n",
    "churned.head()"
   ]
  },
  {
   "cell_type": "code",
   "execution_count": 193,
   "id": "2e644597-a076-44a4-9a66-4b84638aeafd",
   "metadata": {},
   "outputs": [
    {
     "data": {
      "text/plain": [
       "(2142, 3)"
      ]
     },
     "execution_count": 193,
     "metadata": {},
     "output_type": "execute_result"
    }
   ],
   "source": [
    "churned.shape"
   ]
  },
  {
   "cell_type": "code",
   "execution_count": 194,
   "id": "96c98c86-6f6e-48ee-97ca-1a0ff7b67737",
   "metadata": {},
   "outputs": [
    {
     "data": {
      "text/html": [
       "<div>\n",
       "<style scoped>\n",
       "    .dataframe tbody tr th:only-of-type {\n",
       "        vertical-align: middle;\n",
       "    }\n",
       "\n",
       "    .dataframe tbody tr th {\n",
       "        vertical-align: top;\n",
       "    }\n",
       "\n",
       "    .dataframe thead th {\n",
       "        text-align: right;\n",
       "    }\n",
       "</style>\n",
       "<table border=\"1\" class=\"dataframe\">\n",
       "  <thead>\n",
       "    <tr style=\"text-align: right;\">\n",
       "      <th></th>\n",
       "      <th>account_id</th>\n",
       "      <th>start_date</th>\n",
       "      <th>churn_date</th>\n",
       "    </tr>\n",
       "  </thead>\n",
       "  <tbody>\n",
       "    <tr>\n",
       "      <th>1477</th>\n",
       "      <td>2</td>\n",
       "      <td>2020-01-13</td>\n",
       "      <td>2020-03-13</td>\n",
       "    </tr>\n",
       "    <tr>\n",
       "      <th>188</th>\n",
       "      <td>3</td>\n",
       "      <td>2020-01-11</td>\n",
       "      <td>2020-02-11</td>\n",
       "    </tr>\n",
       "    <tr>\n",
       "      <th>2084</th>\n",
       "      <td>5</td>\n",
       "      <td>2020-01-10</td>\n",
       "      <td>2020-02-10</td>\n",
       "    </tr>\n",
       "    <tr>\n",
       "      <th>1239</th>\n",
       "      <td>6</td>\n",
       "      <td>2020-01-21</td>\n",
       "      <td>2020-04-21</td>\n",
       "    </tr>\n",
       "    <tr>\n",
       "      <th>1841</th>\n",
       "      <td>9</td>\n",
       "      <td>2020-01-21</td>\n",
       "      <td>2020-02-21</td>\n",
       "    </tr>\n",
       "  </tbody>\n",
       "</table>\n",
       "</div>"
      ],
      "text/plain": [
       "      account_id  start_date  churn_date\n",
       "1477           2  2020-01-13  2020-03-13\n",
       "188            3  2020-01-11  2020-02-11\n",
       "2084           5  2020-01-10  2020-02-10\n",
       "1239           6  2020-01-21  2020-04-21\n",
       "1841           9  2020-01-21  2020-02-21"
      ]
     },
     "execution_count": 194,
     "metadata": {},
     "output_type": "execute_result"
    }
   ],
   "source": [
    "res.head()"
   ]
  },
  {
   "cell_type": "code",
   "execution_count": null,
   "id": "eea7839b-13c7-4d4c-a00d-a8876467d7c3",
   "metadata": {},
   "outputs": [],
   "source": []
  },
  {
   "cell_type": "code",
   "execution_count": null,
   "id": "5c5095e6-0ce1-4b00-a3a5-ac69d99303c4",
   "metadata": {},
   "outputs": [],
   "source": []
  },
  {
   "cell_type": "markdown",
   "id": "7e74a39a-b8d5-49aa-b87d-43c65f98397d",
   "metadata": {
    "tags": []
   },
   "source": [
    "### 4.4 Identifying active periods from nonsubscription products\n",
    "\n",
    "- i.e. from \"events\" instead of \"subscriptions\"\n",
    "- Listing 4.3"
   ]
  },
  {
   "cell_type": "code",
   "execution_count": 12,
   "id": "aad304cf-661a-40db-907c-6bc0b84f30b1",
   "metadata": {},
   "outputs": [
    {
     "data": {
      "text/plain": [
       "('2020-02-09', '2020-05-10')"
      ]
     },
     "execution_count": 12,
     "metadata": {},
     "output_type": "execute_result"
    }
   ],
   "source": [
    "from_yyyy_mm_dd = chap4[\"defaults\"][\"%from_yyyy-mm-dd\"]\n",
    "to_yyyy_mm_dd = chap4[\"defaults\"][\"%to_yyyy-mm-dd\"]\n",
    "\n",
    "from_yyyy_mm_dd, to_yyyy_mm_dd"
   ]
  },
  {
   "cell_type": "code",
   "execution_count": 13,
   "id": "59931502-03a3-47d8-906b-2b37ad4b86e4",
   "metadata": {},
   "outputs": [
    {
     "name": "stdout",
     "output_type": "stream",
     "text": [
      "CPU times: user 721 ms, sys: 34 ms, total: 755 ms\n",
      "Wall time: 18.9 s\n"
     ]
    },
    {
     "data": {
      "text/html": [
       "<div>\n",
       "<style scoped>\n",
       "    .dataframe tbody tr th:only-of-type {\n",
       "        vertical-align: middle;\n",
       "    }\n",
       "\n",
       "    .dataframe tbody tr th {\n",
       "        vertical-align: top;\n",
       "    }\n",
       "\n",
       "    .dataframe thead th {\n",
       "        text-align: right;\n",
       "    }\n",
       "</style>\n",
       "<table border=\"1\" class=\"dataframe\">\n",
       "  <thead>\n",
       "    <tr style=\"text-align: right;\">\n",
       "      <th></th>\n",
       "      <th>account_id</th>\n",
       "      <th>period_start</th>\n",
       "      <th>period_end</th>\n",
       "    </tr>\n",
       "  </thead>\n",
       "  <tbody>\n",
       "    <tr>\n",
       "      <th>0</th>\n",
       "      <td>3622</td>\n",
       "      <td>2020-02-16</td>\n",
       "      <td>2020-02-23</td>\n",
       "    </tr>\n",
       "    <tr>\n",
       "      <th>1</th>\n",
       "      <td>4504</td>\n",
       "      <td>2020-02-09</td>\n",
       "      <td>2020-02-16</td>\n",
       "    </tr>\n",
       "    <tr>\n",
       "      <th>2</th>\n",
       "      <td>10507</td>\n",
       "      <td>2020-02-09</td>\n",
       "      <td>2020-02-16</td>\n",
       "    </tr>\n",
       "    <tr>\n",
       "      <th>3</th>\n",
       "      <td>2604</td>\n",
       "      <td>2020-02-23</td>\n",
       "      <td>2020-03-01</td>\n",
       "    </tr>\n",
       "    <tr>\n",
       "      <th>4</th>\n",
       "      <td>6583</td>\n",
       "      <td>2020-02-23</td>\n",
       "      <td>2020-03-01</td>\n",
       "    </tr>\n",
       "  </tbody>\n",
       "</table>\n",
       "</div>"
      ],
      "text/plain": [
       "   account_id period_start  period_end\n",
       "0        3622   2020-02-16  2020-02-23\n",
       "1        4504   2020-02-09  2020-02-16\n",
       "2       10507   2020-02-09  2020-02-16\n",
       "3        2604   2020-02-23  2020-03-01\n",
       "4        6583   2020-02-23  2020-03-01"
      ]
     },
     "execution_count": 13,
     "metadata": {},
     "output_type": "execute_result"
    }
   ],
   "source": [
    "%%time \n",
    "\n",
    "query = f\"\"\"\\\n",
    "WITH periods AS (\n",
    "    -- intervals with 7 day differences\n",
    "    SELECT\n",
    "        i::timestamp AS period_start,\n",
    "        i::timestamp + '7 day'::interval AS period_end\n",
    "      FROM\n",
    "        generate_series('{from_yyyy_mm_dd}', '{to_yyyy_mm_dd}', '7 day'::interval) AS i\n",
    ")\n",
    "\n",
    "-- INSERT INTO active_week (account_id, start_date, end_date)\n",
    "    SELECT\n",
    "        account_id,\n",
    "        period_start::date,\n",
    "        period_end::date\n",
    "      FROM\n",
    "        event\n",
    "INNER JOIN periods\n",
    "        ON event_time >= period_start\n",
    "       AND event_time < period_end\n",
    "  GROUP BY account_id, period_start, period_end\n",
    "\"\"\"\n",
    "\n",
    "res = pd.read_sql_query(query, conn)\n",
    "res.head()"
   ]
  },
  {
   "cell_type": "code",
   "execution_count": 28,
   "id": "b5626009-fd49-417a-8fad-adaa9f601e2e",
   "metadata": {},
   "outputs": [
    {
     "data": {
      "text/html": [
       "<div>\n",
       "<style scoped>\n",
       "    .dataframe tbody tr th:only-of-type {\n",
       "        vertical-align: middle;\n",
       "    }\n",
       "\n",
       "    .dataframe tbody tr th {\n",
       "        vertical-align: top;\n",
       "    }\n",
       "\n",
       "    .dataframe thead th {\n",
       "        text-align: right;\n",
       "    }\n",
       "</style>\n",
       "<table border=\"1\" class=\"dataframe\">\n",
       "  <thead>\n",
       "    <tr style=\"text-align: right;\">\n",
       "      <th></th>\n",
       "      <th>account_id</th>\n",
       "      <th>period_start</th>\n",
       "      <th>period_end</th>\n",
       "    </tr>\n",
       "  </thead>\n",
       "  <tbody>\n",
       "    <tr>\n",
       "      <th>92314</th>\n",
       "      <td>2049</td>\n",
       "      <td>2020-04-12</td>\n",
       "      <td>2020-04-19</td>\n",
       "    </tr>\n",
       "    <tr>\n",
       "      <th>101810</th>\n",
       "      <td>2049</td>\n",
       "      <td>2020-04-19</td>\n",
       "      <td>2020-04-26</td>\n",
       "    </tr>\n",
       "    <tr>\n",
       "      <th>94774</th>\n",
       "      <td>2049</td>\n",
       "      <td>2020-04-26</td>\n",
       "      <td>2020-05-03</td>\n",
       "    </tr>\n",
       "    <tr>\n",
       "      <th>114026</th>\n",
       "      <td>2049</td>\n",
       "      <td>2020-05-03</td>\n",
       "      <td>2020-05-10</td>\n",
       "    </tr>\n",
       "    <tr>\n",
       "      <th>91324</th>\n",
       "      <td>2049</td>\n",
       "      <td>2020-05-10</td>\n",
       "      <td>2020-05-17</td>\n",
       "    </tr>\n",
       "  </tbody>\n",
       "</table>\n",
       "</div>"
      ],
      "text/plain": [
       "        account_id period_start  period_end\n",
       "92314         2049   2020-04-12  2020-04-19\n",
       "101810        2049   2020-04-19  2020-04-26\n",
       "94774         2049   2020-04-26  2020-05-03\n",
       "114026        2049   2020-05-03  2020-05-10\n",
       "91324         2049   2020-05-10  2020-05-17"
      ]
     },
     "execution_count": 28,
     "metadata": {},
     "output_type": "execute_result"
    }
   ],
   "source": [
    "res[res.account_id == 2049].sort_values(\"period_start\").tail()"
   ]
  },
  {
   "cell_type": "markdown",
   "id": "000de226-20d2-4a9e-baaf-bb724ae858f4",
   "metadata": {},
   "source": [
    "- active weeks for the account \"2049\"\n",
    "- between the given period start and end, the account is active (at least one event)"
   ]
  },
  {
   "cell_type": "code",
   "execution_count": 21,
   "id": "a0c19f93-a586-46ec-b1b4-b6634a5ccb74",
   "metadata": {},
   "outputs": [
    {
     "data": {
      "text/html": [
       "<div>\n",
       "<style scoped>\n",
       "    .dataframe tbody tr th:only-of-type {\n",
       "        vertical-align: middle;\n",
       "    }\n",
       "\n",
       "    .dataframe tbody tr th {\n",
       "        vertical-align: top;\n",
       "    }\n",
       "\n",
       "    .dataframe thead th {\n",
       "        text-align: right;\n",
       "    }\n",
       "</style>\n",
       "<table border=\"1\" class=\"dataframe\">\n",
       "  <thead>\n",
       "    <tr style=\"text-align: right;\">\n",
       "      <th></th>\n",
       "      <th>account_id</th>\n",
       "      <th>event_time</th>\n",
       "      <th>event_type_id</th>\n",
       "    </tr>\n",
       "  </thead>\n",
       "  <tbody>\n",
       "    <tr>\n",
       "      <th>0</th>\n",
       "      <td>13</td>\n",
       "      <td>2020-05-25 15:36:02</td>\n",
       "      <td>3</td>\n",
       "    </tr>\n",
       "    <tr>\n",
       "      <th>1</th>\n",
       "      <td>13</td>\n",
       "      <td>2020-05-26 00:37:39</td>\n",
       "      <td>0</td>\n",
       "    </tr>\n",
       "    <tr>\n",
       "      <th>2</th>\n",
       "      <td>13</td>\n",
       "      <td>2020-05-26 21:27:55</td>\n",
       "      <td>0</td>\n",
       "    </tr>\n",
       "    <tr>\n",
       "      <th>3</th>\n",
       "      <td>13</td>\n",
       "      <td>2020-05-26 07:37:34</td>\n",
       "      <td>0</td>\n",
       "    </tr>\n",
       "    <tr>\n",
       "      <th>4</th>\n",
       "      <td>13</td>\n",
       "      <td>2020-05-26 10:32:56</td>\n",
       "      <td>0</td>\n",
       "    </tr>\n",
       "  </tbody>\n",
       "</table>\n",
       "</div>"
      ],
      "text/plain": [
       "   account_id          event_time  event_type_id\n",
       "0          13 2020-05-25 15:36:02              3\n",
       "1          13 2020-05-26 00:37:39              0\n",
       "2          13 2020-05-26 21:27:55              0\n",
       "3          13 2020-05-26 07:37:34              0\n",
       "4          13 2020-05-26 10:32:56              0"
      ]
     },
     "execution_count": 21,
     "metadata": {},
     "output_type": "execute_result"
    }
   ],
   "source": [
    "event.head()"
   ]
  },
  {
   "cell_type": "code",
   "execution_count": 27,
   "id": "04958174-ee3b-492b-ad9b-f46d5175d1ee",
   "metadata": {},
   "outputs": [
    {
     "data": {
      "text/html": [
       "<div>\n",
       "<style scoped>\n",
       "    .dataframe tbody tr th:only-of-type {\n",
       "        vertical-align: middle;\n",
       "    }\n",
       "\n",
       "    .dataframe tbody tr th {\n",
       "        vertical-align: top;\n",
       "    }\n",
       "\n",
       "    .dataframe thead th {\n",
       "        text-align: right;\n",
       "    }\n",
       "</style>\n",
       "<table border=\"1\" class=\"dataframe\">\n",
       "  <thead>\n",
       "    <tr style=\"text-align: right;\">\n",
       "      <th></th>\n",
       "      <th>account_id</th>\n",
       "      <th>event_time</th>\n",
       "      <th>event_type_id</th>\n",
       "    </tr>\n",
       "  </thead>\n",
       "  <tbody>\n",
       "    <tr>\n",
       "      <th>106</th>\n",
       "      <td>2049</td>\n",
       "      <td>2020-05-10 19:50:58</td>\n",
       "      <td>2</td>\n",
       "    </tr>\n",
       "    <tr>\n",
       "      <th>107</th>\n",
       "      <td>2049</td>\n",
       "      <td>2020-05-12 08:31:58</td>\n",
       "      <td>0</td>\n",
       "    </tr>\n",
       "    <tr>\n",
       "      <th>109</th>\n",
       "      <td>2049</td>\n",
       "      <td>2020-05-15 02:40:32</td>\n",
       "      <td>6</td>\n",
       "    </tr>\n",
       "    <tr>\n",
       "      <th>108</th>\n",
       "      <td>2049</td>\n",
       "      <td>2020-05-15 07:57:44</td>\n",
       "      <td>3</td>\n",
       "    </tr>\n",
       "  </tbody>\n",
       "</table>\n",
       "</div>"
      ],
      "text/plain": [
       "     account_id          event_time  event_type_id\n",
       "106        2049 2020-05-10 19:50:58              2\n",
       "107        2049 2020-05-12 08:31:58              0\n",
       "109        2049 2020-05-15 02:40:32              6\n",
       "108        2049 2020-05-15 07:57:44              3"
      ]
     },
     "execution_count": 27,
     "metadata": {},
     "output_type": "execute_result"
    }
   ],
   "source": [
    "query = \"\"\"SELECT * FROM event WHERE account_id = 2049\"\"\"\n",
    "tmp = pd.read_sql_query(query, conn)\n",
    "tmp.sort_values(\"event_time\").query(\"event_time >= '2020-05-10' and event_time <= '2020-05-17'\")"
   ]
  },
  {
   "cell_type": "markdown",
   "id": "16b37072-805e-4e66-9ed1-8286f16a6558",
   "metadata": {},
   "source": [
    "- the idea is \"active_week\" is comprable to \"subscriptions\" table\n",
    "- i.e. the aggration of events by week can be looked as a subscription of 7 day period\n",
    "- and if the account is still active in the next week, it's a continuous subscription"
   ]
  },
  {
   "cell_type": "code",
   "execution_count": null,
   "id": "b85190f2-c912-4f2a-89c7-0d1d96b1d35e",
   "metadata": {},
   "outputs": [],
   "source": []
  },
  {
   "cell_type": "markdown",
   "id": "dfc47f5a-8c47-47ff-9427-e60d3527949b",
   "metadata": {
    "tags": []
   },
   "source": [
    "### 4.5 Picking observation Dates"
   ]
  },
  {
   "cell_type": "markdown",
   "id": "17e863f5-c9a1-4cbb-b307-3758262fb191",
   "metadata": {
    "tags": []
   },
   "source": [
    "- Listing 4.4\n",
    "- 4.5.3 Observation data SQL program"
   ]
  },
  {
   "cell_type": "code",
   "execution_count": 8,
   "id": "33b5e309-5ebe-4b80-8d8b-1bc0719d07b7",
   "metadata": {},
   "outputs": [
    {
     "data": {
      "text/plain": [
       "('1 month', '5 day')"
      ]
     },
     "execution_count": 8,
     "metadata": {},
     "output_type": "execute_result"
    }
   ],
   "source": [
    "# {'%lead_time': '5 day', '%obs_interval': '1 month'\n",
    "lead_time = chap4[\"list4\"][\"params\"][\"%lead_time\"]\n",
    "obs_interval = chap4[\"list4\"][\"params\"][\"%obs_interval\"]\n",
    "from_yyyy_mm_dd = chap4[\"defaults\"][\"%from_yyyy-mm-dd\"]\n",
    "to_yyyy_mm_dd = chap4[\"defaults\"][\"%to_yyyy-mm-dd\"]\n",
    "\n",
    "obs_interval, lead_time"
   ]
  },
  {
   "cell_type": "code",
   "execution_count": 10,
   "id": "3079c6d4-c743-4389-ac0b-c1e3098271f1",
   "metadata": {},
   "outputs": [
    {
     "data": {
      "text/html": [
       "<div>\n",
       "<style scoped>\n",
       "    .dataframe tbody tr th:only-of-type {\n",
       "        vertical-align: middle;\n",
       "    }\n",
       "\n",
       "    .dataframe tbody tr th {\n",
       "        vertical-align: top;\n",
       "    }\n",
       "\n",
       "    .dataframe thead th {\n",
       "        text-align: right;\n",
       "    }\n",
       "</style>\n",
       "<table border=\"1\" class=\"dataframe\">\n",
       "  <thead>\n",
       "    <tr style=\"text-align: right;\">\n",
       "      <th></th>\n",
       "      <th>account_id</th>\n",
       "      <th>obs_date</th>\n",
       "      <th>is_churn</th>\n",
       "    </tr>\n",
       "  </thead>\n",
       "  <tbody>\n",
       "  </tbody>\n",
       "</table>\n",
       "</div>"
      ],
      "text/plain": [
       "Empty DataFrame\n",
       "Columns: [account_id, obs_date, is_churn]\n",
       "Index: []"
      ]
     },
     "execution_count": 10,
     "metadata": {},
     "output_type": "execute_result"
    }
   ],
   "source": [
    "# listing_4_4_observation_dates.sql\n",
    "query = f\"\"\"\\\n",
    "\n",
    "WITH RECURSIVE observation_params AS (\n",
    "  SELECT interval '{obs_interval}' AS obs_interval,\n",
    "         interval '{lead_time}'  AS lead_time,\n",
    "         '{from_yyyy_mm_dd}'::date AS obs_start,\n",
    "         '{to_yyyy_mm_dd}'::date AS obs_end\n",
    "),\n",
    "observations AS (\n",
    "    SELECT\n",
    "        account_id,\n",
    "        start_date,\n",
    "        1 AS obs_count,\n",
    "        (start_date + obs_interval-lead_time)::date AS obs_date,\n",
    "      CASE\n",
    "        WHEN churn_date >= (start_date +   obs_interval-lead_time)::date\n",
    "            AND churn_date <  (start_date + 2*obs_interval-lead_time)::date\n",
    "          THEN true\n",
    "          ELSE false\n",
    "         END AS is_churn\n",
    "      FROM active_period\n",
    "INNER JOIN observation_params\n",
    "        ON (churn_date > (obs_start+obs_interval-lead_time)::date\n",
    "           OR churn_date is null)\n",
    "\n",
    "  UNION\n",
    "\n",
    "    SELECT\n",
    "        o.account_id,\n",
    "        o.start_date,\n",
    "        obs_count+1 AS obs_count,\n",
    "        (o.start_date+(obs_count+1)*obs_interval-lead_time)::date AS obs_date,\n",
    "      CASE\n",
    "        WHEN churn_date >= (o.start_date + (obs_count+1)*obs_interval-lead_time)::date\n",
    "            AND churn_date < (o.start_date + (obs_count+2)*obs_interval-lead_time)::date\n",
    "          THEN true\n",
    "          ELSE false\n",
    "       END AS is_churn\n",
    "      FROM observations AS o  -- self \n",
    "INNER JOIN observation_params\n",
    "        ON (o.start_date+(obs_count+1)*obs_interval-lead_time)::date <= obs_end\n",
    "INNER JOIN active_period AS s -- built in earlier query\n",
    "        ON s.account_id=o.account_id\n",
    "          AND (o.start_date+(obs_count+1)*obs_interval-lead_time)::date >= s.start_date\n",
    "          AND ((o.start_date+(obs_count+1)*obs_interval-lead_time)::date < s.churn_date \n",
    "                OR churn_date IS null)\n",
    ")\n",
    "\n",
    "-- INSERT INTO observation (account_id, observation_date, is_churn)\n",
    "    SELECT \n",
    "  DISTINCT account_id, obs_date, is_churn\n",
    "      FROM observations\n",
    "INNER JOIN observation_params \n",
    "        ON obs_date \n",
    "   BETWEEN obs_start and obs_end\n",
    "\"\"\"\n",
    "\n",
    "res = pd.read_sql_query(query, conn)\n",
    "res.head()"
   ]
  },
  {
   "cell_type": "code",
   "execution_count": null,
   "id": "73e8e095-7b64-4fbd-b1da-c2449711023a",
   "metadata": {},
   "outputs": [],
   "source": []
  },
  {
   "cell_type": "markdown",
   "id": "d8d22ee1-f3ce-4035-bff6-dc1403922d9b",
   "metadata": {},
   "source": [
    "### 4.6 Exporting a churn dataset"
   ]
  },
  {
   "cell_type": "markdown",
   "id": "0b4abe40-bcd4-46a3-bb4c-fc773fb6f398",
   "metadata": {
    "tags": []
   },
   "source": [
    "- Listing 4.5\n",
    "- 4.6.1 Dataset creation SQL program"
   ]
  },
  {
   "cell_type": "code",
   "execution_count": null,
   "id": "6ff4411b-2ca4-42b6-a5db-d3d329cab7a8",
   "metadata": {},
   "outputs": [],
   "source": [
    "query = \"\"\"\\\n",
    "\n",
    "WITH observation_params AS (\n",
    "    SELECT  \n",
    "        interval '%metric_interval' AS metric_period,\n",
    "        '%from_yyyy-mm-dd'::timestamp AS obs_start,\n",
    "        '%to_yyyy-mm-dd'::timestamp AS obs_end\n",
    ")\n",
    "\n",
    "    SELECT \n",
    "        m.account_id, \n",
    "        o.observation_date, \n",
    "        is_churn,\n",
    "        SUM(CASE WHEN metric_name_id=0 THEN metric_value ELSE 0 END) AS like_per_month,\n",
    "        SUM(CASE WHEN metric_name_id=1 THEN metric_value ELSE 0 END) AS newfriend_per_month,\n",
    "        SUM(CASE WHEN metric_name_id=2 THEN metric_value ELSE 0 END) AS post_per_month,\n",
    "        SUM(CASE WHEN metric_name_id=3 THEN metric_value ELSE 0 END) AS adview_per_month,\n",
    "        SUM(CASE WHEN metric_name_id=4 THEN metric_value ELSE 0 END) AS dislike_per_month,\n",
    "        SUM(CASE WHEN metric_name_id=5 THEN metric_value ELSE 0 END) AS unfriend_per_month,\n",
    "        SUM(CASE WHEN metric_name_id=6 THEN metric_value ELSE 0 END) AS message_per_month,\n",
    "        SUM(CASE WHEN metric_name_id=7 THEN metric_value ELSE 0 END) AS reply_per_month,\n",
    "        SUM(CASE WHEN metric_name_id=8 THEN metric_value ELSE 0 END) AS account_tenure\n",
    "      FROM metric AS m \n",
    "INNER JOIN observation_params\n",
    "        ON metric_time BETWEEN obs_start AND obs_end    \n",
    "INNER JOIN observation AS o \n",
    "        ON m.account_id = o.account_id\n",
    "          AND m.metric_time > (o.observation_date - metric_period)::timestamp    \n",
    "          AND m.metric_time <= o.observation_date::timestamp\n",
    "  GROUP BY m.account_id, metric_time, observation_date, is_churn    \n",
    "  ORDER BY observation_date,m.account_id\n",
    "\n",
    "\"\"\""
   ]
  },
  {
   "cell_type": "markdown",
   "id": "404ff393-b7e5-43a6-bd9d-6a65b2114c05",
   "metadata": {},
   "source": [
    "## Correlations"
   ]
  },
  {
   "cell_type": "code",
   "execution_count": 7,
   "id": "f2e76de6-f8c7-4223-8c6b-b94c0654593c",
   "metadata": {},
   "outputs": [
    {
     "name": "stdout",
     "output_type": "stream",
     "text": [
      "{'defaults': {'data_set_path': 'socialnet7/socialnet7_dataset.csv',\n",
      "              'type': 'py'},\n",
      " 'list1': {'name': 'metric_pair_plot',\n",
      "           'params': {'metric1': 'post_per_month', 'metric2': 'like_per_month'},\n",
      "           'v1': {'data_set_path': 'socialnet7/socialnet7_dataset_scores.csv'},\n",
      "           'v10': {'data_set_path': 'socialnet7/socialnet7_dataset_scores.csv',\n",
      "                   'metric2': 'dislike_per_month'},\n",
      "           'v11': {'metric2': 'unfriend_per_month'},\n",
      "           'v12': {'data_set_path': 'socialnet7/socialnet7_dataset_scores.csv',\n",
      "                   'metric2': 'unfriend_per_month'},\n",
      "           'v13': {'metric2': 'reply_per_month'},\n",
      "           'v14': {'data_set_path': 'socialnet7/socialnet7_dataset_scores.csv',\n",
      "                   'metric2': 'reply_per_month'},\n",
      "           'v15': {'metric2': 'account_tenure'},\n",
      "           'v16': {'data_set_path': 'socialnet7/socialnet7_dataset_scores.csv',\n",
      "                   'metric2': 'account_tenure'},\n",
      "           'v17': {'data_set_path': 'socialnet7/socialnet7_dataset_scores.csv',\n",
      "                   'metric1': 'like_per_month',\n",
      "                   'metric2': 'dislike_per_month'},\n",
      "           'v2': {'data_set_path': 'socialnet7/socialnet7_dataset_scores.csv'},\n",
      "           'v3': {'metric2': 'message_per_month'},\n",
      "           'v4': {'data_set_path': 'socialnet7/socialnet7_dataset_scores.csv',\n",
      "                  'metric2': 'message_per_month'},\n",
      "           'v5': {'metric2': 'newfriend_per_month'},\n",
      "           'v6': {'data_set_path': 'socialnet7/socialnet7_dataset_scores.csv',\n",
      "                  'metric2': 'newfriend_per_month'},\n",
      "           'v7': {'metric2': 'adview_per_month'},\n",
      "           'v8': {'data_set_path': 'socialnet7/socialnet7_dataset_scores.csv',\n",
      "                  'metric2': 'adview_per_month'},\n",
      "           'v9': {'metric2': 'dislike_per_month'}},\n",
      " 'list2': {'name': 'dataset_correlation_matrix',\n",
      "           'params': {},\n",
      "           'v2': {'data_set_path': 'socialnet7/socialnet7_dataset_scores.csv'},\n",
      "           'v3': {'data_set_path': 'socialnet7/socialnet7_dataset3_groupscore.csv'}},\n",
      " 'list3': {'name': 'apply_metric_groups',\n",
      "           'params': {},\n",
      "           'v1': {'data_set_path': 'socialnet7/socialnet7_dataset3_dumcat.csv'}},\n",
      " 'list4': {'name': 'find_metric_groups', 'params': {'group_corr_thresh': 0.65}},\n",
      " 'list5': {'name': 'ordered_correlation_matrix', 'params': {}}}\n"
     ]
    }
   ],
   "source": [
    "pprint(conf[\"chap6\"])"
   ]
  },
  {
   "cell_type": "code",
   "execution_count": 8,
   "id": "66bf8b4e-553c-4623-8744-32da118022f6",
   "metadata": {},
   "outputs": [],
   "source": [
    "import pandas as pd\n",
    "import matplotlib.pyplot as plt\n",
    "\n",
    "def metric_pair_plot(data_set_path, metric1='',metric2=''):\n",
    "\n",
    "    churn_data = pd.read_csv(data_set_path,index_col=[0,1])\n",
    "\n",
    "    met1_series = churn_data[metric1]\n",
    "    met2_series = churn_data[metric2]\n",
    "\n",
    "    corr = met1_series.corr(met2_series)\n",
    "\n",
    "    plt.scatter(met1_series, met2_series, marker='.')\n",
    "\n",
    "    plt.xlabel(metric1)\n",
    "    plt.ylabel(metric2)\n",
    "    plt.title('Correlation = %.2f' % corr)\n",
    "    plt.tight_layout()\n",
    "    plt.grid()\n",
    "\n",
    "    save_name = data_set_path.replace('.csv', '_' + metric1 + '_vs_' + metric2 + '.png')\n",
    "    plt.savefig(save_name )\n",
    "    print('Saving plot to %s' % save_name)\n",
    "    plt.close()\n"
   ]
  },
  {
   "cell_type": "code",
   "execution_count": null,
   "id": "b45ff026-82ce-4f3c-bea8-133d457373ad",
   "metadata": {},
   "outputs": [],
   "source": []
  },
  {
   "cell_type": "code",
   "execution_count": null,
   "id": "f590dab7-3895-49d7-a6c0-2c66ec5df008",
   "metadata": {},
   "outputs": [],
   "source": []
  },
  {
   "cell_type": "code",
   "execution_count": null,
   "id": "0cb59652-bd6e-4c24-bcaf-baca0a2745fa",
   "metadata": {},
   "outputs": [],
   "source": []
  },
  {
   "cell_type": "code",
   "execution_count": null,
   "id": "e4cdcb97-5447-4571-beff-06a25c272900",
   "metadata": {},
   "outputs": [],
   "source": []
  }
 ],
 "metadata": {
  "kernelspec": {
   "display_name": "Python 3 (ipykernel)",
   "language": "python",
   "name": "python3"
  },
  "language_info": {
   "codemirror_mode": {
    "name": "ipython",
    "version": 3
   },
   "file_extension": ".py",
   "mimetype": "text/x-python",
   "name": "python",
   "nbconvert_exporter": "python",
   "pygments_lexer": "ipython3",
   "version": "3.8.16"
  }
 },
 "nbformat": 4,
 "nbformat_minor": 5
}
