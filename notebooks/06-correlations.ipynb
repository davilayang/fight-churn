{
 "cells": [
  {
   "cell_type": "markdown",
   "id": "ae513752-e614-4db3-8add-f743dc881826",
   "metadata": {},
   "source": [
    "# 06 Relationships between customer behaviors"
   ]
  },
  {
   "cell_type": "code",
   "execution_count": 1,
   "id": "cfcdf370-9ce3-4e1e-bb5f-f9d33114f649",
   "metadata": {},
   "outputs": [],
   "source": [
    "import json\n",
    "import sqlalchemy\n",
    "import numpy as np\n",
    "import pandas as pd\n",
    "\n",
    "from pprint import pprint"
   ]
  },
  {
   "cell_type": "code",
   "execution_count": 2,
   "id": "bc776646-caf3-4d2d-8eb0-86c9131fdd84",
   "metadata": {},
   "outputs": [
    {
     "data": {
      "text/html": [
       "<div>\n",
       "<style scoped>\n",
       "    .dataframe tbody tr th:only-of-type {\n",
       "        vertical-align: middle;\n",
       "    }\n",
       "\n",
       "    .dataframe tbody tr th {\n",
       "        vertical-align: top;\n",
       "    }\n",
       "\n",
       "    .dataframe thead th {\n",
       "        text-align: right;\n",
       "    }\n",
       "</style>\n",
       "<table border=\"1\" class=\"dataframe\">\n",
       "  <thead>\n",
       "    <tr style=\"text-align: right;\">\n",
       "      <th></th>\n",
       "      <th>table_catalog</th>\n",
       "      <th>table_schema</th>\n",
       "      <th>table_name</th>\n",
       "      <th>table_type</th>\n",
       "      <th>self_referencing_column_name</th>\n",
       "      <th>reference_generation</th>\n",
       "      <th>user_defined_type_catalog</th>\n",
       "      <th>user_defined_type_schema</th>\n",
       "      <th>user_defined_type_name</th>\n",
       "      <th>is_insertable_into</th>\n",
       "      <th>is_typed</th>\n",
       "      <th>commit_action</th>\n",
       "    </tr>\n",
       "  </thead>\n",
       "  <tbody>\n",
       "    <tr>\n",
       "      <th>0</th>\n",
       "      <td>churn</td>\n",
       "      <td>socialnet7</td>\n",
       "      <td>active_period</td>\n",
       "      <td>BASE TABLE</td>\n",
       "      <td>None</td>\n",
       "      <td>None</td>\n",
       "      <td>None</td>\n",
       "      <td>None</td>\n",
       "      <td>None</td>\n",
       "      <td>YES</td>\n",
       "      <td>NO</td>\n",
       "      <td>None</td>\n",
       "    </tr>\n",
       "    <tr>\n",
       "      <th>1</th>\n",
       "      <td>churn</td>\n",
       "      <td>socialnet7</td>\n",
       "      <td>event_type</td>\n",
       "      <td>BASE TABLE</td>\n",
       "      <td>None</td>\n",
       "      <td>None</td>\n",
       "      <td>None</td>\n",
       "      <td>None</td>\n",
       "      <td>None</td>\n",
       "      <td>YES</td>\n",
       "      <td>NO</td>\n",
       "      <td>None</td>\n",
       "    </tr>\n",
       "    <tr>\n",
       "      <th>2</th>\n",
       "      <td>churn</td>\n",
       "      <td>socialnet7</td>\n",
       "      <td>metric_name</td>\n",
       "      <td>BASE TABLE</td>\n",
       "      <td>None</td>\n",
       "      <td>None</td>\n",
       "      <td>None</td>\n",
       "      <td>None</td>\n",
       "      <td>None</td>\n",
       "      <td>YES</td>\n",
       "      <td>NO</td>\n",
       "      <td>None</td>\n",
       "    </tr>\n",
       "  </tbody>\n",
       "</table>\n",
       "</div>"
      ],
      "text/plain": [
       "  table_catalog table_schema     table_name  table_type  \\\n",
       "0         churn   socialnet7  active_period  BASE TABLE   \n",
       "1         churn   socialnet7     event_type  BASE TABLE   \n",
       "2         churn   socialnet7    metric_name  BASE TABLE   \n",
       "\n",
       "  self_referencing_column_name reference_generation user_defined_type_catalog  \\\n",
       "0                         None                 None                      None   \n",
       "1                         None                 None                      None   \n",
       "2                         None                 None                      None   \n",
       "\n",
       "  user_defined_type_schema user_defined_type_name is_insertable_into is_typed  \\\n",
       "0                     None                   None                YES       NO   \n",
       "1                     None                   None                YES       NO   \n",
       "2                     None                   None                YES       NO   \n",
       "\n",
       "  commit_action  \n",
       "0          None  \n",
       "1          None  \n",
       "2          None  "
      ]
     },
     "execution_count": 2,
     "metadata": {},
     "output_type": "execute_result"
    }
   ],
   "source": [
    "# Make a sql connection with sqlalchmey\n",
    "conn_string = \"postgresql://postgres-db/churn?user=postgres&password=password\" \n",
    "engine = sqlalchemy.create_engine(\n",
    "    conn_string, connect_args={'options': '-csearch_path={}'.format(\"socialnet7,public\")}\n",
    ")\n",
    "conn = engine.connect()\n",
    "# conn.close()\n",
    "\n",
    "# Query with Pandas, e.g. list all tables\n",
    "tables = pd.read_sql_query(\"SELECT * FROM information_schema.tables;\", conn)\n",
    "tables.head(3)"
   ]
  },
  {
   "cell_type": "code",
   "execution_count": 3,
   "id": "70b7a729-0bfc-4b7d-bec3-170642aac4b1",
   "metadata": {},
   "outputs": [],
   "source": [
    "with open(\"/app/fightchurn/listings/conf/socialnet7_listings.json\", \"r\") as f: \n",
    "    conf = json.loads(f.read())\n",
    "\n",
    "chap4 = conf[\"chap4\"]\n",
    "chap6 = conf[\"chap6\"]"
   ]
  },
  {
   "cell_type": "code",
   "execution_count": null,
   "id": "80ec8b9d-ac9c-47dd-8be3-2453c9625a3b",
   "metadata": {},
   "outputs": [],
   "source": []
  },
  {
   "cell_type": "markdown",
   "id": "a3219b45-47b3-4971-9688-0fbc83fde358",
   "metadata": {
    "tags": []
   },
   "source": [
    "## Dependent Data\n",
    "\n",
    "- Observations as \"Churn Data\"\n",
    "- Scored Observations AS \"Scored Data\"\n",
    "- Listing 4.5, Listing 5.2 & Listing 5.3"
   ]
  },
  {
   "cell_type": "markdown",
   "id": "688dcf7d-573a-4403-ba64-b9d3060e7b86",
   "metadata": {},
   "source": [
    "### Observations"
   ]
  },
  {
   "cell_type": "code",
   "execution_count": 4,
   "id": "ccd0021b-1a5c-4385-8faa-ffbb9e9b4360",
   "metadata": {},
   "outputs": [
    {
     "data": {
      "text/plain": [
       "('7 day', '2020-02-09', '2020-05-10')"
      ]
     },
     "execution_count": 4,
     "metadata": {},
     "output_type": "execute_result"
    }
   ],
   "source": [
    "metric_interval = chap4[\"list6\"][\"params\"][\"%metric_interval\"]\n",
    "from_yyyy_mm_dd = chap4[\"defaults\"][\"%from_yyyy-mm-dd\"]\n",
    "to_yyyy_mm_dd = chap4[\"defaults\"][\"%to_yyyy-mm-dd\"]\n",
    "\n",
    "metric_interval, from_yyyy_mm_dd, to_yyyy_mm_dd"
   ]
  },
  {
   "cell_type": "code",
   "execution_count": 5,
   "id": "8d58b04d-98d4-4324-8e89-1953289ab62f",
   "metadata": {},
   "outputs": [
    {
     "data": {
      "text/html": [
       "<div>\n",
       "<style scoped>\n",
       "    .dataframe tbody tr th:only-of-type {\n",
       "        vertical-align: middle;\n",
       "    }\n",
       "\n",
       "    .dataframe tbody tr th {\n",
       "        vertical-align: top;\n",
       "    }\n",
       "\n",
       "    .dataframe thead th {\n",
       "        text-align: right;\n",
       "    }\n",
       "</style>\n",
       "<table border=\"1\" class=\"dataframe\">\n",
       "  <thead>\n",
       "    <tr style=\"text-align: right;\">\n",
       "      <th></th>\n",
       "      <th>account_id</th>\n",
       "      <th>observation_date</th>\n",
       "      <th>is_churn</th>\n",
       "      <th>like_per_month</th>\n",
       "      <th>newfriend_per_month</th>\n",
       "      <th>post_per_month</th>\n",
       "      <th>adview_per_month</th>\n",
       "      <th>dislike_per_month</th>\n",
       "      <th>unfriend_per_month</th>\n",
       "      <th>message_per_month</th>\n",
       "      <th>reply_per_month</th>\n",
       "      <th>account_tenure</th>\n",
       "    </tr>\n",
       "  </thead>\n",
       "  <tbody>\n",
       "    <tr>\n",
       "      <th>4112</th>\n",
       "      <td>1</td>\n",
       "      <td>2020-02-23</td>\n",
       "      <td>False</td>\n",
       "      <td>2.0</td>\n",
       "      <td>0.0</td>\n",
       "      <td>6.0</td>\n",
       "      <td>1.0</td>\n",
       "      <td>3.0</td>\n",
       "      <td>1.0</td>\n",
       "      <td>6.0</td>\n",
       "      <td>6.0</td>\n",
       "      <td>26.0</td>\n",
       "    </tr>\n",
       "    <tr>\n",
       "      <th>14104</th>\n",
       "      <td>1</td>\n",
       "      <td>2020-03-23</td>\n",
       "      <td>False</td>\n",
       "      <td>2.0</td>\n",
       "      <td>1.0</td>\n",
       "      <td>6.0</td>\n",
       "      <td>2.0</td>\n",
       "      <td>2.0</td>\n",
       "      <td>2.0</td>\n",
       "      <td>7.0</td>\n",
       "      <td>4.0</td>\n",
       "      <td>54.0</td>\n",
       "    </tr>\n",
       "    <tr>\n",
       "      <th>24621</th>\n",
       "      <td>1</td>\n",
       "      <td>2020-04-23</td>\n",
       "      <td>False</td>\n",
       "      <td>1.0</td>\n",
       "      <td>1.0</td>\n",
       "      <td>2.0</td>\n",
       "      <td>4.0</td>\n",
       "      <td>4.0</td>\n",
       "      <td>1.0</td>\n",
       "      <td>7.0</td>\n",
       "      <td>3.0</td>\n",
       "      <td>82.0</td>\n",
       "    </tr>\n",
       "    <tr>\n",
       "      <th>9178</th>\n",
       "      <td>2</td>\n",
       "      <td>2020-03-08</td>\n",
       "      <td>True</td>\n",
       "      <td>67.0</td>\n",
       "      <td>7.0</td>\n",
       "      <td>49.0</td>\n",
       "      <td>124.0</td>\n",
       "      <td>120.0</td>\n",
       "      <td>0.0</td>\n",
       "      <td>0.0</td>\n",
       "      <td>0.0</td>\n",
       "      <td>55.0</td>\n",
       "    </tr>\n",
       "    <tr>\n",
       "      <th>4398</th>\n",
       "      <td>4</td>\n",
       "      <td>2020-02-24</td>\n",
       "      <td>False</td>\n",
       "      <td>36.0</td>\n",
       "      <td>4.0</td>\n",
       "      <td>27.0</td>\n",
       "      <td>36.0</td>\n",
       "      <td>5.0</td>\n",
       "      <td>1.0</td>\n",
       "      <td>32.0</td>\n",
       "      <td>8.0</td>\n",
       "      <td>25.0</td>\n",
       "    </tr>\n",
       "    <tr>\n",
       "      <th>14425</th>\n",
       "      <td>4</td>\n",
       "      <td>2020-03-24</td>\n",
       "      <td>False</td>\n",
       "      <td>37.0</td>\n",
       "      <td>8.0</td>\n",
       "      <td>39.0</td>\n",
       "      <td>40.0</td>\n",
       "      <td>9.0</td>\n",
       "      <td>0.0</td>\n",
       "      <td>39.0</td>\n",
       "      <td>3.0</td>\n",
       "      <td>53.0</td>\n",
       "    </tr>\n",
       "  </tbody>\n",
       "</table>\n",
       "</div>"
      ],
      "text/plain": [
       "       account_id observation_date  is_churn  like_per_month  \\\n",
       "4112            1       2020-02-23     False             2.0   \n",
       "14104           1       2020-03-23     False             2.0   \n",
       "24621           1       2020-04-23     False             1.0   \n",
       "9178            2       2020-03-08      True            67.0   \n",
       "4398            4       2020-02-24     False            36.0   \n",
       "14425           4       2020-03-24     False            37.0   \n",
       "\n",
       "       newfriend_per_month  post_per_month  adview_per_month  \\\n",
       "4112                   0.0             6.0               1.0   \n",
       "14104                  1.0             6.0               2.0   \n",
       "24621                  1.0             2.0               4.0   \n",
       "9178                   7.0            49.0             124.0   \n",
       "4398                   4.0            27.0              36.0   \n",
       "14425                  8.0            39.0              40.0   \n",
       "\n",
       "       dislike_per_month  unfriend_per_month  message_per_month  \\\n",
       "4112                 3.0                 1.0                6.0   \n",
       "14104                2.0                 2.0                7.0   \n",
       "24621                4.0                 1.0                7.0   \n",
       "9178               120.0                 0.0                0.0   \n",
       "4398                 5.0                 1.0               32.0   \n",
       "14425                9.0                 0.0               39.0   \n",
       "\n",
       "       reply_per_month  account_tenure  \n",
       "4112               6.0            26.0  \n",
       "14104              4.0            54.0  \n",
       "24621              3.0            82.0  \n",
       "9178               0.0            55.0  \n",
       "4398               8.0            25.0  \n",
       "14425              3.0            53.0  "
      ]
     },
     "execution_count": 5,
     "metadata": {},
     "output_type": "execute_result"
    }
   ],
   "source": [
    "query = f\"\"\"\\\n",
    "\n",
    "WITH observation_params AS (\n",
    "    SELECT  \n",
    "        interval '{metric_interval}' AS metric_period,\n",
    "        '{from_yyyy_mm_dd}'::timestamp AS obs_start,\n",
    "        '{to_yyyy_mm_dd}'::timestamp AS obs_end\n",
    ")\n",
    "\n",
    "    SELECT \n",
    "        metric.account_id, \n",
    "        obs.observation_date, \n",
    "        obs.is_churn,\n",
    "        SUM(CASE WHEN metric_name_id=0 THEN metric_value ELSE 0 END) AS like_per_month,\n",
    "        SUM(CASE WHEN metric_name_id=1 THEN metric_value ELSE 0 END) AS newfriend_per_month,\n",
    "        SUM(CASE WHEN metric_name_id=2 THEN metric_value ELSE 0 END) AS post_per_month,\n",
    "        SUM(CASE WHEN metric_name_id=3 THEN metric_value ELSE 0 END) AS adview_per_month,\n",
    "        SUM(CASE WHEN metric_name_id=4 THEN metric_value ELSE 0 END) AS dislike_per_month,\n",
    "        SUM(CASE WHEN metric_name_id=5 THEN metric_value ELSE 0 END) AS unfriend_per_month,\n",
    "        SUM(CASE WHEN metric_name_id=6 THEN metric_value ELSE 0 END) AS message_per_month,\n",
    "        SUM(CASE WHEN metric_name_id=7 THEN metric_value ELSE 0 END) AS reply_per_month,\n",
    "        SUM(CASE WHEN metric_name_id=8 THEN metric_value ELSE 0 END) AS account_tenure\n",
    "      FROM metric\n",
    "INNER JOIN observation_params AS params\n",
    "        ON metric_time BETWEEN params.obs_start AND params.obs_end    \n",
    "INNER JOIN observation AS obs\n",
    "        ON metric.account_id = obs.account_id\n",
    "       AND metric.metric_time > (obs.observation_date - params.metric_period)::timestamp    \n",
    "       AND metric.metric_time <= obs.observation_date::timestamp\n",
    "  GROUP BY metric.account_id, metric.metric_time, obs.observation_date, obs.is_churn    \n",
    "  ORDER BY obs.observation_date, metric.account_id\n",
    "\n",
    "\"\"\"\n",
    "res = pd.read_sql_query(query, conn).sort_values([\"account_id\", \"observation_date\"])\n",
    "res.head(6)"
   ]
  },
  {
   "cell_type": "code",
   "execution_count": 6,
   "id": "8a3fab4f-020e-41c1-b6ed-deeebe4907ff",
   "metadata": {},
   "outputs": [
    {
     "data": {
      "text/plain": [
       "(31333, 12)"
      ]
     },
     "execution_count": 6,
     "metadata": {},
     "output_type": "execute_result"
    }
   ],
   "source": [
    "churn_data = res.reset_index(drop=True).copy()\n",
    "churn_data.shape"
   ]
  },
  {
   "cell_type": "code",
   "execution_count": null,
   "id": "cacad6a7-15a2-4fb6-bca8-991e8e2681a9",
   "metadata": {},
   "outputs": [],
   "source": []
  },
  {
   "cell_type": "markdown",
   "id": "d508b756-7733-4ee3-ab7a-c04c0ac60f8a",
   "metadata": {},
   "source": [
    "### Scored Churn Data\n",
    "- Summary stats\n",
    "- Then scored the data"
   ]
  },
  {
   "cell_type": "code",
   "execution_count": 7,
   "id": "284e8221-d27e-4a2d-8e84-7650ccb52f5c",
   "metadata": {},
   "outputs": [
    {
     "data": {
      "text/html": [
       "<div>\n",
       "<style scoped>\n",
       "    .dataframe tbody tr th:only-of-type {\n",
       "        vertical-align: middle;\n",
       "    }\n",
       "\n",
       "    .dataframe tbody tr th {\n",
       "        vertical-align: top;\n",
       "    }\n",
       "\n",
       "    .dataframe thead th {\n",
       "        text-align: right;\n",
       "    }\n",
       "</style>\n",
       "<table border=\"1\" class=\"dataframe\">\n",
       "  <thead>\n",
       "    <tr style=\"text-align: right;\">\n",
       "      <th></th>\n",
       "      <th>count</th>\n",
       "      <th>nonzero</th>\n",
       "      <th>mean</th>\n",
       "      <th>std</th>\n",
       "      <th>skew</th>\n",
       "      <th>min</th>\n",
       "      <th>1pct</th>\n",
       "      <th>25pct</th>\n",
       "      <th>50pct</th>\n",
       "      <th>75pct</th>\n",
       "      <th>99pct</th>\n",
       "      <th>max</th>\n",
       "    </tr>\n",
       "  </thead>\n",
       "  <tbody>\n",
       "    <tr>\n",
       "      <th>like_per_month</th>\n",
       "      <td>31333.0</td>\n",
       "      <td>0.993425</td>\n",
       "      <td>102.809849</td>\n",
       "      <td>206.346920</td>\n",
       "      <td>8.290009</td>\n",
       "      <td>0.0</td>\n",
       "      <td>1.0</td>\n",
       "      <td>18.0</td>\n",
       "      <td>44.0</td>\n",
       "      <td>106.0</td>\n",
       "      <td>916.68</td>\n",
       "      <td>5653.0</td>\n",
       "    </tr>\n",
       "    <tr>\n",
       "      <th>newfriend_per_month</th>\n",
       "      <td>31333.0</td>\n",
       "      <td>0.912871</td>\n",
       "      <td>7.194460</td>\n",
       "      <td>8.667298</td>\n",
       "      <td>3.787812</td>\n",
       "      <td>0.0</td>\n",
       "      <td>0.0</td>\n",
       "      <td>2.0</td>\n",
       "      <td>5.0</td>\n",
       "      <td>9.0</td>\n",
       "      <td>41.00</td>\n",
       "      <td>162.0</td>\n",
       "    </tr>\n",
       "    <tr>\n",
       "      <th>post_per_month</th>\n",
       "      <td>31333.0</td>\n",
       "      <td>0.985255</td>\n",
       "      <td>43.499697</td>\n",
       "      <td>79.422463</td>\n",
       "      <td>9.723007</td>\n",
       "      <td>0.0</td>\n",
       "      <td>0.0</td>\n",
       "      <td>9.0</td>\n",
       "      <td>21.0</td>\n",
       "      <td>48.0</td>\n",
       "      <td>329.68</td>\n",
       "      <td>2384.0</td>\n",
       "    </tr>\n",
       "    <tr>\n",
       "      <th>adview_per_month</th>\n",
       "      <td>31333.0</td>\n",
       "      <td>0.978266</td>\n",
       "      <td>41.348482</td>\n",
       "      <td>71.079170</td>\n",
       "      <td>6.147157</td>\n",
       "      <td>0.0</td>\n",
       "      <td>0.0</td>\n",
       "      <td>8.0</td>\n",
       "      <td>20.0</td>\n",
       "      <td>45.0</td>\n",
       "      <td>336.00</td>\n",
       "      <td>1457.0</td>\n",
       "    </tr>\n",
       "    <tr>\n",
       "      <th>dislike_per_month</th>\n",
       "      <td>31333.0</td>\n",
       "      <td>0.949542</td>\n",
       "      <td>15.339450</td>\n",
       "      <td>21.976779</td>\n",
       "      <td>4.841534</td>\n",
       "      <td>0.0</td>\n",
       "      <td>0.0</td>\n",
       "      <td>4.0</td>\n",
       "      <td>9.0</td>\n",
       "      <td>18.0</td>\n",
       "      <td>111.00</td>\n",
       "      <td>405.0</td>\n",
       "    </tr>\n",
       "    <tr>\n",
       "      <th>unfriend_per_month</th>\n",
       "      <td>31333.0</td>\n",
       "      <td>0.255801</td>\n",
       "      <td>0.293588</td>\n",
       "      <td>0.539168</td>\n",
       "      <td>1.832746</td>\n",
       "      <td>0.0</td>\n",
       "      <td>0.0</td>\n",
       "      <td>0.0</td>\n",
       "      <td>0.0</td>\n",
       "      <td>1.0</td>\n",
       "      <td>2.00</td>\n",
       "      <td>5.0</td>\n",
       "    </tr>\n",
       "    <tr>\n",
       "      <th>message_per_month</th>\n",
       "      <td>31333.0</td>\n",
       "      <td>0.962946</td>\n",
       "      <td>30.144321</td>\n",
       "      <td>67.060479</td>\n",
       "      <td>8.111159</td>\n",
       "      <td>0.0</td>\n",
       "      <td>0.0</td>\n",
       "      <td>5.0</td>\n",
       "      <td>12.0</td>\n",
       "      <td>28.0</td>\n",
       "      <td>304.68</td>\n",
       "      <td>1511.0</td>\n",
       "    </tr>\n",
       "    <tr>\n",
       "      <th>reply_per_month</th>\n",
       "      <td>31333.0</td>\n",
       "      <td>0.789264</td>\n",
       "      <td>7.964606</td>\n",
       "      <td>22.057363</td>\n",
       "      <td>9.263953</td>\n",
       "      <td>0.0</td>\n",
       "      <td>0.0</td>\n",
       "      <td>1.0</td>\n",
       "      <td>2.0</td>\n",
       "      <td>6.0</td>\n",
       "      <td>98.00</td>\n",
       "      <td>579.0</td>\n",
       "    </tr>\n",
       "    <tr>\n",
       "      <th>account_tenure</th>\n",
       "      <td>31333.0</td>\n",
       "      <td>1.000000</td>\n",
       "      <td>61.068777</td>\n",
       "      <td>29.593665</td>\n",
       "      <td>0.241582</td>\n",
       "      <td>18.0</td>\n",
       "      <td>19.0</td>\n",
       "      <td>26.0</td>\n",
       "      <td>54.0</td>\n",
       "      <td>83.0</td>\n",
       "      <td>116.00</td>\n",
       "      <td>116.0</td>\n",
       "    </tr>\n",
       "  </tbody>\n",
       "</table>\n",
       "</div>"
      ],
      "text/plain": [
       "                       count   nonzero        mean         std      skew  \\\n",
       "like_per_month       31333.0  0.993425  102.809849  206.346920  8.290009   \n",
       "newfriend_per_month  31333.0  0.912871    7.194460    8.667298  3.787812   \n",
       "post_per_month       31333.0  0.985255   43.499697   79.422463  9.723007   \n",
       "adview_per_month     31333.0  0.978266   41.348482   71.079170  6.147157   \n",
       "dislike_per_month    31333.0  0.949542   15.339450   21.976779  4.841534   \n",
       "unfriend_per_month   31333.0  0.255801    0.293588    0.539168  1.832746   \n",
       "message_per_month    31333.0  0.962946   30.144321   67.060479  8.111159   \n",
       "reply_per_month      31333.0  0.789264    7.964606   22.057363  9.263953   \n",
       "account_tenure       31333.0  1.000000   61.068777   29.593665  0.241582   \n",
       "\n",
       "                      min  1pct  25pct  50pct  75pct   99pct     max  \n",
       "like_per_month        0.0   1.0   18.0   44.0  106.0  916.68  5653.0  \n",
       "newfriend_per_month   0.0   0.0    2.0    5.0    9.0   41.00   162.0  \n",
       "post_per_month        0.0   0.0    9.0   21.0   48.0  329.68  2384.0  \n",
       "adview_per_month      0.0   0.0    8.0   20.0   45.0  336.00  1457.0  \n",
       "dislike_per_month     0.0   0.0    4.0    9.0   18.0  111.00   405.0  \n",
       "unfriend_per_month    0.0   0.0    0.0    0.0    1.0    2.00     5.0  \n",
       "message_per_month     0.0   0.0    5.0   12.0   28.0  304.68  1511.0  \n",
       "reply_per_month       0.0   0.0    1.0    2.0    6.0   98.00   579.0  \n",
       "account_tenure       18.0  19.0   26.0   54.0   83.0  116.00   116.0  "
      ]
     },
     "execution_count": 7,
     "metadata": {},
     "output_type": "execute_result"
    }
   ],
   "source": [
    "tmp = churn_data.drop(columns=[\"account_id\", \"is_churn\"])\n",
    "\n",
    "quantiles = {\"1%\": tmp.quantile(q=0.01), \"99%\": tmp.quantile(q=0.99)}\n",
    "summary = (\n",
    "    tmp.describe().transpose()\n",
    "    .assign(\n",
    "        skew=tmp.skew(),\n",
    "        nonzero=tmp.astype(bool).sum(axis=0) / tmp.shape[0],\n",
    "        **quantiles\n",
    "    )[['count','nonzero','mean','std','skew','min','1%','25%','50%','75%','99%','max']]\n",
    "    .rename(columns=lambda s: s.replace(\"%\", \"pct\"))\n",
    ")\n",
    "summary"
   ]
  },
  {
   "cell_type": "code",
   "execution_count": 8,
   "id": "f03c8df4-e3e6-4c71-af2c-627eb34be068",
   "metadata": {},
   "outputs": [],
   "source": [
    "skew_thresh = 4.0\n",
    "skewed_columns = summary[(summary['skew'] > skew_thresh) & (summary['min'] >= 0)]"
   ]
  },
  {
   "cell_type": "code",
   "execution_count": 9,
   "id": "b82f6053-0381-41d0-ba62-0ae44ca5abda",
   "metadata": {},
   "outputs": [
    {
     "data": {
      "text/html": [
       "<div>\n",
       "<style scoped>\n",
       "    .dataframe tbody tr th:only-of-type {\n",
       "        vertical-align: middle;\n",
       "    }\n",
       "\n",
       "    .dataframe tbody tr th {\n",
       "        vertical-align: top;\n",
       "    }\n",
       "\n",
       "    .dataframe thead th {\n",
       "        text-align: right;\n",
       "    }\n",
       "</style>\n",
       "<table border=\"1\" class=\"dataframe\">\n",
       "  <thead>\n",
       "    <tr style=\"text-align: right;\">\n",
       "      <th></th>\n",
       "      <th>count</th>\n",
       "      <th>nonzero</th>\n",
       "      <th>mean</th>\n",
       "      <th>std</th>\n",
       "      <th>skew</th>\n",
       "      <th>min</th>\n",
       "      <th>1pct</th>\n",
       "      <th>25pct</th>\n",
       "      <th>50pct</th>\n",
       "      <th>75pct</th>\n",
       "      <th>99pct</th>\n",
       "      <th>max</th>\n",
       "    </tr>\n",
       "  </thead>\n",
       "  <tbody>\n",
       "    <tr>\n",
       "      <th>like_per_month</th>\n",
       "      <td>31333.0</td>\n",
       "      <td>0.993425</td>\n",
       "      <td>3.797733</td>\n",
       "      <td>1.309756</td>\n",
       "      <td>8.290009</td>\n",
       "      <td>0.0</td>\n",
       "      <td>1.0</td>\n",
       "      <td>18.0</td>\n",
       "      <td>44.0</td>\n",
       "      <td>106.0</td>\n",
       "      <td>916.68</td>\n",
       "      <td>5653.0</td>\n",
       "    </tr>\n",
       "    <tr>\n",
       "      <th>newfriend_per_month</th>\n",
       "      <td>31333.0</td>\n",
       "      <td>0.912871</td>\n",
       "      <td>7.194460</td>\n",
       "      <td>8.667298</td>\n",
       "      <td>3.787812</td>\n",
       "      <td>0.0</td>\n",
       "      <td>0.0</td>\n",
       "      <td>2.0</td>\n",
       "      <td>5.0</td>\n",
       "      <td>9.0</td>\n",
       "      <td>41.00</td>\n",
       "      <td>162.0</td>\n",
       "    </tr>\n",
       "    <tr>\n",
       "      <th>post_per_month</th>\n",
       "      <td>31333.0</td>\n",
       "      <td>0.985255</td>\n",
       "      <td>3.089984</td>\n",
       "      <td>1.196448</td>\n",
       "      <td>9.723007</td>\n",
       "      <td>0.0</td>\n",
       "      <td>0.0</td>\n",
       "      <td>9.0</td>\n",
       "      <td>21.0</td>\n",
       "      <td>48.0</td>\n",
       "      <td>329.68</td>\n",
       "      <td>2384.0</td>\n",
       "    </tr>\n",
       "    <tr>\n",
       "      <th>adview_per_month</th>\n",
       "      <td>31333.0</td>\n",
       "      <td>0.978266</td>\n",
       "      <td>3.021980</td>\n",
       "      <td>1.218843</td>\n",
       "      <td>6.147157</td>\n",
       "      <td>0.0</td>\n",
       "      <td>0.0</td>\n",
       "      <td>8.0</td>\n",
       "      <td>20.0</td>\n",
       "      <td>45.0</td>\n",
       "      <td>336.00</td>\n",
       "      <td>1457.0</td>\n",
       "    </tr>\n",
       "    <tr>\n",
       "      <th>dislike_per_month</th>\n",
       "      <td>31333.0</td>\n",
       "      <td>0.949542</td>\n",
       "      <td>2.241344</td>\n",
       "      <td>1.063766</td>\n",
       "      <td>4.841534</td>\n",
       "      <td>0.0</td>\n",
       "      <td>0.0</td>\n",
       "      <td>4.0</td>\n",
       "      <td>9.0</td>\n",
       "      <td>18.0</td>\n",
       "      <td>111.00</td>\n",
       "      <td>405.0</td>\n",
       "    </tr>\n",
       "  </tbody>\n",
       "</table>\n",
       "</div>"
      ],
      "text/plain": [
       "                       count   nonzero      mean       std      skew  min  \\\n",
       "like_per_month       31333.0  0.993425  3.797733  1.309756  8.290009  0.0   \n",
       "newfriend_per_month  31333.0  0.912871  7.194460  8.667298  3.787812  0.0   \n",
       "post_per_month       31333.0  0.985255  3.089984  1.196448  9.723007  0.0   \n",
       "adview_per_month     31333.0  0.978266  3.021980  1.218843  6.147157  0.0   \n",
       "dislike_per_month    31333.0  0.949542  2.241344  1.063766  4.841534  0.0   \n",
       "\n",
       "                     1pct  25pct  50pct  75pct   99pct     max  \n",
       "like_per_month        1.0   18.0   44.0  106.0  916.68  5653.0  \n",
       "newfriend_per_month   0.0    2.0    5.0    9.0   41.00   162.0  \n",
       "post_per_month        0.0    9.0   21.0   48.0  329.68  2384.0  \n",
       "adview_per_month      0.0    8.0   20.0   45.0  336.00  1457.0  \n",
       "dislike_per_month     0.0    4.0    9.0   18.0  111.00   405.0  "
      ]
     },
     "execution_count": 9,
     "metadata": {},
     "output_type": "execute_result"
    }
   ],
   "source": [
    "scored_metrics = churn_data.copy()\\\n",
    "    .drop(columns=[\"account_id\", \"is_churn\", \"observation_date\"])\n",
    "\n",
    "# iterate the skewed columns\n",
    "for col in skewed_columns.index:\n",
    "    # add the columns log scaled\n",
    "    scored_metrics[col] = np.log(1.0 + scored_metrics[col])\n",
    "    \n",
    "    # update summary stats with mean and std from log scaled data\n",
    "    # subtract the mean and divide by std\n",
    "    summary.loc[col, 'mean'] = scored_metrics[col].mean()\n",
    "    summary.loc[col, 'std'] = scored_metrics[col].std()\n",
    "\n",
    "summary.head()"
   ]
  },
  {
   "cell_type": "code",
   "execution_count": 10,
   "id": "387ca2cc-67f2-4f98-a225-be062c90af19",
   "metadata": {},
   "outputs": [
    {
     "data": {
      "text/html": [
       "<div>\n",
       "<style scoped>\n",
       "    .dataframe tbody tr th:only-of-type {\n",
       "        vertical-align: middle;\n",
       "    }\n",
       "\n",
       "    .dataframe tbody tr th {\n",
       "        vertical-align: top;\n",
       "    }\n",
       "\n",
       "    .dataframe thead th {\n",
       "        text-align: right;\n",
       "    }\n",
       "</style>\n",
       "<table border=\"1\" class=\"dataframe\">\n",
       "  <thead>\n",
       "    <tr style=\"text-align: right;\">\n",
       "      <th></th>\n",
       "      <th>account_id</th>\n",
       "      <th>observation_date</th>\n",
       "      <th>is_churn</th>\n",
       "      <th>like_per_month</th>\n",
       "      <th>newfriend_per_month</th>\n",
       "      <th>post_per_month</th>\n",
       "      <th>adview_per_month</th>\n",
       "      <th>dislike_per_month</th>\n",
       "      <th>unfriend_per_month</th>\n",
       "      <th>message_per_month</th>\n",
       "      <th>reply_per_month</th>\n",
       "      <th>account_tenure</th>\n",
       "    </tr>\n",
       "  </thead>\n",
       "  <tbody>\n",
       "    <tr>\n",
       "      <th>0</th>\n",
       "      <td>1</td>\n",
       "      <td>2020-02-23</td>\n",
       "      <td>False</td>\n",
       "      <td>-2.060782</td>\n",
       "      <td>-0.830069</td>\n",
       "      <td>-0.956225</td>\n",
       "      <td>-1.910692</td>\n",
       "      <td>-0.803795</td>\n",
       "      <td>1.310188</td>\n",
       "      <td>-0.510905</td>\n",
       "      <td>0.532077</td>\n",
       "      <td>-1.185010</td>\n",
       "    </tr>\n",
       "    <tr>\n",
       "      <th>1</th>\n",
       "      <td>1</td>\n",
       "      <td>2020-03-23</td>\n",
       "      <td>False</td>\n",
       "      <td>-2.060782</td>\n",
       "      <td>-0.714693</td>\n",
       "      <td>-0.956225</td>\n",
       "      <td>-1.578028</td>\n",
       "      <td>-1.074233</td>\n",
       "      <td>3.164898</td>\n",
       "      <td>-0.404155</td>\n",
       "      <td>0.231965</td>\n",
       "      <td>-0.238861</td>\n",
       "    </tr>\n",
       "    <tr>\n",
       "      <th>2</th>\n",
       "      <td>1</td>\n",
       "      <td>2020-04-23</td>\n",
       "      <td>False</td>\n",
       "      <td>-2.370355</td>\n",
       "      <td>-0.714693</td>\n",
       "      <td>-1.664403</td>\n",
       "      <td>-1.158921</td>\n",
       "      <td>-0.594028</td>\n",
       "      <td>1.310188</td>\n",
       "      <td>-0.404155</td>\n",
       "      <td>0.032935</td>\n",
       "      <td>0.707287</td>\n",
       "    </tr>\n",
       "    <tr>\n",
       "      <th>3</th>\n",
       "      <td>2</td>\n",
       "      <td>2020-03-08</td>\n",
       "      <td>True</td>\n",
       "      <td>0.322026</td>\n",
       "      <td>-0.022436</td>\n",
       "      <td>0.687066</td>\n",
       "      <td>1.482007</td>\n",
       "      <td>2.401324</td>\n",
       "      <td>-0.544521</td>\n",
       "      <td>-2.066550</td>\n",
       "      <td>-1.203553</td>\n",
       "      <td>-0.205070</td>\n",
       "    </tr>\n",
       "    <tr>\n",
       "      <th>4</th>\n",
       "      <td>4</td>\n",
       "      <td>2020-02-24</td>\n",
       "      <td>False</td>\n",
       "      <td>-0.142633</td>\n",
       "      <td>-0.368565</td>\n",
       "      <td>0.202450</td>\n",
       "      <td>0.483194</td>\n",
       "      <td>-0.422635</td>\n",
       "      <td>1.310188</td>\n",
       "      <td>0.728709</td>\n",
       "      <td>0.756234</td>\n",
       "      <td>-1.218801</td>\n",
       "    </tr>\n",
       "  </tbody>\n",
       "</table>\n",
       "</div>"
      ],
      "text/plain": [
       "   account_id observation_date  is_churn  like_per_month  newfriend_per_month  \\\n",
       "0           1       2020-02-23     False       -2.060782            -0.830069   \n",
       "1           1       2020-03-23     False       -2.060782            -0.714693   \n",
       "2           1       2020-04-23     False       -2.370355            -0.714693   \n",
       "3           2       2020-03-08      True        0.322026            -0.022436   \n",
       "4           4       2020-02-24     False       -0.142633            -0.368565   \n",
       "\n",
       "   post_per_month  adview_per_month  dislike_per_month  unfriend_per_month  \\\n",
       "0       -0.956225         -1.910692          -0.803795            1.310188   \n",
       "1       -0.956225         -1.578028          -1.074233            3.164898   \n",
       "2       -1.664403         -1.158921          -0.594028            1.310188   \n",
       "3        0.687066          1.482007           2.401324           -0.544521   \n",
       "4        0.202450          0.483194          -0.422635            1.310188   \n",
       "\n",
       "   message_per_month  reply_per_month  account_tenure  \n",
       "0          -0.510905         0.532077       -1.185010  \n",
       "1          -0.404155         0.231965       -0.238861  \n",
       "2          -0.404155         0.032935        0.707287  \n",
       "3          -2.066550        -1.203553       -0.205070  \n",
       "4           0.728709         0.756234       -1.218801  "
      ]
     },
     "execution_count": 10,
     "metadata": {},
     "output_type": "execute_result"
    }
   ],
   "source": [
    "scored = (\n",
    "    ((scored_metrics - summary['mean']) / summary['std'])\n",
    "    .assign(\n",
    "        account_id=churn_data.account_id,\n",
    "        is_churn=churn_data.is_churn,\n",
    "        observation_date=churn_data.observation_date\n",
    "    )[[\"account_id\", \"observation_date\", \"is_churn\", *scored_metrics.columns]]\n",
    ")\n",
    "scored.head()"
   ]
  },
  {
   "cell_type": "code",
   "execution_count": 11,
   "id": "c89108c1-8c61-4acf-b700-afe7f75fe9c6",
   "metadata": {},
   "outputs": [
    {
     "data": {
      "text/plain": [
       "(31333, 12)"
      ]
     },
     "execution_count": 11,
     "metadata": {},
     "output_type": "execute_result"
    }
   ],
   "source": [
    "df = scored.copy()\n",
    "df.shape"
   ]
  },
  {
   "cell_type": "code",
   "execution_count": null,
   "id": "88015a1a-7596-4891-b85f-1f4cabdb5c67",
   "metadata": {},
   "outputs": [],
   "source": []
  },
  {
   "cell_type": "markdown",
   "id": "404ff393-b7e5-43a6-bd9d-6a65b2114c05",
   "metadata": {},
   "source": [
    "## Correlations"
   ]
  },
  {
   "cell_type": "code",
   "execution_count": 12,
   "id": "1f4a26a1-2b95-4061-9bd3-3f2eddee8fca",
   "metadata": {},
   "outputs": [],
   "source": [
    "import pandas as pd\n",
    "import matplotlib.pyplot as plt"
   ]
  },
  {
   "cell_type": "markdown",
   "id": "66f1ab2f-467c-4c4b-95b4-888018d25a97",
   "metadata": {},
   "source": [
    "### 6.1 Coorelation between behaviours\n",
    "\n",
    "- List 6.1\n",
    "- 6.1.2 Invesitgating coorelations with Python"
   ]
  },
  {
   "cell_type": "code",
   "execution_count": 13,
   "id": "b65cb636-41de-4867-b9fa-7d15a4a75691",
   "metadata": {},
   "outputs": [
    {
     "name": "stdout",
     "output_type": "stream",
     "text": [
      "{'name': 'metric_pair_plot',\n",
      " 'params': {'metric1': 'post_per_month', 'metric2': 'like_per_month'},\n",
      " 'v1': {'data_set_path': 'socialnet7/socialnet7_dataset_scores.csv'},\n",
      " 'v10': {'data_set_path': 'socialnet7/socialnet7_dataset_scores.csv',\n",
      "         'metric2': 'dislike_per_month'},\n",
      " 'v11': {'metric2': 'unfriend_per_month'},\n",
      " 'v12': {'data_set_path': 'socialnet7/socialnet7_dataset_scores.csv',\n",
      "         'metric2': 'unfriend_per_month'},\n",
      " 'v13': {'metric2': 'reply_per_month'},\n",
      " 'v14': {'data_set_path': 'socialnet7/socialnet7_dataset_scores.csv',\n",
      "         'metric2': 'reply_per_month'},\n",
      " 'v15': {'metric2': 'account_tenure'},\n",
      " 'v16': {'data_set_path': 'socialnet7/socialnet7_dataset_scores.csv',\n",
      "         'metric2': 'account_tenure'},\n",
      " 'v17': {'data_set_path': 'socialnet7/socialnet7_dataset_scores.csv',\n",
      "         'metric1': 'like_per_month',\n",
      "         'metric2': 'dislike_per_month'},\n",
      " 'v2': {'data_set_path': 'socialnet7/socialnet7_dataset_scores.csv'},\n",
      " 'v3': {'metric2': 'message_per_month'},\n",
      " 'v4': {'data_set_path': 'socialnet7/socialnet7_dataset_scores.csv',\n",
      "        'metric2': 'message_per_month'},\n",
      " 'v5': {'metric2': 'newfriend_per_month'},\n",
      " 'v6': {'data_set_path': 'socialnet7/socialnet7_dataset_scores.csv',\n",
      "        'metric2': 'newfriend_per_month'},\n",
      " 'v7': {'metric2': 'adview_per_month'},\n",
      " 'v8': {'data_set_path': 'socialnet7/socialnet7_dataset_scores.csv',\n",
      "        'metric2': 'adview_per_month'},\n",
      " 'v9': {'metric2': 'dislike_per_month'}}\n"
     ]
    }
   ],
   "source": [
    "pprint(chap6[\"list1\"])"
   ]
  },
  {
   "cell_type": "code",
   "execution_count": 14,
   "id": "908040b6-35b6-481d-a31a-0ee9dcdd44e4",
   "metadata": {},
   "outputs": [
    {
     "data": {
      "text/plain": [
       "('post_per_month',\n",
       " ['like_per_month',\n",
       "  'message_per_month',\n",
       "  'newfriend_per_month',\n",
       "  'adview_per_month',\n",
       "  'dislike_per_month',\n",
       "  'unfriend_per_month',\n",
       "  'reply_per_month',\n",
       "  'account_tenure'])"
      ]
     },
     "execution_count": 14,
     "metadata": {},
     "output_type": "execute_result"
    }
   ],
   "source": [
    "metric_1 = chap6[\"list1\"][\"params\"][\"metric1\"]\n",
    "metric_2s = [chap6[\"list1\"][\"params\"][\"metric2\"], *[chap6[\"list1\"][f\"v{i}\"][\"metric2\"] for i in range(3, 17, 2)]]\n",
    "\n",
    "metric_1, metric_2s"
   ]
  },
  {
   "cell_type": "code",
   "execution_count": 15,
   "id": "6f59db79-4b89-429b-870b-ef4f5f9dd088",
   "metadata": {},
   "outputs": [],
   "source": [
    "def metric_pair_plot(churn_data, metric1, metric2):\n",
    "\n",
    "    met1_series = churn_data[metric1]\n",
    "    met2_series = churn_data[metric2]\n",
    "\n",
    "    corr = met1_series.corr(met2_series)\n",
    "\n",
    "    plt.scatter(met1_series, met2_series, marker='.')\n",
    "\n",
    "    plt.xlabel(metric1)\n",
    "    plt.ylabel(metric2)\n",
    "    plt.title('Correlation = %.2f' % corr)\n",
    "    plt.tight_layout()\n",
    "    plt.grid()"
   ]
  },
  {
   "cell_type": "code",
   "execution_count": 16,
   "id": "4179f6ba-aa26-490b-8bab-5c2c80af0134",
   "metadata": {},
   "outputs": [
    {
     "data": {
      "image/png": "[encoded data removed]",
      "text/plain": [
       "<Figure size 640x480 with 1 Axes>"
      ]
     },
     "metadata": {},
     "output_type": "display_data"
    }
   ],
   "source": [
    "metric_pair_plot(churn_data, metric_1, metric_2s[0])\n",
    "# before standarization"
   ]
  },
  {
   "cell_type": "code",
   "execution_count": 17,
   "id": "66bf8b4e-553c-4623-8744-32da118022f6",
   "metadata": {},
   "outputs": [
    {
     "data": {
      "image/png": "[encoded data removed]",
      "text/plain": [
       "<Figure size 640x480 with 1 Axes>"
      ]
     },
     "metadata": {},
     "output_type": "display_data"
    }
   ],
   "source": [
    "metric_pair_plot(scored, metric_1, metric_2s[0])"
   ]
  },
  {
   "cell_type": "markdown",
   "id": "b754a943-3509-4236-9955-ad1f33f289c7",
   "metadata": {},
   "source": [
    "- the original observation only has 0.51 coorelation, and the plot shows no strong coorelation\n",
    "  - several outliners also distort the v\n",
    "- scored data does show there're some correlations between likes and posts\n",
    "  - with coorelation at 0.67"
   ]
  },
  {
   "cell_type": "code",
   "execution_count": null,
   "id": "e9a620d0-d093-4f93-87d7-d32bb51234da",
   "metadata": {},
   "outputs": [],
   "source": []
  },
  {
   "cell_type": "markdown",
   "id": "cce7c834-c0ca-4048-a42e-db376a6179bc",
   "metadata": {},
   "source": [
    "- 6.1.3 Correlation matrices"
   ]
  },
  {
   "cell_type": "code",
   "execution_count": 18,
   "id": "c80285e1-02d2-4ce2-b2c2-b0e03fed8fa5",
   "metadata": {},
   "outputs": [],
   "source": [
    "import seaborn as sns"
   ]
  },
  {
   "cell_type": "code",
   "execution_count": 24,
   "id": "403edf98-c59a-44ff-ae01-fca1dde1904e",
   "metadata": {},
   "outputs": [
    {
     "data": {
      "text/plain": [
       "<AxesSubplot:>"
      ]
     },
     "execution_count": 24,
     "metadata": {},
     "output_type": "execute_result"
    },
    {
     "data": {
      "image/png": "[encoded data removed]",
      "text/plain": [
       "<Figure size 640x480 with 2 Axes>"
      ]
     },
     "metadata": {},
     "output_type": "display_data"
    }
   ],
   "source": [
    "tmp = churn_data.drop(columns=[\"account_id\"])\n",
    "# tmp.reindex(columns=sorted(tmp.columns)).corr()\n",
    "sns.heatmap(tmp.reindex(columns=sorted(tmp.columns)).corr())"
   ]
  },
  {
   "cell_type": "code",
   "execution_count": 25,
   "id": "690e9268-a54f-490f-b178-7e6753975538",
   "metadata": {},
   "outputs": [
    {
     "data": {
      "text/plain": [
       "<AxesSubplot:>"
      ]
     },
     "execution_count": 25,
     "metadata": {},
     "output_type": "execute_result"
    },
    {
     "data": {
      "image/png": "[encoded data removed]",
      "text/plain": [
       "<Figure size 640x480 with 2 Axes>"
      ]
     },
     "metadata": {},
     "output_type": "display_data"
    }
   ],
   "source": [
    "tmp = scored.drop(columns=[\"account_id\"])\n",
    "# tmp.reindex(columns=sorted(tmp.columns)).corr()\n",
    "sns.heatmap(tmp.reindex(columns=sorted(tmp.columns)).corr())"
   ]
  },
  {
   "cell_type": "code",
   "execution_count": null,
   "id": "286f0172-748c-4917-aea0-def85323b47d",
   "metadata": {},
   "outputs": [],
   "source": []
  },
  {
   "cell_type": "code",
   "execution_count": null,
   "id": "50a1696d-0519-4660-91ea-44841f561949",
   "metadata": {},
   "outputs": [],
   "source": []
  },
  {
   "cell_type": "markdown",
   "id": "21109cc6-b322-4f3d-b191-61799113c33f",
   "metadata": {},
   "source": [
    "### 6.3 Discovering groups of correlated metrics\n",
    "\n",
    "> - Hierarchical clustering to find groups that are closer to each other\n",
    ">- ...\n",
    "\n",
    "--- \n",
    "\n",
    "- List 6.4 & List 6.5\n",
    "- 6.3.2 Clustering correlations in Python"
   ]
  },
  {
   "cell_type": "markdown",
   "id": "53f3e73a-5997-43fd-ad1c-f6e46d578fa1",
   "metadata": {},
   "source": [
    "1. start with correlation matrix, find the \"highest\" correlation between any two metrics\n",
    "   - first group contains the two metrics having the highest\n",
    "2. create a loading matrix (weight matrix) (which will transform the original dataset)\n",
    "   - resulting dataset having the two metrics in one group, others remain separated\n",
    "   - i.e. the loading matrix has one fewer columns\n",
    "3. use the loading matrix to transform the original dataset\n",
    "4. repeat from step 1 with new pair of highest correlations"
   ]
  },
  {
   "cell_type": "markdown",
   "id": "8723ee60-979d-45dc-9ca8-ccfd53d9f7cd",
   "metadata": {
    "jp-MarkdownHeadingCollapsed": true,
    "tags": []
   },
   "source": [
    "- `scipy.cluster.hierarch.linkage`\n",
    "   - https://docs.scipy.org/doc/scipy/reference/generated/scipy.cluster.hierarchy.linkage.html\n",
    "   - Perform hierarchical/agglomerative clustering\n",
    "- `scipy.cluster.hierarchy.fcluster`\n",
    "   - https://docs.scipy.org/doc/scipy/reference/generated/scipy.cluster.hierarchy.fcluster.html\n",
    "   - Form flat clusters from the hierarchical clustering defined by the given linkage matrix.\n",
    "- `scipy.cluster.hierarchy.linkage`\n",
    "   - https://docs.scipy.org/doc/scipy/reference/generated/scipy.spatial.distance.squareform.html\n",
    "   - Convert a vector-form distance vector to a square-form distance matrix, and vice-versa.\n",
    "\n",
    "Resources\n",
    "\n",
    "- https://joernhees.de/blog/2015/08/26/scipy-hierarchical-clustering-and-dendrogram-tutorial/"
   ]
  },
  {
   "cell_type": "code",
   "execution_count": 38,
   "id": "10276e4e-587e-4617-96af-ba824b8816a0",
   "metadata": {},
   "outputs": [],
   "source": [
    "from collections import Counter\n",
    "from scipy import cluster, spatial\n",
    "from scipy import spatial"
   ]
  },
  {
   "cell_type": "markdown",
   "id": "bd5a649f-31a3-46e4-806e-1221440d328a",
   "metadata": {},
   "source": [
    "#### `find_correlation_clusters`"
   ]
  },
  {
   "cell_type": "code",
   "execution_count": 36,
   "id": "63cc653c-ef9a-46e0-a5e5-1399833cece1",
   "metadata": {},
   "outputs": [],
   "source": [
    "def find_correlation_clusters(corr, corr_thresh):\n",
    "    \n",
    "    dissimilarity = 1.0 - corr # broadcasted substraction\n",
    "    # perform hierarchical clustering\n",
    "    hierarchy = cluster.hierarchy.linkage(\n",
    "        spatial.distance.squareform(dissimilarity), \n",
    "        method='single' # single: Nearest Point Algorithm\n",
    "    )\n",
    "    \n",
    "    diss_thresh = 1.0 - corr_thresh\n",
    "    # return the assgined clustrs for the groups\n",
    "    labels = cluster.hierarchy.fcluster(\n",
    "        hierarchy, diss_thresh, criterion='distance'\n",
    "    )\n",
    "    \n",
    "    return labels"
   ]
  },
  {
   "cell_type": "code",
   "execution_count": 37,
   "id": "ff2c22d9-b875-4666-83ff-2c07d1187534",
   "metadata": {},
   "outputs": [
    {
     "data": {
      "text/plain": [
       "array([5, 2, 2, 2, 2, 3, 6, 1, 1, 4], dtype=int32)"
      ]
     },
     "execution_count": 37,
     "metadata": {},
     "output_type": "execute_result"
    }
   ],
   "source": [
    "corr = scored.drop(columns=[\"account_id\", \"observation_date\"]).corr()\n",
    "corr_threshold = 0.5\n",
    "find_correlation_clusters(corr, corr_threshold)"
   ]
  },
  {
   "cell_type": "code",
   "execution_count": 67,
   "id": "ac587f17-bad9-426a-9b1a-03e941037857",
   "metadata": {},
   "outputs": [
    {
     "data": {
      "text/plain": [
       "(45,)"
      ]
     },
     "metadata": {},
     "output_type": "display_data"
    },
    {
     "data": {
      "text/plain": [
       "array([1.12363527, 1.08387946, 1.12747015, 1.0645889 , 1.04802937,\n",
       "       0.94865586, 1.12048122, 1.09842071, 0.97735055, 0.47223598,\n",
       "       0.33364346, 0.33392815, 0.55117994, 0.99513884, 0.91153994,\n",
       "       0.9718675 , 0.91730273, 0.46691467, 0.47859298, 0.63478542,\n",
       "       0.98692674, 0.92781908, 0.99047339, 0.9316508 , 0.33906513,\n",
       "       0.55036139, 0.99138535, 0.91693736, 0.97885721, 0.9207497 ,\n",
       "       0.54964922, 0.99512343, 0.88078285, 0.94105526, 0.93277774,\n",
       "       0.98932806, 0.84835369, 0.90741681, 0.9275738 , 0.97737899,\n",
       "       0.9796164 , 0.96579672, 0.18778264, 0.91851317, 0.93331093])"
      ]
     },
     "execution_count": 67,
     "metadata": {},
     "output_type": "execute_result"
    }
   ],
   "source": [
    "dissimilarity = 1.0 - corr # broadcasted substraction\n",
    "tmp = spatial.distance.squareform(dissimilarity)\n",
    "display(tmp.shape)\n",
    "tmp\n",
    "# essentially the upper half of the \"coorelation matrix\" with 0 removed"
   ]
  },
  {
   "cell_type": "code",
   "execution_count": 68,
   "id": "d8ee9c24-9f56-4aef-8279-52476b98af43",
   "metadata": {},
   "outputs": [
    {
     "data": {
      "text/plain": [
       "(90,)"
      ]
     },
     "execution_count": 68,
     "metadata": {},
     "output_type": "execute_result"
    }
   ],
   "source": [
    "# np.delete(dissimilarity.values, 0.)\n",
    "tmp = dissimilarity.values.flatten()\n",
    "np.delete(dissimilarity.values.flatten(), np.argwhere(tmp==0)).shape\n",
    "# remove 0 from the given dis similarity matrix\n",
    "# but since it's duplicated along the diagnoal line, the number is doubled "
   ]
  },
  {
   "cell_type": "code",
   "execution_count": 71,
   "id": "c260a144-dbdc-4ec2-88e5-be5a9378a0e6",
   "metadata": {},
   "outputs": [
    {
     "data": {
      "text/plain": [
       "array([7.        , 8.        , 0.18778264, 2.        ])"
      ]
     },
     "metadata": {},
     "output_type": "display_data"
    },
    {
     "data": {
      "text/plain": [
       "array([[ 7.        ,  8.        ,  0.18778264,  2.        ],\n",
       "       [ 1.        ,  3.        ,  0.33364346,  2.        ],\n",
       "       [ 4.        , 11.        ,  0.33392815,  3.        ],\n",
       "       [ 2.        , 12.        ,  0.46691467,  4.        ],\n",
       "       [ 5.        , 13.        ,  0.54964922,  5.        ],\n",
       "       [10.        , 14.        ,  0.84835369,  7.        ],\n",
       "       [ 9.        , 15.        ,  0.91730273,  8.        ],\n",
       "       [ 0.        ,  6.        ,  0.94865586,  2.        ],\n",
       "       [16.        , 17.        ,  0.96579672, 10.        ]])"
      ]
     },
     "execution_count": 71,
     "metadata": {},
     "output_type": "execute_result"
    }
   ],
   "source": [
    "tmp = cluster.hierarchy.linkage(\n",
    "    spatial.distance.squareform(dissimilarity), \n",
    "    method='single' # single: Nearest Point Algorithm\n",
    ")\n",
    "# each row of the resulting array has the format [idx1, idx2, dist, sample_count].\n",
    "display(tmp[0])\n",
    "# merge the two clusters with indices 7 and 8, as they only had a distance of 0.18778264.\n",
    "# This created a cluster with a total of 2 samples.\n",
    "\n",
    "tmp\n",
    "# we have 45 samples? doesn't make sense as "
   ]
  },
  {
   "cell_type": "code",
   "execution_count": 73,
   "id": "e221f660-e337-4410-ab0b-4b805cc995e2",
   "metadata": {},
   "outputs": [
    {
     "data": {
      "text/plain": [
       "array([5, 2, 2, 2, 2, 3, 6, 1, 1, 4], dtype=int32)"
      ]
     },
     "execution_count": 73,
     "metadata": {},
     "output_type": "execute_result"
    }
   ],
   "source": [
    "hierarchy = cluster.hierarchy.linkage( \n",
    "    spatial.distance.squareform(dissimilarity),  \n",
    "    method='single' # single: Nearest Point Algorithm\n",
    ")\n",
    "    \n",
    "diss_thresh = 1.0 - corr_threshold\n",
    "tmp = cluster.hierarchy.fcluster(\n",
    "    hierarchy, diss_thresh, criterion='distance' \n",
    ")\n",
    "tmp\n",
    "# 10, the number of metrics in the scored data\n",
    "# 5 of them are assigned to the same cluster\n",
    "# each item in the array is an element, and the number represents the cluster it is assigned to"
   ]
  },
  {
   "cell_type": "code",
   "execution_count": null,
   "id": "f8ab9c18-daf8-4f12-adff-afc47ad6729a",
   "metadata": {},
   "outputs": [],
   "source": []
  },
  {
   "cell_type": "markdown",
   "id": "a5f4e1a7-b33a-4218-b10b-167f88403a92",
   "metadata": {},
   "source": [
    "#### `relabel_clusters`"
   ]
  },
  {
   "cell_type": "code",
   "execution_count": 36,
   "id": "fb5bd72d-45d3-4656-b93f-9171bf86fce5",
   "metadata": {},
   "outputs": [],
   "source": [
    "def relabel_clusters(labels, metric_columns):\n",
    "    \n",
    "    # order the cluster by number of elements belonging to it\n",
    "    cluster_count = Counter(labels)\n",
    "    cluster_order = {cluster[0]: idx for idx, cluster in enumerate(cluster_count.most_common())}\n",
    "    # this reduces the number of items in the dict\n",
    "    \n",
    "    relabeled_clusters = [cluster_order[l] for l in labels]\n",
    "    relabled_count = Counter(relabeled_clusters)\n",
    "    labeled_column_df = (\n",
    "        pd.DataFrame({'group': relabeled_clusters, 'column': metric_columns})\n",
    "        .sort_values(['group', 'column'], ascending=[True, True])\n",
    "    )\n",
    "    \n",
    "    return labeled_column_df, relabled_count"
   ]
  },
  {
   "cell_type": "code",
   "execution_count": 84,
   "id": "2784cc9a-f437-48c7-ab78-a75e00115255",
   "metadata": {},
   "outputs": [
    {
     "data": {
      "text/plain": [
       "array([5, 2, 2, 2, 2, 3, 6, 1, 1, 4], dtype=int32)"
      ]
     },
     "metadata": {},
     "output_type": "display_data"
    },
    {
     "data": {
      "text/plain": [
       "[(2, 4), (1, 2), (5, 1), (3, 1), (6, 1), (4, 1)]"
      ]
     },
     "metadata": {},
     "output_type": "display_data"
    },
    {
     "data": {
      "text/plain": [
       "Counter({5: 1, 2: 4, 3: 1, 6: 1, 1: 2, 4: 1})"
      ]
     },
     "execution_count": 84,
     "metadata": {},
     "output_type": "execute_result"
    }
   ],
   "source": [
    "labels = find_correlation_clusters(corr, corr_threshold)\n",
    "display(labels)\n",
    "metric_columns = scored.drop(columns=[\"account_id\", \"observation_date\"]).columns.tolist()\n",
    "\n",
    "cluster_count = Counter(labels)\n",
    "# count of occurence of each cluster index, cluster 2 has 4 occurence\n",
    "display(cluster_count.most_common())\n",
    "cluster_count"
   ]
  },
  {
   "cell_type": "code",
   "execution_count": 89,
   "id": "31be09d1-b419-4895-8322-f19d1ef1e92c",
   "metadata": {},
   "outputs": [
    {
     "data": {
      "text/plain": [
       "{2: 0, 1: 1, 5: 2, 3: 3, 6: 4, 4: 5}"
      ]
     },
     "execution_count": 89,
     "metadata": {},
     "output_type": "execute_result"
    }
   ],
   "source": [
    "# cluster_order = {cluster[0]: idx for idx, cluster in enumerate(cluster_count.most_common())}\n",
    "cluster_order = {cluster: idx for idx, (cluster, _) in enumerate(cluster_count.most_common())}\n",
    "cluster_order\n",
    "# cluster 2 at index 0, after rating by number of items in the cluster"
   ]
  },
  {
   "cell_type": "code",
   "execution_count": 90,
   "id": "2ff61d90-b613-4a02-ad94-de7f87c6d7c1",
   "metadata": {},
   "outputs": [
    {
     "data": {
      "text/plain": [
       "array([5, 2, 2, 2, 2, 3, 6, 1, 1, 4], dtype=int32)"
      ]
     },
     "metadata": {},
     "output_type": "display_data"
    },
    {
     "data": {
      "text/plain": [
       "[2, 0, 0, 0, 0, 3, 4, 1, 1, 5]"
      ]
     },
     "execution_count": 90,
     "metadata": {},
     "output_type": "execute_result"
    }
   ],
   "source": [
    "display(labels)\n",
    "relabeled_clusters = [cluster_order[label] for label in labels]\n",
    "relabeled_clusters\n",
    "# first item belongs to cluster 2, \n",
    "# but why would you need to do this? isn't the label already giving as the same ordering as the columns?"
   ]
  },
  {
   "cell_type": "code",
   "execution_count": 81,
   "id": "3b4344b6-afcb-4581-9958-93ef160bb3ce",
   "metadata": {},
   "outputs": [
    {
     "data": {
      "text/plain": [
       "Counter({2: 1, 0: 4, 3: 1, 4: 1, 1: 2, 5: 1})"
      ]
     },
     "execution_count": 81,
     "metadata": {},
     "output_type": "execute_result"
    }
   ],
   "source": [
    "relabled_count = Counter(relabeled_clusters)\n",
    "relabled_count"
   ]
  },
  {
   "cell_type": "code",
   "execution_count": 83,
   "id": "355edd2f-4ba7-44ba-86ca-24edb8fe4323",
   "metadata": {},
   "outputs": [
    {
     "data": {
      "text/html": [
       "<div>\n",
       "<style scoped>\n",
       "    .dataframe tbody tr th:only-of-type {\n",
       "        vertical-align: middle;\n",
       "    }\n",
       "\n",
       "    .dataframe tbody tr th {\n",
       "        vertical-align: top;\n",
       "    }\n",
       "\n",
       "    .dataframe thead th {\n",
       "        text-align: right;\n",
       "    }\n",
       "</style>\n",
       "<table border=\"1\" class=\"dataframe\">\n",
       "  <thead>\n",
       "    <tr style=\"text-align: right;\">\n",
       "      <th></th>\n",
       "      <th>group</th>\n",
       "      <th>column</th>\n",
       "    </tr>\n",
       "  </thead>\n",
       "  <tbody>\n",
       "    <tr>\n",
       "      <th>0</th>\n",
       "      <td>2</td>\n",
       "      <td>is_churn</td>\n",
       "    </tr>\n",
       "    <tr>\n",
       "      <th>1</th>\n",
       "      <td>0</td>\n",
       "      <td>like_per_month</td>\n",
       "    </tr>\n",
       "    <tr>\n",
       "      <th>2</th>\n",
       "      <td>0</td>\n",
       "      <td>newfriend_per_month</td>\n",
       "    </tr>\n",
       "    <tr>\n",
       "      <th>3</th>\n",
       "      <td>0</td>\n",
       "      <td>post_per_month</td>\n",
       "    </tr>\n",
       "    <tr>\n",
       "      <th>4</th>\n",
       "      <td>0</td>\n",
       "      <td>adview_per_month</td>\n",
       "    </tr>\n",
       "    <tr>\n",
       "      <th>5</th>\n",
       "      <td>3</td>\n",
       "      <td>dislike_per_month</td>\n",
       "    </tr>\n",
       "    <tr>\n",
       "      <th>6</th>\n",
       "      <td>4</td>\n",
       "      <td>unfriend_per_month</td>\n",
       "    </tr>\n",
       "    <tr>\n",
       "      <th>7</th>\n",
       "      <td>1</td>\n",
       "      <td>message_per_month</td>\n",
       "    </tr>\n",
       "    <tr>\n",
       "      <th>8</th>\n",
       "      <td>1</td>\n",
       "      <td>reply_per_month</td>\n",
       "    </tr>\n",
       "    <tr>\n",
       "      <th>9</th>\n",
       "      <td>5</td>\n",
       "      <td>account_tenure</td>\n",
       "    </tr>\n",
       "  </tbody>\n",
       "</table>\n",
       "</div>"
      ],
      "text/plain": [
       "   group               column\n",
       "0      2             is_churn\n",
       "1      0       like_per_month\n",
       "2      0  newfriend_per_month\n",
       "3      0       post_per_month\n",
       "4      0     adview_per_month\n",
       "5      3    dislike_per_month\n",
       "6      4   unfriend_per_month\n",
       "7      1    message_per_month\n",
       "8      1      reply_per_month\n",
       "9      5       account_tenure"
      ]
     },
     "execution_count": 83,
     "metadata": {},
     "output_type": "execute_result"
    }
   ],
   "source": [
    "pd.DataFrame({'group': relabeled_clusters, 'column': metric_columns})\\\n",
    "   # .sort_values(['group', 'column'], ascending=[True, True])"
   ]
  },
  {
   "cell_type": "code",
   "execution_count": null,
   "id": "4e3282ec-38e3-4f93-994c-0d5e9b92f65d",
   "metadata": {},
   "outputs": [],
   "source": []
  },
  {
   "cell_type": "markdown",
   "id": "a620ea63-7c12-4240-96c5-62f0f0115537",
   "metadata": {},
   "source": [
    "#### `make_load_matrix`"
   ]
  },
  {
   "cell_type": "code",
   "execution_count": 118,
   "id": "064ce7cd-8c81-4fa0-8174-9e3db52d9a04",
   "metadata": {},
   "outputs": [],
   "source": [
    "def make_load_matrix(labeled_column_df, metric_columns, relabled_count, corr):\n",
    "    load_mat = np.zeros((len(metric_columns), len(relabled_count)))\n",
    "    \n",
    "    for row in labeled_column_df.iterrows():\n",
    "        orig_col = metric_columns.index(row[1][1])\n",
    "        if relabled_count[row[1][0]]>1:\n",
    "            load_mat[orig_col, row[1][0]] = 1.0/  (np.sqrt(corr) * float(relabled_count[row[1][0]])  )\n",
    "        else:\n",
    "            load_mat[orig_col, row[1][0]] = 1.0\n",
    "\n",
    "    is_group = load_mat.astype(bool).sum(axis=0) > 1\n",
    "    column_names=['metric_group_{}'.format(d + 1) if is_group[d]\n",
    "                      else labeled_column_df.loc[labeled_column_df['group']==d,'column'].iloc[0]\n",
    "                      for d in range(0, load_mat.shape[1])]\n",
    "    loadmat_df = pd.DataFrame(load_mat, index=metric_columns, columns=column_names)   \n",
    "    loadmat_df['name'] = loadmat_df.index\n",
    "    sort_cols = list(loadmat_df.columns.values)\n",
    "    sort_order = [False] * loadmat_df.shape[1]\n",
    "    sort_order[-1] = True\n",
    "    loadmat_df = loadmat_df.sort_values(sort_cols, ascending=sort_order)\n",
    "    loadmat_df = loadmat_df.drop('name', axis=1)\n",
    "    \n",
    "    return loadmat_df"
   ]
  },
  {
   "cell_type": "code",
   "execution_count": 91,
   "id": "ccd8e88d-2545-4edf-8bde-3bd540ea381c",
   "metadata": {},
   "outputs": [],
   "source": [
    "corr = scored.drop(columns=[\"account_id\", \"observation_date\"]).corr()\n",
    "corr_threshold = 0.5"
   ]
  },
  {
   "cell_type": "code",
   "execution_count": 92,
   "id": "3cf87fed-ebaf-44ff-b6c2-6cd9c8014fa9",
   "metadata": {},
   "outputs": [],
   "source": [
    "labels = find_correlation_clusters(corr, corr_threshold)\n",
    "metric_columns = scored.drop(columns=[\"account_id\", \"observation_date\"]).columns.tolist()\n",
    "\n",
    "labeled_column_df, relabled_count = relabel_clusters(labels, metric_columns)"
   ]
  },
  {
   "cell_type": "code",
   "execution_count": 100,
   "id": "fadd19a1-2cc4-4c24-b15f-e770fc9aab89",
   "metadata": {},
   "outputs": [
    {
     "ename": "ValueError",
     "evalue": "setting an array element with a sequence.",
     "output_type": "error",
     "traceback": [
      "\u001b[0;31m---------------------------------------------------------------------------\u001b[0m",
      "\u001b[0;31mTypeError\u001b[0m                                 Traceback (most recent call last)",
      "\u001b[0;31mTypeError\u001b[0m: float() argument must be a string or a number, not 'DataFrame'",
      "\nThe above exception was the direct cause of the following exception:\n",
      "\u001b[0;31mValueError\u001b[0m                                Traceback (most recent call last)",
      "Cell \u001b[0;32mIn[100], line 1\u001b[0m\n\u001b[0;32m----> 1\u001b[0m \u001b[43mmake_load_matrix\u001b[49m\u001b[43m(\u001b[49m\u001b[43mlabeled_column_df\u001b[49m\u001b[43m,\u001b[49m\u001b[43m \u001b[49m\u001b[43mmetric_columns\u001b[49m\u001b[43m,\u001b[49m\u001b[43m \u001b[49m\u001b[43mrelabled_count\u001b[49m\u001b[43m,\u001b[49m\u001b[43m \u001b[49m\u001b[43mcorr\u001b[49m\u001b[43m)\u001b[49m\n",
      "Cell \u001b[0;32mIn[36], line 33\u001b[0m, in \u001b[0;36mmake_load_matrix\u001b[0;34m(labeled_column_df, metric_columns, relabled_count, corr)\u001b[0m\n\u001b[1;32m     31\u001b[0m orig_col \u001b[38;5;241m=\u001b[39m metric_columns\u001b[38;5;241m.\u001b[39mindex(row[\u001b[38;5;241m1\u001b[39m][\u001b[38;5;241m1\u001b[39m])\n\u001b[1;32m     32\u001b[0m \u001b[38;5;28;01mif\u001b[39;00m relabled_count[row[\u001b[38;5;241m1\u001b[39m][\u001b[38;5;241m0\u001b[39m]]\u001b[38;5;241m>\u001b[39m\u001b[38;5;241m1\u001b[39m:\n\u001b[0;32m---> 33\u001b[0m     \u001b[43mload_mat\u001b[49m\u001b[43m[\u001b[49m\u001b[43morig_col\u001b[49m\u001b[43m,\u001b[49m\u001b[43m \u001b[49m\u001b[43mrow\u001b[49m\u001b[43m[\u001b[49m\u001b[38;5;241;43m1\u001b[39;49m\u001b[43m]\u001b[49m\u001b[43m[\u001b[49m\u001b[38;5;241;43m0\u001b[39;49m\u001b[43m]\u001b[49m\u001b[43m]\u001b[49m \u001b[38;5;241m=\u001b[39m \u001b[38;5;241m1.0\u001b[39m\u001b[38;5;241m/\u001b[39m  (np\u001b[38;5;241m.\u001b[39msqrt(corr) \u001b[38;5;241m*\u001b[39m \u001b[38;5;28mfloat\u001b[39m(relabled_count[row[\u001b[38;5;241m1\u001b[39m][\u001b[38;5;241m0\u001b[39m]])  )\n\u001b[1;32m     34\u001b[0m \u001b[38;5;28;01melse\u001b[39;00m:\n\u001b[1;32m     35\u001b[0m     load_mat[orig_col, row[\u001b[38;5;241m1\u001b[39m][\u001b[38;5;241m0\u001b[39m]] \u001b[38;5;241m=\u001b[39m \u001b[38;5;241m1.0\u001b[39m\n",
      "\u001b[0;31mValueError\u001b[0m: setting an array element with a sequence."
     ]
    }
   ],
   "source": [
    "make_load_matrix(labeled_column_df, metric_columns, relabled_count, corr)"
   ]
  },
  {
   "cell_type": "code",
   "execution_count": 93,
   "id": "d2deeafc-1714-46de-8e83-72983f089c5d",
   "metadata": {},
   "outputs": [
    {
     "data": {
      "text/plain": [
       "array([[0., 0., 0., 0., 0., 0.],\n",
       "       [0., 0., 0., 0., 0., 0.],\n",
       "       [0., 0., 0., 0., 0., 0.],\n",
       "       [0., 0., 0., 0., 0., 0.],\n",
       "       [0., 0., 0., 0., 0., 0.],\n",
       "       [0., 0., 0., 0., 0., 0.],\n",
       "       [0., 0., 0., 0., 0., 0.],\n",
       "       [0., 0., 0., 0., 0., 0.],\n",
       "       [0., 0., 0., 0., 0., 0.],\n",
       "       [0., 0., 0., 0., 0., 0.]])"
      ]
     },
     "execution_count": 93,
     "metadata": {},
     "output_type": "execute_result"
    }
   ],
   "source": [
    "load_mat = np.zeros((len(metric_columns), len(relabled_count)))\n",
    "load_mat"
   ]
  },
  {
   "cell_type": "code",
   "execution_count": 106,
   "id": "dc5c06e7-a36d-4966-9bea-d698a74fe0c0",
   "metadata": {},
   "outputs": [
    {
     "data": {
      "text/plain": [
       "0.0"
      ]
     },
     "execution_count": 106,
     "metadata": {},
     "output_type": "execute_result"
    }
   ],
   "source": [
    "load_mat[orig_col, row[1][0]]"
   ]
  },
  {
   "cell_type": "code",
   "execution_count": 103,
   "id": "43d02626-f88e-49d4-afbc-97c28db6828c",
   "metadata": {},
   "outputs": [
    {
     "data": {
      "text/plain": [
       "4.0"
      ]
     },
     "execution_count": 103,
     "metadata": {},
     "output_type": "execute_result"
    }
   ],
   "source": [
    "float(relabled_count[row[1][0]])"
   ]
  },
  {
   "cell_type": "code",
   "execution_count": 95,
   "id": "78859b8a-977a-4ebd-a72b-33ab4951c652",
   "metadata": {},
   "outputs": [
    {
     "ename": "ValueError",
     "evalue": "setting an array element with a sequence.",
     "output_type": "error",
     "traceback": [
      "\u001b[0;31m---------------------------------------------------------------------------\u001b[0m",
      "\u001b[0;31mTypeError\u001b[0m                                 Traceback (most recent call last)",
      "\u001b[0;31mTypeError\u001b[0m: float() argument must be a string or a number, not 'DataFrame'",
      "\nThe above exception was the direct cause of the following exception:\n",
      "\u001b[0;31mValueError\u001b[0m                                Traceback (most recent call last)",
      "Cell \u001b[0;32mIn[95], line 4\u001b[0m\n\u001b[1;32m      2\u001b[0m orig_col \u001b[38;5;241m=\u001b[39m metric_columns\u001b[38;5;241m.\u001b[39mindex(row[\u001b[38;5;241m1\u001b[39m][\u001b[38;5;241m1\u001b[39m])\n\u001b[1;32m      3\u001b[0m \u001b[38;5;28;01mif\u001b[39;00m relabled_count[row[\u001b[38;5;241m1\u001b[39m][\u001b[38;5;241m0\u001b[39m]]\u001b[38;5;241m>\u001b[39m\u001b[38;5;241m1\u001b[39m:\n\u001b[0;32m----> 4\u001b[0m     \u001b[43mload_mat\u001b[49m\u001b[43m[\u001b[49m\u001b[43morig_col\u001b[49m\u001b[43m,\u001b[49m\u001b[43m \u001b[49m\u001b[43mrow\u001b[49m\u001b[43m[\u001b[49m\u001b[38;5;241;43m1\u001b[39;49m\u001b[43m]\u001b[49m\u001b[43m[\u001b[49m\u001b[38;5;241;43m0\u001b[39;49m\u001b[43m]\u001b[49m\u001b[43m]\u001b[49m \u001b[38;5;241m=\u001b[39m (\u001b[38;5;241m1.0\u001b[39m \u001b[38;5;241m/\u001b[39m (np\u001b[38;5;241m.\u001b[39msqrt(corr) \u001b[38;5;241m*\u001b[39m \u001b[38;5;28mfloat\u001b[39m(relabled_count[row[\u001b[38;5;241m1\u001b[39m][\u001b[38;5;241m0\u001b[39m]])))\n\u001b[1;32m      5\u001b[0m \u001b[38;5;28;01melse\u001b[39;00m:\n\u001b[1;32m      6\u001b[0m     load_mat[orig_col, row[\u001b[38;5;241m1\u001b[39m][\u001b[38;5;241m0\u001b[39m]] \u001b[38;5;241m=\u001b[39m \u001b[38;5;241m1.0\u001b[39m\n",
      "\u001b[0;31mValueError\u001b[0m: setting an array element with a sequence."
     ]
    }
   ],
   "source": [
    "# iterate though each metric and its group\n",
    "for row in labeled_column_df.iterrows():\n",
    "    orig_col = metric_columns.index(row[1][1])\n",
    "    if relabled_count[row[1][0]]>1:\n",
    "        load_mat[orig_col, row[1][0]] = (1.0 / (np.sqrt(corr) * float(relabled_count[row[1][0]])))\n",
    "    else:\n",
    "        load_mat[orig_col, row[1][0]] = 1.0\n",
    "load_mat"
   ]
  },
  {
   "cell_type": "code",
   "execution_count": null,
   "id": "e31c09e4-4a87-43dc-b42d-2fb82307c8f5",
   "metadata": {},
   "outputs": [],
   "source": []
  },
  {
   "cell_type": "code",
   "execution_count": null,
   "id": "bc509010-032c-4a79-aca8-cac9adcff766",
   "metadata": {},
   "outputs": [],
   "source": []
  },
  {
   "cell_type": "markdown",
   "id": "5192a894-d078-47b7-bfbf-eee19e76a4bf",
   "metadata": {},
   "source": [
    "#### `find_metric_groups`"
   ]
  },
  {
   "cell_type": "code",
   "execution_count": 122,
   "id": "213a797b-fb7e-46e3-a7fc-58cd92e455ca",
   "metadata": {},
   "outputs": [],
   "source": [
    "def find_metric_groups(scored_data, group_corr_thresh=0.5):\n",
    "\n",
    "    scored_metrics = scored_data.drop(columns=[\"account_id\", \"observation_date\"])\n",
    "    metrics = scored_metrics.columns.tolist()\n",
    "\n",
    "    # 1. \n",
    "    labels = find_correlation_clusters(\n",
    "        scored_metrics.corr(), group_corr_thresh\n",
    "    )\n",
    "    labeled_column_df, relabled_count = relabel_clusters(labels, metrics)\n",
    "    loadmat_df = make_load_matrix(labeled_column_df, metrics, relabled_count, group_corr_thresh)\n",
    "    \n",
    "    return loadmat_df, labeled_column_df"
   ]
  },
  {
   "cell_type": "code",
   "execution_count": 123,
   "id": "cd9eff75-be11-4c64-aded-07b6deb6f99c",
   "metadata": {},
   "outputs": [
    {
     "data": {
      "text/html": [
       "<div>\n",
       "<style scoped>\n",
       "    .dataframe tbody tr th:only-of-type {\n",
       "        vertical-align: middle;\n",
       "    }\n",
       "\n",
       "    .dataframe tbody tr th {\n",
       "        vertical-align: top;\n",
       "    }\n",
       "\n",
       "    .dataframe thead th {\n",
       "        text-align: right;\n",
       "    }\n",
       "</style>\n",
       "<table border=\"1\" class=\"dataframe\">\n",
       "  <thead>\n",
       "    <tr style=\"text-align: right;\">\n",
       "      <th></th>\n",
       "      <th>account_id</th>\n",
       "      <th>observation_date</th>\n",
       "      <th>is_churn</th>\n",
       "      <th>like_per_month</th>\n",
       "      <th>newfriend_per_month</th>\n",
       "      <th>post_per_month</th>\n",
       "      <th>adview_per_month</th>\n",
       "      <th>dislike_per_month</th>\n",
       "      <th>unfriend_per_month</th>\n",
       "      <th>message_per_month</th>\n",
       "      <th>reply_per_month</th>\n",
       "      <th>account_tenure</th>\n",
       "    </tr>\n",
       "  </thead>\n",
       "  <tbody>\n",
       "    <tr>\n",
       "      <th>0</th>\n",
       "      <td>1</td>\n",
       "      <td>2020-02-23</td>\n",
       "      <td>False</td>\n",
       "      <td>-2.060782</td>\n",
       "      <td>-0.830069</td>\n",
       "      <td>-0.956225</td>\n",
       "      <td>-1.910692</td>\n",
       "      <td>-0.803795</td>\n",
       "      <td>1.310188</td>\n",
       "      <td>-0.510905</td>\n",
       "      <td>0.532077</td>\n",
       "      <td>-1.185010</td>\n",
       "    </tr>\n",
       "    <tr>\n",
       "      <th>1</th>\n",
       "      <td>1</td>\n",
       "      <td>2020-03-23</td>\n",
       "      <td>False</td>\n",
       "      <td>-2.060782</td>\n",
       "      <td>-0.714693</td>\n",
       "      <td>-0.956225</td>\n",
       "      <td>-1.578028</td>\n",
       "      <td>-1.074233</td>\n",
       "      <td>3.164898</td>\n",
       "      <td>-0.404155</td>\n",
       "      <td>0.231965</td>\n",
       "      <td>-0.238861</td>\n",
       "    </tr>\n",
       "    <tr>\n",
       "      <th>2</th>\n",
       "      <td>1</td>\n",
       "      <td>2020-04-23</td>\n",
       "      <td>False</td>\n",
       "      <td>-2.370355</td>\n",
       "      <td>-0.714693</td>\n",
       "      <td>-1.664403</td>\n",
       "      <td>-1.158921</td>\n",
       "      <td>-0.594028</td>\n",
       "      <td>1.310188</td>\n",
       "      <td>-0.404155</td>\n",
       "      <td>0.032935</td>\n",
       "      <td>0.707287</td>\n",
       "    </tr>\n",
       "    <tr>\n",
       "      <th>3</th>\n",
       "      <td>2</td>\n",
       "      <td>2020-03-08</td>\n",
       "      <td>True</td>\n",
       "      <td>0.322026</td>\n",
       "      <td>-0.022436</td>\n",
       "      <td>0.687066</td>\n",
       "      <td>1.482007</td>\n",
       "      <td>2.401324</td>\n",
       "      <td>-0.544521</td>\n",
       "      <td>-2.066550</td>\n",
       "      <td>-1.203553</td>\n",
       "      <td>-0.205070</td>\n",
       "    </tr>\n",
       "    <tr>\n",
       "      <th>4</th>\n",
       "      <td>4</td>\n",
       "      <td>2020-02-24</td>\n",
       "      <td>False</td>\n",
       "      <td>-0.142633</td>\n",
       "      <td>-0.368565</td>\n",
       "      <td>0.202450</td>\n",
       "      <td>0.483194</td>\n",
       "      <td>-0.422635</td>\n",
       "      <td>1.310188</td>\n",
       "      <td>0.728709</td>\n",
       "      <td>0.756234</td>\n",
       "      <td>-1.218801</td>\n",
       "    </tr>\n",
       "  </tbody>\n",
       "</table>\n",
       "</div>"
      ],
      "text/plain": [
       "   account_id observation_date  is_churn  like_per_month  newfriend_per_month  \\\n",
       "0           1       2020-02-23     False       -2.060782            -0.830069   \n",
       "1           1       2020-03-23     False       -2.060782            -0.714693   \n",
       "2           1       2020-04-23     False       -2.370355            -0.714693   \n",
       "3           2       2020-03-08      True        0.322026            -0.022436   \n",
       "4           4       2020-02-24     False       -0.142633            -0.368565   \n",
       "\n",
       "   post_per_month  adview_per_month  dislike_per_month  unfriend_per_month  \\\n",
       "0       -0.956225         -1.910692          -0.803795            1.310188   \n",
       "1       -0.956225         -1.578028          -1.074233            3.164898   \n",
       "2       -1.664403         -1.158921          -0.594028            1.310188   \n",
       "3        0.687066          1.482007           2.401324           -0.544521   \n",
       "4        0.202450          0.483194          -0.422635            1.310188   \n",
       "\n",
       "   message_per_month  reply_per_month  account_tenure  \n",
       "0          -0.510905         0.532077       -1.185010  \n",
       "1          -0.404155         0.231965       -0.238861  \n",
       "2          -0.404155         0.032935        0.707287  \n",
       "3          -2.066550        -1.203553       -0.205070  \n",
       "4           0.728709         0.756234       -1.218801  "
      ]
     },
     "execution_count": 123,
     "metadata": {},
     "output_type": "execute_result"
    }
   ],
   "source": [
    "scored.head()"
   ]
  },
  {
   "cell_type": "code",
   "execution_count": 126,
   "id": "134f8365-5f33-475c-9f4c-7b8cc628c3f3",
   "metadata": {},
   "outputs": [
    {
     "data": {
      "text/html": [
       "<div>\n",
       "<style scoped>\n",
       "    .dataframe tbody tr th:only-of-type {\n",
       "        vertical-align: middle;\n",
       "    }\n",
       "\n",
       "    .dataframe tbody tr th {\n",
       "        vertical-align: top;\n",
       "    }\n",
       "\n",
       "    .dataframe thead th {\n",
       "        text-align: right;\n",
       "    }\n",
       "</style>\n",
       "<table border=\"1\" class=\"dataframe\">\n",
       "  <thead>\n",
       "    <tr style=\"text-align: right;\">\n",
       "      <th></th>\n",
       "      <th>metric_group_1</th>\n",
       "      <th>metric_group_2</th>\n",
       "      <th>is_churn</th>\n",
       "      <th>dislike_per_month</th>\n",
       "      <th>unfriend_per_month</th>\n",
       "      <th>account_tenure</th>\n",
       "    </tr>\n",
       "  </thead>\n",
       "  <tbody>\n",
       "    <tr>\n",
       "      <th>adview_per_month</th>\n",
       "      <td>0.353553</td>\n",
       "      <td>0.000000</td>\n",
       "      <td>0.0</td>\n",
       "      <td>0.0</td>\n",
       "      <td>0.0</td>\n",
       "      <td>0.0</td>\n",
       "    </tr>\n",
       "    <tr>\n",
       "      <th>like_per_month</th>\n",
       "      <td>0.353553</td>\n",
       "      <td>0.000000</td>\n",
       "      <td>0.0</td>\n",
       "      <td>0.0</td>\n",
       "      <td>0.0</td>\n",
       "      <td>0.0</td>\n",
       "    </tr>\n",
       "    <tr>\n",
       "      <th>newfriend_per_month</th>\n",
       "      <td>0.353553</td>\n",
       "      <td>0.000000</td>\n",
       "      <td>0.0</td>\n",
       "      <td>0.0</td>\n",
       "      <td>0.0</td>\n",
       "      <td>0.0</td>\n",
       "    </tr>\n",
       "    <tr>\n",
       "      <th>post_per_month</th>\n",
       "      <td>0.353553</td>\n",
       "      <td>0.000000</td>\n",
       "      <td>0.0</td>\n",
       "      <td>0.0</td>\n",
       "      <td>0.0</td>\n",
       "      <td>0.0</td>\n",
       "    </tr>\n",
       "    <tr>\n",
       "      <th>message_per_month</th>\n",
       "      <td>0.000000</td>\n",
       "      <td>0.707107</td>\n",
       "      <td>0.0</td>\n",
       "      <td>0.0</td>\n",
       "      <td>0.0</td>\n",
       "      <td>0.0</td>\n",
       "    </tr>\n",
       "    <tr>\n",
       "      <th>reply_per_month</th>\n",
       "      <td>0.000000</td>\n",
       "      <td>0.707107</td>\n",
       "      <td>0.0</td>\n",
       "      <td>0.0</td>\n",
       "      <td>0.0</td>\n",
       "      <td>0.0</td>\n",
       "    </tr>\n",
       "    <tr>\n",
       "      <th>is_churn</th>\n",
       "      <td>0.000000</td>\n",
       "      <td>0.000000</td>\n",
       "      <td>1.0</td>\n",
       "      <td>0.0</td>\n",
       "      <td>0.0</td>\n",
       "      <td>0.0</td>\n",
       "    </tr>\n",
       "    <tr>\n",
       "      <th>dislike_per_month</th>\n",
       "      <td>0.000000</td>\n",
       "      <td>0.000000</td>\n",
       "      <td>0.0</td>\n",
       "      <td>1.0</td>\n",
       "      <td>0.0</td>\n",
       "      <td>0.0</td>\n",
       "    </tr>\n",
       "    <tr>\n",
       "      <th>unfriend_per_month</th>\n",
       "      <td>0.000000</td>\n",
       "      <td>0.000000</td>\n",
       "      <td>0.0</td>\n",
       "      <td>0.0</td>\n",
       "      <td>1.0</td>\n",
       "      <td>0.0</td>\n",
       "    </tr>\n",
       "    <tr>\n",
       "      <th>account_tenure</th>\n",
       "      <td>0.000000</td>\n",
       "      <td>0.000000</td>\n",
       "      <td>0.0</td>\n",
       "      <td>0.0</td>\n",
       "      <td>0.0</td>\n",
       "      <td>1.0</td>\n",
       "    </tr>\n",
       "  </tbody>\n",
       "</table>\n",
       "</div>"
      ],
      "text/plain": [
       "                     metric_group_1  metric_group_2  is_churn  \\\n",
       "adview_per_month           0.353553        0.000000       0.0   \n",
       "like_per_month             0.353553        0.000000       0.0   \n",
       "newfriend_per_month        0.353553        0.000000       0.0   \n",
       "post_per_month             0.353553        0.000000       0.0   \n",
       "message_per_month          0.000000        0.707107       0.0   \n",
       "reply_per_month            0.000000        0.707107       0.0   \n",
       "is_churn                   0.000000        0.000000       1.0   \n",
       "dislike_per_month          0.000000        0.000000       0.0   \n",
       "unfriend_per_month         0.000000        0.000000       0.0   \n",
       "account_tenure             0.000000        0.000000       0.0   \n",
       "\n",
       "                     dislike_per_month  unfriend_per_month  account_tenure  \n",
       "adview_per_month                   0.0                 0.0             0.0  \n",
       "like_per_month                     0.0                 0.0             0.0  \n",
       "newfriend_per_month                0.0                 0.0             0.0  \n",
       "post_per_month                     0.0                 0.0             0.0  \n",
       "message_per_month                  0.0                 0.0             0.0  \n",
       "reply_per_month                    0.0                 0.0             0.0  \n",
       "is_churn                           0.0                 0.0             0.0  \n",
       "dislike_per_month                  1.0                 0.0             0.0  \n",
       "unfriend_per_month                 0.0                 1.0             0.0  \n",
       "account_tenure                     0.0                 0.0             1.0  "
      ]
     },
     "execution_count": 126,
     "metadata": {},
     "output_type": "execute_result"
    }
   ],
   "source": [
    "result = find_metric_groups(scored)\n",
    "result[0]"
   ]
  },
  {
   "cell_type": "code",
   "execution_count": 127,
   "id": "3a4d9ce2-c053-4f8f-8062-ab43ed18dd74",
   "metadata": {},
   "outputs": [
    {
     "data": {
      "text/html": [
       "<div>\n",
       "<style scoped>\n",
       "    .dataframe tbody tr th:only-of-type {\n",
       "        vertical-align: middle;\n",
       "    }\n",
       "\n",
       "    .dataframe tbody tr th {\n",
       "        vertical-align: top;\n",
       "    }\n",
       "\n",
       "    .dataframe thead th {\n",
       "        text-align: right;\n",
       "    }\n",
       "</style>\n",
       "<table border=\"1\" class=\"dataframe\">\n",
       "  <thead>\n",
       "    <tr style=\"text-align: right;\">\n",
       "      <th></th>\n",
       "      <th>group</th>\n",
       "      <th>column</th>\n",
       "    </tr>\n",
       "  </thead>\n",
       "  <tbody>\n",
       "    <tr>\n",
       "      <th>4</th>\n",
       "      <td>0</td>\n",
       "      <td>adview_per_month</td>\n",
       "    </tr>\n",
       "    <tr>\n",
       "      <th>1</th>\n",
       "      <td>0</td>\n",
       "      <td>like_per_month</td>\n",
       "    </tr>\n",
       "    <tr>\n",
       "      <th>2</th>\n",
       "      <td>0</td>\n",
       "      <td>newfriend_per_month</td>\n",
       "    </tr>\n",
       "    <tr>\n",
       "      <th>3</th>\n",
       "      <td>0</td>\n",
       "      <td>post_per_month</td>\n",
       "    </tr>\n",
       "    <tr>\n",
       "      <th>7</th>\n",
       "      <td>1</td>\n",
       "      <td>message_per_month</td>\n",
       "    </tr>\n",
       "    <tr>\n",
       "      <th>8</th>\n",
       "      <td>1</td>\n",
       "      <td>reply_per_month</td>\n",
       "    </tr>\n",
       "    <tr>\n",
       "      <th>0</th>\n",
       "      <td>2</td>\n",
       "      <td>is_churn</td>\n",
       "    </tr>\n",
       "    <tr>\n",
       "      <th>5</th>\n",
       "      <td>3</td>\n",
       "      <td>dislike_per_month</td>\n",
       "    </tr>\n",
       "    <tr>\n",
       "      <th>6</th>\n",
       "      <td>4</td>\n",
       "      <td>unfriend_per_month</td>\n",
       "    </tr>\n",
       "    <tr>\n",
       "      <th>9</th>\n",
       "      <td>5</td>\n",
       "      <td>account_tenure</td>\n",
       "    </tr>\n",
       "  </tbody>\n",
       "</table>\n",
       "</div>"
      ],
      "text/plain": [
       "   group               column\n",
       "4      0     adview_per_month\n",
       "1      0       like_per_month\n",
       "2      0  newfriend_per_month\n",
       "3      0       post_per_month\n",
       "7      1    message_per_month\n",
       "8      1      reply_per_month\n",
       "0      2             is_churn\n",
       "5      3    dislike_per_month\n",
       "6      4   unfriend_per_month\n",
       "9      5       account_tenure"
      ]
     },
     "execution_count": 127,
     "metadata": {},
     "output_type": "execute_result"
    }
   ],
   "source": [
    "result[1]"
   ]
  },
  {
   "cell_type": "code",
   "execution_count": null,
   "id": "f72fef8b-3006-41f1-baad-20f891e5ef1c",
   "metadata": {},
   "outputs": [],
   "source": []
  },
  {
   "cell_type": "code",
   "execution_count": null,
   "id": "bd62cc85-43b7-4573-8da8-163e52f46e63",
   "metadata": {},
   "outputs": [],
   "source": []
  },
  {
   "cell_type": "code",
   "execution_count": null,
   "id": "6b2833ab-3cc0-4e27-8c50-710981aff744",
   "metadata": {},
   "outputs": [],
   "source": []
  },
  {
   "cell_type": "markdown",
   "id": "e9c0c63f-9b19-418d-9aa0-1e4095030994",
   "metadata": {},
   "source": [
    "### 6.2 Averaging groups of behavioural metrics\n",
    "\n",
    "> - Averaging them (the metric cohorts) together is a way to handle this, as will be explained.\n",
    "> - An information overload comes from looking at too many metrics. \n",
    "> - Remember that behavioral metrics usually do not measure something that is directly causal of churn or retention. \n",
    ">- It is more common that your behavioral metrics are only associated with churn.\n",
    "\n",
    "--- \n",
    "\n",
    "- A matrix of weights, i.e. the loading matrix\n",
    "- List 6.3\n",
    "- Chapter 6.2.4\n"
   ]
  },
  {
   "cell_type": "code",
   "execution_count": 24,
   "id": "e4cdcb97-5447-4571-beff-06a25c272900",
   "metadata": {},
   "outputs": [
    {
     "name": "stdout",
     "output_type": "stream",
     "text": [
      "{'name': 'apply_metric_groups',\n",
      " 'params': {},\n",
      " 'v1': {'data_set_path': 'socialnet7/socialnet7_dataset3_dumcat.csv'}}\n"
     ]
    }
   ],
   "source": [
    "pprint(chap6[\"list3\"])"
   ]
  },
  {
   "cell_type": "code",
   "execution_count": null,
   "id": "69c39d8e-767c-40d4-b5d6-7361ddda067a",
   "metadata": {},
   "outputs": [],
   "source": [
    "import pandas as pd\n",
    "import numpy as np\n",
    "import os\n",
    "\n",
    "def apply_metric_groups(data_set_path):\n",
    "\n",
    "    score_save_path=data_set_path.replace('.csv','_scores.csv')\n",
    "    assert os.path.isfile(score_save_path),'You must run listing 5.3 or 7.5 to save metric scores first'\n",
    "    score_data = pd.read_csv(score_save_path,index_col=[0,1])\n",
    "    data_2group = score_data.drop('is_churn',axis=1)\n",
    "\n",
    "    load_mat_path = data_set_path.replace('.csv', '_load_mat.csv')\n",
    "    assert os.path.isfile(load_mat_path),'You must run listing 6.4 to save a loading matrix first'\n",
    "    load_mat_df = pd.read_csv(load_mat_path, index_col=0)\n",
    "    load_mat_ndarray = load_mat_df.to_numpy()\n",
    "\n",
    "    # Make sure the data is in the same column order as the rows of the loading matrix\n",
    "    ndarray_2group = data_2group[load_mat_df.index.values].to_numpy()\n",
    "    grouped_ndarray = np.matmul(ndarray_2group, load_mat_ndarray)\n",
    "\n",
    "    churn_data_grouped = pd.DataFrame(grouped_ndarray,columns=load_mat_df.columns.values, index=score_data.index)\n",
    "\n",
    "    churn_data_grouped['is_churn'] = score_data['is_churn']\n",
    "\n",
    "    save_path = data_set_path.replace('.csv', '_groupscore.csv')\n",
    "    churn_data_grouped.to_csv(save_path,header=True)\n",
    "    print('Saved grouped data  to ' + save"
   ]
  },
  {
   "cell_type": "code",
   "execution_count": null,
   "id": "2b10764c-2980-4c8e-8d2b-de1a51d7fc8f",
   "metadata": {},
   "outputs": [],
   "source": []
  },
  {
   "cell_type": "code",
   "execution_count": null,
   "id": "042b5527-4316-488d-876b-2aefd4fb78a4",
   "metadata": {},
   "outputs": [],
   "source": []
  },
  {
   "cell_type": "code",
   "execution_count": null,
   "id": "26ac93f4-d68a-4344-9f82-270acb67ea76",
   "metadata": {},
   "outputs": [],
   "source": []
  }
 ],
 "metadata": {
  "kernelspec": {
   "display_name": "Python 3 (ipykernel)",
   "language": "python",
   "name": "python3"
  },
  "language_info": {
   "codemirror_mode": {
    "name": "ipython",
    "version": 3
   },
   "file_extension": ".py",
   "mimetype": "text/x-python",
   "name": "python",
   "nbconvert_exporter": "python",
   "pygments_lexer": "ipython3",
   "version": "3.8.16"
  }
 },
 "nbformat": 4,
 "nbformat_minor": 5
}
