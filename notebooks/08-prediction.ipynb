{
 "cells": [
  {
   "cell_type": "markdown",
   "id": "ae513752-e614-4db3-8add-f743dc881826",
   "metadata": {
    "tags": []
   },
   "source": [
    "# 07 Segmenting customers with advanced metrics"
   ]
  },
  {
   "cell_type": "code",
   "execution_count": 1,
   "id": "cfcdf370-9ce3-4e1e-bb5f-f9d33114f649",
   "metadata": {},
   "outputs": [],
   "source": [
    "import json\n",
    "import sqlalchemy\n",
    "import pandas as pd\n",
    "\n",
    "from pprint import pprint"
   ]
  },
  {
   "cell_type": "code",
   "execution_count": 2,
   "id": "278be3f7-ab37-4e17-9359-f921b6a4b8db",
   "metadata": {},
   "outputs": [
    {
     "data": {
      "text/html": [
       "<div>\n",
       "<style scoped>\n",
       "    .dataframe tbody tr th:only-of-type {\n",
       "        vertical-align: middle;\n",
       "    }\n",
       "\n",
       "    .dataframe tbody tr th {\n",
       "        vertical-align: top;\n",
       "    }\n",
       "\n",
       "    .dataframe thead th {\n",
       "        text-align: right;\n",
       "    }\n",
       "</style>\n",
       "<table border=\"1\" class=\"dataframe\">\n",
       "  <thead>\n",
       "    <tr style=\"text-align: right;\">\n",
       "      <th></th>\n",
       "      <th>table_catalog</th>\n",
       "      <th>table_schema</th>\n",
       "      <th>table_name</th>\n",
       "      <th>table_type</th>\n",
       "      <th>self_referencing_column_name</th>\n",
       "      <th>reference_generation</th>\n",
       "      <th>user_defined_type_catalog</th>\n",
       "      <th>user_defined_type_schema</th>\n",
       "      <th>user_defined_type_name</th>\n",
       "      <th>is_insertable_into</th>\n",
       "      <th>is_typed</th>\n",
       "      <th>commit_action</th>\n",
       "    </tr>\n",
       "  </thead>\n",
       "  <tbody>\n",
       "    <tr>\n",
       "      <th>0</th>\n",
       "      <td>churn</td>\n",
       "      <td>socialnet7</td>\n",
       "      <td>active_period</td>\n",
       "      <td>BASE TABLE</td>\n",
       "      <td>None</td>\n",
       "      <td>None</td>\n",
       "      <td>None</td>\n",
       "      <td>None</td>\n",
       "      <td>None</td>\n",
       "      <td>YES</td>\n",
       "      <td>NO</td>\n",
       "      <td>None</td>\n",
       "    </tr>\n",
       "    <tr>\n",
       "      <th>1</th>\n",
       "      <td>churn</td>\n",
       "      <td>socialnet7</td>\n",
       "      <td>event_type</td>\n",
       "      <td>BASE TABLE</td>\n",
       "      <td>None</td>\n",
       "      <td>None</td>\n",
       "      <td>None</td>\n",
       "      <td>None</td>\n",
       "      <td>None</td>\n",
       "      <td>YES</td>\n",
       "      <td>NO</td>\n",
       "      <td>None</td>\n",
       "    </tr>\n",
       "    <tr>\n",
       "      <th>2</th>\n",
       "      <td>churn</td>\n",
       "      <td>socialnet7</td>\n",
       "      <td>metric_name</td>\n",
       "      <td>BASE TABLE</td>\n",
       "      <td>None</td>\n",
       "      <td>None</td>\n",
       "      <td>None</td>\n",
       "      <td>None</td>\n",
       "      <td>None</td>\n",
       "      <td>YES</td>\n",
       "      <td>NO</td>\n",
       "      <td>None</td>\n",
       "    </tr>\n",
       "  </tbody>\n",
       "</table>\n",
       "</div>"
      ],
      "text/plain": [
       "  table_catalog table_schema     table_name  table_type  \\\n",
       "0         churn   socialnet7  active_period  BASE TABLE   \n",
       "1         churn   socialnet7     event_type  BASE TABLE   \n",
       "2         churn   socialnet7    metric_name  BASE TABLE   \n",
       "\n",
       "  self_referencing_column_name reference_generation user_defined_type_catalog  \\\n",
       "0                         None                 None                      None   \n",
       "1                         None                 None                      None   \n",
       "2                         None                 None                      None   \n",
       "\n",
       "  user_defined_type_schema user_defined_type_name is_insertable_into is_typed  \\\n",
       "0                     None                   None                YES       NO   \n",
       "1                     None                   None                YES       NO   \n",
       "2                     None                   None                YES       NO   \n",
       "\n",
       "  commit_action  \n",
       "0          None  \n",
       "1          None  \n",
       "2          None  "
      ]
     },
     "execution_count": 2,
     "metadata": {},
     "output_type": "execute_result"
    }
   ],
   "source": [
    "# Make a sql connection with sqlalchmey\n",
    "conn_string = \"postgresql://postgres-db/churn?user=postgres&password=password\" \n",
    "engine = sqlalchemy.create_engine(\n",
    "    conn_string, connect_args={'options': '-csearch_path={}'.format(\"socialnet7,public\")}\n",
    ")\n",
    "conn = engine.connect()\n",
    "# conn.close()\n",
    "\n",
    "# Query with Pandas, e.g. list all tables\n",
    "tables = pd.read_sql_query(\"SELECT * FROM information_schema.tables;\", conn)\n",
    "tables.head(3)"
   ]
  },
  {
   "cell_type": "code",
   "execution_count": 3,
   "id": "ebb1327b-8450-46fa-92ef-a5ae4682905a",
   "metadata": {},
   "outputs": [],
   "source": [
    "import json \n",
    "from box import Box\n",
    "# !pip install python-box\n",
    "\n",
    "with open(\"/app/fightchurn/listings/conf/socialnet7_listings.json\", \"r\") as f: \n",
    "    # conf = json.loads(f.read())\n",
    "    conf = Box(json.loads(f.read()))\n",
    "\n",
    "chap8 = conf.chap8"
   ]
  },
  {
   "cell_type": "code",
   "execution_count": 9,
   "id": "bd1fad80-f04f-4f58-a50b-b322f9a3dc96",
   "metadata": {},
   "outputs": [],
   "source": [
    "import sys\n",
    "sys.path.append(\"/app\")\n",
    "\n",
    "from fightchurn.listings.chap5.listing_5_2_dataset_stats import dataset_stats\n",
    "from fightchurn.listings.chap7.listing_7_5_fat_tail_scores import fat_tail_scores\n",
    "from fightchurn.listings.chap6.listing_6_4_find_metric_groups import find_metric_groups\n",
    "from fightchurn.listings.chap6.listing_6_3_apply_metric_groups import apply_metric_groups\n",
    "from fightchurn.listings.chap6.listing_6_5_ordered_correlation_matrix import ordered_correlation_matrix"
   ]
  },
  {
   "cell_type": "code",
   "execution_count": 4,
   "id": "95b601bd-a246-4f5c-b475-2fbb035dd114",
   "metadata": {},
   "outputs": [
    {
     "name": "stdout",
     "output_type": "stream",
     "text": [
      "{'defaults': {'data_set_path': 'socialnet7/socialnet7_dataset2.csv',\n",
      "              'type': 'py'},\n",
      " 'list0': {'name': 'dataset2',\n",
      "           'params': {'%from_yyyy-mm-dd': '2020-03-01',\n",
      "                      '%metric_interval': '7 day',\n",
      "                      '%to_yyyy-mm-dd': '2020-05-10',\n",
      "                      'mode': 'save',\n",
      "                      'type': 'sql'}},\n",
      " 'list1': {'name': 'prepare_data',\n",
      "           'params': Box({'group_corr_thresh': 0.65}),\n",
      "           'v2': Box({'data_set_path': 'socialnet7/socialnet7_dataset.csv'}),\n",
      "           'v3': {'data_set_path': 'socialnet7/socialnet7_dataset3_nocat.csv'}},\n",
      " 'list2': {'name': 'logistic_regression',\n",
      "           'params': Box({}),\n",
      "           'v1': Box({'as_retention': False})},\n",
      " 'list3': {'name': 'dataset2_current',\n",
      "           'params': {'%metric_interval': '7 day',\n",
      "                      'mode': 'save',\n",
      "                      'type': 'sql'}},\n",
      " 'list4': Box({'name': 'rescore_metrics', 'params': {}}),\n",
      " 'list5': {'name': 'churn_forecast',\n",
      "           'params': Box({}),\n",
      "           'v1': Box({}),\n",
      "           'v2': {'data_set_path': 'socialnet7/socialnet7_dataset3.csv',\n",
      "                  'model_name': 'logreg_model_c0.040'}},\n",
      " 'list6': Box({'name': 'rescore_metrics', 'params': {}})}\n"
     ]
    }
   ],
   "source": [
    "pprint(chap8)"
   ]
  },
  {
   "cell_type": "code",
   "execution_count": null,
   "id": "cdc788f8-ca15-4d3c-965f-04936f106f33",
   "metadata": {},
   "outputs": [],
   "source": []
  },
  {
   "cell_type": "markdown",
   "id": "8b913796-60fc-40ed-9bed-5512507cb1a4",
   "metadata": {
    "tags": []
   },
   "source": [
    "## Dependent Data"
   ]
  },
  {
   "cell_type": "code",
   "execution_count": 4,
   "id": "def5940c-2b37-4f1d-8722-7ca438dd6543",
   "metadata": {},
   "outputs": [
    {
     "data": {
      "text/html": [
       "<div>\n",
       "<style scoped>\n",
       "    .dataframe tbody tr th:only-of-type {\n",
       "        vertical-align: middle;\n",
       "    }\n",
       "\n",
       "    .dataframe tbody tr th {\n",
       "        vertical-align: top;\n",
       "    }\n",
       "\n",
       "    .dataframe thead th {\n",
       "        text-align: right;\n",
       "    }\n",
       "</style>\n",
       "<table border=\"1\" class=\"dataframe\">\n",
       "  <thead>\n",
       "    <tr style=\"text-align: right;\">\n",
       "      <th></th>\n",
       "      <th>metric_name_id</th>\n",
       "      <th>metric_name</th>\n",
       "    </tr>\n",
       "  </thead>\n",
       "  <tbody>\n",
       "    <tr>\n",
       "      <th>4</th>\n",
       "      <td>4</td>\n",
       "      <td>dislike_per_month</td>\n",
       "    </tr>\n",
       "    <tr>\n",
       "      <th>5</th>\n",
       "      <td>5</td>\n",
       "      <td>unfriend_per_month</td>\n",
       "    </tr>\n",
       "    <tr>\n",
       "      <th>6</th>\n",
       "      <td>6</td>\n",
       "      <td>message_per_month</td>\n",
       "    </tr>\n",
       "    <tr>\n",
       "      <th>7</th>\n",
       "      <td>7</td>\n",
       "      <td>reply_per_month</td>\n",
       "    </tr>\n",
       "    <tr>\n",
       "      <th>8</th>\n",
       "      <td>8</td>\n",
       "      <td>account_tenure</td>\n",
       "    </tr>\n",
       "  </tbody>\n",
       "</table>\n",
       "</div>"
      ],
      "text/plain": [
       "   metric_name_id         metric_name\n",
       "4               4   dislike_per_month\n",
       "5               5  unfriend_per_month\n",
       "6               6   message_per_month\n",
       "7               7     reply_per_month\n",
       "8               8      account_tenure"
      ]
     },
     "execution_count": 4,
     "metadata": {},
     "output_type": "execute_result"
    }
   ],
   "source": [
    "tmp = pd.read_sql_query(\"SELECT * FROM metric_name ORDER BY metric_name_id\", conn)\n",
    "tmp.tail()"
   ]
  },
  {
   "cell_type": "code",
   "execution_count": 5,
   "id": "d2f99399-1995-47e6-a915-6706e0d84aa0",
   "metadata": {},
   "outputs": [
    {
     "data": {
      "text/html": [
       "<div>\n",
       "<style scoped>\n",
       "    .dataframe tbody tr th:only-of-type {\n",
       "        vertical-align: middle;\n",
       "    }\n",
       "\n",
       "    .dataframe tbody tr th {\n",
       "        vertical-align: top;\n",
       "    }\n",
       "\n",
       "    .dataframe thead th {\n",
       "        text-align: right;\n",
       "    }\n",
       "</style>\n",
       "<table border=\"1\" class=\"dataframe\">\n",
       "  <thead>\n",
       "    <tr style=\"text-align: right;\">\n",
       "      <th></th>\n",
       "      <th>account_id</th>\n",
       "      <th>metric_time</th>\n",
       "      <th>metric_name_id</th>\n",
       "      <th>metric_value</th>\n",
       "    </tr>\n",
       "  </thead>\n",
       "  <tbody>\n",
       "    <tr>\n",
       "      <th>0</th>\n",
       "      <td>8371</td>\n",
       "      <td>2020-02-09</td>\n",
       "      <td>4</td>\n",
       "      <td>10.0</td>\n",
       "    </tr>\n",
       "    <tr>\n",
       "      <th>1</th>\n",
       "      <td>10505</td>\n",
       "      <td>2020-05-10</td>\n",
       "      <td>8</td>\n",
       "      <td>98.0</td>\n",
       "    </tr>\n",
       "    <tr>\n",
       "      <th>2</th>\n",
       "      <td>10050</td>\n",
       "      <td>2020-03-08</td>\n",
       "      <td>3</td>\n",
       "      <td>5.0</td>\n",
       "    </tr>\n",
       "    <tr>\n",
       "      <th>3</th>\n",
       "      <td>6899</td>\n",
       "      <td>2020-03-22</td>\n",
       "      <td>8</td>\n",
       "      <td>77.0</td>\n",
       "    </tr>\n",
       "    <tr>\n",
       "      <th>4</th>\n",
       "      <td>1995</td>\n",
       "      <td>2020-03-01</td>\n",
       "      <td>4</td>\n",
       "      <td>3.0</td>\n",
       "    </tr>\n",
       "  </tbody>\n",
       "</table>\n",
       "</div>"
      ],
      "text/plain": [
       "   account_id metric_time  metric_name_id  metric_value\n",
       "0        8371  2020-02-09               4          10.0\n",
       "1       10505  2020-05-10               8          98.0\n",
       "2       10050  2020-03-08               3           5.0\n",
       "3        6899  2020-03-22               8          77.0\n",
       "4        1995  2020-03-01               4           3.0"
      ]
     },
     "execution_count": 5,
     "metadata": {},
     "output_type": "execute_result"
    }
   ],
   "source": [
    "tmp = pd.read_sql_query(\"SELECT * FROM metric ORDER BY RANDOM() LIMIT 10000\", conn)\n",
    "tmp.head()"
   ]
  },
  {
   "cell_type": "code",
   "execution_count": 116,
   "id": "bb3f801d-fb6b-487b-b689-b227161dc5ef",
   "metadata": {},
   "outputs": [
    {
     "data": {
      "text/html": [
       "<div>\n",
       "<style scoped>\n",
       "    .dataframe tbody tr th:only-of-type {\n",
       "        vertical-align: middle;\n",
       "    }\n",
       "\n",
       "    .dataframe tbody tr th {\n",
       "        vertical-align: top;\n",
       "    }\n",
       "\n",
       "    .dataframe thead th {\n",
       "        text-align: right;\n",
       "    }\n",
       "</style>\n",
       "<table border=\"1\" class=\"dataframe\">\n",
       "  <thead>\n",
       "    <tr style=\"text-align: right;\">\n",
       "      <th></th>\n",
       "      <th>account_id</th>\n",
       "      <th>event_time</th>\n",
       "      <th>event_type_id</th>\n",
       "    </tr>\n",
       "  </thead>\n",
       "  <tbody>\n",
       "    <tr>\n",
       "      <th>0</th>\n",
       "      <td>1923</td>\n",
       "      <td>2020-02-14 12:09:11</td>\n",
       "      <td>2</td>\n",
       "    </tr>\n",
       "    <tr>\n",
       "      <th>1</th>\n",
       "      <td>883</td>\n",
       "      <td>2020-01-23 02:04:19</td>\n",
       "      <td>4</td>\n",
       "    </tr>\n",
       "    <tr>\n",
       "      <th>2</th>\n",
       "      <td>315</td>\n",
       "      <td>2020-04-09 06:33:00</td>\n",
       "      <td>2</td>\n",
       "    </tr>\n",
       "    <tr>\n",
       "      <th>3</th>\n",
       "      <td>6513</td>\n",
       "      <td>2020-05-02 06:10:41</td>\n",
       "      <td>3</td>\n",
       "    </tr>\n",
       "    <tr>\n",
       "      <th>4</th>\n",
       "      <td>6966</td>\n",
       "      <td>2020-05-27 22:31:57</td>\n",
       "      <td>0</td>\n",
       "    </tr>\n",
       "  </tbody>\n",
       "</table>\n",
       "</div>"
      ],
      "text/plain": [
       "   account_id          event_time  event_type_id\n",
       "0        1923 2020-02-14 12:09:11              2\n",
       "1         883 2020-01-23 02:04:19              4\n",
       "2         315 2020-04-09 06:33:00              2\n",
       "3        6513 2020-05-02 06:10:41              3\n",
       "4        6966 2020-05-27 22:31:57              0"
      ]
     },
     "execution_count": 116,
     "metadata": {},
     "output_type": "execute_result"
    }
   ],
   "source": [
    "tmp = pd.read_sql_query(\"SELECT * FROM event ORDER BY RANDOM() LIMIT 10000\", conn)\n",
    "tmp.head()"
   ]
  },
  {
   "cell_type": "code",
   "execution_count": null,
   "id": "804938c8-0ba3-4c77-88ed-7d910ced8a50",
   "metadata": {},
   "outputs": [],
   "source": []
  },
  {
   "cell_type": "markdown",
   "id": "10d0eaf9-d66b-47a5-8ed8-ded5c83a6798",
   "metadata": {
    "tags": []
   },
   "source": [
    "## Metric Queries"
   ]
  },
  {
   "cell_type": "code",
   "execution_count": 10,
   "id": "ed8a46ec-461c-4c05-920f-fcc5e3fda126",
   "metadata": {},
   "outputs": [
    {
     "data": {
      "text/plain": [
       "('2020-03-01', '2020-05-10')"
      ]
     },
     "execution_count": 10,
     "metadata": {},
     "output_type": "execute_result"
    }
   ],
   "source": [
    "from_yyyy_mm_dd = chap7.defaults[\"%from_yyyy-mm-dd\"] \n",
    "to_yyyy_mm_dd = chap7.defaults[\"%to_yyyy-mm-dd\"]\n",
    "from_yyyy_mm_dd, to_yyyy_mm_dd "
   ]
  },
  {
   "cell_type": "code",
   "execution_count": null,
   "id": "24c39d09-6035-4b80-902b-060f041eb12a",
   "metadata": {},
   "outputs": [],
   "source": []
  },
  {
   "cell_type": "markdown",
   "id": "76c7e10a-4318-441d-b8c9-893a62308f65",
   "metadata": {},
   "source": [
    "### Listing 7.1 Ratio Metric"
   ]
  },
  {
   "cell_type": "code",
   "execution_count": 6,
   "id": "694b55d9-60df-4413-9a7b-e0d1a1d4152a",
   "metadata": {},
   "outputs": [
    {
     "data": {
      "text/plain": [
       "[('adview_per_month', 'post_per_month'),\n",
       " ('reply_per_month', 'message_per_month'),\n",
       " ('like_per_month', None),\n",
       " ('post_per_month', 'message_per_month'),\n",
       " ('unfriend_per_month', 'newfriend_per_month'),\n",
       " ('dislike_per_month', 'total_opinions'),\n",
       " ('unfriend_28day_avg_84day_obs_scaled', 'newfriend_per_month')]"
      ]
     },
     "execution_count": 6,
     "metadata": {},
     "output_type": "execute_result"
    }
   ],
   "source": [
    "tmp = chap7.list1.insert\n",
    "# pprint(tmp)\n",
    "\n",
    "new_metric_ids = [tmp.params[\"%new_metric_id\"], *[tmp[f\"v{i}\"][\"%new_metric_id\"] for i in range(2,8)]] \n",
    "new_metric_names = [tmp.params[\"%new_metric_name\"], *[tmp[f\"v{i}\"][\"%new_metric_name\"] for i in range(2,8)]] \n",
    "\n",
    "# pair of (numerator, denominator)\n",
    "ratio_metric_pairs = [\n",
    "    (tmp.params[\"%num_metric\"], tmp.params[\"%den_metric\"]),\n",
    "    *[(tmp[f\"v{i}\"][\"%num_metric\"], tmp[f\"v{i}\"].get(\"%den_metric\")) for i in range(2,8)]\n",
    "] \n",
    "ratio_metric_pairs"
   ]
  },
  {
   "cell_type": "code",
   "execution_count": 15,
   "id": "1604e23e-f970-4920-85bd-dc8a94422fbf",
   "metadata": {},
   "outputs": [
    {
     "data": {
      "text/plain": [
       "('adview_per_month', 'post_per_month', 21, 'adviw_per_post')"
      ]
     },
     "execution_count": 15,
     "metadata": {},
     "output_type": "execute_result"
    }
   ],
   "source": [
    "num_metric = chap7.list1.insert.params[\"%num_metric\"]\n",
    "den_metric = chap7.list1.insert.params[\"%den_metric\"]\n",
    "new_metric_id = chap7.list1.insert.params[\"%new_metric_id\"]\n",
    "new_metric_name = chap7.list1.insert.params[\"%new_metric_name\"]\n",
    "\n",
    "num_metric, den_metric, new_metric_id, new_metric_name"
   ]
  },
  {
   "cell_type": "code",
   "execution_count": 26,
   "id": "5dda3168-8971-47b3-83e2-cdc141bfe151",
   "metadata": {},
   "outputs": [
    {
     "data": {
      "text/html": [
       "<div>\n",
       "<style scoped>\n",
       "    .dataframe tbody tr th:only-of-type {\n",
       "        vertical-align: middle;\n",
       "    }\n",
       "\n",
       "    .dataframe tbody tr th {\n",
       "        vertical-align: top;\n",
       "    }\n",
       "\n",
       "    .dataframe thead th {\n",
       "        text-align: right;\n",
       "    }\n",
       "</style>\n",
       "<table border=\"1\" class=\"dataframe\">\n",
       "  <thead>\n",
       "    <tr style=\"text-align: right;\">\n",
       "      <th></th>\n",
       "      <th>account_id</th>\n",
       "      <th>metric_time</th>\n",
       "      <th>metric_name_id</th>\n",
       "      <th>metric_value</th>\n",
       "      <th>num_value</th>\n",
       "      <th>den_value</th>\n",
       "    </tr>\n",
       "  </thead>\n",
       "  <tbody>\n",
       "    <tr>\n",
       "      <th>0</th>\n",
       "      <td>5830</td>\n",
       "      <td>2020-05-03</td>\n",
       "      <td>21</td>\n",
       "      <td>3.000000</td>\n",
       "      <td>3.0</td>\n",
       "      <td>1.0</td>\n",
       "    </tr>\n",
       "    <tr>\n",
       "      <th>1</th>\n",
       "      <td>5573</td>\n",
       "      <td>2020-03-08</td>\n",
       "      <td>21</td>\n",
       "      <td>2.250000</td>\n",
       "      <td>9.0</td>\n",
       "      <td>4.0</td>\n",
       "    </tr>\n",
       "    <tr>\n",
       "      <th>2</th>\n",
       "      <td>11421</td>\n",
       "      <td>2020-04-12</td>\n",
       "      <td>21</td>\n",
       "      <td>0.863636</td>\n",
       "      <td>19.0</td>\n",
       "      <td>22.0</td>\n",
       "    </tr>\n",
       "    <tr>\n",
       "      <th>3</th>\n",
       "      <td>3278</td>\n",
       "      <td>2020-04-12</td>\n",
       "      <td>21</td>\n",
       "      <td>0.902857</td>\n",
       "      <td>158.0</td>\n",
       "      <td>175.0</td>\n",
       "    </tr>\n",
       "    <tr>\n",
       "      <th>4</th>\n",
       "      <td>2117</td>\n",
       "      <td>2020-03-29</td>\n",
       "      <td>21</td>\n",
       "      <td>0.000000</td>\n",
       "      <td>NaN</td>\n",
       "      <td>1.0</td>\n",
       "    </tr>\n",
       "  </tbody>\n",
       "</table>\n",
       "</div>"
      ],
      "text/plain": [
       "   account_id metric_time  metric_name_id  metric_value  num_value  den_value\n",
       "0        5830  2020-05-03              21      3.000000        3.0        1.0\n",
       "1        5573  2020-03-08              21      2.250000        9.0        4.0\n",
       "2       11421  2020-04-12              21      0.863636       19.0       22.0\n",
       "3        3278  2020-04-12              21      0.902857      158.0      175.0\n",
       "4        2117  2020-03-29              21      0.000000        NaN        1.0"
      ]
     },
     "execution_count": 26,
     "metadata": {},
     "output_type": "execute_result"
    }
   ],
   "source": [
    "# insert_7_1_ratio_metric\n",
    "\n",
    "query = f\"\"\"\\\n",
    "INSERT into metric_name values ({new_metric_id}, concat('{new_metric_name}'))\n",
    "ON CONFLICT DO NOTHING;\n",
    "\n",
    "-- numerator metric\n",
    "WITH num_metric AS (\n",
    "            SELECT\n",
    "                    account_id,\n",
    "                    metric_time,\n",
    "                    metric_value AS num_value\n",
    "                FROM\n",
    "                    metric AS m\n",
    "    INNER JOIN metric_name AS n\n",
    "                     ON n.metric_name_id = m.metric_name_id\n",
    "                  AND n.metric_name = '{num_metric}'\n",
    "                  AND metric_time BETWEEN '{from_yyyy_mm_dd}' AND '{to_yyyy_mm_dd}'\n",
    "), -- denominator metric\n",
    "den_metric AS (\n",
    "            SELECT\n",
    "                    account_id,\n",
    "                    metric_time,\n",
    "                    metric_value AS den_value\n",
    "              FROM\n",
    "                    metric AS m\n",
    "    INNER JOIN metric_name AS n\n",
    "                    ON n.metric_name_id=m.metric_name_id\n",
    "               AND n.metric_name = '{den_metric}'\n",
    "                 AND metric_time BETWEEN '{from_yyyy_mm_dd}' AND '{to_yyyy_mm_dd}'\n",
    ")\n",
    "\n",
    "-- INSERT INTO metric (account_id, metric_time, metric_name_id, metric_value)\n",
    "\n",
    "         SELECT\n",
    "             d.account_id,\n",
    "             d.metric_time,\n",
    "             {new_metric_id} AS metric_name_id,\n",
    "      CASE WHEN den_value > 0\n",
    "             THEN COALESCE(num_value,0.0)/den_value\n",
    "             ELSE 0\n",
    "              END AS metric_value,\n",
    "             n.num_value, \n",
    "             d.den_value\n",
    "           FROM den_metric AS d\n",
    "LEFT OUTER JOIN num_metric AS n\n",
    "             ON n.account_id = d.account_id\n",
    "            AND n.metric_time = d.metric_time\n",
    "\n",
    "-- ON CONFLICT DO NOTHING;\n",
    "\"\"\"\n",
    "res = pd.read_sql_query(query, conn)\n",
    "res.head()"
   ]
  },
  {
   "cell_type": "code",
   "execution_count": 28,
   "id": "e28a801c-4ecf-4d0a-a340-5f8e301dfbe2",
   "metadata": {},
   "outputs": [
    {
     "data": {
      "text/html": [
       "<div>\n",
       "<style scoped>\n",
       "    .dataframe tbody tr th:only-of-type {\n",
       "        vertical-align: middle;\n",
       "    }\n",
       "\n",
       "    .dataframe tbody tr th {\n",
       "        vertical-align: top;\n",
       "    }\n",
       "\n",
       "    .dataframe thead th {\n",
       "        text-align: right;\n",
       "    }\n",
       "</style>\n",
       "<table border=\"1\" class=\"dataframe\">\n",
       "  <thead>\n",
       "    <tr style=\"text-align: right;\">\n",
       "      <th></th>\n",
       "      <th>account_id</th>\n",
       "      <th>metric_time</th>\n",
       "      <th>metric_name_id</th>\n",
       "      <th>metric_value</th>\n",
       "      <th>num_value</th>\n",
       "      <th>den_value</th>\n",
       "    </tr>\n",
       "  </thead>\n",
       "  <tbody>\n",
       "    <tr>\n",
       "      <th>4</th>\n",
       "      <td>2117</td>\n",
       "      <td>2020-03-29</td>\n",
       "      <td>21</td>\n",
       "      <td>0.0</td>\n",
       "      <td>NaN</td>\n",
       "      <td>1.0</td>\n",
       "    </tr>\n",
       "    <tr>\n",
       "      <th>46</th>\n",
       "      <td>7810</td>\n",
       "      <td>2020-04-05</td>\n",
       "      <td>21</td>\n",
       "      <td>0.0</td>\n",
       "      <td>NaN</td>\n",
       "      <td>1.0</td>\n",
       "    </tr>\n",
       "    <tr>\n",
       "      <th>107</th>\n",
       "      <td>2928</td>\n",
       "      <td>2020-03-01</td>\n",
       "      <td>21</td>\n",
       "      <td>0.0</td>\n",
       "      <td>NaN</td>\n",
       "      <td>7.0</td>\n",
       "    </tr>\n",
       "    <tr>\n",
       "      <th>194</th>\n",
       "      <td>12652</td>\n",
       "      <td>2020-04-12</td>\n",
       "      <td>21</td>\n",
       "      <td>0.0</td>\n",
       "      <td>NaN</td>\n",
       "      <td>1.0</td>\n",
       "    </tr>\n",
       "    <tr>\n",
       "      <th>305</th>\n",
       "      <td>11738</td>\n",
       "      <td>2020-03-08</td>\n",
       "      <td>21</td>\n",
       "      <td>0.0</td>\n",
       "      <td>NaN</td>\n",
       "      <td>1.0</td>\n",
       "    </tr>\n",
       "  </tbody>\n",
       "</table>\n",
       "</div>"
      ],
      "text/plain": [
       "     account_id metric_time  metric_name_id  metric_value  num_value  \\\n",
       "4          2117  2020-03-29              21           0.0        NaN   \n",
       "46         7810  2020-04-05              21           0.0        NaN   \n",
       "107        2928  2020-03-01              21           0.0        NaN   \n",
       "194       12652  2020-04-12              21           0.0        NaN   \n",
       "305       11738  2020-03-08              21           0.0        NaN   \n",
       "\n",
       "     den_value  \n",
       "4          1.0  \n",
       "46         1.0  \n",
       "107        7.0  \n",
       "194        1.0  \n",
       "305        1.0  "
      ]
     },
     "execution_count": 28,
     "metadata": {},
     "output_type": "execute_result"
    }
   ],
   "source": [
    "res[res.num_value.isna()].head()"
   ]
  },
  {
   "cell_type": "code",
   "execution_count": 29,
   "id": "9d554437-b039-4fa9-9c3c-09ce090d806f",
   "metadata": {},
   "outputs": [
    {
     "data": {
      "text/html": [
       "<div>\n",
       "<style scoped>\n",
       "    .dataframe tbody tr th:only-of-type {\n",
       "        vertical-align: middle;\n",
       "    }\n",
       "\n",
       "    .dataframe tbody tr th {\n",
       "        vertical-align: top;\n",
       "    }\n",
       "\n",
       "    .dataframe thead th {\n",
       "        text-align: right;\n",
       "    }\n",
       "</style>\n",
       "<table border=\"1\" class=\"dataframe\">\n",
       "  <thead>\n",
       "    <tr style=\"text-align: right;\">\n",
       "      <th></th>\n",
       "      <th>account_id</th>\n",
       "      <th>metric_time</th>\n",
       "      <th>metric_name_id</th>\n",
       "      <th>metric_value</th>\n",
       "      <th>num_value</th>\n",
       "      <th>den_value</th>\n",
       "    </tr>\n",
       "  </thead>\n",
       "  <tbody>\n",
       "  </tbody>\n",
       "</table>\n",
       "</div>"
      ],
      "text/plain": [
       "Empty DataFrame\n",
       "Columns: [account_id, metric_time, metric_name_id, metric_value, num_value, den_value]\n",
       "Index: []"
      ]
     },
     "execution_count": 29,
     "metadata": {},
     "output_type": "execute_result"
    }
   ],
   "source": [
    "res[res.den_value.isna()].head()"
   ]
  },
  {
   "cell_type": "markdown",
   "id": "e9cf560e-3547-4d2c-acf2-2d0c7efb7983",
   "metadata": {},
   "source": [
    "**Ratio Metrics** are just taking one metric then divided by another metric\n",
    "\n",
    "- if the numerator is NaN, then assgin 0 to it\n",
    "- this example shows `adview_per_month` divided by `post_per_month`, which makes some business sense\n",
    "  - if the value is greater, that means the observation has viewed more ads, relative to post read"
   ]
  },
  {
   "cell_type": "code",
   "execution_count": null,
   "id": "df8c2fcc-a710-424b-968a-14213beea57a",
   "metadata": {},
   "outputs": [],
   "source": []
  },
  {
   "cell_type": "code",
   "execution_count": null,
   "id": "bd3e1da7-0fd5-4bb0-b5bb-5a6a33e9f3b1",
   "metadata": {},
   "outputs": [],
   "source": []
  },
  {
   "cell_type": "markdown",
   "id": "540edcc1-1165-4d7f-bb1c-62b7ca112903",
   "metadata": {},
   "source": [
    "### Litsting 7.3 Total Metrics"
   ]
  },
  {
   "cell_type": "code",
   "execution_count": 48,
   "id": "4a085067-c4b9-420a-9870-874c8ca811de",
   "metadata": {},
   "outputs": [
    {
     "data": {
      "text/plain": [
       "(\" 'like_per_month', 'dislike_per_month' \", 26, 'total_opinions')"
      ]
     },
     "execution_count": 48,
     "metadata": {},
     "output_type": "execute_result"
    }
   ],
   "source": [
    "metric_list = chap7.list3.params[\"%metric_list\"]\n",
    "\n",
    "metric_list = chap7.list3.insert.params[\"%metric_list\"]\n",
    "new_metric_id = chap7.list3.insert.params[\"%new_metric_id\"]\n",
    "new_metric_name = chap7.list3.insert.params[\"%new_metric_name\"]\n",
    "metric_list, new_metric_id, new_metric_name"
   ]
  },
  {
   "cell_type": "code",
   "execution_count": 52,
   "id": "7e2255f9-a408-4ea1-834f-48c769439e99",
   "metadata": {},
   "outputs": [
    {
     "data": {
      "text/html": [
       "<div>\n",
       "<style scoped>\n",
       "    .dataframe tbody tr th:only-of-type {\n",
       "        vertical-align: middle;\n",
       "    }\n",
       "\n",
       "    .dataframe tbody tr th {\n",
       "        vertical-align: top;\n",
       "    }\n",
       "\n",
       "    .dataframe thead th {\n",
       "        text-align: right;\n",
       "    }\n",
       "</style>\n",
       "<table border=\"1\" class=\"dataframe\">\n",
       "  <thead>\n",
       "    <tr style=\"text-align: right;\">\n",
       "      <th></th>\n",
       "      <th>account_id</th>\n",
       "      <th>metric_time</th>\n",
       "      <th>metric_name_id</th>\n",
       "      <th>metric_total</th>\n",
       "      <th>metric_values</th>\n",
       "    </tr>\n",
       "  </thead>\n",
       "  <tbody>\n",
       "    <tr>\n",
       "      <th>0</th>\n",
       "      <td>1</td>\n",
       "      <td>2020-03-01</td>\n",
       "      <td>26</td>\n",
       "      <td>4.0</td>\n",
       "      <td>[1.0, 3.0]</td>\n",
       "    </tr>\n",
       "    <tr>\n",
       "      <th>1</th>\n",
       "      <td>2</td>\n",
       "      <td>2020-03-01</td>\n",
       "      <td>26</td>\n",
       "      <td>169.0</td>\n",
       "      <td>[108.0, 61.0]</td>\n",
       "    </tr>\n",
       "    <tr>\n",
       "      <th>2</th>\n",
       "      <td>3</td>\n",
       "      <td>2020-03-01</td>\n",
       "      <td>26</td>\n",
       "      <td>2.0</td>\n",
       "      <td>[2.0]</td>\n",
       "    </tr>\n",
       "    <tr>\n",
       "      <th>3</th>\n",
       "      <td>4</td>\n",
       "      <td>2020-03-01</td>\n",
       "      <td>26</td>\n",
       "      <td>42.0</td>\n",
       "      <td>[37.0, 5.0]</td>\n",
       "    </tr>\n",
       "    <tr>\n",
       "      <th>4</th>\n",
       "      <td>6</td>\n",
       "      <td>2020-03-01</td>\n",
       "      <td>26</td>\n",
       "      <td>38.0</td>\n",
       "      <td>[12.0, 26.0]</td>\n",
       "    </tr>\n",
       "  </tbody>\n",
       "</table>\n",
       "</div>"
      ],
      "text/plain": [
       "   account_id metric_time  metric_name_id  metric_total  metric_values\n",
       "0           1  2020-03-01              26           4.0     [1.0, 3.0]\n",
       "1           2  2020-03-01              26         169.0  [108.0, 61.0]\n",
       "2           3  2020-03-01              26           2.0          [2.0]\n",
       "3           4  2020-03-01              26          42.0    [37.0, 5.0]\n",
       "4           6  2020-03-01              26          38.0   [12.0, 26.0]"
      ]
     },
     "execution_count": 52,
     "metadata": {},
     "output_type": "execute_result"
    }
   ],
   "source": [
    "# insert_7_3_total_metric\n",
    "# sum all values of metrics in the given list, forming a new metric\n",
    "# e.g. likes_per_month and dislike_per_month\n",
    "\n",
    "query = f\"\"\"\\\n",
    "\n",
    "INSERT into metric_name values ({new_metric_id},'{new_metric_name}')\n",
    "ON CONFLICT DO NOTHING;\n",
    "\n",
    "-- INSERT INTO metric (account_id,metric_time,metric_name_id,metric_value)\n",
    "\n",
    "    SELECT \n",
    "        account_id, \n",
    "        metric_time, \n",
    "        {new_metric_id} AS metric_name_id, \n",
    "        SUM(metric_value) AS metric_total,\n",
    "        ARRAY_AGG(metric_value) AS metric_values\n",
    "      FROM \n",
    "        metric AS m \n",
    "INNER JOIN \n",
    "        metric_name AS n \n",
    "        ON n.metric_name_id = m.metric_name_id\n",
    "       AND n.metric_name IN ({metric_list})\n",
    "     WHERE metric_time BETWEEN '{from_yyyy_mm_dd}' AND '{to_yyyy_mm_dd}'\n",
    "  GROUP BY metric_time, account_id\n",
    "\n",
    "-- ON CONFLICT DO NOTHING;\n",
    "\"\"\"\n",
    "\n",
    "res = pd.read_sql_query(query, conn)\n",
    "res.head()"
   ]
  },
  {
   "cell_type": "markdown",
   "id": "688ec8d7-0baf-4e9b-af78-a5a78316640d",
   "metadata": {},
   "source": [
    "**Total Metrics** are suming values of multiple metrics in a given time periodo\n",
    "\n",
    "- this examples sums the values of like and dislike on each observation time for each account  \n",
    "- the metric is giving the information on \"observation's interactions on the products\""
   ]
  },
  {
   "cell_type": "code",
   "execution_count": null,
   "id": "6beb21f8-a66d-4007-a934-988e6717e12b",
   "metadata": {},
   "outputs": [],
   "source": []
  },
  {
   "cell_type": "code",
   "execution_count": null,
   "id": "2cfeb19d-b805-4b21-bce0-b50fc7e8be26",
   "metadata": {},
   "outputs": [],
   "source": []
  },
  {
   "cell_type": "code",
   "execution_count": null,
   "id": "c83ab4cb-d03e-474d-9af1-56b212421fa6",
   "metadata": {},
   "outputs": [],
   "source": []
  },
  {
   "cell_type": "markdown",
   "id": "b1e6a41c-e11f-48a7-80cb-f3de2d972a34",
   "metadata": {},
   "source": [
    "### Litsting 7.4 Percent Chnage Metrics"
   ]
  },
  {
   "cell_type": "code",
   "execution_count": 89,
   "id": "2b4779d7-9e72-4b51-9c1c-04c096be070f",
   "metadata": {},
   "outputs": [
    {
     "data": {
      "text/plain": [
       "('2020-03-01', '2020-05-10')"
      ]
     },
     "execution_count": 89,
     "metadata": {},
     "output_type": "execute_result"
    }
   ],
   "source": [
    "from_yyyy_mm_dd = chap7.defaults[\"%from_yyyy-mm-dd\"] \n",
    "to_yyyy_mm_dd = chap7.defaults[\"%to_yyyy-mm-dd\"]\n",
    "from_yyyy_mm_dd, to_yyyy_mm_dd "
   ]
  },
  {
   "cell_type": "code",
   "execution_count": 90,
   "id": "9ab52000-8ad9-4ff3-b72f-1b80a57fe119",
   "metadata": {},
   "outputs": [
    {
     "data": {
      "text/plain": [
       "(30, 'new_friends_pcnt_change', 'newfriend_per_month', 4)"
      ]
     },
     "execution_count": 90,
     "metadata": {},
     "output_type": "execute_result"
    }
   ],
   "source": [
    "new_metric_id = chap7.list4.insert.params[\"%new_metric_id\"]\n",
    "new_metric_name = chap7.list4.insert.params[\"%new_metric_name\"]\n",
    "metric2measure = chap7.list4.insert.params[\"%metric2measure\"]\n",
    "period_weeks = chap7.list4.insert.params[\"%period_weeks\"]\n",
    "\n",
    "new_metric_id, new_metric_name, metric2measure, period_weeks"
   ]
  },
  {
   "cell_type": "code",
   "execution_count": 79,
   "id": "32ccd194-73e2-4af3-8f2f-69b12c252e9f",
   "metadata": {},
   "outputs": [
    {
     "data": {
      "text/html": [
       "<div>\n",
       "<style scoped>\n",
       "    .dataframe tbody tr th:only-of-type {\n",
       "        vertical-align: middle;\n",
       "    }\n",
       "\n",
       "    .dataframe tbody tr th {\n",
       "        vertical-align: top;\n",
       "    }\n",
       "\n",
       "    .dataframe thead th {\n",
       "        text-align: right;\n",
       "    }\n",
       "</style>\n",
       "<table border=\"1\" class=\"dataframe\">\n",
       "  <thead>\n",
       "    <tr style=\"text-align: right;\">\n",
       "      <th></th>\n",
       "      <th>account_id</th>\n",
       "      <th>metric_time</th>\n",
       "      <th>metric_name_id</th>\n",
       "      <th>metric_value</th>\n",
       "      <th>start_value</th>\n",
       "      <th>end_value</th>\n",
       "    </tr>\n",
       "  </thead>\n",
       "  <tbody>\n",
       "    <tr>\n",
       "      <th>0</th>\n",
       "      <td>5651</td>\n",
       "      <td>2020-03-08</td>\n",
       "      <td>30</td>\n",
       "      <td>1.222222</td>\n",
       "      <td>9.0</td>\n",
       "      <td>20.0</td>\n",
       "    </tr>\n",
       "    <tr>\n",
       "      <th>1</th>\n",
       "      <td>8653</td>\n",
       "      <td>2020-03-08</td>\n",
       "      <td>30</td>\n",
       "      <td>2.000000</td>\n",
       "      <td>2.0</td>\n",
       "      <td>6.0</td>\n",
       "    </tr>\n",
       "    <tr>\n",
       "      <th>2</th>\n",
       "      <td>9346</td>\n",
       "      <td>2020-03-15</td>\n",
       "      <td>30</td>\n",
       "      <td>-0.333333</td>\n",
       "      <td>9.0</td>\n",
       "      <td>6.0</td>\n",
       "    </tr>\n",
       "    <tr>\n",
       "      <th>3</th>\n",
       "      <td>1834</td>\n",
       "      <td>2020-03-08</td>\n",
       "      <td>30</td>\n",
       "      <td>0.500000</td>\n",
       "      <td>2.0</td>\n",
       "      <td>3.0</td>\n",
       "    </tr>\n",
       "    <tr>\n",
       "      <th>4</th>\n",
       "      <td>5373</td>\n",
       "      <td>2020-03-01</td>\n",
       "      <td>30</td>\n",
       "      <td>4.500000</td>\n",
       "      <td>2.0</td>\n",
       "      <td>11.0</td>\n",
       "    </tr>\n",
       "  </tbody>\n",
       "</table>\n",
       "</div>"
      ],
      "text/plain": [
       "   account_id metric_time  metric_name_id  metric_value  start_value  \\\n",
       "0        5651  2020-03-08              30      1.222222          9.0   \n",
       "1        8653  2020-03-08              30      2.000000          2.0   \n",
       "2        9346  2020-03-15              30     -0.333333          9.0   \n",
       "3        1834  2020-03-08              30      0.500000          2.0   \n",
       "4        5373  2020-03-01              30      4.500000          2.0   \n",
       "\n",
       "   end_value  \n",
       "0       20.0  \n",
       "1        6.0  \n",
       "2        6.0  \n",
       "3        3.0  \n",
       "4       11.0  "
      ]
     },
     "execution_count": 79,
     "metadata": {},
     "output_type": "execute_result"
    }
   ],
   "source": [
    "# insert_7_4_percent_change_metric\n",
    "# caculcate the percentage change of a given metric to form a new metric\n",
    "# e.g. newfriend_per_month to new_friends_pct_change (comparing with previous period)\n",
    "\n",
    "query = f\"\"\"\\\n",
    "\n",
    "INSERT into metric_name values ({new_metric_id},'{new_metric_name}')\n",
    "ON CONFLICT DO NOTHING;\n",
    "\n",
    "WITH end_metric AS (\n",
    "    SELECT \n",
    "        account_id, \n",
    "        metric_time, \n",
    "        metric_value AS end_value\n",
    "      FROM metric AS m \n",
    "INNER JOIN metric_name AS n \n",
    "        ON n.metric_name_id = m.metric_name_id\n",
    "       AND n.metric_name = '{metric2measure}'\n",
    "       AND metric_time BETWEEN '{from_yyyy_mm_dd}' AND '{to_yyyy_mm_dd}'\n",
    "), \n",
    "start_metric AS (\n",
    "    SELECT \n",
    "        account_id, \n",
    "        metric_time, \n",
    "        metric_value AS start_value\n",
    "      FROM metric AS m \n",
    "INNER JOIN metric_name AS n \n",
    "        ON n.metric_name_id = m.metric_name_id\n",
    "       AND n.metric_name = '{metric2measure}'\n",
    "       AND metric_time \n",
    "           BETWEEN ('{from_yyyy_mm_dd}'::timestamp - interval '{period_weeks} week')\n",
    "               AND ('{to_yyyy_mm_dd}'::timestamp - interval '{period_weeks} week')\n",
    ")\n",
    "\n",
    "-- INSERT INTO metric (account_id,metric_time,metric_name_id,metric_value)\n",
    "\n",
    "          SELECT \n",
    "              s.account_id AS account_id,  \n",
    "              s.metric_time + interval '{period_weeks} week' AS metric_time,  -- this is also the end time\n",
    "              {new_metric_id} AS metric_name_id,\n",
    "              COALESCE(end_value,0.0) / start_value - 1.0 AS metric_value,\n",
    "              s.start_value,\n",
    "              e.end_value\n",
    "            FROM \n",
    "              start_metric AS s \n",
    " LEFT OUTER JOIN end_metric AS e\n",
    "              ON s.account_id = e.account_id\n",
    "             AND e.metric_time = (s.metric_time + interval '{period_weeks} week')\n",
    "             -- ending metric time equals to starting metric time plust the one month interval\n",
    "           WHERE start_value > 0\n",
    " \n",
    "-- ON CONFLICT DO NOTHING;\n",
    "\"\"\"\n",
    "res = pd.read_sql_query(query, conn)\n",
    "res.head()"
   ]
  },
  {
   "cell_type": "markdown",
   "id": "a301de85-8976-4d44-aa7d-eae2f07cdf60",
   "metadata": {},
   "source": [
    "**Percent Change Metrics** are getting the percentage change for a given metric between start and end\n",
    "\n",
    "- this example is about new friend per month, could be either positve or negative\n",
    "- it should give information on observation's engagement in terms of friends on the product"
   ]
  },
  {
   "cell_type": "code",
   "execution_count": 71,
   "id": "139ad278-59d1-424c-967c-5564300d2b44",
   "metadata": {},
   "outputs": [
    {
     "data": {
      "text/plain": [
       "(90119, 6)"
      ]
     },
     "metadata": {},
     "output_type": "display_data"
    },
    {
     "data": {
      "text/html": [
       "<div>\n",
       "<style scoped>\n",
       "    .dataframe tbody tr th:only-of-type {\n",
       "        vertical-align: middle;\n",
       "    }\n",
       "\n",
       "    .dataframe tbody tr th {\n",
       "        vertical-align: top;\n",
       "    }\n",
       "\n",
       "    .dataframe thead th {\n",
       "        text-align: right;\n",
       "    }\n",
       "</style>\n",
       "<table border=\"1\" class=\"dataframe\">\n",
       "  <thead>\n",
       "    <tr style=\"text-align: right;\">\n",
       "      <th></th>\n",
       "      <th>account_id</th>\n",
       "      <th>metric_time</th>\n",
       "      <th>metric_name_id</th>\n",
       "      <th>metric_value</th>\n",
       "      <th>start_value</th>\n",
       "      <th>end_value</th>\n",
       "    </tr>\n",
       "  </thead>\n",
       "  <tbody>\n",
       "    <tr>\n",
       "      <th>16925</th>\n",
       "      <td>2</td>\n",
       "      <td>2020-03-01</td>\n",
       "      <td>30</td>\n",
       "      <td>0.500000</td>\n",
       "      <td>4.0</td>\n",
       "      <td>6.0</td>\n",
       "    </tr>\n",
       "    <tr>\n",
       "      <th>25167</th>\n",
       "      <td>2</td>\n",
       "      <td>2020-03-08</td>\n",
       "      <td>30</td>\n",
       "      <td>0.166667</td>\n",
       "      <td>6.0</td>\n",
       "      <td>7.0</td>\n",
       "    </tr>\n",
       "    <tr>\n",
       "      <th>16013</th>\n",
       "      <td>2</td>\n",
       "      <td>2020-03-15</td>\n",
       "      <td>30</td>\n",
       "      <td>-0.333333</td>\n",
       "      <td>9.0</td>\n",
       "      <td>6.0</td>\n",
       "    </tr>\n",
       "    <tr>\n",
       "      <th>20120</th>\n",
       "      <td>2</td>\n",
       "      <td>2020-03-22</td>\n",
       "      <td>30</td>\n",
       "      <td>-0.142857</td>\n",
       "      <td>7.0</td>\n",
       "      <td>6.0</td>\n",
       "    </tr>\n",
       "    <tr>\n",
       "      <th>69652</th>\n",
       "      <td>2</td>\n",
       "      <td>2020-03-29</td>\n",
       "      <td>30</td>\n",
       "      <td>-0.166667</td>\n",
       "      <td>6.0</td>\n",
       "      <td>5.0</td>\n",
       "    </tr>\n",
       "    <tr>\n",
       "      <th>60683</th>\n",
       "      <td>2</td>\n",
       "      <td>2020-04-05</td>\n",
       "      <td>30</td>\n",
       "      <td>-0.714286</td>\n",
       "      <td>7.0</td>\n",
       "      <td>2.0</td>\n",
       "    </tr>\n",
       "    <tr>\n",
       "      <th>78754</th>\n",
       "      <td>2</td>\n",
       "      <td>2020-04-12</td>\n",
       "      <td>30</td>\n",
       "      <td>-1.000000</td>\n",
       "      <td>6.0</td>\n",
       "      <td>NaN</td>\n",
       "    </tr>\n",
       "    <tr>\n",
       "      <th>34151</th>\n",
       "      <td>2</td>\n",
       "      <td>2020-04-19</td>\n",
       "      <td>30</td>\n",
       "      <td>-1.000000</td>\n",
       "      <td>6.0</td>\n",
       "      <td>NaN</td>\n",
       "    </tr>\n",
       "    <tr>\n",
       "      <th>90377</th>\n",
       "      <td>2</td>\n",
       "      <td>2020-04-26</td>\n",
       "      <td>30</td>\n",
       "      <td>-1.000000</td>\n",
       "      <td>5.0</td>\n",
       "      <td>NaN</td>\n",
       "    </tr>\n",
       "    <tr>\n",
       "      <th>39703</th>\n",
       "      <td>2</td>\n",
       "      <td>2020-05-03</td>\n",
       "      <td>30</td>\n",
       "      <td>-1.000000</td>\n",
       "      <td>2.0</td>\n",
       "      <td>NaN</td>\n",
       "    </tr>\n",
       "  </tbody>\n",
       "</table>\n",
       "</div>"
      ],
      "text/plain": [
       "       account_id metric_time  metric_name_id  metric_value  start_value  \\\n",
       "16925           2  2020-03-01              30      0.500000          4.0   \n",
       "25167           2  2020-03-08              30      0.166667          6.0   \n",
       "16013           2  2020-03-15              30     -0.333333          9.0   \n",
       "20120           2  2020-03-22              30     -0.142857          7.0   \n",
       "69652           2  2020-03-29              30     -0.166667          6.0   \n",
       "60683           2  2020-04-05              30     -0.714286          7.0   \n",
       "78754           2  2020-04-12              30     -1.000000          6.0   \n",
       "34151           2  2020-04-19              30     -1.000000          6.0   \n",
       "90377           2  2020-04-26              30     -1.000000          5.0   \n",
       "39703           2  2020-05-03              30     -1.000000          2.0   \n",
       "\n",
       "       end_value  \n",
       "16925        6.0  \n",
       "25167        7.0  \n",
       "16013        6.0  \n",
       "20120        6.0  \n",
       "69652        5.0  \n",
       "60683        2.0  \n",
       "78754        NaN  \n",
       "34151        NaN  \n",
       "90377        NaN  \n",
       "39703        NaN  "
      ]
     },
     "execution_count": 71,
     "metadata": {},
     "output_type": "execute_result"
    }
   ],
   "source": [
    "# observations that have different start and end value \n",
    "tmp = res.sort_values([\"account_id\", \"metric_time\"]).query(\"start_value != end_value\")\n",
    "display(tmp.shape)\n",
    "tmp.query(\"account_id == 2\")"
   ]
  },
  {
   "cell_type": "code",
   "execution_count": 77,
   "id": "5f50d654-a045-4255-8ad7-092e496468bb",
   "metadata": {},
   "outputs": [
    {
     "data": {
      "text/html": [
       "<div>\n",
       "<style scoped>\n",
       "    .dataframe tbody tr th:only-of-type {\n",
       "        vertical-align: middle;\n",
       "    }\n",
       "\n",
       "    .dataframe tbody tr th {\n",
       "        vertical-align: top;\n",
       "    }\n",
       "\n",
       "    .dataframe thead th {\n",
       "        text-align: right;\n",
       "    }\n",
       "</style>\n",
       "<table border=\"1\" class=\"dataframe\">\n",
       "  <thead>\n",
       "    <tr style=\"text-align: right;\">\n",
       "      <th></th>\n",
       "      <th>account_id</th>\n",
       "      <th>metric_time</th>\n",
       "      <th>start_value</th>\n",
       "      <th>between_start</th>\n",
       "      <th>between_end</th>\n",
       "    </tr>\n",
       "  </thead>\n",
       "  <tbody>\n",
       "    <tr>\n",
       "      <th>16925</th>\n",
       "      <td>2</td>\n",
       "      <td>2020-02-02</td>\n",
       "      <td>4.0</td>\n",
       "      <td>2020-02-02</td>\n",
       "      <td>2020-04-12</td>\n",
       "    </tr>\n",
       "    <tr>\n",
       "      <th>25167</th>\n",
       "      <td>2</td>\n",
       "      <td>2020-02-09</td>\n",
       "      <td>6.0</td>\n",
       "      <td>2020-02-02</td>\n",
       "      <td>2020-04-12</td>\n",
       "    </tr>\n",
       "    <tr>\n",
       "      <th>16013</th>\n",
       "      <td>2</td>\n",
       "      <td>2020-02-16</td>\n",
       "      <td>9.0</td>\n",
       "      <td>2020-02-02</td>\n",
       "      <td>2020-04-12</td>\n",
       "    </tr>\n",
       "    <tr>\n",
       "      <th>20120</th>\n",
       "      <td>2</td>\n",
       "      <td>2020-02-23</td>\n",
       "      <td>7.0</td>\n",
       "      <td>2020-02-02</td>\n",
       "      <td>2020-04-12</td>\n",
       "    </tr>\n",
       "    <tr>\n",
       "      <th>69652</th>\n",
       "      <td>2</td>\n",
       "      <td>2020-03-01</td>\n",
       "      <td>6.0</td>\n",
       "      <td>2020-02-02</td>\n",
       "      <td>2020-04-12</td>\n",
       "    </tr>\n",
       "    <tr>\n",
       "      <th>60683</th>\n",
       "      <td>2</td>\n",
       "      <td>2020-03-08</td>\n",
       "      <td>7.0</td>\n",
       "      <td>2020-02-02</td>\n",
       "      <td>2020-04-12</td>\n",
       "    </tr>\n",
       "    <tr>\n",
       "      <th>78754</th>\n",
       "      <td>2</td>\n",
       "      <td>2020-03-15</td>\n",
       "      <td>6.0</td>\n",
       "      <td>2020-02-02</td>\n",
       "      <td>2020-04-12</td>\n",
       "    </tr>\n",
       "    <tr>\n",
       "      <th>34151</th>\n",
       "      <td>2</td>\n",
       "      <td>2020-03-22</td>\n",
       "      <td>6.0</td>\n",
       "      <td>2020-02-02</td>\n",
       "      <td>2020-04-12</td>\n",
       "    </tr>\n",
       "    <tr>\n",
       "      <th>90377</th>\n",
       "      <td>2</td>\n",
       "      <td>2020-03-29</td>\n",
       "      <td>5.0</td>\n",
       "      <td>2020-02-02</td>\n",
       "      <td>2020-04-12</td>\n",
       "    </tr>\n",
       "    <tr>\n",
       "      <th>39703</th>\n",
       "      <td>2</td>\n",
       "      <td>2020-04-05</td>\n",
       "      <td>2.0</td>\n",
       "      <td>2020-02-02</td>\n",
       "      <td>2020-04-12</td>\n",
       "    </tr>\n",
       "  </tbody>\n",
       "</table>\n",
       "</div>"
      ],
      "text/plain": [
       "       account_id metric_time  start_value between_start between_end\n",
       "16925           2  2020-02-02          4.0    2020-02-02  2020-04-12\n",
       "25167           2  2020-02-09          6.0    2020-02-02  2020-04-12\n",
       "16013           2  2020-02-16          9.0    2020-02-02  2020-04-12\n",
       "20120           2  2020-02-23          7.0    2020-02-02  2020-04-12\n",
       "69652           2  2020-03-01          6.0    2020-02-02  2020-04-12\n",
       "60683           2  2020-03-08          7.0    2020-02-02  2020-04-12\n",
       "78754           2  2020-03-15          6.0    2020-02-02  2020-04-12\n",
       "34151           2  2020-03-22          6.0    2020-02-02  2020-04-12\n",
       "90377           2  2020-03-29          5.0    2020-02-02  2020-04-12\n",
       "39703           2  2020-04-05          2.0    2020-02-02  2020-04-12"
      ]
     },
     "execution_count": 77,
     "metadata": {},
     "output_type": "execute_result"
    }
   ],
   "source": [
    "query = f\"\"\"\\\n",
    "    SELECT \n",
    "        account_id, \n",
    "        metric_time, \n",
    "        metric_value AS start_value,\n",
    "        '{from_yyyy_mm_dd}'::timestamp - interval '{period_weeks} week' AS between_start, \n",
    "        '{to_yyyy_mm_dd}'::timestamp - interval '{period_weeks} week' AS between_end \n",
    "      FROM metric AS m \n",
    "INNER JOIN metric_name AS n \n",
    "        ON n.metric_name_id = m.metric_name_id\n",
    "       AND n.metric_name = '{metric2measure}'\n",
    "       AND metric_time \n",
    "           BETWEEN ('{from_yyyy_mm_dd}'::timestamp - interval '{period_weeks} week')\n",
    "               AND ('{to_yyyy_mm_dd}'::timestamp - interval '{period_weeks} week')\n",
    "\"\"\"\n",
    "\n",
    "tmp = pd.read_sql_query(query, conn).sort_values(\"metric_time\")\n",
    "tmp.query(\"account_id == 2\")\n",
    "# start_value is the value of \"new friends per month\" at the given interval"
   ]
  },
  {
   "cell_type": "code",
   "execution_count": 78,
   "id": "f7835eed-c3b6-46b9-a29c-71b101bd06c2",
   "metadata": {},
   "outputs": [
    {
     "data": {
      "text/html": [
       "<div>\n",
       "<style scoped>\n",
       "    .dataframe tbody tr th:only-of-type {\n",
       "        vertical-align: middle;\n",
       "    }\n",
       "\n",
       "    .dataframe tbody tr th {\n",
       "        vertical-align: top;\n",
       "    }\n",
       "\n",
       "    .dataframe thead th {\n",
       "        text-align: right;\n",
       "    }\n",
       "</style>\n",
       "<table border=\"1\" class=\"dataframe\">\n",
       "  <thead>\n",
       "    <tr style=\"text-align: right;\">\n",
       "      <th></th>\n",
       "      <th>account_id</th>\n",
       "      <th>metric_time</th>\n",
       "      <th>end_value</th>\n",
       "      <th>between_start</th>\n",
       "      <th>between_end</th>\n",
       "    </tr>\n",
       "  </thead>\n",
       "  <tbody>\n",
       "    <tr>\n",
       "      <th>62481</th>\n",
       "      <td>2</td>\n",
       "      <td>2020-03-01</td>\n",
       "      <td>6.0</td>\n",
       "      <td>2020-03-01</td>\n",
       "      <td>2020-05-10</td>\n",
       "    </tr>\n",
       "    <tr>\n",
       "      <th>49799</th>\n",
       "      <td>2</td>\n",
       "      <td>2020-03-08</td>\n",
       "      <td>7.0</td>\n",
       "      <td>2020-03-01</td>\n",
       "      <td>2020-05-10</td>\n",
       "    </tr>\n",
       "    <tr>\n",
       "      <th>75328</th>\n",
       "      <td>2</td>\n",
       "      <td>2020-03-15</td>\n",
       "      <td>6.0</td>\n",
       "      <td>2020-03-01</td>\n",
       "      <td>2020-05-10</td>\n",
       "    </tr>\n",
       "    <tr>\n",
       "      <th>11911</th>\n",
       "      <td>2</td>\n",
       "      <td>2020-03-22</td>\n",
       "      <td>6.0</td>\n",
       "      <td>2020-03-01</td>\n",
       "      <td>2020-05-10</td>\n",
       "    </tr>\n",
       "    <tr>\n",
       "      <th>91821</th>\n",
       "      <td>2</td>\n",
       "      <td>2020-03-29</td>\n",
       "      <td>5.0</td>\n",
       "      <td>2020-03-01</td>\n",
       "      <td>2020-05-10</td>\n",
       "    </tr>\n",
       "    <tr>\n",
       "      <th>19868</th>\n",
       "      <td>2</td>\n",
       "      <td>2020-04-05</td>\n",
       "      <td>2.0</td>\n",
       "      <td>2020-03-01</td>\n",
       "      <td>2020-05-10</td>\n",
       "    </tr>\n",
       "  </tbody>\n",
       "</table>\n",
       "</div>"
      ],
      "text/plain": [
       "       account_id metric_time  end_value between_start between_end\n",
       "62481           2  2020-03-01        6.0    2020-03-01  2020-05-10\n",
       "49799           2  2020-03-08        7.0    2020-03-01  2020-05-10\n",
       "75328           2  2020-03-15        6.0    2020-03-01  2020-05-10\n",
       "11911           2  2020-03-22        6.0    2020-03-01  2020-05-10\n",
       "91821           2  2020-03-29        5.0    2020-03-01  2020-05-10\n",
       "19868           2  2020-04-05        2.0    2020-03-01  2020-05-10"
      ]
     },
     "execution_count": 78,
     "metadata": {},
     "output_type": "execute_result"
    }
   ],
   "source": [
    "query = f\"\"\"\\\n",
    "    SELECT \n",
    "        account_id, \n",
    "        metric_time, \n",
    "        metric_value AS end_value,\n",
    "        '{from_yyyy_mm_dd}' AS between_start, \n",
    "        '{to_yyyy_mm_dd}' AS between_end\n",
    "      FROM metric AS m \n",
    "INNER JOIN metric_name AS n \n",
    "        ON n.metric_name_id = m.metric_name_id\n",
    "       AND n.metric_name = '{metric2measure}'\n",
    "       AND metric_time BETWEEN '{from_yyyy_mm_dd}' AND '{to_yyyy_mm_dd}'\n",
    "\"\"\"\n",
    "tmp = pd.read_sql_query(query, conn).sort_values(\"metric_time\")\n",
    "tmp.query(\"account_id == 2\")"
   ]
  },
  {
   "cell_type": "code",
   "execution_count": null,
   "id": "866a1eb3-1280-4a99-ac80-58fb49754ace",
   "metadata": {},
   "outputs": [],
   "source": []
  },
  {
   "cell_type": "markdown",
   "id": "b0393815-6706-449c-8060-7de2c3da8cad",
   "metadata": {
    "tags": []
   },
   "source": [
    "### Litsting 7.6 Days Since Events Metrics"
   ]
  },
  {
   "cell_type": "code",
   "execution_count": 95,
   "id": "5ebdf53b-2aa9-4c2e-abb7-445d8565e736",
   "metadata": {},
   "outputs": [
    {
     "data": {
      "text/plain": [
       "('2020-05-03', '2020-05-10')"
      ]
     },
     "execution_count": 95,
     "metadata": {},
     "output_type": "execute_result"
    }
   ],
   "source": [
    "from_yyyy_mm_dd = chap7.list6.params[\"%from_yyyy-mm-dd\"] \n",
    "to_yyyy_mm_dd = chap7.list6.params[\"%to_yyyy-mm-dd\"]\n",
    "from_yyyy_mm_dd, to_yyyy_mm_dd "
   ]
  },
  {
   "cell_type": "code",
   "execution_count": 94,
   "id": "e6c93b35-8362-4e97-81f7-b853da2500c5",
   "metadata": {},
   "outputs": [
    {
     "data": {
      "text/plain": [
       "('newfriend', 31, 'days_since_newfriend')"
      ]
     },
     "execution_count": 94,
     "metadata": {},
     "output_type": "execute_result"
    }
   ],
   "source": [
    "event2measure = chap7.list6.insert.params[\"%event2measure\"]\n",
    "new_metric_id = chap7.list6.insert.params[\"%new_metric_id\"]\n",
    "new_metric_name = chap7.list6.insert.params[\"%new_metric_name\"]\n",
    "\n",
    "event2measure, new_metric_id, new_metric_name"
   ]
  },
  {
   "cell_type": "code",
   "execution_count": 102,
   "id": "9260937b-27ee-448f-b1c1-53720d25f1ee",
   "metadata": {},
   "outputs": [
    {
     "data": {
      "text/html": [
       "<div>\n",
       "<style scoped>\n",
       "    .dataframe tbody tr th:only-of-type {\n",
       "        vertical-align: middle;\n",
       "    }\n",
       "\n",
       "    .dataframe tbody tr th {\n",
       "        vertical-align: top;\n",
       "    }\n",
       "\n",
       "    .dataframe thead th {\n",
       "        text-align: right;\n",
       "    }\n",
       "</style>\n",
       "<table border=\"1\" class=\"dataframe\">\n",
       "  <thead>\n",
       "    <tr style=\"text-align: right;\">\n",
       "      <th></th>\n",
       "      <th>account_id</th>\n",
       "      <th>metric_time</th>\n",
       "      <th>metric_name_id</th>\n",
       "      <th>days_since_event</th>\n",
       "      <th>metric_date</th>\n",
       "      <th>last_date</th>\n",
       "    </tr>\n",
       "  </thead>\n",
       "  <tbody>\n",
       "    <tr>\n",
       "      <th>0</th>\n",
       "      <td>1</td>\n",
       "      <td>2020-05-03</td>\n",
       "      <td>31</td>\n",
       "      <td>17</td>\n",
       "      <td>2020-05-03</td>\n",
       "      <td>2020-04-16</td>\n",
       "    </tr>\n",
       "    <tr>\n",
       "      <th>1</th>\n",
       "      <td>1</td>\n",
       "      <td>2020-05-10</td>\n",
       "      <td>31</td>\n",
       "      <td>24</td>\n",
       "      <td>2020-05-10</td>\n",
       "      <td>2020-04-16</td>\n",
       "    </tr>\n",
       "    <tr>\n",
       "      <th>2</th>\n",
       "      <td>2</td>\n",
       "      <td>2020-05-03</td>\n",
       "      <td>31</td>\n",
       "      <td>54</td>\n",
       "      <td>2020-05-03</td>\n",
       "      <td>2020-03-10</td>\n",
       "    </tr>\n",
       "    <tr>\n",
       "      <th>3</th>\n",
       "      <td>2</td>\n",
       "      <td>2020-05-10</td>\n",
       "      <td>31</td>\n",
       "      <td>61</td>\n",
       "      <td>2020-05-10</td>\n",
       "      <td>2020-03-10</td>\n",
       "    </tr>\n",
       "    <tr>\n",
       "      <th>4</th>\n",
       "      <td>4</td>\n",
       "      <td>2020-05-03</td>\n",
       "      <td>31</td>\n",
       "      <td>2</td>\n",
       "      <td>2020-05-03</td>\n",
       "      <td>2020-05-01</td>\n",
       "    </tr>\n",
       "  </tbody>\n",
       "</table>\n",
       "</div>"
      ],
      "text/plain": [
       "   account_id metric_time  metric_name_id  days_since_event metric_date  \\\n",
       "0           1  2020-05-03              31                17  2020-05-03   \n",
       "1           1  2020-05-10              31                24  2020-05-10   \n",
       "2           2  2020-05-03              31                54  2020-05-03   \n",
       "3           2  2020-05-10              31                61  2020-05-10   \n",
       "4           4  2020-05-03              31                 2  2020-05-03   \n",
       "\n",
       "    last_date  \n",
       "0  2020-04-16  \n",
       "1  2020-04-16  \n",
       "2  2020-03-10  \n",
       "3  2020-03-10  \n",
       "4  2020-05-01  "
      ]
     },
     "execution_count": 102,
     "metadata": {},
     "output_type": "execute_result"
    }
   ],
   "source": [
    "# insert_7_6_days_since_event\n",
    "# calculate difference beween a given event type to form a new metric\n",
    "# e.g. day since new friend event\n",
    "\n",
    "query = f\"\"\"\\\n",
    "INSERT into metric_name values ({new_metric_id},concat('days_since_{event2measure}' ))\n",
    "ON CONFLICT DO NOTHING;\n",
    "\n",
    "WITH date_vals AS (\n",
    "  SELECT \n",
    "      i::date AS metric_date\n",
    "    FROM \n",
    "      GENERATE_SERIES('{from_yyyy_mm_dd}', '{to_yyyy_mm_dd}', '7 day'::interval) AS i\n",
    "),\n",
    "last_event AS (\n",
    "      SELECT \n",
    "          account_id, \n",
    "          metric_date, \n",
    "          MAX(event_time)::date AS last_date\n",
    "        FROM \n",
    "          event AS e \n",
    "  INNER JOIN date_vals AS d\n",
    "          ON e.event_time::date <= metric_date\n",
    "  INNER JOIN event_type AS t \n",
    "          ON t.event_type_id=e.event_type_id\n",
    "       WHERE t.event_type_name='{event2measure}'\n",
    "    GROUP BY account_id, metric_date\n",
    "    ORDER BY account_id, metric_date\n",
    ")\n",
    "\n",
    "-- INSERT INTO metric (account_id,metric_time,metric_name_id,metric_value)\n",
    "\n",
    "    SELECT \n",
    "        account_id, \n",
    "        metric_date AS metric_time, \n",
    "        {new_metric_id} AS metric_name_id,\n",
    "        metric_date - last_date AS days_since_event, -- metric_value\n",
    "        metric_date, \n",
    "        last_date\n",
    "      FROM \n",
    "        last_event\n",
    "\n",
    "-- ON CONFLICT DO NOTHING;\n",
    "\"\"\"\n",
    "res = pd.read_sql_query(query, conn).sort_values([\"account_id\", \"metric_time\"])\n",
    "res.head()"
   ]
  },
  {
   "cell_type": "markdown",
   "id": "e7833325-8006-408f-89a9-a97f41a66b60",
   "metadata": {},
   "source": [
    "**Days since last event**\n",
    "\n",
    "- this example is about event on \"new friend\" \n",
    "- for a given observation date of an account, find its last event on \"new friend\", then get the difference in days\n",
    "- the value gives information on observation's engagement in terms of adding new friends\n"
   ]
  },
  {
   "cell_type": "code",
   "execution_count": null,
   "id": "b85a5b87-e982-486d-9784-2109ef63a940",
   "metadata": {},
   "outputs": [],
   "source": []
  },
  {
   "cell_type": "code",
   "execution_count": null,
   "id": "57db5a10-382e-48be-9c98-711b76ef82eb",
   "metadata": {},
   "outputs": [],
   "source": []
  },
  {
   "cell_type": "markdown",
   "id": "81b878a0-eea4-428a-b16c-91807e93b807",
   "metadata": {
    "tags": []
   },
   "source": [
    "### Litsting 7.7 Scaled Events per Month Metrics"
   ]
  },
  {
   "cell_type": "code",
   "execution_count": 106,
   "id": "79a053f6-f137-416b-9967-962061b82436",
   "metadata": {},
   "outputs": [
    {
     "data": {
      "text/plain": [
       "('2020-03-01', '2020-05-10')"
      ]
     },
     "execution_count": 106,
     "metadata": {},
     "output_type": "execute_result"
    }
   ],
   "source": [
    "from_yyyy_mm_dd = chap7.defaults[\"%from_yyyy-mm-dd\"] \n",
    "to_yyyy_mm_dd = chap7.defaults[\"%to_yyyy-mm-dd\"]\n",
    "from_yyyy_mm_dd, to_yyyy_mm_dd "
   ]
  },
  {
   "cell_type": "code",
   "execution_count": 115,
   "id": "9191eb15-7402-435f-9a79-474e0739fd18",
   "metadata": {},
   "outputs": [
    {
     "data": {
      "text/plain": [
       "(28, 84, 'unfriend', 33)"
      ]
     },
     "execution_count": 115,
     "metadata": {},
     "output_type": "execute_result"
    }
   ],
   "source": [
    "desc_period = chap7.list7.insert.params[\"%desc_period\"]\n",
    "obs_period = chap7.list7.params[\"%obs_period\"]\n",
    "event2measure = chap7.list7.insert.params[\"%event2measure\"]\n",
    "new_metric_id = chap7.list7.insert.params[\"%new_metric_id\"]\n",
    "\n",
    "desc_period, obs_period, event2measure, new_metric_id"
   ]
  },
  {
   "cell_type": "code",
   "execution_count": 118,
   "id": "6026d545-7809-4de2-8c3e-543cd6deabdd",
   "metadata": {},
   "outputs": [
    {
     "data": {
      "text/html": [
       "<div>\n",
       "<style scoped>\n",
       "    .dataframe tbody tr th:only-of-type {\n",
       "        vertical-align: middle;\n",
       "    }\n",
       "\n",
       "    .dataframe tbody tr th {\n",
       "        vertical-align: top;\n",
       "    }\n",
       "\n",
       "    .dataframe thead th {\n",
       "        text-align: right;\n",
       "    }\n",
       "</style>\n",
       "<table border=\"1\" class=\"dataframe\">\n",
       "  <thead>\n",
       "    <tr style=\"text-align: right;\">\n",
       "      <th></th>\n",
       "      <th>account_id</th>\n",
       "      <th>metric_date</th>\n",
       "      <th>metric_name_id</th>\n",
       "      <th>metric_value</th>\n",
       "      <th>event_count</th>\n",
       "    </tr>\n",
       "  </thead>\n",
       "  <tbody>\n",
       "    <tr>\n",
       "      <th>0</th>\n",
       "      <td>1</td>\n",
       "      <td>2020-03-01</td>\n",
       "      <td>33</td>\n",
       "      <td>0.666667</td>\n",
       "      <td>2</td>\n",
       "    </tr>\n",
       "    <tr>\n",
       "      <th>4055</th>\n",
       "      <td>1</td>\n",
       "      <td>2020-03-08</td>\n",
       "      <td>33</td>\n",
       "      <td>0.666667</td>\n",
       "      <td>2</td>\n",
       "    </tr>\n",
       "    <tr>\n",
       "      <th>8593</th>\n",
       "      <td>1</td>\n",
       "      <td>2020-03-15</td>\n",
       "      <td>33</td>\n",
       "      <td>0.666667</td>\n",
       "      <td>2</td>\n",
       "    </tr>\n",
       "    <tr>\n",
       "      <th>13560</th>\n",
       "      <td>1</td>\n",
       "      <td>2020-03-22</td>\n",
       "      <td>33</td>\n",
       "      <td>1.000000</td>\n",
       "      <td>3</td>\n",
       "    </tr>\n",
       "    <tr>\n",
       "      <th>18994</th>\n",
       "      <td>1</td>\n",
       "      <td>2020-03-29</td>\n",
       "      <td>33</td>\n",
       "      <td>1.333333</td>\n",
       "      <td>4</td>\n",
       "    </tr>\n",
       "  </tbody>\n",
       "</table>\n",
       "</div>"
      ],
      "text/plain": [
       "       account_id metric_date  metric_name_id  metric_value  event_count\n",
       "0               1  2020-03-01              33      0.666667            2\n",
       "4055            1  2020-03-08              33      0.666667            2\n",
       "8593            1  2020-03-15              33      0.666667            2\n",
       "13560           1  2020-03-22              33      1.000000            3\n",
       "18994           1  2020-03-29              33      1.333333            4"
      ]
     },
     "execution_count": 118,
     "metadata": {},
     "output_type": "execute_result"
    }
   ],
   "source": [
    "# insert_7_7_scaled_events_per_month\n",
    "# unfriend event example: unfriend 28 day average with 84 days observation \n",
    "\n",
    "query = f\"\"\"\\\n",
    "\n",
    "INSERT into metric_name values ({new_metric_id},'{event2measure}_{desc_period}day_avg_{obs_period}day_obs')\n",
    "ON CONFLICT DO NOTHING;\n",
    "\n",
    "WITH date_vals AS (\n",
    "    SELECT \n",
    "        i::timestamp AS metric_date \n",
    "      FROM \n",
    "        GENERATE_SERIES('{from_yyyy_mm_dd}', '{to_yyyy_mm_dd}', '7 day'::interval) AS i\n",
    ")\n",
    "\n",
    "-- INSERT INTO metric (account_id, metric_time, metric_name_id, metric_value)\n",
    "\n",
    "    SELECT \n",
    "        account_id,\n",
    "        metric_date,\n",
    "        {new_metric_id} AS metric_name_id,\n",
    "        (({desc_period})::float / ({obs_period})::float) * COUNT(*) AS metric_value,\n",
    "        COUNT(*) AS event_count -- number of events within the given range, then multiple with 1/3\n",
    "        -- desc_period is a month, and obs_period is 3 months\n",
    "        -- so one-third of the counts as an scaled (average)\n",
    "      FROM \n",
    "        event AS e \n",
    "INNER JOIN \n",
    "        date_vals AS d\n",
    "        ON e.event_time <= metric_date \n",
    "       AND e.event_time > metric_date - interval '{obs_period} days'\n",
    "       -- event time \"before the metric observation date\" and \"before the metric minus the observation periods (84 days)\"\n",
    "       -- i.e. within 3 months before metric date\n",
    "INNER JOIN \n",
    "        event_type AS t \n",
    "        ON t.event_type_id = e.event_type_id\n",
    "     WHERE t.event_type_name='{event2measure}'\n",
    "  GROUP BY account_id, metric_date\n",
    "  ORDER BY metric_date, account_id\n",
    "\n",
    "-- ON CONFLICT DO NOTHING;\n",
    "\"\"\"\n",
    "res = pd.read_sql_query(query, conn).sort_values([\"account_id\", \"metric_date\"])\n",
    "res.head()"
   ]
  },
  {
   "cell_type": "markdown",
   "id": "8381cbec-b5e5-41a2-b496-dfb1ec1a2942",
   "metadata": {},
   "source": [
    "**Scaled Events per Month**\n",
    "\n",
    "- this example looks at unfriend events\n",
    "- average unfriend over the past 3 observation periods, i.e. 3 months\n",
    "- gives some information on user's engagement in terms of unfriend activities"
   ]
  },
  {
   "cell_type": "code",
   "execution_count": null,
   "id": "e99ceb75-c086-4658-aac2-4c43c4b5162b",
   "metadata": {},
   "outputs": [],
   "source": []
  },
  {
   "cell_type": "code",
   "execution_count": null,
   "id": "f6fd45dd-078b-4de0-b35a-7191985873b7",
   "metadata": {},
   "outputs": [],
   "source": []
  },
  {
   "cell_type": "markdown",
   "id": "e8536bdc-b844-4aff-a86b-c20df378924d",
   "metadata": {
    "tags": []
   },
   "source": [
    "### Litsting 7.8 Tenure Scaled Events per Month Metrics"
   ]
  },
  {
   "cell_type": "code",
   "execution_count": 121,
   "id": "3419853c-9e54-4c86-ab51-069ee906a67d",
   "metadata": {},
   "outputs": [
    {
     "data": {
      "text/plain": [
       "('2020-05-10', '2020-05-10')"
      ]
     },
     "execution_count": 121,
     "metadata": {},
     "output_type": "execute_result"
    }
   ],
   "source": [
    "from_yyyy_mm_dd = chap7.list8.params[\"%from_yyyy-mm-dd\"] \n",
    "to_yyyy_mm_dd = chap7.list8.params[\"%to_yyyy-mm-dd\"]\n",
    "from_yyyy_mm_dd, to_yyyy_mm_dd "
   ]
  },
  {
   "cell_type": "code",
   "execution_count": 122,
   "id": "fc0141c7-1a57-4159-a531-4518ba5e9e61",
   "metadata": {},
   "outputs": [
    {
     "data": {
      "text/plain": [
       "(28, 84, 14, 'unfriend', 34)"
      ]
     },
     "execution_count": 122,
     "metadata": {},
     "output_type": "execute_result"
    }
   ],
   "source": [
    "desc_period = chap7.list8.insert.params[\"%desc_period\"] \n",
    "obs_period = chap7.list8.insert.params[\"%obs_period\"] \n",
    "min_tenure = chap7.list8.insert.params[\"%min_tenure\"] \n",
    "event2measure = chap7.list8.insert.params[\"%event2measure\"] \n",
    "new_metric_id = chap7.list8.insert.params[\"%new_metric_id\"] \n",
    "\n",
    "desc_period, obs_period, min_tenure, event2measure, new_metric_id"
   ]
  },
  {
   "cell_type": "code",
   "execution_count": 124,
   "id": "beedc41f-9609-4526-b32d-e73560b793b6",
   "metadata": {},
   "outputs": [
    {
     "data": {
      "text/html": [
       "<div>\n",
       "<style scoped>\n",
       "    .dataframe tbody tr th:only-of-type {\n",
       "        vertical-align: middle;\n",
       "    }\n",
       "\n",
       "    .dataframe tbody tr th {\n",
       "        vertical-align: top;\n",
       "    }\n",
       "\n",
       "    .dataframe thead th {\n",
       "        text-align: right;\n",
       "    }\n",
       "</style>\n",
       "<table border=\"1\" class=\"dataframe\">\n",
       "  <thead>\n",
       "    <tr style=\"text-align: right;\">\n",
       "      <th></th>\n",
       "      <th>account_id</th>\n",
       "      <th>metric_time</th>\n",
       "      <th>metric_name_id</th>\n",
       "      <th>metric_value</th>\n",
       "      <th>event_count</th>\n",
       "    </tr>\n",
       "  </thead>\n",
       "  <tbody>\n",
       "    <tr>\n",
       "      <th>0</th>\n",
       "      <td>1</td>\n",
       "      <td>2020-02-23</td>\n",
       "      <td>34</td>\n",
       "      <td>1.076923</td>\n",
       "      <td>1</td>\n",
       "    </tr>\n",
       "    <tr>\n",
       "      <th>1</th>\n",
       "      <td>1</td>\n",
       "      <td>2020-03-01</td>\n",
       "      <td>34</td>\n",
       "      <td>1.696970</td>\n",
       "      <td>2</td>\n",
       "    </tr>\n",
       "    <tr>\n",
       "      <th>2</th>\n",
       "      <td>1</td>\n",
       "      <td>2020-03-08</td>\n",
       "      <td>34</td>\n",
       "      <td>1.400000</td>\n",
       "      <td>2</td>\n",
       "    </tr>\n",
       "    <tr>\n",
       "      <th>3</th>\n",
       "      <td>1</td>\n",
       "      <td>2020-03-15</td>\n",
       "      <td>34</td>\n",
       "      <td>1.191489</td>\n",
       "      <td>2</td>\n",
       "    </tr>\n",
       "    <tr>\n",
       "      <th>4</th>\n",
       "      <td>1</td>\n",
       "      <td>2020-03-22</td>\n",
       "      <td>34</td>\n",
       "      <td>1.555556</td>\n",
       "      <td>3</td>\n",
       "    </tr>\n",
       "  </tbody>\n",
       "</table>\n",
       "</div>"
      ],
      "text/plain": [
       "   account_id metric_time  metric_name_id  metric_value  event_count\n",
       "0           1  2020-02-23              34      1.076923            1\n",
       "1           1  2020-03-01              34      1.696970            2\n",
       "2           1  2020-03-08              34      1.400000            2\n",
       "3           1  2020-03-15              34      1.191489            2\n",
       "4           1  2020-03-22              34      1.555556            3"
      ]
     },
     "execution_count": 124,
     "metadata": {},
     "output_type": "execute_result"
    }
   ],
   "source": [
    "# insert_7_8_tenure_scaled_events_per_month\n",
    "# similar to 7.7, but improved for new accounts (i.e. shorter tenure)\n",
    "\n",
    "query = f\"\"\"\\\n",
    "\n",
    "-- scaled on tenure, slightly different to Listing 7.8\n",
    "INSERT INTO metric_name VALUES ({new_metric_id},'{event2measure}_{desc_period}day_avg_{obs_period}day_obs_scaled')\n",
    "ON CONFLICT DO NOTHING;\n",
    "\n",
    "-- INSERT INTO metric (account_id,metric_time,metric_name_id,metric_value)\n",
    "\n",
    "    SELECT \n",
    "        m.account_id, \n",
    "        metric_time, \n",
    "        {new_metric_id} AS metric_name_id,\n",
    "        ({desc_period} / LEAST({obs_period}, m.metric_value)) * COUNT(*) AS metric_value,\n",
    "        -- choosing the least between parameterised \"obs_period\" and \"account's metric obseration date \"\n",
    "        COUNT(*) AS event_count\n",
    "      FROM \n",
    "        event AS e \n",
    "INNER JOIN \n",
    "        metric AS m\n",
    "        ON m.account_id = e.account_id\n",
    "       AND event_time <= metric_time\n",
    "       AND event_time >  metric_time-interval '{obs_period} days'\n",
    "INNER JOIN \n",
    "        event_type AS t \n",
    "        ON t.event_type_id=e.event_type_id\n",
    "INNER JOIN \n",
    "        metric_name AS n \n",
    "        ON m.metric_name_id = n.metric_name_id\n",
    "     WHERE t.event_type_name='{event2measure}'\n",
    "       AND n.metric_name='account_tenure'\n",
    "       AND metric_value >= {min_tenure}\n",
    "  GROUP BY m.account_id, metric_time, metric_value    \n",
    "  ORDER BY m.account_id, metric_time, metric_value\n",
    "\n",
    "-- ON CONFLICT DO NOTHING;\n",
    "\"\"\"\n",
    "\n",
    "res = pd.read_sql_query(query, conn).sort_values([\"account_id\", \"metric_time\"])\n",
    "res.head()"
   ]
  },
  {
   "cell_type": "code",
   "execution_count": null,
   "id": "405c3e47-9dfd-4c23-a75f-89657b69b70a",
   "metadata": {},
   "outputs": [],
   "source": []
  },
  {
   "cell_type": "markdown",
   "id": "0383b3f8-f9db-4855-9cb0-e1e492f315c1",
   "metadata": {
    "tags": []
   },
   "source": [
    "### Litsting 7.2 New Observations"
   ]
  },
  {
   "cell_type": "code",
   "execution_count": 166,
   "id": "0327a1b7-32ce-43cf-bad1-24e35114a418",
   "metadata": {},
   "outputs": [
    {
     "data": {
      "text/plain": [
       "('2020-03-01', '2020-05-10')"
      ]
     },
     "execution_count": 166,
     "metadata": {},
     "output_type": "execute_result"
    }
   ],
   "source": [
    "from_yyyy_mm_dd = chap7.defaults[\"%from_yyyy-mm-dd\"] \n",
    "to_yyyy_mm_dd = chap7.defaults[\"%to_yyyy-mm-dd\"]\n",
    "from_yyyy_mm_dd, to_yyyy_mm_dd "
   ]
  },
  {
   "cell_type": "code",
   "execution_count": 167,
   "id": "a7efc3f3-cfbc-4e31-bba5-3dd4879e7c4c",
   "metadata": {},
   "outputs": [
    {
     "data": {
      "text/plain": [
       "'7 day'"
      ]
     },
     "execution_count": 167,
     "metadata": {},
     "output_type": "execute_result"
    }
   ],
   "source": [
    "metric_interval = chap7.list2.params[\"%metric_interval\"]\n",
    "metric_interval"
   ]
  },
  {
   "cell_type": "code",
   "execution_count": 170,
   "id": "8522e97a-1940-446d-befa-89f8618bcbc4",
   "metadata": {},
   "outputs": [
    {
     "data": {
      "text/html": [
       "<div>\n",
       "<style scoped>\n",
       "    .dataframe tbody tr th:only-of-type {\n",
       "        vertical-align: middle;\n",
       "    }\n",
       "\n",
       "    .dataframe tbody tr th {\n",
       "        vertical-align: top;\n",
       "    }\n",
       "\n",
       "    .dataframe thead th {\n",
       "        text-align: right;\n",
       "    }\n",
       "</style>\n",
       "<table border=\"1\" class=\"dataframe\">\n",
       "  <thead>\n",
       "    <tr style=\"text-align: right;\">\n",
       "      <th></th>\n",
       "      <th>account_id</th>\n",
       "      <th>observation_date</th>\n",
       "      <th>is_churn</th>\n",
       "      <th>like_per_month</th>\n",
       "      <th>newfriend_per_month</th>\n",
       "      <th>post_per_month</th>\n",
       "      <th>adview_per_month</th>\n",
       "      <th>dislike_per_month</th>\n",
       "      <th>unfriend_per_month</th>\n",
       "      <th>message_per_month</th>\n",
       "      <th>...</th>\n",
       "      <th>reply_per_message</th>\n",
       "      <th>like_per_post</th>\n",
       "      <th>post_per_message</th>\n",
       "      <th>unfriend_per_newfriend</th>\n",
       "      <th>dislike_pcnt</th>\n",
       "      <th>unfriend_per_newfriend_scaled</th>\n",
       "      <th>newfriend_pcnt_chng</th>\n",
       "      <th>days_since_newfriend</th>\n",
       "      <th>unfriend_28day_avg_84day_obs</th>\n",
       "      <th>unfriend_28day_avg_84day_obs_scaled</th>\n",
       "    </tr>\n",
       "  </thead>\n",
       "  <tbody>\n",
       "    <tr>\n",
       "      <th>7221</th>\n",
       "      <td>1</td>\n",
       "      <td>2020-03-23</td>\n",
       "      <td>False</td>\n",
       "      <td>2.0</td>\n",
       "      <td>1.0</td>\n",
       "      <td>6.0</td>\n",
       "      <td>2.0</td>\n",
       "      <td>2.0</td>\n",
       "      <td>2.0</td>\n",
       "      <td>7.0</td>\n",
       "      <td>...</td>\n",
       "      <td>0.571429</td>\n",
       "      <td>0.0</td>\n",
       "      <td>0.857143</td>\n",
       "      <td>2.0</td>\n",
       "      <td>0.0</td>\n",
       "      <td>0.0</td>\n",
       "      <td>0.000000</td>\n",
       "      <td>0.0</td>\n",
       "      <td>1.000000</td>\n",
       "      <td>1.555556</td>\n",
       "    </tr>\n",
       "    <tr>\n",
       "      <th>17738</th>\n",
       "      <td>1</td>\n",
       "      <td>2020-04-23</td>\n",
       "      <td>False</td>\n",
       "      <td>1.0</td>\n",
       "      <td>1.0</td>\n",
       "      <td>2.0</td>\n",
       "      <td>4.0</td>\n",
       "      <td>4.0</td>\n",
       "      <td>1.0</td>\n",
       "      <td>7.0</td>\n",
       "      <td>...</td>\n",
       "      <td>0.428571</td>\n",
       "      <td>0.0</td>\n",
       "      <td>0.285714</td>\n",
       "      <td>1.0</td>\n",
       "      <td>0.0</td>\n",
       "      <td>0.0</td>\n",
       "      <td>0.000000</td>\n",
       "      <td>0.0</td>\n",
       "      <td>1.333333</td>\n",
       "      <td>1.365854</td>\n",
       "    </tr>\n",
       "    <tr>\n",
       "      <th>2295</th>\n",
       "      <td>2</td>\n",
       "      <td>2020-03-08</td>\n",
       "      <td>True</td>\n",
       "      <td>67.0</td>\n",
       "      <td>7.0</td>\n",
       "      <td>49.0</td>\n",
       "      <td>124.0</td>\n",
       "      <td>120.0</td>\n",
       "      <td>0.0</td>\n",
       "      <td>0.0</td>\n",
       "      <td>...</td>\n",
       "      <td>0.000000</td>\n",
       "      <td>0.0</td>\n",
       "      <td>0.000000</td>\n",
       "      <td>0.0</td>\n",
       "      <td>0.0</td>\n",
       "      <td>0.0</td>\n",
       "      <td>0.166667</td>\n",
       "      <td>0.0</td>\n",
       "      <td>0.000000</td>\n",
       "      <td>0.000000</td>\n",
       "    </tr>\n",
       "    <tr>\n",
       "      <th>7542</th>\n",
       "      <td>4</td>\n",
       "      <td>2020-03-24</td>\n",
       "      <td>False</td>\n",
       "      <td>37.0</td>\n",
       "      <td>8.0</td>\n",
       "      <td>39.0</td>\n",
       "      <td>40.0</td>\n",
       "      <td>9.0</td>\n",
       "      <td>0.0</td>\n",
       "      <td>39.0</td>\n",
       "      <td>...</td>\n",
       "      <td>0.076923</td>\n",
       "      <td>0.0</td>\n",
       "      <td>1.000000</td>\n",
       "      <td>0.0</td>\n",
       "      <td>0.0</td>\n",
       "      <td>0.0</td>\n",
       "      <td>1.000000</td>\n",
       "      <td>0.0</td>\n",
       "      <td>0.333333</td>\n",
       "      <td>0.528302</td>\n",
       "    </tr>\n",
       "    <tr>\n",
       "      <th>18067</th>\n",
       "      <td>4</td>\n",
       "      <td>2020-04-24</td>\n",
       "      <td>False</td>\n",
       "      <td>30.0</td>\n",
       "      <td>6.0</td>\n",
       "      <td>21.0</td>\n",
       "      <td>32.0</td>\n",
       "      <td>4.0</td>\n",
       "      <td>0.0</td>\n",
       "      <td>27.0</td>\n",
       "      <td>...</td>\n",
       "      <td>0.074074</td>\n",
       "      <td>0.0</td>\n",
       "      <td>0.777778</td>\n",
       "      <td>0.0</td>\n",
       "      <td>0.0</td>\n",
       "      <td>0.0</td>\n",
       "      <td>-0.250000</td>\n",
       "      <td>0.0</td>\n",
       "      <td>0.333333</td>\n",
       "      <td>0.345679</td>\n",
       "    </tr>\n",
       "  </tbody>\n",
       "</table>\n",
       "<p>5 rows × 23 columns</p>\n",
       "</div>"
      ],
      "text/plain": [
       "       account_id observation_date  is_churn  like_per_month  \\\n",
       "7221            1       2020-03-23     False             2.0   \n",
       "17738           1       2020-04-23     False             1.0   \n",
       "2295            2       2020-03-08      True            67.0   \n",
       "7542            4       2020-03-24     False            37.0   \n",
       "18067           4       2020-04-24     False            30.0   \n",
       "\n",
       "       newfriend_per_month  post_per_month  adview_per_month  \\\n",
       "7221                   1.0             6.0               2.0   \n",
       "17738                  1.0             2.0               4.0   \n",
       "2295                   7.0            49.0             124.0   \n",
       "7542                   8.0            39.0              40.0   \n",
       "18067                  6.0            21.0              32.0   \n",
       "\n",
       "       dislike_per_month  unfriend_per_month  message_per_month  ...  \\\n",
       "7221                 2.0                 2.0                7.0  ...   \n",
       "17738                4.0                 1.0                7.0  ...   \n",
       "2295               120.0                 0.0                0.0  ...   \n",
       "7542                 9.0                 0.0               39.0  ...   \n",
       "18067                4.0                 0.0               27.0  ...   \n",
       "\n",
       "       reply_per_message  like_per_post  post_per_message  \\\n",
       "7221            0.571429            0.0          0.857143   \n",
       "17738           0.428571            0.0          0.285714   \n",
       "2295            0.000000            0.0          0.000000   \n",
       "7542            0.076923            0.0          1.000000   \n",
       "18067           0.074074            0.0          0.777778   \n",
       "\n",
       "       unfriend_per_newfriend  dislike_pcnt  unfriend_per_newfriend_scaled  \\\n",
       "7221                      2.0           0.0                            0.0   \n",
       "17738                     1.0           0.0                            0.0   \n",
       "2295                      0.0           0.0                            0.0   \n",
       "7542                      0.0           0.0                            0.0   \n",
       "18067                     0.0           0.0                            0.0   \n",
       "\n",
       "       newfriend_pcnt_chng  days_since_newfriend  \\\n",
       "7221              0.000000                   0.0   \n",
       "17738             0.000000                   0.0   \n",
       "2295              0.166667                   0.0   \n",
       "7542              1.000000                   0.0   \n",
       "18067            -0.250000                   0.0   \n",
       "\n",
       "       unfriend_28day_avg_84day_obs  unfriend_28day_avg_84day_obs_scaled  \n",
       "7221                       1.000000                             1.555556  \n",
       "17738                      1.333333                             1.365854  \n",
       "2295                       0.000000                             0.000000  \n",
       "7542                       0.333333                             0.528302  \n",
       "18067                      0.333333                             0.345679  \n",
       "\n",
       "[5 rows x 23 columns]"
      ]
     },
     "execution_count": 170,
     "metadata": {},
     "output_type": "execute_result"
    }
   ],
   "source": [
    "# listing_7_2_dataset2\n",
    "# creates a new observation dataset\n",
    "# new metrics are populated with previous queries\n",
    "\n",
    "query = f\"\"\"\\\n",
    "\n",
    "WITH observation_params AS (\n",
    "    SELECT\n",
    "        INTERVAL '{metric_interval}' AS metric_period,\n",
    "        '{from_yyyy_mm_dd}'::timestamp AS obs_start,\n",
    "        '{to_yyyy_mm_dd}'::timestamp AS obs_end\n",
    ")\n",
    "\n",
    "    SELECT \n",
    "        m.account_id, \n",
    "        o.observation_date, \n",
    "        is_churn,\n",
    "        SUM(CASE WHEN metric_name_id=0 THEN metric_value ELSE 0 END) AS like_per_month,\n",
    "        SUM(CASE WHEN metric_name_id=1 THEN metric_value ELSE 0 END) AS newfriend_per_month,\n",
    "        SUM(CASE WHEN metric_name_id=2 THEN metric_value ELSE 0 END) AS post_per_month,\n",
    "        SUM(CASE WHEN metric_name_id=3 THEN metric_value ELSE 0 END) AS adview_per_month,\n",
    "        SUM(CASE WHEN metric_name_id=4 THEN metric_value ELSE 0 END) AS dislike_per_month,\n",
    "        SUM(CASE WHEN metric_name_id=5 THEN metric_value ELSE 0 END) AS unfriend_per_month,\n",
    "        SUM(CASE WHEN metric_name_id=6 THEN metric_value ELSE 0 END) AS message_per_month,\n",
    "        SUM(CASE WHEN metric_name_id=7 THEN metric_value ELSE 0 END) AS reply_per_month,\n",
    "        SUM(CASE WHEN metric_name_id=8 THEN metric_value ELSE 0 END) AS account_tenure,\n",
    "        SUM(CASE WHEN metric_name_id=21 THEN metric_value ELSE 0 END) AS adview_per_post,\n",
    "        SUM(CASE WHEN metric_name_id=22 THEN metric_value ELSE 0 END) AS reply_per_message,\n",
    "        SUM(CASE WHEN metric_name_id=23 THEN metric_value ELSE 0 END) AS like_per_post,\n",
    "        SUM(CASE WHEN metric_name_id=24 THEN metric_value ELSE 0 END) AS post_per_message,\n",
    "        SUM(CASE WHEN metric_name_id=25 THEN metric_value ELSE 0 END) AS unfriend_per_newfriend,\n",
    "        SUM(CASE WHEN metric_name_id=27 THEN metric_value ELSE 0 END) AS dislike_pcnt,\n",
    "        SUM(CASE WHEN metric_name_id=28 THEN metric_value ELSE 0 END) AS unfriend_per_newfriend_scaled,\n",
    "        SUM(CASE WHEN metric_name_id=30 THEN metric_value ELSE 0 END) AS newfriend_pcnt_chng,\n",
    "        SUM(CASE WHEN metric_name_id=31 THEN metric_value ELSE 0 END) AS days_since_newfriend,\n",
    "        SUM(CASE WHEN metric_name_id=33 THEN metric_value ELSE 0 END) AS unfriend_28day_avg_84day_obs,\n",
    "        SUM(CASE WHEN metric_name_id=34 THEN metric_value ELSE 0 END) AS unfriend_28day_avg_84day_obs_scaled\n",
    "      FROM \n",
    "        metric AS m \n",
    "INNER JOIN \n",
    "        observation_params\n",
    "        ON metric_time BETWEEN obs_start AND obs_end\n",
    "INNER JOIN \n",
    "        observation AS o \n",
    "        ON m.account_id = o.account_id\n",
    "       AND m.metric_time > (o.observation_date - metric_period)::timestamp\n",
    "       AND m.metric_time <= o.observation_date::timestamp\n",
    "  GROUP BY \n",
    "        m.account_id, metric_time, observation_date, is_churn\n",
    "  ORDER BY \n",
    "        observation_date,m.account_id\n",
    "\"\"\"\n",
    "\n",
    "res = pd.read_sql_query(query, conn).sort_values([\"account_id\", \"observation_date\"])\n",
    "res.head()"
   ]
  },
  {
   "cell_type": "code",
   "execution_count": 173,
   "id": "16d671d0-6182-43ce-9647-42095d09b391",
   "metadata": {},
   "outputs": [
    {
     "data": {
      "text/html": [
       "<div>\n",
       "<style scoped>\n",
       "    .dataframe tbody tr th:only-of-type {\n",
       "        vertical-align: middle;\n",
       "    }\n",
       "\n",
       "    .dataframe tbody tr th {\n",
       "        vertical-align: top;\n",
       "    }\n",
       "\n",
       "    .dataframe thead th {\n",
       "        text-align: right;\n",
       "    }\n",
       "</style>\n",
       "<table border=\"1\" class=\"dataframe\">\n",
       "  <thead>\n",
       "    <tr style=\"text-align: right;\">\n",
       "      <th></th>\n",
       "      <th>account_id</th>\n",
       "      <th>like_per_month</th>\n",
       "      <th>newfriend_per_month</th>\n",
       "      <th>post_per_month</th>\n",
       "      <th>adview_per_month</th>\n",
       "      <th>dislike_per_month</th>\n",
       "      <th>unfriend_per_month</th>\n",
       "      <th>message_per_month</th>\n",
       "      <th>reply_per_month</th>\n",
       "      <th>account_tenure</th>\n",
       "      <th>...</th>\n",
       "      <th>reply_per_message</th>\n",
       "      <th>like_per_post</th>\n",
       "      <th>post_per_message</th>\n",
       "      <th>unfriend_per_newfriend</th>\n",
       "      <th>dislike_pcnt</th>\n",
       "      <th>unfriend_per_newfriend_scaled</th>\n",
       "      <th>newfriend_pcnt_chng</th>\n",
       "      <th>days_since_newfriend</th>\n",
       "      <th>unfriend_28day_avg_84day_obs</th>\n",
       "      <th>unfriend_28day_avg_84day_obs_scaled</th>\n",
       "    </tr>\n",
       "  </thead>\n",
       "  <tbody>\n",
       "    <tr>\n",
       "      <th>count</th>\n",
       "      <td>24450.000000</td>\n",
       "      <td>24450.000000</td>\n",
       "      <td>24450.000000</td>\n",
       "      <td>24450.000000</td>\n",
       "      <td>24450.000000</td>\n",
       "      <td>24450.000000</td>\n",
       "      <td>24450.000000</td>\n",
       "      <td>24450.000000</td>\n",
       "      <td>24450.000000</td>\n",
       "      <td>24450.000000</td>\n",
       "      <td>...</td>\n",
       "      <td>24450.000000</td>\n",
       "      <td>24450.0</td>\n",
       "      <td>24450.000000</td>\n",
       "      <td>24450.000000</td>\n",
       "      <td>24450.0</td>\n",
       "      <td>24450.000000</td>\n",
       "      <td>24450.000000</td>\n",
       "      <td>24450.000000</td>\n",
       "      <td>24450.000000</td>\n",
       "      <td>24450.000000</td>\n",
       "    </tr>\n",
       "    <tr>\n",
       "      <th>mean</th>\n",
       "      <td>6094.093170</td>\n",
       "      <td>105.869611</td>\n",
       "      <td>7.363149</td>\n",
       "      <td>44.892638</td>\n",
       "      <td>42.641227</td>\n",
       "      <td>15.730429</td>\n",
       "      <td>0.303067</td>\n",
       "      <td>30.849162</td>\n",
       "      <td>8.122781</td>\n",
       "      <td>70.089407</td>\n",
       "      <td>...</td>\n",
       "      <td>0.256738</td>\n",
       "      <td>0.0</td>\n",
       "      <td>6.284334</td>\n",
       "      <td>0.081123</td>\n",
       "      <td>0.0</td>\n",
       "      <td>2.420859</td>\n",
       "      <td>0.179551</td>\n",
       "      <td>0.834683</td>\n",
       "      <td>0.237164</td>\n",
       "      <td>0.306416</td>\n",
       "    </tr>\n",
       "    <tr>\n",
       "      <th>std</th>\n",
       "      <td>3550.154896</td>\n",
       "      <td>211.591800</td>\n",
       "      <td>8.808748</td>\n",
       "      <td>81.584549</td>\n",
       "      <td>73.222626</td>\n",
       "      <td>22.407343</td>\n",
       "      <td>0.546136</td>\n",
       "      <td>68.562317</td>\n",
       "      <td>22.296798</td>\n",
       "      <td>26.736672</td>\n",
       "      <td>...</td>\n",
       "      <td>0.313804</td>\n",
       "      <td>0.0</td>\n",
       "      <td>16.943736</td>\n",
       "      <td>0.229067</td>\n",
       "      <td>0.0</td>\n",
       "      <td>12.628524</td>\n",
       "      <td>0.892838</td>\n",
       "      <td>4.706198</td>\n",
       "      <td>0.289446</td>\n",
       "      <td>0.392316</td>\n",
       "    </tr>\n",
       "    <tr>\n",
       "      <th>min</th>\n",
       "      <td>1.000000</td>\n",
       "      <td>0.000000</td>\n",
       "      <td>0.000000</td>\n",
       "      <td>0.000000</td>\n",
       "      <td>0.000000</td>\n",
       "      <td>0.000000</td>\n",
       "      <td>0.000000</td>\n",
       "      <td>0.000000</td>\n",
       "      <td>0.000000</td>\n",
       "      <td>18.000000</td>\n",
       "      <td>...</td>\n",
       "      <td>0.000000</td>\n",
       "      <td>0.0</td>\n",
       "      <td>0.000000</td>\n",
       "      <td>0.000000</td>\n",
       "      <td>0.0</td>\n",
       "      <td>0.000000</td>\n",
       "      <td>-1.000000</td>\n",
       "      <td>0.000000</td>\n",
       "      <td>0.000000</td>\n",
       "      <td>0.000000</td>\n",
       "    </tr>\n",
       "    <tr>\n",
       "      <th>25%</th>\n",
       "      <td>3005.500000</td>\n",
       "      <td>18.000000</td>\n",
       "      <td>2.000000</td>\n",
       "      <td>9.000000</td>\n",
       "      <td>9.000000</td>\n",
       "      <td>4.000000</td>\n",
       "      <td>0.000000</td>\n",
       "      <td>5.000000</td>\n",
       "      <td>1.000000</td>\n",
       "      <td>52.000000</td>\n",
       "      <td>...</td>\n",
       "      <td>0.063341</td>\n",
       "      <td>0.0</td>\n",
       "      <td>0.428571</td>\n",
       "      <td>0.000000</td>\n",
       "      <td>0.0</td>\n",
       "      <td>0.000000</td>\n",
       "      <td>-0.250000</td>\n",
       "      <td>0.000000</td>\n",
       "      <td>0.000000</td>\n",
       "      <td>0.000000</td>\n",
       "    </tr>\n",
       "    <tr>\n",
       "      <th>50%</th>\n",
       "      <td>6075.500000</td>\n",
       "      <td>46.000000</td>\n",
       "      <td>5.000000</td>\n",
       "      <td>22.000000</td>\n",
       "      <td>21.000000</td>\n",
       "      <td>9.000000</td>\n",
       "      <td>0.000000</td>\n",
       "      <td>12.000000</td>\n",
       "      <td>2.000000</td>\n",
       "      <td>80.000000</td>\n",
       "      <td>...</td>\n",
       "      <td>0.173913</td>\n",
       "      <td>0.0</td>\n",
       "      <td>1.523810</td>\n",
       "      <td>0.000000</td>\n",
       "      <td>0.0</td>\n",
       "      <td>0.000000</td>\n",
       "      <td>0.000000</td>\n",
       "      <td>0.000000</td>\n",
       "      <td>0.000000</td>\n",
       "      <td>0.000000</td>\n",
       "    </tr>\n",
       "    <tr>\n",
       "      <th>75%</th>\n",
       "      <td>9133.750000</td>\n",
       "      <td>109.000000</td>\n",
       "      <td>9.000000</td>\n",
       "      <td>50.000000</td>\n",
       "      <td>47.000000</td>\n",
       "      <td>19.000000</td>\n",
       "      <td>1.000000</td>\n",
       "      <td>29.000000</td>\n",
       "      <td>6.000000</td>\n",
       "      <td>85.000000</td>\n",
       "      <td>...</td>\n",
       "      <td>0.342105</td>\n",
       "      <td>0.0</td>\n",
       "      <td>5.123162</td>\n",
       "      <td>0.000000</td>\n",
       "      <td>0.0</td>\n",
       "      <td>0.000000</td>\n",
       "      <td>0.333333</td>\n",
       "      <td>0.000000</td>\n",
       "      <td>0.333333</td>\n",
       "      <td>0.528302</td>\n",
       "    </tr>\n",
       "    <tr>\n",
       "      <th>max</th>\n",
       "      <td>13310.000000</td>\n",
       "      <td>5581.000000</td>\n",
       "      <td>162.000000</td>\n",
       "      <td>2384.000000</td>\n",
       "      <td>1457.000000</td>\n",
       "      <td>405.000000</td>\n",
       "      <td>5.000000</td>\n",
       "      <td>1511.000000</td>\n",
       "      <td>579.000000</td>\n",
       "      <td>116.000000</td>\n",
       "      <td>...</td>\n",
       "      <td>8.000000</td>\n",
       "      <td>0.0</td>\n",
       "      <td>423.600000</td>\n",
       "      <td>3.000000</td>\n",
       "      <td>0.0</td>\n",
       "      <td>348.000000</td>\n",
       "      <td>12.000000</td>\n",
       "      <td>113.000000</td>\n",
       "      <td>2.333333</td>\n",
       "      <td>4.200000</td>\n",
       "    </tr>\n",
       "  </tbody>\n",
       "</table>\n",
       "<p>8 rows × 21 columns</p>\n",
       "</div>"
      ],
      "text/plain": [
       "         account_id  like_per_month  newfriend_per_month  post_per_month  \\\n",
       "count  24450.000000    24450.000000         24450.000000    24450.000000   \n",
       "mean    6094.093170      105.869611             7.363149       44.892638   \n",
       "std     3550.154896      211.591800             8.808748       81.584549   \n",
       "min        1.000000        0.000000             0.000000        0.000000   \n",
       "25%     3005.500000       18.000000             2.000000        9.000000   \n",
       "50%     6075.500000       46.000000             5.000000       22.000000   \n",
       "75%     9133.750000      109.000000             9.000000       50.000000   \n",
       "max    13310.000000     5581.000000           162.000000     2384.000000   \n",
       "\n",
       "       adview_per_month  dislike_per_month  unfriend_per_month  \\\n",
       "count      24450.000000       24450.000000        24450.000000   \n",
       "mean          42.641227          15.730429            0.303067   \n",
       "std           73.222626          22.407343            0.546136   \n",
       "min            0.000000           0.000000            0.000000   \n",
       "25%            9.000000           4.000000            0.000000   \n",
       "50%           21.000000           9.000000            0.000000   \n",
       "75%           47.000000          19.000000            1.000000   \n",
       "max         1457.000000         405.000000            5.000000   \n",
       "\n",
       "       message_per_month  reply_per_month  account_tenure  ...  \\\n",
       "count       24450.000000     24450.000000    24450.000000  ...   \n",
       "mean           30.849162         8.122781       70.089407  ...   \n",
       "std            68.562317        22.296798       26.736672  ...   \n",
       "min             0.000000         0.000000       18.000000  ...   \n",
       "25%             5.000000         1.000000       52.000000  ...   \n",
       "50%            12.000000         2.000000       80.000000  ...   \n",
       "75%            29.000000         6.000000       85.000000  ...   \n",
       "max          1511.000000       579.000000      116.000000  ...   \n",
       "\n",
       "       reply_per_message  like_per_post  post_per_message  \\\n",
       "count       24450.000000        24450.0      24450.000000   \n",
       "mean            0.256738            0.0          6.284334   \n",
       "std             0.313804            0.0         16.943736   \n",
       "min             0.000000            0.0          0.000000   \n",
       "25%             0.063341            0.0          0.428571   \n",
       "50%             0.173913            0.0          1.523810   \n",
       "75%             0.342105            0.0          5.123162   \n",
       "max             8.000000            0.0        423.600000   \n",
       "\n",
       "       unfriend_per_newfriend  dislike_pcnt  unfriend_per_newfriend_scaled  \\\n",
       "count            24450.000000       24450.0                   24450.000000   \n",
       "mean                 0.081123           0.0                       2.420859   \n",
       "std                  0.229067           0.0                      12.628524   \n",
       "min                  0.000000           0.0                       0.000000   \n",
       "25%                  0.000000           0.0                       0.000000   \n",
       "50%                  0.000000           0.0                       0.000000   \n",
       "75%                  0.000000           0.0                       0.000000   \n",
       "max                  3.000000           0.0                     348.000000   \n",
       "\n",
       "       newfriend_pcnt_chng  days_since_newfriend  \\\n",
       "count         24450.000000          24450.000000   \n",
       "mean              0.179551              0.834683   \n",
       "std               0.892838              4.706198   \n",
       "min              -1.000000              0.000000   \n",
       "25%              -0.250000              0.000000   \n",
       "50%               0.000000              0.000000   \n",
       "75%               0.333333              0.000000   \n",
       "max              12.000000            113.000000   \n",
       "\n",
       "       unfriend_28day_avg_84day_obs  unfriend_28day_avg_84day_obs_scaled  \n",
       "count                  24450.000000                         24450.000000  \n",
       "mean                       0.237164                             0.306416  \n",
       "std                        0.289446                             0.392316  \n",
       "min                        0.000000                             0.000000  \n",
       "25%                        0.000000                             0.000000  \n",
       "50%                        0.000000                             0.000000  \n",
       "75%                        0.333333                             0.528302  \n",
       "max                        2.333333                             4.200000  \n",
       "\n",
       "[8 rows x 21 columns]"
      ]
     },
     "execution_count": 173,
     "metadata": {},
     "output_type": "execute_result"
    }
   ],
   "source": [
    "res.describe()"
   ]
  },
  {
   "cell_type": "code",
   "execution_count": null,
   "id": "9f6050a3-19f2-4ed8-8750-a91143f2ed91",
   "metadata": {},
   "outputs": [],
   "source": []
  },
  {
   "cell_type": "markdown",
   "id": "0f043c77-9ea0-4144-88fc-f053881c11bd",
   "metadata": {
    "tags": []
   },
   "source": [
    "## Insert Queries"
   ]
  },
  {
   "cell_type": "code",
   "execution_count": 125,
   "id": "a1d23a1a-61fa-4c58-951f-7628aa0202f1",
   "metadata": {},
   "outputs": [
    {
     "data": {
      "text/plain": [
       "('2020-03-01', '2020-05-10')"
      ]
     },
     "execution_count": 125,
     "metadata": {},
     "output_type": "execute_result"
    }
   ],
   "source": [
    "from_yyyy_mm_dd = chap7.defaults[\"%from_yyyy-mm-dd\"] \n",
    "to_yyyy_mm_dd = chap7.defaults[\"%to_yyyy-mm-dd\"]\n",
    "from_yyyy_mm_dd, to_yyyy_mm_dd "
   ]
  },
  {
   "cell_type": "code",
   "execution_count": null,
   "id": "9d5efef8-e093-47a2-8e0a-b0cd486ae813",
   "metadata": {},
   "outputs": [],
   "source": []
  },
  {
   "cell_type": "markdown",
   "id": "9ea438e7-bf07-4769-a3d1-9bd73c0efac7",
   "metadata": {
    "tags": []
   },
   "source": [
    "### Listing 7.1 Ratio Metric"
   ]
  },
  {
   "cell_type": "code",
   "execution_count": 126,
   "id": "7d6bb918-dcd2-4372-b0ad-0a60181426cd",
   "metadata": {},
   "outputs": [
    {
     "data": {
      "text/plain": [
       "[('adview_per_month', 'post_per_month'),\n",
       " ('reply_per_month', 'message_per_month'),\n",
       " ('like_per_month', None),\n",
       " ('post_per_month', 'message_per_month'),\n",
       " ('unfriend_per_month', 'newfriend_per_month'),\n",
       " ('dislike_per_month', 'total_opinions'),\n",
       " ('unfriend_28day_avg_84day_obs_scaled', 'newfriend_per_month')]"
      ]
     },
     "execution_count": 126,
     "metadata": {},
     "output_type": "execute_result"
    }
   ],
   "source": [
    "tmp = chap7.list1.insert\n",
    "# pprint(tmp)\n",
    "\n",
    "new_metric_ids = [tmp.params[\"%new_metric_id\"], *[tmp[f\"v{i}\"][\"%new_metric_id\"] for i in range(2,8)]] \n",
    "new_metric_names = [tmp.params[\"%new_metric_name\"], *[tmp[f\"v{i}\"][\"%new_metric_name\"] for i in range(2,8)]] \n",
    "\n",
    "# pair of (numerator, denominator)\n",
    "ratio_metric_pairs = [\n",
    "    (tmp.params[\"%num_metric\"], tmp.params[\"%den_metric\"]),\n",
    "    *[(tmp[f\"v{i}\"][\"%num_metric\"], tmp[f\"v{i}\"].get(\"%den_metric\")) for i in range(2,8)]\n",
    "] \n",
    "ratio_metric_pairs"
   ]
  },
  {
   "cell_type": "code",
   "execution_count": 127,
   "id": "fd93b36f-1809-45e4-b2a9-1119001bbdb3",
   "metadata": {},
   "outputs": [
    {
     "data": {
      "text/plain": [
       "([21, 22, 23, 24, 25, 27, 28],\n",
       " ['adviw_per_post',\n",
       "  'reply_per_message',\n",
       "  'like_per_post',\n",
       "  'post_per_message',\n",
       "  'unfriend_per_newfriend',\n",
       "  'dislike_percent',\n",
       "  'unfriend_per_newfriend_scaled'])"
      ]
     },
     "execution_count": 127,
     "metadata": {},
     "output_type": "execute_result"
    }
   ],
   "source": [
    "new_metric_ids, new_metric_names"
   ]
  },
  {
   "cell_type": "code",
   "execution_count": 128,
   "id": "7bf0241d-7745-4551-85fa-bc45ec62960e",
   "metadata": {},
   "outputs": [],
   "source": [
    "# insert_7_1_ratio_metric\n",
    "def insert_ratio_metric_query(\n",
    "    new_metric_id, new_metric_name, num_metric, den_metric, from_yyyy_mm_dd, to_yyyy_mm_dd\n",
    "):\n",
    "\n",
    "    query = f\"\"\"\\\n",
    "    INSERT into metric_name values ({new_metric_id}, concat('{new_metric_name}'))\n",
    "    ON CONFLICT DO NOTHING;\n",
    "\n",
    "    -- numerator metric\n",
    "    WITH num_metric AS (\n",
    "                SELECT\n",
    "                        account_id,\n",
    "                        metric_time,\n",
    "                        metric_value AS num_value\n",
    "                    FROM\n",
    "                        metric AS m\n",
    "        INNER JOIN metric_name AS n\n",
    "                         ON n.metric_name_id = m.metric_name_id\n",
    "                      AND n.metric_name = '{num_metric}'\n",
    "                      AND metric_time BETWEEN '{from_yyyy_mm_dd}' AND '{to_yyyy_mm_dd}'\n",
    "    ), -- denominator metric\n",
    "    den_metric AS (\n",
    "                SELECT\n",
    "                        account_id,\n",
    "                        metric_time,\n",
    "                        metric_value AS den_value\n",
    "                  FROM\n",
    "                        metric AS m\n",
    "        INNER JOIN metric_name AS n\n",
    "                        ON n.metric_name_id=m.metric_name_id\n",
    "                   AND n.metric_name = '{den_metric}'\n",
    "                     AND metric_time BETWEEN '{from_yyyy_mm_dd}' AND '{to_yyyy_mm_dd}'\n",
    "    )\n",
    "\n",
    "    INSERT INTO metric (account_id, metric_time, metric_name_id, metric_value)\n",
    "\n",
    "             SELECT\n",
    "                 d.account_id,\n",
    "                 d.metric_time,\n",
    "                 {new_metric_id} AS metric_name_id,\n",
    "          CASE WHEN den_value > 0\n",
    "                 THEN COALESCE(num_value, 0.0) / den_value\n",
    "                 ELSE 0\n",
    "                  END AS metric_value\n",
    "               FROM den_metric AS d\n",
    "    LEFT OUTER JOIN num_metric AS n\n",
    "                 ON n.account_id = d.account_id\n",
    "                AND n.metric_time = d.metric_time\n",
    "\n",
    "    ON CONFLICT DO NOTHING;\n",
    "    \"\"\"\n",
    "    \n",
    "    return query"
   ]
  },
  {
   "cell_type": "code",
   "execution_count": 139,
   "id": "692bc320-437c-495f-8777-c5a1433cded0",
   "metadata": {},
   "outputs": [
    {
     "name": "stdout",
     "output_type": "stream",
     "text": [
      "\"adviw_per_post\" already created, skipping generating the metric\n",
      "\"reply_per_message\" already created, skipping generating the metric\n",
      "\"post_per_message\" already created, skipping generating the metric\n",
      "\"unfriend_per_newfriend\" already created, skipping generating the metric\n",
      "\"unfriend_per_newfriend_scaled\" already created, skipping generating the metric\n",
      "CPU times: user 21.8 ms, sys: 713 µs, total: 22.6 ms\n",
      "Wall time: 334 ms\n"
     ]
    },
    {
     "data": {
      "text/plain": [
       "[<sqlalchemy.engine.cursor.LegacyCursorResult at 0x7fb4978da130>,\n",
       " <sqlalchemy.engine.cursor.LegacyCursorResult at 0x7fb4977a26d0>]"
      ]
     },
     "execution_count": 139,
     "metadata": {},
     "output_type": "execute_result"
    }
   ],
   "source": [
    "%%time \n",
    "\n",
    "tmp = pd.read_sql_query(\"SELECT metric_name_id, COUNT(*) FROM metric GROUP BY metric_name_id\", conn) \n",
    "\n",
    "results = []\n",
    "for i, (num_metric, den_metric) in enumerate(ratio_metric_pairs):\n",
    "    new_metric_id = new_metric_ids[i]\n",
    "    new_metric_name = new_metric_names[i]\n",
    "    \n",
    "    if tmp.query(f\"metric_name_id == {new_metric_id}\").shape[0] != 0: \n",
    "        print(f\"\\\"{new_metric_name}\\\" already created, skipping generating the metric\")\n",
    "        continue\n",
    "    \n",
    "    m_query = insert_ratio_metric_query(\n",
    "        new_metric_id, new_metric_name, \n",
    "        num_metric, den_metric,\n",
    "        from_yyyy_mm_dd, to_yyyy_mm_dd,\n",
    "    )\n",
    "    with engine.begin() as connection:\n",
    "        result = connection.execute(m_query)\n",
    "    results.append(result)\n",
    "\n",
    "results"
   ]
  },
  {
   "cell_type": "code",
   "execution_count": null,
   "id": "7277b8da-b247-480a-9630-4a7dcfc30606",
   "metadata": {},
   "outputs": [],
   "source": []
  },
  {
   "cell_type": "markdown",
   "id": "81c83cbe-c0c2-4fc4-89ba-b42afcc113b7",
   "metadata": {
    "tags": []
   },
   "source": [
    "### Litsting 7.3 Total Metrics"
   ]
  },
  {
   "cell_type": "code",
   "execution_count": 48,
   "id": "dadae6b8-f2e0-4720-9232-87a4af4904a9",
   "metadata": {},
   "outputs": [
    {
     "data": {
      "text/plain": [
       "(\" 'like_per_month', 'dislike_per_month' \", 26, 'total_opinions')"
      ]
     },
     "execution_count": 48,
     "metadata": {},
     "output_type": "execute_result"
    }
   ],
   "source": [
    "metric_list = chap7.list3.params[\"%metric_list\"]\n",
    "\n",
    "metric_list = chap7.list3.insert.params[\"%metric_list\"]\n",
    "new_metric_id = chap7.list3.insert.params[\"%new_metric_id\"]\n",
    "new_metric_name = chap7.list3.insert.params[\"%new_metric_name\"]\n",
    "metric_list, new_metric_id, new_metric_name"
   ]
  },
  {
   "cell_type": "code",
   "execution_count": 148,
   "id": "df557dd0-c15e-4602-9c12-c75b5bd034ea",
   "metadata": {},
   "outputs": [
    {
     "data": {
      "text/plain": [
       "<sqlalchemy.engine.cursor.LegacyCursorResult at 0x7fb497b36cd0>"
      ]
     },
     "execution_count": 148,
     "metadata": {},
     "output_type": "execute_result"
    }
   ],
   "source": [
    "# insert_7_3_total_metric\n",
    "query = f\"\"\"\\\n",
    "INSERT into metric_name values ({new_metric_id},'{new_metric_name}')\n",
    "ON CONFLICT DO NOTHING;\n",
    "\n",
    "INSERT INTO metric (account_id,metric_time,metric_name_id,metric_value)\n",
    "\n",
    "    SELECT \n",
    "        account_id, \n",
    "        metric_time, \n",
    "        {new_metric_id} AS metric_name_id, \n",
    "        sum(metric_value) AS metric_total\n",
    "      FROM \n",
    "        metric AS m \n",
    "INNER JOIN \n",
    "        metric_name AS n \n",
    "        ON n.metric_name_id = m.metric_name_id\n",
    "       AND n.metric_name IN ({metric_list})\n",
    "     WHERE metric_time BETWEEN '{from_yyyy_mm_dd}' AND '{to_yyyy_mm_dd}'\n",
    "  GROUP BY metric_time, account_id\n",
    "\n",
    "ON CONFLICT DO NOTHING;\n",
    "\"\"\"\n",
    "tmp = pd.read_sql_query(\"\"\"\\\n",
    "  SELECT metric_name_id, COUNT(*) FROM metric \n",
    "   WHERE metric_name_id = 26  GROUP BY metric_name_id\"\"\", conn) \n",
    "\n",
    "assert tmp.shape[0] == 0, f\"{new_meric_name} already created.\" \n",
    "with engine.begin() as connection:\n",
    "    result = connection.execute(query)\n",
    "result"
   ]
  },
  {
   "cell_type": "code",
   "execution_count": null,
   "id": "0e05a57e-d764-4416-a18e-99cdb152b51e",
   "metadata": {},
   "outputs": [],
   "source": []
  },
  {
   "cell_type": "markdown",
   "id": "c08699b9-83c3-4ac4-a0a5-a29ec6bb399e",
   "metadata": {},
   "source": [
    "### Litsting 7.4 Percent Chnage Metrics"
   ]
  },
  {
   "cell_type": "code",
   "execution_count": 149,
   "id": "35abcc50-5de9-4408-8cbb-6804f713db1e",
   "metadata": {},
   "outputs": [
    {
     "data": {
      "text/plain": [
       "('2020-03-01', '2020-05-10')"
      ]
     },
     "execution_count": 149,
     "metadata": {},
     "output_type": "execute_result"
    }
   ],
   "source": [
    "from_yyyy_mm_dd = chap7.defaults[\"%from_yyyy-mm-dd\"] \n",
    "to_yyyy_mm_dd = chap7.defaults[\"%to_yyyy-mm-dd\"]\n",
    "from_yyyy_mm_dd, to_yyyy_mm_dd "
   ]
  },
  {
   "cell_type": "code",
   "execution_count": 150,
   "id": "454dabd1-e21c-4a72-92a2-1b1b5992154f",
   "metadata": {},
   "outputs": [
    {
     "data": {
      "text/plain": [
       "(30, 'new_friends_pcnt_change', 'newfriend_per_month', 4)"
      ]
     },
     "execution_count": 150,
     "metadata": {},
     "output_type": "execute_result"
    }
   ],
   "source": [
    "new_metric_id = chap7.list4.insert.params[\"%new_metric_id\"]\n",
    "new_metric_name = chap7.list4.insert.params[\"%new_metric_name\"]\n",
    "metric2measure = chap7.list4.insert.params[\"%metric2measure\"]\n",
    "period_weeks = chap7.list4.insert.params[\"%period_weeks\"]\n",
    "\n",
    "new_metric_id, new_metric_name, metric2measure, period_weeks"
   ]
  },
  {
   "cell_type": "code",
   "execution_count": 151,
   "id": "5b06203a-4df3-410e-be77-c529b7d6b38d",
   "metadata": {},
   "outputs": [
    {
     "data": {
      "text/plain": [
       "<sqlalchemy.engine.cursor.LegacyCursorResult at 0x7fb497b85ac0>"
      ]
     },
     "execution_count": 151,
     "metadata": {},
     "output_type": "execute_result"
    }
   ],
   "source": [
    "# insert_7_4_percent_change_metric\n",
    "\n",
    "query = f\"\"\"\\\n",
    "INSERT into metric_name values ({new_metric_id},'{new_metric_name}')\n",
    "ON CONFLICT DO NOTHING;\n",
    "\n",
    "WITH end_metric AS (\n",
    "    SELECT \n",
    "        account_id, \n",
    "        metric_time, \n",
    "        metric_value AS end_value\n",
    "      FROM metric AS m \n",
    "INNER JOIN metric_name AS n \n",
    "        ON n.metric_name_id = m.metric_name_id\n",
    "       AND n.metric_name = '{metric2measure}'\n",
    "       AND metric_time BETWEEN '{from_yyyy_mm_dd}' AND '{to_yyyy_mm_dd}'\n",
    "), \n",
    "start_metric AS (\n",
    "    SELECT \n",
    "        account_id, \n",
    "        metric_time, \n",
    "        metric_value AS start_value\n",
    "      FROM metric AS m \n",
    "INNER JOIN metric_name AS n \n",
    "        ON n.metric_name_id = m.metric_name_id\n",
    "       AND n.metric_name = '{metric2measure}'\n",
    "       AND metric_time BETWEEN ('{from_yyyy_mm_dd}'::timestamp - interval '{period_weeks} week')\n",
    "       AND ('{to_yyyy_mm_dd}'::timestamp - interval '{period_weeks} week')\n",
    ")\n",
    "\n",
    "INSERT INTO metric (account_id,metric_time,metric_name_id,metric_value)\n",
    "\n",
    "          SELECT \n",
    "              s.account_id AS account_id,  \n",
    "              s.metric_time + interval '{period_weeks} week' AS metric_name, \n",
    "              {new_metric_id} AS metric_name_id,\n",
    "              COALESCE(end_value,0.0) / start_value - 1.0 AS metric_value\n",
    "            FROM \n",
    "              start_metric AS s \n",
    " LEFT OUTER JOIN end_metric AS e\n",
    "              ON s.account_id = e.account_id\n",
    "             AND e.metric_time = (s.metric_time + interval '{period_weeks} week')\n",
    "           WHERE start_value > 0\n",
    " \n",
    "ON CONFLICT DO NOTHING;\n",
    "\"\"\"\n",
    "tmp = pd.read_sql_query(\"\"\"\\\n",
    "  SELECT metric_name_id, COUNT(*) FROM metric \n",
    "   WHERE metric_name_id = 30  GROUP BY metric_name_id\"\"\", conn) \n",
    "\n",
    "assert tmp.shape[0] == 0, f\"{new_meric_name} already created.\" \n",
    "with engine.begin() as connection:\n",
    "    result = connection.execute(query)\n",
    "result"
   ]
  },
  {
   "cell_type": "code",
   "execution_count": null,
   "id": "a598312b-d595-4b39-a583-e03b3604f65e",
   "metadata": {},
   "outputs": [],
   "source": []
  },
  {
   "cell_type": "markdown",
   "id": "6e1ebf6a-7bbc-4668-b91b-8d11b34572fb",
   "metadata": {
    "tags": []
   },
   "source": [
    "### Litsting 7.6 Days Since Events Metrics"
   ]
  },
  {
   "cell_type": "code",
   "execution_count": 152,
   "id": "4633026a-fd2f-4c9f-9c56-62cb13dd6886",
   "metadata": {},
   "outputs": [
    {
     "data": {
      "text/plain": [
       "('2020-05-03', '2020-05-10')"
      ]
     },
     "execution_count": 152,
     "metadata": {},
     "output_type": "execute_result"
    }
   ],
   "source": [
    "from_yyyy_mm_dd = chap7.list6.params[\"%from_yyyy-mm-dd\"] \n",
    "to_yyyy_mm_dd = chap7.list6.params[\"%to_yyyy-mm-dd\"]\n",
    "from_yyyy_mm_dd, to_yyyy_mm_dd "
   ]
  },
  {
   "cell_type": "code",
   "execution_count": 153,
   "id": "b56f3139-68aa-4786-a7aa-ad692c5be307",
   "metadata": {},
   "outputs": [
    {
     "data": {
      "text/plain": [
       "('newfriend', 31, 'days_since_newfriend')"
      ]
     },
     "execution_count": 153,
     "metadata": {},
     "output_type": "execute_result"
    }
   ],
   "source": [
    "event2measure = chap7.list6.insert.params[\"%event2measure\"]\n",
    "new_metric_id = chap7.list6.insert.params[\"%new_metric_id\"]\n",
    "new_metric_name = chap7.list6.insert.params[\"%new_metric_name\"]\n",
    "\n",
    "event2measure, new_metric_id, new_metric_name"
   ]
  },
  {
   "cell_type": "code",
   "execution_count": 155,
   "id": "f5dce202-2eb9-4a48-a44e-227176ef2bb7",
   "metadata": {},
   "outputs": [
    {
     "data": {
      "text/plain": [
       "<sqlalchemy.engine.cursor.LegacyCursorResult at 0x7fb4975f85e0>"
      ]
     },
     "execution_count": 155,
     "metadata": {},
     "output_type": "execute_result"
    }
   ],
   "source": [
    "# insert_7_6_days_since_event\n",
    "\n",
    "query = f\"\"\"\\\n",
    "INSERT into metric_name values ({new_metric_id},concat('days_since_{event2measure}' ))\n",
    "ON CONFLICT DO NOTHING;\n",
    "\n",
    "WITH date_vals AS (\n",
    "  SELECT \n",
    "      i::date AS metric_date\n",
    "    FROM \n",
    "      GENERATE_SERIES('{from_yyyy_mm_dd}', '{to_yyyy_mm_dd}', '7 day'::interval) AS i\n",
    "),\n",
    "last_event AS (\n",
    "      SELECT \n",
    "          account_id, \n",
    "          metric_date, \n",
    "          MAX(event_time)::date AS last_date\n",
    "        FROM \n",
    "          event AS e \n",
    "  INNER JOIN date_vals AS d\n",
    "          ON e.event_time::date <= metric_date\n",
    "  INNER JOIN event_type AS t \n",
    "          ON t.event_type_id=e.event_type_id\n",
    "       WHERE t.event_type_name='{event2measure}'\n",
    "    GROUP BY account_id, metric_date\n",
    "    ORDER BY account_id, metric_date\n",
    ")\n",
    "\n",
    "INSERT INTO metric (account_id,metric_time,metric_name_id,metric_value)\n",
    "\n",
    "    SELECT \n",
    "        account_id, \n",
    "        metric_date AS metric_time, \n",
    "        {new_metric_id} AS metric_name_id,\n",
    "        metric_date - last_date AS days_since_event -- metic_value\n",
    "      FROM \n",
    "        last_event\n",
    "\n",
    "ON CONFLICT DO NOTHING;\n",
    "\"\"\"\n",
    "tmp = pd.read_sql_query(\"\"\"\\\n",
    "  SELECT metric_name_id, COUNT(*) FROM metric \n",
    "   WHERE metric_name_id = 31  GROUP BY metric_name_id\"\"\", conn) \n",
    "\n",
    "assert tmp.shape[0] == 0, f\"{new_meric_name} already created.\" \n",
    "with engine.begin() as connection:\n",
    "    result = connection.execute(query)\n",
    "result\n"
   ]
  },
  {
   "cell_type": "code",
   "execution_count": null,
   "id": "461eaf34-ec97-4ca8-b29b-4d5cd7ae2565",
   "metadata": {},
   "outputs": [],
   "source": []
  },
  {
   "cell_type": "markdown",
   "id": "22db083a-ffa3-4cf9-b2c2-7faf218e1e66",
   "metadata": {
    "tags": []
   },
   "source": [
    "### Litsting 7.7 Scaled Events per Month Metrics"
   ]
  },
  {
   "cell_type": "code",
   "execution_count": 156,
   "id": "d5d141ab-2eb1-43bb-8740-85b89a4465ac",
   "metadata": {},
   "outputs": [
    {
     "data": {
      "text/plain": [
       "('2020-03-01', '2020-05-10')"
      ]
     },
     "execution_count": 156,
     "metadata": {},
     "output_type": "execute_result"
    }
   ],
   "source": [
    "from_yyyy_mm_dd = chap7.defaults[\"%from_yyyy-mm-dd\"] \n",
    "to_yyyy_mm_dd = chap7.defaults[\"%to_yyyy-mm-dd\"]\n",
    "from_yyyy_mm_dd, to_yyyy_mm_dd "
   ]
  },
  {
   "cell_type": "code",
   "execution_count": 157,
   "id": "794f814b-6b3d-4f46-ae02-f09f1332cbad",
   "metadata": {},
   "outputs": [
    {
     "data": {
      "text/plain": [
       "(28, 84, 'unfriend', 33)"
      ]
     },
     "execution_count": 157,
     "metadata": {},
     "output_type": "execute_result"
    }
   ],
   "source": [
    "desc_period = chap7.list7.insert.params[\"%desc_period\"]\n",
    "obs_period = chap7.list7.params[\"%obs_period\"]\n",
    "event2measure = chap7.list7.insert.params[\"%event2measure\"]\n",
    "new_metric_id = chap7.list7.insert.params[\"%new_metric_id\"]\n",
    "\n",
    "desc_period, obs_period, event2measure, new_metric_id"
   ]
  },
  {
   "cell_type": "code",
   "execution_count": 160,
   "id": "050375a1-45a7-4c88-8c0d-6d22282b6b47",
   "metadata": {},
   "outputs": [
    {
     "data": {
      "text/plain": [
       "<sqlalchemy.engine.cursor.LegacyCursorResult at 0x7fb4978dad60>"
      ]
     },
     "execution_count": 160,
     "metadata": {},
     "output_type": "execute_result"
    }
   ],
   "source": [
    "# insert_7_7_scaled_events_per_month\n",
    "query = f\"\"\"\\\n",
    "\n",
    "INSERT into metric_name values ({new_metric_id},'{event2measure}_{desc_period}day_avg_{obs_period}day_obs')\n",
    "ON CONFLICT DO NOTHING;\n",
    "\n",
    "WITH date_vals AS (\n",
    "    SELECT \n",
    "        i::timestamp AS metric_date \n",
    "      FROM \n",
    "        GENERATE_SERIES('{from_yyyy_mm_dd}', '{to_yyyy_mm_dd}', '7 day'::interval) AS i\n",
    ")\n",
    "\n",
    "INSERT INTO metric (account_id,metric_time,metric_name_id,metric_value)\n",
    "\n",
    "    SELECT \n",
    "        account_id, \n",
    "        metric_date, \n",
    "        {new_metric_id} AS metric_name_id,\n",
    "        (({desc_period})::float / ({obs_period})::float) * COUNT(*) AS metric_value\n",
    "      FROM \n",
    "        event AS e \n",
    "INNER JOIN \n",
    "        date_vals AS d\n",
    "        ON e.event_time <= metric_date \n",
    "       AND e.event_time > metric_date - interval '{obs_period} days'\n",
    "INNER JOIN \n",
    "        event_type AS t \n",
    "        ON t.event_type_id=e.event_type_id\n",
    "     WHERE t.event_type_name='{event2measure}'\n",
    "  GROUP BY account_id, metric_date\n",
    "  ORDER BY metric_date, account_id\n",
    "\n",
    "ON CONFLICT DO NOTHING;\n",
    "\"\"\"\n",
    "tmp = pd.read_sql_query(\"\"\"\\\n",
    "  SELECT metric_name_id, COUNT(*) FROM metric \n",
    "   WHERE metric_name_id = 33  GROUP BY metric_name_id\"\"\", conn) \n",
    "\n",
    "assert tmp.shape[0] == 0, f\"{new_meric_name} already created.\" \n",
    "with engine.begin() as connection:\n",
    "    result = connection.execute(query)\n",
    "result\n"
   ]
  },
  {
   "cell_type": "code",
   "execution_count": null,
   "id": "41d87e31-b6d4-4816-bf07-24897800c7a3",
   "metadata": {},
   "outputs": [],
   "source": []
  },
  {
   "cell_type": "markdown",
   "id": "0aca5ed3-6894-47df-afd8-f5ba0cdf9719",
   "metadata": {},
   "source": [
    "### Litsting 7.8 Tenure Scaled Events per Month Metrics"
   ]
  },
  {
   "cell_type": "code",
   "execution_count": 161,
   "id": "6941e5f3-91f0-4b85-8b08-e0f447b4450f",
   "metadata": {},
   "outputs": [
    {
     "data": {
      "text/plain": [
       "('2020-05-10', '2020-05-10')"
      ]
     },
     "execution_count": 161,
     "metadata": {},
     "output_type": "execute_result"
    }
   ],
   "source": [
    "from_yyyy_mm_dd = chap7.list8.params[\"%from_yyyy-mm-dd\"] \n",
    "to_yyyy_mm_dd = chap7.list8.params[\"%to_yyyy-mm-dd\"]\n",
    "from_yyyy_mm_dd, to_yyyy_mm_dd "
   ]
  },
  {
   "cell_type": "code",
   "execution_count": 162,
   "id": "03e92600-8241-44e2-9353-508e84197ed4",
   "metadata": {},
   "outputs": [
    {
     "data": {
      "text/plain": [
       "(28, 84, 14, 'unfriend', 34)"
      ]
     },
     "execution_count": 162,
     "metadata": {},
     "output_type": "execute_result"
    }
   ],
   "source": [
    "desc_period = chap7.list8.insert.params[\"%desc_period\"] \n",
    "obs_period = chap7.list8.insert.params[\"%obs_period\"] \n",
    "min_tenure = chap7.list8.insert.params[\"%min_tenure\"] \n",
    "event2measure = chap7.list8.insert.params[\"%event2measure\"] \n",
    "new_metric_id = chap7.list8.insert.params[\"%new_metric_id\"] \n",
    "\n",
    "desc_period, obs_period, min_tenure, event2measure, new_metric_id"
   ]
  },
  {
   "cell_type": "code",
   "execution_count": 165,
   "id": "6aa512a8-54d8-4216-9bff-ecd69b76ddd7",
   "metadata": {},
   "outputs": [
    {
     "data": {
      "text/plain": [
       "<sqlalchemy.engine.cursor.LegacyCursorResult at 0x7fb4978da1f0>"
      ]
     },
     "execution_count": 165,
     "metadata": {},
     "output_type": "execute_result"
    }
   ],
   "source": [
    "# insert_7_8_tenure_scaled_events_per_month\n",
    "query = f\"\"\"\\\n",
    "\n",
    "INSERT INTO metric_name VALUES ({new_metric_id},'{event2measure}_{desc_period}day_avg_{obs_period}day_obs_scaled')\n",
    "ON CONFLICT DO NOTHING;\n",
    "\n",
    "\n",
    "INSERT INTO metric (account_id,metric_time,metric_name_id,metric_value)\n",
    "\n",
    "    SELECT \n",
    "        m.account_id, \n",
    "        metric_time, \n",
    "        {new_metric_id} AS metric_name_id,\n",
    "        ({desc_period} / least({obs_period}, m.metric_value)) * count(*) AS metric_value\n",
    "      FROM \n",
    "        event AS e \n",
    "INNER JOIN \n",
    "        metric AS m\n",
    "        ON m.account_id = e.account_id\n",
    "       AND event_time <= metric_time\n",
    "       AND event_time >  metric_time-interval '{obs_period} days'\n",
    "INNER JOIN \n",
    "        event_type AS t \n",
    "        ON t.event_type_id=e.event_type_id\n",
    "INNER JOIN \n",
    "        metric_name AS n \n",
    "        ON m.metric_name_id = n.metric_name_id\n",
    "     WHERE t.event_type_name='{event2measure}'\n",
    "       AND n.metric_name='account_tenure'\n",
    "       AND metric_value >= {min_tenure}\n",
    "  GROUP BY m.account_id, metric_time, metric_value    \n",
    "  ORDER BY m.account_id, metric_time, metric_value\n",
    "\n",
    "ON CONFLICT DO NOTHING;\n",
    "\"\"\"\n",
    "\n",
    "tmp = pd.read_sql_query(\"\"\"\\\n",
    "  SELECT metric_name_id, COUNT(*) FROM metric \n",
    "   WHERE metric_name_id = 34  GROUP BY metric_name_id\"\"\", conn) \n",
    "\n",
    "assert tmp.shape[0] == 0, f\"{new_meric_name} already created.\" \n",
    "with engine.begin() as connection:\n",
    "    result = connection.execute(query)\n",
    "result"
   ]
  },
  {
   "cell_type": "code",
   "execution_count": null,
   "id": "0763ca08-7449-49a3-8223-4c73c7de93ea",
   "metadata": {},
   "outputs": [],
   "source": []
  },
  {
   "cell_type": "code",
   "execution_count": null,
   "id": "3af27f3b-04a1-4e0c-871f-d17866c956aa",
   "metadata": {},
   "outputs": [],
   "source": []
  }
 ],
 "metadata": {
  "kernelspec": {
   "display_name": "Python 3 (ipykernel)",
   "language": "python",
   "name": "python3"
  },
  "language_info": {
   "codemirror_mode": {
    "name": "ipython",
    "version": 3
   },
   "file_extension": ".py",
   "mimetype": "text/x-python",
   "name": "python",
   "nbconvert_exporter": "python",
   "pygments_lexer": "ipython3",
   "version": "3.8.16"
  }
 },
 "nbformat": 4,
 "nbformat_minor": 5
}
