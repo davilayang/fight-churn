{
 "cells": [
  {
   "cell_type": "markdown",
   "id": "ae513752-e614-4db3-8add-f743dc881826",
   "metadata": {
    "tags": []
   },
   "source": [
    "# 07 Segmenting customers with advanced metrics"
   ]
  },
  {
   "cell_type": "code",
   "execution_count": 1,
   "id": "cfcdf370-9ce3-4e1e-bb5f-f9d33114f649",
   "metadata": {},
   "outputs": [],
   "source": [
    "import json\n",
    "import sqlalchemy\n",
    "import pandas as pd\n",
    "\n",
    "from pprint import pprint"
   ]
  },
  {
   "cell_type": "code",
   "execution_count": 2,
   "id": "278be3f7-ab37-4e17-9359-f921b6a4b8db",
   "metadata": {},
   "outputs": [
    {
     "data": {
      "text/html": [
       "<div>\n",
       "<style scoped>\n",
       "    .dataframe tbody tr th:only-of-type {\n",
       "        vertical-align: middle;\n",
       "    }\n",
       "\n",
       "    .dataframe tbody tr th {\n",
       "        vertical-align: top;\n",
       "    }\n",
       "\n",
       "    .dataframe thead th {\n",
       "        text-align: right;\n",
       "    }\n",
       "</style>\n",
       "<table border=\"1\" class=\"dataframe\">\n",
       "  <thead>\n",
       "    <tr style=\"text-align: right;\">\n",
       "      <th></th>\n",
       "      <th>table_catalog</th>\n",
       "      <th>table_schema</th>\n",
       "      <th>table_name</th>\n",
       "      <th>table_type</th>\n",
       "      <th>self_referencing_column_name</th>\n",
       "      <th>reference_generation</th>\n",
       "      <th>user_defined_type_catalog</th>\n",
       "      <th>user_defined_type_schema</th>\n",
       "      <th>user_defined_type_name</th>\n",
       "      <th>is_insertable_into</th>\n",
       "      <th>is_typed</th>\n",
       "      <th>commit_action</th>\n",
       "    </tr>\n",
       "  </thead>\n",
       "  <tbody>\n",
       "    <tr>\n",
       "      <th>0</th>\n",
       "      <td>churn</td>\n",
       "      <td>socialnet7</td>\n",
       "      <td>active_period</td>\n",
       "      <td>BASE TABLE</td>\n",
       "      <td>None</td>\n",
       "      <td>None</td>\n",
       "      <td>None</td>\n",
       "      <td>None</td>\n",
       "      <td>None</td>\n",
       "      <td>YES</td>\n",
       "      <td>NO</td>\n",
       "      <td>None</td>\n",
       "    </tr>\n",
       "    <tr>\n",
       "      <th>1</th>\n",
       "      <td>churn</td>\n",
       "      <td>socialnet7</td>\n",
       "      <td>event_type</td>\n",
       "      <td>BASE TABLE</td>\n",
       "      <td>None</td>\n",
       "      <td>None</td>\n",
       "      <td>None</td>\n",
       "      <td>None</td>\n",
       "      <td>None</td>\n",
       "      <td>YES</td>\n",
       "      <td>NO</td>\n",
       "      <td>None</td>\n",
       "    </tr>\n",
       "    <tr>\n",
       "      <th>2</th>\n",
       "      <td>churn</td>\n",
       "      <td>socialnet7</td>\n",
       "      <td>metric_name</td>\n",
       "      <td>BASE TABLE</td>\n",
       "      <td>None</td>\n",
       "      <td>None</td>\n",
       "      <td>None</td>\n",
       "      <td>None</td>\n",
       "      <td>None</td>\n",
       "      <td>YES</td>\n",
       "      <td>NO</td>\n",
       "      <td>None</td>\n",
       "    </tr>\n",
       "  </tbody>\n",
       "</table>\n",
       "</div>"
      ],
      "text/plain": [
       "  table_catalog table_schema     table_name  table_type  \\\n",
       "0         churn   socialnet7  active_period  BASE TABLE   \n",
       "1         churn   socialnet7     event_type  BASE TABLE   \n",
       "2         churn   socialnet7    metric_name  BASE TABLE   \n",
       "\n",
       "  self_referencing_column_name reference_generation user_defined_type_catalog  \\\n",
       "0                         None                 None                      None   \n",
       "1                         None                 None                      None   \n",
       "2                         None                 None                      None   \n",
       "\n",
       "  user_defined_type_schema user_defined_type_name is_insertable_into is_typed  \\\n",
       "0                     None                   None                YES       NO   \n",
       "1                     None                   None                YES       NO   \n",
       "2                     None                   None                YES       NO   \n",
       "\n",
       "  commit_action  \n",
       "0          None  \n",
       "1          None  \n",
       "2          None  "
      ]
     },
     "execution_count": 2,
     "metadata": {},
     "output_type": "execute_result"
    }
   ],
   "source": [
    "# Make a sql connection with sqlalchmey\n",
    "conn_string = \"postgresql://postgres-db/churn?user=postgres&password=password\" \n",
    "engine = sqlalchemy.create_engine(\n",
    "    conn_string, connect_args={'options': '-csearch_path={}'.format(\"socialnet7,public\")}\n",
    ")\n",
    "conn = engine.connect()\n",
    "# conn.close()\n",
    "\n",
    "# Query with Pandas, e.g. list all tables\n",
    "tables = pd.read_sql_query(\"SELECT * FROM information_schema.tables;\", conn)\n",
    "tables.head(3)"
   ]
  },
  {
   "cell_type": "code",
   "execution_count": 3,
   "id": "ebb1327b-8450-46fa-92ef-a5ae4682905a",
   "metadata": {},
   "outputs": [],
   "source": [
    "import json \n",
    "from box import Box\n",
    "# !pip install python-box\n",
    "\n",
    "with open(\"/app/fightchurn/listings/conf/socialnet7_listings.json\", \"r\") as f: \n",
    "    # conf = json.loads(f.read())\n",
    "    conf = Box(json.loads(f.read()))\n",
    "\n",
    "chap8 = conf.chap8"
   ]
  },
  {
   "cell_type": "code",
   "execution_count": null,
   "id": "a618ba0c-e226-48e8-bb33-4def8ade945f",
   "metadata": {},
   "outputs": [],
   "source": []
  },
  {
   "cell_type": "code",
   "execution_count": null,
   "id": "cdc788f8-ca15-4d3c-965f-04936f106f33",
   "metadata": {},
   "outputs": [],
   "source": []
  },
  {
   "cell_type": "markdown",
   "id": "8b913796-60fc-40ed-9bed-5512507cb1a4",
   "metadata": {
    "tags": []
   },
   "source": [
    "## Dependent Data"
   ]
  },
  {
   "cell_type": "code",
   "execution_count": 11,
   "id": "def5940c-2b37-4f1d-8722-7ca438dd6543",
   "metadata": {},
   "outputs": [
    {
     "data": {
      "text/html": [
       "<div>\n",
       "<style scoped>\n",
       "    .dataframe tbody tr th:only-of-type {\n",
       "        vertical-align: middle;\n",
       "    }\n",
       "\n",
       "    .dataframe tbody tr th {\n",
       "        vertical-align: top;\n",
       "    }\n",
       "\n",
       "    .dataframe thead th {\n",
       "        text-align: right;\n",
       "    }\n",
       "</style>\n",
       "<table border=\"1\" class=\"dataframe\">\n",
       "  <thead>\n",
       "    <tr style=\"text-align: right;\">\n",
       "      <th></th>\n",
       "      <th>metric_name_id</th>\n",
       "      <th>metric_name</th>\n",
       "    </tr>\n",
       "  </thead>\n",
       "  <tbody>\n",
       "    <tr>\n",
       "      <th>16</th>\n",
       "      <td>28</td>\n",
       "      <td>unfriend_per_newfriend_scaled</td>\n",
       "    </tr>\n",
       "    <tr>\n",
       "      <th>17</th>\n",
       "      <td>30</td>\n",
       "      <td>new_friends_pcnt_change</td>\n",
       "    </tr>\n",
       "    <tr>\n",
       "      <th>18</th>\n",
       "      <td>31</td>\n",
       "      <td>days_since_newfriend</td>\n",
       "    </tr>\n",
       "    <tr>\n",
       "      <th>19</th>\n",
       "      <td>33</td>\n",
       "      <td>unfriend_28day_avg_84day_obs</td>\n",
       "    </tr>\n",
       "    <tr>\n",
       "      <th>20</th>\n",
       "      <td>34</td>\n",
       "      <td>unfriend_28day_avg_84day_obs_scaled</td>\n",
       "    </tr>\n",
       "  </tbody>\n",
       "</table>\n",
       "</div>"
      ],
      "text/plain": [
       "    metric_name_id                          metric_name\n",
       "16              28        unfriend_per_newfriend_scaled\n",
       "17              30              new_friends_pcnt_change\n",
       "18              31                 days_since_newfriend\n",
       "19              33         unfriend_28day_avg_84day_obs\n",
       "20              34  unfriend_28day_avg_84day_obs_scaled"
      ]
     },
     "execution_count": 11,
     "metadata": {},
     "output_type": "execute_result"
    }
   ],
   "source": [
    "tmp = pd.read_sql_query(\"SELECT * FROM metric_name ORDER BY metric_name_id\", conn)\n",
    "tmp.tail()"
   ]
  },
  {
   "cell_type": "code",
   "execution_count": 12,
   "id": "d2f99399-1995-47e6-a915-6706e0d84aa0",
   "metadata": {},
   "outputs": [
    {
     "data": {
      "text/html": [
       "<div>\n",
       "<style scoped>\n",
       "    .dataframe tbody tr th:only-of-type {\n",
       "        vertical-align: middle;\n",
       "    }\n",
       "\n",
       "    .dataframe tbody tr th {\n",
       "        vertical-align: top;\n",
       "    }\n",
       "\n",
       "    .dataframe thead th {\n",
       "        text-align: right;\n",
       "    }\n",
       "</style>\n",
       "<table border=\"1\" class=\"dataframe\">\n",
       "  <thead>\n",
       "    <tr style=\"text-align: right;\">\n",
       "      <th></th>\n",
       "      <th>account_id</th>\n",
       "      <th>metric_time</th>\n",
       "      <th>metric_name_id</th>\n",
       "      <th>metric_value</th>\n",
       "    </tr>\n",
       "  </thead>\n",
       "  <tbody>\n",
       "    <tr>\n",
       "      <th>0</th>\n",
       "      <td>3583</td>\n",
       "      <td>2020-04-19</td>\n",
       "      <td>3</td>\n",
       "      <td>2.000000</td>\n",
       "    </tr>\n",
       "    <tr>\n",
       "      <th>1</th>\n",
       "      <td>1605</td>\n",
       "      <td>2020-03-01</td>\n",
       "      <td>30</td>\n",
       "      <td>1.000000</td>\n",
       "    </tr>\n",
       "    <tr>\n",
       "      <th>2</th>\n",
       "      <td>5384</td>\n",
       "      <td>2020-03-29</td>\n",
       "      <td>25</td>\n",
       "      <td>0.000000</td>\n",
       "    </tr>\n",
       "    <tr>\n",
       "      <th>3</th>\n",
       "      <td>974</td>\n",
       "      <td>2020-05-03</td>\n",
       "      <td>4</td>\n",
       "      <td>42.000000</td>\n",
       "    </tr>\n",
       "    <tr>\n",
       "      <th>4</th>\n",
       "      <td>4812</td>\n",
       "      <td>2020-03-15</td>\n",
       "      <td>21</td>\n",
       "      <td>0.195122</td>\n",
       "    </tr>\n",
       "  </tbody>\n",
       "</table>\n",
       "</div>"
      ],
      "text/plain": [
       "   account_id metric_time  metric_name_id  metric_value\n",
       "0        3583  2020-04-19               3      2.000000\n",
       "1        1605  2020-03-01              30      1.000000\n",
       "2        5384  2020-03-29              25      0.000000\n",
       "3         974  2020-05-03               4     42.000000\n",
       "4        4812  2020-03-15              21      0.195122"
      ]
     },
     "execution_count": 12,
     "metadata": {},
     "output_type": "execute_result"
    }
   ],
   "source": [
    "tmp = pd.read_sql_query(\"SELECT * FROM metric ORDER BY RANDOM() LIMIT 10000\", conn)\n",
    "tmp.head()"
   ]
  },
  {
   "cell_type": "code",
   "execution_count": null,
   "id": "249f204c-d39f-4100-a316-fcea7c77a7d9",
   "metadata": {},
   "outputs": [],
   "source": []
  },
  {
   "cell_type": "code",
   "execution_count": null,
   "id": "804938c8-0ba3-4c77-88ed-7d910ced8a50",
   "metadata": {},
   "outputs": [],
   "source": []
  },
  {
   "cell_type": "markdown",
   "id": "10d0eaf9-d66b-47a5-8ed8-ded5c83a6798",
   "metadata": {
    "tags": []
   },
   "source": [
    "## Metric Queries"
   ]
  },
  {
   "cell_type": "markdown",
   "id": "55bd5499-d190-42b2-a1c4-1b2132a0dbe7",
   "metadata": {},
   "source": [
    "### Listing 8.0 Observations"
   ]
  },
  {
   "cell_type": "code",
   "execution_count": 16,
   "id": "ed8a46ec-461c-4c05-920f-fcc5e3fda126",
   "metadata": {},
   "outputs": [
    {
     "data": {
      "text/plain": [
       "('2020-03-01', '2020-05-10', '7 day')"
      ]
     },
     "execution_count": 16,
     "metadata": {},
     "output_type": "execute_result"
    }
   ],
   "source": [
    "from_yyyy_mm_dd = chap8.list0.params[\"%from_yyyy-mm-dd\"] \n",
    "to_yyyy_mm_dd = chap8.list0.params[\"%to_yyyy-mm-dd\"]\n",
    "metric_interval = chap8.list0.params[\"%metric_interval\"]\n",
    "from_yyyy_mm_dd, to_yyyy_mm_dd, metric_interval"
   ]
  },
  {
   "cell_type": "code",
   "execution_count": 17,
   "id": "24c39d09-6035-4b80-902b-060f041eb12a",
   "metadata": {},
   "outputs": [
    {
     "data": {
      "text/html": [
       "<div>\n",
       "<style scoped>\n",
       "    .dataframe tbody tr th:only-of-type {\n",
       "        vertical-align: middle;\n",
       "    }\n",
       "\n",
       "    .dataframe tbody tr th {\n",
       "        vertical-align: top;\n",
       "    }\n",
       "\n",
       "    .dataframe thead th {\n",
       "        text-align: right;\n",
       "    }\n",
       "</style>\n",
       "<table border=\"1\" class=\"dataframe\">\n",
       "  <thead>\n",
       "    <tr style=\"text-align: right;\">\n",
       "      <th></th>\n",
       "      <th>account_id</th>\n",
       "      <th>observation_date</th>\n",
       "      <th>is_churn</th>\n",
       "      <th>like_per_month</th>\n",
       "      <th>newfriend_per_month</th>\n",
       "      <th>post_per_month</th>\n",
       "      <th>adview_per_month</th>\n",
       "      <th>dislike_per_month</th>\n",
       "      <th>message_per_month</th>\n",
       "      <th>reply_per_month</th>\n",
       "      <th>adview_per_post</th>\n",
       "      <th>reply_per_message</th>\n",
       "      <th>like_per_post</th>\n",
       "      <th>post_per_message</th>\n",
       "      <th>dislike_pcnt</th>\n",
       "      <th>unfriend_per_newfriend</th>\n",
       "      <th>newfriend_pcnt_chng</th>\n",
       "      <th>days_since_newfriend</th>\n",
       "      <th>unfriend_per_month</th>\n",
       "    </tr>\n",
       "  </thead>\n",
       "  <tbody>\n",
       "    <tr>\n",
       "      <th>0</th>\n",
       "      <td>27</td>\n",
       "      <td>2020-03-01</td>\n",
       "      <td>False</td>\n",
       "      <td>48.0</td>\n",
       "      <td>3.0</td>\n",
       "      <td>12.0</td>\n",
       "      <td>6.0</td>\n",
       "      <td>7.0</td>\n",
       "      <td>78.0</td>\n",
       "      <td>36.0</td>\n",
       "      <td>0.500000</td>\n",
       "      <td>0.461538</td>\n",
       "      <td>0.0</td>\n",
       "      <td>0.153846</td>\n",
       "      <td>0.0</td>\n",
       "      <td>0.0</td>\n",
       "      <td>0.000000</td>\n",
       "      <td>0.0</td>\n",
       "      <td>0.000000</td>\n",
       "    </tr>\n",
       "    <tr>\n",
       "      <th>1</th>\n",
       "      <td>102</td>\n",
       "      <td>2020-03-01</td>\n",
       "      <td>False</td>\n",
       "      <td>40.0</td>\n",
       "      <td>5.0</td>\n",
       "      <td>50.0</td>\n",
       "      <td>16.0</td>\n",
       "      <td>7.0</td>\n",
       "      <td>2.0</td>\n",
       "      <td>1.0</td>\n",
       "      <td>0.320000</td>\n",
       "      <td>0.500000</td>\n",
       "      <td>0.0</td>\n",
       "      <td>25.000000</td>\n",
       "      <td>0.0</td>\n",
       "      <td>0.0</td>\n",
       "      <td>0.000000</td>\n",
       "      <td>0.0</td>\n",
       "      <td>1.018182</td>\n",
       "    </tr>\n",
       "    <tr>\n",
       "      <th>2</th>\n",
       "      <td>139</td>\n",
       "      <td>2020-03-01</td>\n",
       "      <td>False</td>\n",
       "      <td>15.0</td>\n",
       "      <td>0.0</td>\n",
       "      <td>17.0</td>\n",
       "      <td>10.0</td>\n",
       "      <td>3.0</td>\n",
       "      <td>47.0</td>\n",
       "      <td>21.0</td>\n",
       "      <td>0.588235</td>\n",
       "      <td>0.446809</td>\n",
       "      <td>0.0</td>\n",
       "      <td>0.361702</td>\n",
       "      <td>0.0</td>\n",
       "      <td>18.0</td>\n",
       "      <td>0.000000</td>\n",
       "      <td>0.0</td>\n",
       "      <td>0.000000</td>\n",
       "    </tr>\n",
       "    <tr>\n",
       "      <th>3</th>\n",
       "      <td>194</td>\n",
       "      <td>2020-03-01</td>\n",
       "      <td>False</td>\n",
       "      <td>19.0</td>\n",
       "      <td>5.0</td>\n",
       "      <td>54.0</td>\n",
       "      <td>139.0</td>\n",
       "      <td>0.0</td>\n",
       "      <td>107.0</td>\n",
       "      <td>36.0</td>\n",
       "      <td>2.574074</td>\n",
       "      <td>0.336449</td>\n",
       "      <td>0.0</td>\n",
       "      <td>0.504673</td>\n",
       "      <td>0.0</td>\n",
       "      <td>0.0</td>\n",
       "      <td>-0.444444</td>\n",
       "      <td>0.0</td>\n",
       "      <td>1.018182</td>\n",
       "    </tr>\n",
       "    <tr>\n",
       "      <th>4</th>\n",
       "      <td>232</td>\n",
       "      <td>2020-03-01</td>\n",
       "      <td>False</td>\n",
       "      <td>94.0</td>\n",
       "      <td>7.0</td>\n",
       "      <td>12.0</td>\n",
       "      <td>31.0</td>\n",
       "      <td>12.0</td>\n",
       "      <td>2.0</td>\n",
       "      <td>1.0</td>\n",
       "      <td>2.583333</td>\n",
       "      <td>0.500000</td>\n",
       "      <td>0.0</td>\n",
       "      <td>6.000000</td>\n",
       "      <td>0.0</td>\n",
       "      <td>0.0</td>\n",
       "      <td>0.400000</td>\n",
       "      <td>0.0</td>\n",
       "      <td>0.000000</td>\n",
       "    </tr>\n",
       "  </tbody>\n",
       "</table>\n",
       "</div>"
      ],
      "text/plain": [
       "   account_id observation_date  is_churn  like_per_month  newfriend_per_month  \\\n",
       "0          27       2020-03-01     False            48.0                  3.0   \n",
       "1         102       2020-03-01     False            40.0                  5.0   \n",
       "2         139       2020-03-01     False            15.0                  0.0   \n",
       "3         194       2020-03-01     False            19.0                  5.0   \n",
       "4         232       2020-03-01     False            94.0                  7.0   \n",
       "\n",
       "   post_per_month  adview_per_month  dislike_per_month  message_per_month  \\\n",
       "0            12.0               6.0                7.0               78.0   \n",
       "1            50.0              16.0                7.0                2.0   \n",
       "2            17.0              10.0                3.0               47.0   \n",
       "3            54.0             139.0                0.0              107.0   \n",
       "4            12.0              31.0               12.0                2.0   \n",
       "\n",
       "   reply_per_month  adview_per_post  reply_per_message  like_per_post  \\\n",
       "0             36.0         0.500000           0.461538            0.0   \n",
       "1              1.0         0.320000           0.500000            0.0   \n",
       "2             21.0         0.588235           0.446809            0.0   \n",
       "3             36.0         2.574074           0.336449            0.0   \n",
       "4              1.0         2.583333           0.500000            0.0   \n",
       "\n",
       "   post_per_message  dislike_pcnt  unfriend_per_newfriend  \\\n",
       "0          0.153846           0.0                     0.0   \n",
       "1         25.000000           0.0                     0.0   \n",
       "2          0.361702           0.0                    18.0   \n",
       "3          0.504673           0.0                     0.0   \n",
       "4          6.000000           0.0                     0.0   \n",
       "\n",
       "   newfriend_pcnt_chng  days_since_newfriend  unfriend_per_month  \n",
       "0             0.000000                   0.0            0.000000  \n",
       "1             0.000000                   0.0            1.018182  \n",
       "2             0.000000                   0.0            0.000000  \n",
       "3            -0.444444                   0.0            1.018182  \n",
       "4             0.400000                   0.0            0.000000  "
      ]
     },
     "execution_count": 17,
     "metadata": {},
     "output_type": "execute_result"
    }
   ],
   "source": [
    "# listing_8_0_dataset2.sql\n",
    "\n",
    "query = f\"\"\"\\\n",
    "WITH observation_params AS (\n",
    "    SELECT  \n",
    "        interval '{metric_interval}' AS metric_period,\n",
    "        '{from_yyyy_mm_dd}'::timestamp AS obs_start,\n",
    "        '{to_yyyy_mm_dd}'::timestamp AS obs_end\n",
    ")\n",
    "\n",
    "    SELECT \n",
    "        m.account_id, \n",
    "        o.observation_date, \n",
    "        is_churn,\n",
    "        SUM(CASE WHEN metric_name_id=0 THEN metric_value ELSE 0 END) AS like_per_month,\n",
    "        SUM(CASE WHEN metric_name_id=1 THEN metric_value ELSE 0 END) AS newfriend_per_month,\n",
    "        SUM(CASE WHEN metric_name_id=2 THEN metric_value ELSE 0 END) AS post_per_month,\n",
    "        SUM(CASE WHEN metric_name_id=3 THEN metric_value ELSE 0 END) AS adview_per_month,\n",
    "        SUM(CASE WHEN metric_name_id=4 THEN metric_value ELSE 0 END) AS dislike_per_month,\n",
    "        SUM(CASE WHEN metric_name_id=6 THEN metric_value ELSE 0 END) AS message_per_month,\n",
    "        SUM(CASE WHEN metric_name_id=7 THEN metric_value ELSE 0 END) AS reply_per_month,\n",
    "        SUM(CASE WHEN metric_name_id=21 THEN metric_value ELSE 0 END) AS adview_per_post,\n",
    "        SUM(CASE WHEN metric_name_id=22 THEN metric_value ELSE 0 END) AS reply_per_message,\n",
    "        SUM(CASE WHEN metric_name_id=23 THEN metric_value ELSE 0 END) AS like_per_post,\n",
    "        SUM(CASE WHEN metric_name_id=24 THEN metric_value ELSE 0 END) AS post_per_message,\n",
    "        SUM(CASE WHEN metric_name_id=27 THEN metric_value ELSE 0 END) AS dislike_pcnt,\n",
    "        SUM(CASE WHEN metric_name_id=28 THEN metric_value ELSE 0 END) AS unfriend_per_newfriend,\n",
    "        SUM(CASE WHEN metric_name_id=30 THEN metric_value ELSE 0 END) AS newfriend_pcnt_chng,\n",
    "        SUM(CASE WHEN metric_name_id=31 THEN metric_value ELSE 0 END) AS days_since_newfriend,\n",
    "        SUM(CASE WHEN metric_name_id=34 THEN metric_value ELSE 0 END) AS unfriend_per_month\n",
    "      FROM \n",
    "        metric AS m \n",
    "INNER JOIN \n",
    "        observation_params\n",
    "        ON metric_time BETWEEN obs_start AND obs_end\n",
    "INNER JOIN observation AS o \n",
    "        ON m.account_id = o.account_id\n",
    "       AND m.metric_time > (o.observation_date - metric_period)::timestamp\n",
    "       AND m.metric_time <= o.observation_date::timestamp\n",
    "  GROUP BY \n",
    "        m.account_id, metric_time, observation_date, is_churn\n",
    "  ORDER BY \n",
    "        observation_date, m.account_id\n",
    "\"\"\"\n",
    "res = pd.read_sql_query(query, conn)\n",
    "res.head()"
   ]
  },
  {
   "cell_type": "code",
   "execution_count": 18,
   "id": "e6e6f801-b5f1-4d8f-8a3a-5d2ad4b0fe22",
   "metadata": {},
   "outputs": [
    {
     "data": {
      "text/plain": [
       "(24450, 19)"
      ]
     },
     "execution_count": 18,
     "metadata": {},
     "output_type": "execute_result"
    }
   ],
   "source": [
    "df = res.copy()\n",
    "df.shape"
   ]
  },
  {
   "cell_type": "code",
   "execution_count": null,
   "id": "368bf474-e462-46b2-9510-278ac243ac8b",
   "metadata": {},
   "outputs": [],
   "source": []
  },
  {
   "cell_type": "markdown",
   "id": "ffbbc4bd-9fd6-4faf-b69d-abc9a97614f2",
   "metadata": {},
   "source": [
    "### Listing 8.3"
   ]
  },
  {
   "cell_type": "code",
   "execution_count": 23,
   "id": "85f86536-8752-45b1-81fb-9c6ae1570848",
   "metadata": {},
   "outputs": [
    {
     "name": "stdout",
     "output_type": "stream",
     "text": [
      "Box({'type': 'sql', 'mode': 'save', '%metric_interval': '7 day'})\n"
     ]
    }
   ],
   "source": [
    "pprint(chap8.list3.params)"
   ]
  },
  {
   "cell_type": "code",
   "execution_count": 24,
   "id": "bbe4acdc-e6e3-4ff3-a73c-e9025f47a619",
   "metadata": {},
   "outputs": [],
   "source": [
    "# listing_8_3_dataset2_current\n",
    "\n",
    "query = \"\"\"\\\n",
    "WITH metric_date AS (\n",
    "    SELECT \n",
    "        MAX(metric_time) AS last_metric_time \n",
    "      FROM metric\n",
    "), \n",
    "account_tenures AS (\n",
    "    SELECT \n",
    "        account_id, \n",
    "        metric_value AS account_tenure\n",
    "      FROM metric AS m \n",
    "INNER JOIN metric_date \n",
    "        ON metric_time = last_metric_time\n",
    "    WHERE metric_name_id = 8\n",
    "      AND metric_value >= 14\n",
    ")\n",
    "\n",
    "    SELECT \n",
    "        s.account_id, \n",
    "        d.last_metric_time AS observation_date,\n",
    "        SUM(CASE WHEN metric_name_id=0 THEN metric_value ELSE 0 END) AS like_per_month,\n",
    "        SUM(CASE WHEN metric_name_id=1 THEN metric_value ELSE 0 END) AS newfriend_per_month,\n",
    "        SUM(CASE WHEN metric_name_id=2 THEN metric_value ELSE 0 END) AS post_per_month,\n",
    "        SUM(CASE WHEN metric_name_id=3 THEN metric_value ELSE 0 END) AS adview_per_month,\n",
    "        SUM(CASE WHEN metric_name_id=4 THEN metric_value ELSE 0 END) AS dislike_per_month,\n",
    "        SUM(CASE WHEN metric_name_id=6 THEN metric_value ELSE 0 END) AS message_per_month,\n",
    "        SUM(CASE WHEN metric_name_id=7 THEN metric_value ELSE 0 END) AS reply_per_month,\n",
    "        SUM(CASE WHEN metric_name_id=21 THEN metric_value ELSE 0 END) AS adview_per_post,\n",
    "        SUM(CASE WHEN metric_name_id=22 THEN metric_value ELSE 0 END) AS reply_per_message,\n",
    "        SUM(CASE WHEN metric_name_id=23 THEN metric_value ELSE 0 END) AS like_per_post,\n",
    "        SUM(CASE WHEN metric_name_id=24 THEN metric_value ELSE 0 END) AS post_per_message,\n",
    "        SUM(CASE WHEN metric_name_id=25 THEN metric_value ELSE 0 END) AS unfriend_per_newfriend,\n",
    "        SUM(CASE WHEN metric_name_id=27 THEN metric_value ELSE 0 END) AS dislike_pcnt,\n",
    "        SUM(CASE WHEN metric_name_id=30 THEN metric_value ELSE 0 END) AS newfriend_pcnt_chng,\n",
    "        SUM(CASE WHEN metric_name_id=31 THEN metric_value ELSE 0 END) AS days_since_newfriend,\n",
    "        SUM(CASE WHEN metric_name_id=34 THEN metric_value ELSE 0 END) AS unfriend_per_month\n",
    "      FROM \n",
    "        metric AS m \n",
    "INNER JOIN metric_date AS d \n",
    "        ON m.metric_time = d.last_metric_time\n",
    "INNER JOIN account_tenures AS a \n",
    "        ON a.account_id = m.account_id\n",
    "INNER JOIN subscription AS s \n",
    "        ON m.account_id = s.account_id\n",
    "     WHERE s.start_date <= d.last_metric_time\n",
    "       AND (s.end_date >= d.last_metric_time OR s.end_date IS null)\n",
    "  GROUP BY \n",
    "        s.account_id, d.last_metric_time\n",
    "  ORDER BY \n",
    "        s.account_id\n",
    "\"\"\"\n"
   ]
  },
  {
   "cell_type": "code",
   "execution_count": null,
   "id": "511951ae-841c-412a-9282-46061514992f",
   "metadata": {},
   "outputs": [],
   "source": []
  },
  {
   "cell_type": "markdown",
   "id": "4a5e73b9-9795-4b99-8545-db2b15d19ddd",
   "metadata": {},
   "source": [
    "## Data Preprations"
   ]
  },
  {
   "cell_type": "markdown",
   "id": "a57114f8-b25a-435c-8eca-ad47806442db",
   "metadata": {},
   "source": [
    "### Listing 8.1 Prepare Data"
   ]
  },
  {
   "cell_type": "code",
   "execution_count": 19,
   "id": "bd1fad80-f04f-4f58-a50b-b322f9a3dc96",
   "metadata": {},
   "outputs": [],
   "source": [
    "import sys\n",
    "sys.path.append(\"/app\")\n",
    "\n",
    "from fightchurn.listings.chap5.listing_5_2_dataset_stats import dataset_stats\n",
    "from fightchurn.listings.chap7.listing_7_5_fat_tail_scores import fat_tail_scores\n",
    "from fightchurn.listings.chap6.listing_6_4_find_metric_groups import find_metric_groups\n",
    "from fightchurn.listings.chap6.listing_6_3_apply_metric_groups import apply_metric_groups\n",
    "from fightchurn.listings.chap6.listing_6_5_ordered_correlation_matrix import ordered_correlation_matrix"
   ]
  },
  {
   "cell_type": "code",
   "execution_count": 20,
   "id": "c56c058e-fdda-49cc-9ae5-20a5b933c350",
   "metadata": {},
   "outputs": [
    {
     "data": {
      "text/plain": [
       "0.65"
      ]
     },
     "execution_count": 20,
     "metadata": {},
     "output_type": "execute_result"
    }
   ],
   "source": [
    "group_corr_thresh = chap8.list1.params[\"group_corr_thresh\"]\n",
    "\n",
    "group_corr_thresh"
   ]
  },
  {
   "cell_type": "code",
   "execution_count": 6,
   "id": "0bf6d917-920d-48ca-99a5-bd3d82c3b82c",
   "metadata": {},
   "outputs": [
    {
     "data": {
      "text/plain": [
       "\u001b[0;31mSignature:\u001b[0m \u001b[0mdataset_stats\u001b[0m\u001b[0;34m(\u001b[0m\u001b[0mdata_set_path\u001b[0m\u001b[0;34m)\u001b[0m\u001b[0;34m\u001b[0m\u001b[0;34m\u001b[0m\u001b[0m\n",
       "\u001b[0;31mDocstring:\u001b[0m <no docstring>\n",
       "\u001b[0;31mSource:\u001b[0m   \n",
       "\u001b[0;32mdef\u001b[0m \u001b[0mdataset_stats\u001b[0m\u001b[0;34m(\u001b[0m\u001b[0mdata_set_path\u001b[0m\u001b[0;34m)\u001b[0m\u001b[0;34m:\u001b[0m\u001b[0;34m\u001b[0m\n",
       "\u001b[0;34m\u001b[0m\u001b[0;34m\u001b[0m\n",
       "\u001b[0;34m\u001b[0m    \u001b[0;32massert\u001b[0m \u001b[0mos\u001b[0m\u001b[0;34m.\u001b[0m\u001b[0mpath\u001b[0m\u001b[0;34m.\u001b[0m\u001b[0misfile\u001b[0m\u001b[0;34m(\u001b[0m\u001b[0mdata_set_path\u001b[0m\u001b[0;34m)\u001b[0m\u001b[0;34m,\u001b[0m\u001b[0;34m'\"{}\" is not a valid dataset path'\u001b[0m\u001b[0;34m.\u001b[0m\u001b[0mformat\u001b[0m\u001b[0;34m(\u001b[0m\u001b[0mdata_set_path\u001b[0m\u001b[0;34m)\u001b[0m\u001b[0;34m\u001b[0m\n",
       "\u001b[0;34m\u001b[0m    \u001b[0mchurn_data\u001b[0m \u001b[0;34m=\u001b[0m \u001b[0mpd\u001b[0m\u001b[0;34m.\u001b[0m\u001b[0mread_csv\u001b[0m\u001b[0;34m(\u001b[0m\u001b[0mdata_set_path\u001b[0m\u001b[0;34m,\u001b[0m\u001b[0mindex_col\u001b[0m\u001b[0;34m=\u001b[0m\u001b[0;34m[\u001b[0m\u001b[0;36m0\u001b[0m\u001b[0;34m,\u001b[0m\u001b[0;36m1\u001b[0m\u001b[0;34m]\u001b[0m\u001b[0;34m)\u001b[0m\u001b[0;34m\u001b[0m\n",
       "\u001b[0;34m\u001b[0m    \u001b[0;32mif\u001b[0m \u001b[0;34m'is_churn'\u001b[0m \u001b[0;32min\u001b[0m \u001b[0mchurn_data\u001b[0m\u001b[0;34m:\u001b[0m\u001b[0;34m\u001b[0m\n",
       "\u001b[0;34m\u001b[0m        \u001b[0mchurn_data\u001b[0m\u001b[0;34m[\u001b[0m\u001b[0;34m'is_churn'\u001b[0m\u001b[0;34m]\u001b[0m\u001b[0;34m=\u001b[0m\u001b[0mchurn_data\u001b[0m\u001b[0;34m[\u001b[0m\u001b[0;34m'is_churn'\u001b[0m\u001b[0;34m]\u001b[0m\u001b[0;34m.\u001b[0m\u001b[0mastype\u001b[0m\u001b[0;34m(\u001b[0m\u001b[0mfloat\u001b[0m\u001b[0;34m)\u001b[0m\u001b[0;34m\u001b[0m\n",
       "\u001b[0;34m\u001b[0m\u001b[0;34m\u001b[0m\n",
       "\u001b[0;34m\u001b[0m    \u001b[0msummary\u001b[0m \u001b[0;34m=\u001b[0m \u001b[0mchurn_data\u001b[0m\u001b[0;34m.\u001b[0m\u001b[0mdescribe\u001b[0m\u001b[0;34m(\u001b[0m\u001b[0;34m)\u001b[0m\u001b[0;34m\u001b[0m\n",
       "\u001b[0;34m\u001b[0m    \u001b[0msummary\u001b[0m \u001b[0;34m=\u001b[0m \u001b[0msummary\u001b[0m\u001b[0;34m.\u001b[0m\u001b[0mtranspose\u001b[0m\u001b[0;34m(\u001b[0m\u001b[0;34m)\u001b[0m\u001b[0;34m\u001b[0m\n",
       "\u001b[0;34m\u001b[0m\u001b[0;34m\u001b[0m\n",
       "\u001b[0;34m\u001b[0m    \u001b[0msummary\u001b[0m\u001b[0;34m[\u001b[0m\u001b[0;34m'skew'\u001b[0m\u001b[0;34m]\u001b[0m \u001b[0;34m=\u001b[0m \u001b[0mchurn_data\u001b[0m\u001b[0;34m.\u001b[0m\u001b[0mskew\u001b[0m\u001b[0;34m(\u001b[0m\u001b[0;34m)\u001b[0m\u001b[0;34m\u001b[0m\n",
       "\u001b[0;34m\u001b[0m    \u001b[0msummary\u001b[0m\u001b[0;34m[\u001b[0m\u001b[0;34m'1%'\u001b[0m\u001b[0;34m]\u001b[0m \u001b[0;34m=\u001b[0m \u001b[0mchurn_data\u001b[0m\u001b[0;34m.\u001b[0m\u001b[0mquantile\u001b[0m\u001b[0;34m(\u001b[0m\u001b[0mq\u001b[0m\u001b[0;34m=\u001b[0m\u001b[0;36m0.01\u001b[0m\u001b[0;34m)\u001b[0m\u001b[0;34m\u001b[0m\n",
       "\u001b[0;34m\u001b[0m    \u001b[0msummary\u001b[0m\u001b[0;34m[\u001b[0m\u001b[0;34m'99%'\u001b[0m\u001b[0;34m]\u001b[0m \u001b[0;34m=\u001b[0m \u001b[0mchurn_data\u001b[0m\u001b[0;34m.\u001b[0m\u001b[0mquantile\u001b[0m\u001b[0;34m(\u001b[0m\u001b[0mq\u001b[0m\u001b[0;34m=\u001b[0m\u001b[0;36m0.99\u001b[0m\u001b[0;34m)\u001b[0m\u001b[0;34m\u001b[0m\n",
       "\u001b[0;34m\u001b[0m    \u001b[0msummary\u001b[0m\u001b[0;34m[\u001b[0m\u001b[0;34m'nonzero'\u001b[0m\u001b[0;34m]\u001b[0m \u001b[0;34m=\u001b[0m \u001b[0mchurn_data\u001b[0m\u001b[0;34m.\u001b[0m\u001b[0mastype\u001b[0m\u001b[0;34m(\u001b[0m\u001b[0mbool\u001b[0m\u001b[0;34m)\u001b[0m\u001b[0;34m.\u001b[0m\u001b[0msum\u001b[0m\u001b[0;34m(\u001b[0m\u001b[0maxis\u001b[0m\u001b[0;34m=\u001b[0m\u001b[0;36m0\u001b[0m\u001b[0;34m)\u001b[0m \u001b[0;34m/\u001b[0m \u001b[0mchurn_data\u001b[0m\u001b[0;34m.\u001b[0m\u001b[0mshape\u001b[0m\u001b[0;34m[\u001b[0m\u001b[0;36m0\u001b[0m\u001b[0;34m]\u001b[0m\u001b[0;34m\u001b[0m\n",
       "\u001b[0;34m\u001b[0m\u001b[0;34m\u001b[0m\n",
       "\u001b[0;34m\u001b[0m    \u001b[0msummary\u001b[0m \u001b[0;34m=\u001b[0m \u001b[0msummary\u001b[0m\u001b[0;34m[\u001b[0m \u001b[0;34m[\u001b[0m\u001b[0;34m'count'\u001b[0m\u001b[0;34m,\u001b[0m\u001b[0;34m'nonzero'\u001b[0m\u001b[0;34m,\u001b[0m\u001b[0;34m'mean'\u001b[0m\u001b[0;34m,\u001b[0m\u001b[0;34m'std'\u001b[0m\u001b[0;34m,\u001b[0m\u001b[0;34m'skew'\u001b[0m\u001b[0;34m,\u001b[0m\u001b[0;34m'min'\u001b[0m\u001b[0;34m,\u001b[0m\u001b[0;34m'1%'\u001b[0m\u001b[0;34m,\u001b[0m\u001b[0;34m'25%'\u001b[0m\u001b[0;34m,\u001b[0m\u001b[0;34m'50%'\u001b[0m\u001b[0;34m,\u001b[0m\u001b[0;34m'75%'\u001b[0m\u001b[0;34m,\u001b[0m\u001b[0;34m'99%'\u001b[0m\u001b[0;34m,\u001b[0m\u001b[0;34m'max'\u001b[0m\u001b[0;34m]\u001b[0m \u001b[0;34m]\u001b[0m\u001b[0;34m\u001b[0m\n",
       "\u001b[0;34m\u001b[0m    \u001b[0msummary\u001b[0m\u001b[0;34m.\u001b[0m\u001b[0mcolumns\u001b[0m \u001b[0;34m=\u001b[0m \u001b[0msummary\u001b[0m\u001b[0;34m.\u001b[0m\u001b[0mcolumns\u001b[0m\u001b[0;34m.\u001b[0m\u001b[0mstr\u001b[0m\u001b[0;34m.\u001b[0m\u001b[0mreplace\u001b[0m\u001b[0;34m(\u001b[0m\u001b[0;34m\"%\"\u001b[0m\u001b[0;34m,\u001b[0m \u001b[0;34m\"pct\"\u001b[0m\u001b[0;34m)\u001b[0m\u001b[0;34m\u001b[0m\n",
       "\u001b[0;34m\u001b[0m\u001b[0;34m\u001b[0m\n",
       "\u001b[0;34m\u001b[0m    \u001b[0msave_path\u001b[0m \u001b[0;34m=\u001b[0m \u001b[0mdata_set_path\u001b[0m\u001b[0;34m.\u001b[0m\u001b[0mreplace\u001b[0m\u001b[0;34m(\u001b[0m\u001b[0;34m'.csv'\u001b[0m\u001b[0;34m,\u001b[0m \u001b[0;34m'_summarystats.csv'\u001b[0m\u001b[0;34m)\u001b[0m\u001b[0;34m\u001b[0m\n",
       "\u001b[0;34m\u001b[0m    \u001b[0msummary\u001b[0m\u001b[0;34m.\u001b[0m\u001b[0mto_csv\u001b[0m\u001b[0;34m(\u001b[0m\u001b[0msave_path\u001b[0m\u001b[0;34m,\u001b[0m\u001b[0mheader\u001b[0m\u001b[0;34m=\u001b[0m\u001b[0;32mTrue\u001b[0m\u001b[0;34m)\u001b[0m\u001b[0;34m\u001b[0m\n",
       "\u001b[0;34m\u001b[0m    \u001b[0mprint\u001b[0m\u001b[0;34m(\u001b[0m\u001b[0;34m'Saving results to %s'\u001b[0m \u001b[0;34m%\u001b[0m \u001b[0msave_path\u001b[0m\u001b[0;34m)\u001b[0m\u001b[0;34m\u001b[0m\u001b[0;34m\u001b[0m\u001b[0m\n",
       "\u001b[0;31mFile:\u001b[0m      /app/fightchurn/listings/chap5/listing_5_2_dataset_stats.py\n",
       "\u001b[0;31mType:\u001b[0m      function"
      ]
     },
     "metadata": {},
     "output_type": "display_data"
    }
   ],
   "source": [
    "dataset_stats??"
   ]
  },
  {
   "cell_type": "code",
   "execution_count": 7,
   "id": "a9d4169d-2313-4f4d-b943-36e9b8031b84",
   "metadata": {},
   "outputs": [
    {
     "data": {
      "text/plain": [
       "\u001b[0;31mSignature:\u001b[0m \u001b[0mfat_tail_scores\u001b[0m\u001b[0;34m(\u001b[0m\u001b[0mdata_set_path\u001b[0m\u001b[0;34m,\u001b[0m \u001b[0mskew_thresh\u001b[0m\u001b[0;34m=\u001b[0m\u001b[0;36m4.0\u001b[0m\u001b[0;34m,\u001b[0m \u001b[0;34m**\u001b[0m\u001b[0mkwargs\u001b[0m\u001b[0;34m)\u001b[0m\u001b[0;34m\u001b[0m\u001b[0;34m\u001b[0m\u001b[0m\n",
       "\u001b[0;31mDocstring:\u001b[0m <no docstring>\n",
       "\u001b[0;31mSource:\u001b[0m   \n",
       "\u001b[0;32mdef\u001b[0m \u001b[0mfat_tail_scores\u001b[0m\u001b[0;34m(\u001b[0m\u001b[0mdata_set_path\u001b[0m\u001b[0;34m,\u001b[0m\u001b[0mskew_thresh\u001b[0m\u001b[0;34m=\u001b[0m\u001b[0;36m4.0\u001b[0m\u001b[0;34m,\u001b[0m\u001b[0;34m**\u001b[0m\u001b[0mkwargs\u001b[0m\u001b[0;34m)\u001b[0m\u001b[0;34m:\u001b[0m\u001b[0;34m\u001b[0m\n",
       "\u001b[0;34m\u001b[0m\u001b[0;34m\u001b[0m\n",
       "\u001b[0;34m\u001b[0m    \u001b[0mchurn_data\u001b[0m \u001b[0;34m=\u001b[0m \u001b[0mpd\u001b[0m\u001b[0;34m.\u001b[0m\u001b[0mread_csv\u001b[0m\u001b[0;34m(\u001b[0m\u001b[0mdata_set_path\u001b[0m\u001b[0;34m,\u001b[0m\u001b[0mindex_col\u001b[0m\u001b[0;34m=\u001b[0m\u001b[0;34m[\u001b[0m\u001b[0;36m0\u001b[0m\u001b[0;34m,\u001b[0m\u001b[0;36m1\u001b[0m\u001b[0;34m]\u001b[0m\u001b[0;34m)\u001b[0m\u001b[0;34m\u001b[0m\n",
       "\u001b[0;34m\u001b[0m    \u001b[0mdata_scores\u001b[0m \u001b[0;34m=\u001b[0m \u001b[0mchurn_data\u001b[0m\u001b[0;34m.\u001b[0m\u001b[0mcopy\u001b[0m\u001b[0;34m(\u001b[0m\u001b[0;34m)\u001b[0m\u001b[0;34m\u001b[0m\n",
       "\u001b[0;34m\u001b[0m    \u001b[0mdata_scores\u001b[0m\u001b[0;34m.\u001b[0m\u001b[0mdrop\u001b[0m\u001b[0;34m(\u001b[0m\u001b[0;34m'is_churn'\u001b[0m\u001b[0;34m,\u001b[0m\u001b[0minplace\u001b[0m\u001b[0;34m=\u001b[0m\u001b[0;32mTrue\u001b[0m\u001b[0;34m,\u001b[0m\u001b[0maxis\u001b[0m\u001b[0;34m=\u001b[0m\u001b[0;36m1\u001b[0m\u001b[0;34m)\u001b[0m\u001b[0;34m\u001b[0m\n",
       "\u001b[0;34m\u001b[0m\u001b[0;34m\u001b[0m\n",
       "\u001b[0;34m\u001b[0m    \u001b[0mstat_path\u001b[0m \u001b[0;34m=\u001b[0m \u001b[0mdata_set_path\u001b[0m\u001b[0;34m.\u001b[0m\u001b[0mreplace\u001b[0m\u001b[0;34m(\u001b[0m\u001b[0;34m'.csv'\u001b[0m\u001b[0;34m,\u001b[0m \u001b[0;34m'_summarystats.csv'\u001b[0m\u001b[0;34m)\u001b[0m\u001b[0;34m\u001b[0m\n",
       "\u001b[0;34m\u001b[0m    \u001b[0;32massert\u001b[0m \u001b[0mos\u001b[0m\u001b[0;34m.\u001b[0m\u001b[0mpath\u001b[0m\u001b[0;34m.\u001b[0m\u001b[0misfile\u001b[0m\u001b[0;34m(\u001b[0m\u001b[0mstat_path\u001b[0m\u001b[0;34m)\u001b[0m\u001b[0;34m,\u001b[0m\u001b[0;34m'You must running listing 5.2 first to generate stats'\u001b[0m\u001b[0;34m\u001b[0m\n",
       "\u001b[0;34m\u001b[0m    \u001b[0mstats\u001b[0m \u001b[0;34m=\u001b[0m \u001b[0mpd\u001b[0m\u001b[0;34m.\u001b[0m\u001b[0mread_csv\u001b[0m\u001b[0;34m(\u001b[0m\u001b[0mstat_path\u001b[0m\u001b[0;34m,\u001b[0m\u001b[0mindex_col\u001b[0m\u001b[0;34m=\u001b[0m\u001b[0;36m0\u001b[0m\u001b[0;34m)\u001b[0m\u001b[0;34m\u001b[0m\n",
       "\u001b[0;34m\u001b[0m    \u001b[0mstats\u001b[0m\u001b[0;34m.\u001b[0m\u001b[0mdrop\u001b[0m\u001b[0;34m(\u001b[0m\u001b[0;34m'is_churn'\u001b[0m\u001b[0;34m,\u001b[0m\u001b[0minplace\u001b[0m\u001b[0;34m=\u001b[0m\u001b[0;32mTrue\u001b[0m\u001b[0;34m)\u001b[0m\u001b[0;34m\u001b[0m\n",
       "\u001b[0;34m\u001b[0m\u001b[0;34m\u001b[0m\n",
       "\u001b[0;34m\u001b[0m    \u001b[0mskewed_columns\u001b[0m\u001b[0;34m=\u001b[0m\u001b[0;34m(\u001b[0m\u001b[0mstats\u001b[0m\u001b[0;34m[\u001b[0m\u001b[0;34m'skew'\u001b[0m\u001b[0;34m]\u001b[0m\u001b[0;34m>\u001b[0m\u001b[0mskew_thresh\u001b[0m\u001b[0;34m)\u001b[0m \u001b[0;34m&\u001b[0m \u001b[0;34m(\u001b[0m\u001b[0mstats\u001b[0m\u001b[0;34m[\u001b[0m\u001b[0;34m'min'\u001b[0m\u001b[0;34m]\u001b[0m \u001b[0;34m>=\u001b[0m \u001b[0;36m0\u001b[0m\u001b[0;34m)\u001b[0m\u001b[0;34m\u001b[0m\n",
       "\u001b[0;34m\u001b[0m    \u001b[0mtransform_skew_columns\u001b[0m\u001b[0;34m(\u001b[0m\u001b[0mdata_scores\u001b[0m\u001b[0;34m,\u001b[0m\u001b[0mskewed_columns\u001b[0m\u001b[0;34m[\u001b[0m\u001b[0mskewed_columns\u001b[0m\u001b[0;34m]\u001b[0m\u001b[0;34m.\u001b[0m\u001b[0mkeys\u001b[0m\u001b[0;34m(\u001b[0m\u001b[0;34m)\u001b[0m\u001b[0;34m)\u001b[0m\u001b[0;34m\u001b[0m\n",
       "\u001b[0;34m\u001b[0m\u001b[0;34m\u001b[0m\n",
       "\u001b[0;34m\u001b[0m    \u001b[0mfattail_columns\u001b[0m\u001b[0;34m=\u001b[0m\u001b[0;34m(\u001b[0m\u001b[0mstats\u001b[0m\u001b[0;34m[\u001b[0m\u001b[0;34m'skew'\u001b[0m\u001b[0;34m]\u001b[0m\u001b[0;34m>\u001b[0m\u001b[0mskew_thresh\u001b[0m\u001b[0;34m)\u001b[0m \u001b[0;34m&\u001b[0m \u001b[0;34m(\u001b[0m\u001b[0mstats\u001b[0m\u001b[0;34m[\u001b[0m\u001b[0;34m'min'\u001b[0m\u001b[0;34m]\u001b[0m \u001b[0;34m<\u001b[0m \u001b[0;36m0\u001b[0m\u001b[0;34m)\u001b[0m\u001b[0;34m\u001b[0m\n",
       "\u001b[0;34m\u001b[0m    \u001b[0mtransform_fattail_columns\u001b[0m\u001b[0;34m(\u001b[0m\u001b[0mdata_scores\u001b[0m\u001b[0;34m,\u001b[0m\u001b[0mfattail_columns\u001b[0m\u001b[0;34m[\u001b[0m\u001b[0mfattail_columns\u001b[0m\u001b[0;34m]\u001b[0m\u001b[0;34m.\u001b[0m\u001b[0mkeys\u001b[0m\u001b[0;34m(\u001b[0m\u001b[0;34m)\u001b[0m\u001b[0;34m)\u001b[0m\u001b[0;34m\u001b[0m\n",
       "\u001b[0;34m\u001b[0m\u001b[0;34m\u001b[0m\n",
       "\u001b[0;34m\u001b[0m    \u001b[0mmean_vals\u001b[0m \u001b[0;34m=\u001b[0m \u001b[0mdata_scores\u001b[0m\u001b[0;34m.\u001b[0m\u001b[0mmean\u001b[0m\u001b[0;34m(\u001b[0m\u001b[0;34m)\u001b[0m\u001b[0;34m\u001b[0m\n",
       "\u001b[0;34m\u001b[0m    \u001b[0mstd_vals\u001b[0m \u001b[0;34m=\u001b[0m \u001b[0mdata_scores\u001b[0m\u001b[0;34m.\u001b[0m\u001b[0mstd\u001b[0m\u001b[0;34m(\u001b[0m\u001b[0;34m)\u001b[0m\u001b[0;34m\u001b[0m\n",
       "\u001b[0;34m\u001b[0m    \u001b[0mdata_scores\u001b[0m\u001b[0;34m=\u001b[0m\u001b[0;34m(\u001b[0m\u001b[0mdata_scores\u001b[0m\u001b[0;34m-\u001b[0m\u001b[0mmean_vals\u001b[0m\u001b[0;34m)\u001b[0m\u001b[0;34m/\u001b[0m\u001b[0mstd_vals\u001b[0m\u001b[0;34m\u001b[0m\n",
       "\u001b[0;34m\u001b[0m\u001b[0;34m\u001b[0m\n",
       "\u001b[0;34m\u001b[0m    \u001b[0mdata_scores\u001b[0m\u001b[0;34m[\u001b[0m\u001b[0;34m'is_churn'\u001b[0m\u001b[0;34m]\u001b[0m\u001b[0;34m=\u001b[0m\u001b[0mchurn_data\u001b[0m\u001b[0;34m[\u001b[0m\u001b[0;34m'is_churn'\u001b[0m\u001b[0;34m]\u001b[0m\u001b[0;34m\u001b[0m\n",
       "\u001b[0;34m\u001b[0m\u001b[0;34m\u001b[0m\n",
       "\u001b[0;34m\u001b[0m\u001b[0;34m\u001b[0m\n",
       "\u001b[0;34m\u001b[0m    \u001b[0mscore_save_path\u001b[0m\u001b[0;34m=\u001b[0m\u001b[0mdata_set_path\u001b[0m\u001b[0;34m.\u001b[0m\u001b[0mreplace\u001b[0m\u001b[0;34m(\u001b[0m\u001b[0;34m'.csv'\u001b[0m\u001b[0;34m,\u001b[0m\u001b[0;34m'_scores.csv'\u001b[0m\u001b[0;34m)\u001b[0m\u001b[0;34m\u001b[0m\n",
       "\u001b[0;34m\u001b[0m    \u001b[0mdata_scores\u001b[0m\u001b[0;34m.\u001b[0m\u001b[0mto_csv\u001b[0m\u001b[0;34m(\u001b[0m\u001b[0mscore_save_path\u001b[0m\u001b[0;34m,\u001b[0m\u001b[0mheader\u001b[0m\u001b[0;34m=\u001b[0m\u001b[0;32mTrue\u001b[0m\u001b[0;34m)\u001b[0m\u001b[0;34m\u001b[0m\n",
       "\u001b[0;34m\u001b[0m    \u001b[0mprint\u001b[0m\u001b[0;34m(\u001b[0m\u001b[0;34m'Saving results to %s'\u001b[0m \u001b[0;34m%\u001b[0m \u001b[0mscore_save_path\u001b[0m\u001b[0;34m)\u001b[0m\u001b[0;34m\u001b[0m\n",
       "\u001b[0;34m\u001b[0m\u001b[0;34m\u001b[0m\n",
       "\u001b[0;34m\u001b[0m    \u001b[0mparam_df\u001b[0m \u001b[0;34m=\u001b[0m \u001b[0mpd\u001b[0m\u001b[0;34m.\u001b[0m\u001b[0mDataFrame\u001b[0m\u001b[0;34m(\u001b[0m\u001b[0;34m{\u001b[0m\u001b[0;34m'skew_score'\u001b[0m\u001b[0;34m:\u001b[0m \u001b[0mskewed_columns\u001b[0m\u001b[0;34m,\u001b[0m\u001b[0;34m\u001b[0m\n",
       "\u001b[0;34m\u001b[0m                             \u001b[0;34m'fattail_score'\u001b[0m\u001b[0;34m:\u001b[0m \u001b[0mfattail_columns\u001b[0m\u001b[0;34m,\u001b[0m\u001b[0;34m\u001b[0m\n",
       "\u001b[0;34m\u001b[0m                             \u001b[0;34m'mean'\u001b[0m\u001b[0;34m:\u001b[0m \u001b[0mmean_vals\u001b[0m\u001b[0;34m,\u001b[0m\u001b[0;34m\u001b[0m\n",
       "\u001b[0;34m\u001b[0m                             \u001b[0;34m'std'\u001b[0m\u001b[0;34m:\u001b[0m \u001b[0mstd_vals\u001b[0m\u001b[0;34m}\u001b[0m\u001b[0;34m)\u001b[0m\u001b[0;34m\u001b[0m\n",
       "\u001b[0;34m\u001b[0m    \u001b[0mparam_save_path\u001b[0m\u001b[0;34m=\u001b[0m\u001b[0mdata_set_path\u001b[0m\u001b[0;34m.\u001b[0m\u001b[0mreplace\u001b[0m\u001b[0;34m(\u001b[0m\u001b[0;34m'.csv'\u001b[0m\u001b[0;34m,\u001b[0m\u001b[0;34m'_score_params.csv'\u001b[0m\u001b[0;34m)\u001b[0m\u001b[0;34m\u001b[0m\n",
       "\u001b[0;34m\u001b[0m    \u001b[0mparam_df\u001b[0m\u001b[0;34m.\u001b[0m\u001b[0mto_csv\u001b[0m\u001b[0;34m(\u001b[0m\u001b[0mparam_save_path\u001b[0m\u001b[0;34m,\u001b[0m\u001b[0mheader\u001b[0m\u001b[0;34m=\u001b[0m\u001b[0;32mTrue\u001b[0m\u001b[0;34m)\u001b[0m\u001b[0;34m\u001b[0m\n",
       "\u001b[0;34m\u001b[0m    \u001b[0mprint\u001b[0m\u001b[0;34m(\u001b[0m\u001b[0;34m'Saving params to %s'\u001b[0m \u001b[0;34m%\u001b[0m \u001b[0mparam_save_path\u001b[0m\u001b[0;34m)\u001b[0m\u001b[0;34m\u001b[0m\u001b[0;34m\u001b[0m\u001b[0m\n",
       "\u001b[0;31mFile:\u001b[0m      /app/fightchurn/listings/chap7/listing_7_5_fat_tail_scores.py\n",
       "\u001b[0;31mType:\u001b[0m      function"
      ]
     },
     "metadata": {},
     "output_type": "display_data"
    }
   ],
   "source": [
    "fat_tail_scores??"
   ]
  },
  {
   "cell_type": "code",
   "execution_count": 8,
   "id": "352c7b99-1597-4e5e-91b1-19728ca405e3",
   "metadata": {},
   "outputs": [
    {
     "data": {
      "text/plain": [
       "\u001b[0;31mSignature:\u001b[0m \u001b[0mfind_metric_groups\u001b[0m\u001b[0;34m(\u001b[0m\u001b[0mdata_set_path\u001b[0m\u001b[0;34m,\u001b[0m \u001b[0mgroup_corr_thresh\u001b[0m\u001b[0;34m=\u001b[0m\u001b[0;36m0.5\u001b[0m\u001b[0;34m)\u001b[0m\u001b[0;34m\u001b[0m\u001b[0;34m\u001b[0m\u001b[0m\n",
       "\u001b[0;31mDocstring:\u001b[0m <no docstring>\n",
       "\u001b[0;31mSource:\u001b[0m   \n",
       "\u001b[0;32mdef\u001b[0m \u001b[0mfind_metric_groups\u001b[0m\u001b[0;34m(\u001b[0m\u001b[0mdata_set_path\u001b[0m\u001b[0;34m,\u001b[0m\u001b[0mgroup_corr_thresh\u001b[0m\u001b[0;34m=\u001b[0m\u001b[0;36m0.5\u001b[0m\u001b[0;34m)\u001b[0m\u001b[0;34m:\u001b[0m\u001b[0;34m\u001b[0m\n",
       "\u001b[0;34m\u001b[0m\u001b[0;34m\u001b[0m\n",
       "\u001b[0;34m\u001b[0m    \u001b[0mscore_save_path\u001b[0m\u001b[0;34m=\u001b[0m\u001b[0mdata_set_path\u001b[0m\u001b[0;34m.\u001b[0m\u001b[0mreplace\u001b[0m\u001b[0;34m(\u001b[0m\u001b[0;34m'.csv'\u001b[0m\u001b[0;34m,\u001b[0m\u001b[0;34m'_scores.csv'\u001b[0m\u001b[0;34m)\u001b[0m\u001b[0;34m\u001b[0m\n",
       "\u001b[0;34m\u001b[0m    \u001b[0;32massert\u001b[0m \u001b[0mos\u001b[0m\u001b[0;34m.\u001b[0m\u001b[0mpath\u001b[0m\u001b[0;34m.\u001b[0m\u001b[0misfile\u001b[0m\u001b[0;34m(\u001b[0m\u001b[0mscore_save_path\u001b[0m\u001b[0;34m)\u001b[0m\u001b[0;34m,\u001b[0m\u001b[0;34m'You must run listing 5.3 or 7.5 to save metric scores first'\u001b[0m\u001b[0;34m\u001b[0m\n",
       "\u001b[0;34m\u001b[0m    \u001b[0mscore_data\u001b[0m \u001b[0;34m=\u001b[0m \u001b[0mpd\u001b[0m\u001b[0;34m.\u001b[0m\u001b[0mread_csv\u001b[0m\u001b[0;34m(\u001b[0m\u001b[0mscore_save_path\u001b[0m\u001b[0;34m,\u001b[0m\u001b[0mindex_col\u001b[0m\u001b[0;34m=\u001b[0m\u001b[0;34m[\u001b[0m\u001b[0;36m0\u001b[0m\u001b[0;34m,\u001b[0m\u001b[0;36m1\u001b[0m\u001b[0;34m]\u001b[0m\u001b[0;34m)\u001b[0m\u001b[0;34m\u001b[0m\n",
       "\u001b[0;34m\u001b[0m    \u001b[0mscore_data\u001b[0m\u001b[0;34m.\u001b[0m\u001b[0mdrop\u001b[0m\u001b[0;34m(\u001b[0m\u001b[0;34m'is_churn'\u001b[0m\u001b[0;34m,\u001b[0m\u001b[0maxis\u001b[0m\u001b[0;34m=\u001b[0m\u001b[0;36m1\u001b[0m\u001b[0;34m,\u001b[0m\u001b[0minplace\u001b[0m\u001b[0;34m=\u001b[0m\u001b[0;32mTrue\u001b[0m\u001b[0;34m)\u001b[0m\u001b[0;34m\u001b[0m\n",
       "\u001b[0;34m\u001b[0m    \u001b[0mmetric_columns\u001b[0m \u001b[0;34m=\u001b[0m \u001b[0mlist\u001b[0m\u001b[0;34m(\u001b[0m\u001b[0mscore_data\u001b[0m\u001b[0;34m.\u001b[0m\u001b[0mcolumns\u001b[0m\u001b[0;34m.\u001b[0m\u001b[0mvalues\u001b[0m\u001b[0;34m)\u001b[0m\u001b[0;34m\u001b[0m\n",
       "\u001b[0;34m\u001b[0m\u001b[0;34m\u001b[0m\n",
       "\u001b[0;34m\u001b[0m    \u001b[0mlabels\u001b[0m \u001b[0;34m=\u001b[0m \u001b[0mfind_correlation_clusters\u001b[0m\u001b[0;34m(\u001b[0m\u001b[0mscore_data\u001b[0m\u001b[0;34m.\u001b[0m\u001b[0mcorr\u001b[0m\u001b[0;34m(\u001b[0m\u001b[0;34m)\u001b[0m\u001b[0;34m,\u001b[0m\u001b[0mgroup_corr_thresh\u001b[0m\u001b[0;34m)\u001b[0m\u001b[0;34m\u001b[0m\n",
       "\u001b[0;34m\u001b[0m    \u001b[0mlabeled_column_df\u001b[0m\u001b[0;34m,\u001b[0m \u001b[0mrelabled_count\u001b[0m \u001b[0;34m=\u001b[0m \u001b[0mrelabel_clusters\u001b[0m\u001b[0;34m(\u001b[0m\u001b[0mlabels\u001b[0m\u001b[0;34m,\u001b[0m\u001b[0mmetric_columns\u001b[0m\u001b[0;34m)\u001b[0m\u001b[0;34m\u001b[0m\n",
       "\u001b[0;34m\u001b[0m    \u001b[0mloadmat_df\u001b[0m \u001b[0;34m=\u001b[0m \u001b[0mmake_load_matrix\u001b[0m\u001b[0;34m(\u001b[0m\u001b[0mlabeled_column_df\u001b[0m\u001b[0;34m,\u001b[0m \u001b[0mmetric_columns\u001b[0m\u001b[0;34m,\u001b[0m \u001b[0mrelabled_count\u001b[0m\u001b[0;34m,\u001b[0m\u001b[0mgroup_corr_thresh\u001b[0m\u001b[0;34m)\u001b[0m\u001b[0;34m\u001b[0m\n",
       "\u001b[0;34m\u001b[0m    \u001b[0msave_load_matrix\u001b[0m\u001b[0;34m(\u001b[0m\u001b[0mdata_set_path\u001b[0m\u001b[0;34m,\u001b[0m\u001b[0mloadmat_df\u001b[0m\u001b[0;34m,\u001b[0m\u001b[0mlabeled_column_df\u001b[0m\u001b[0;34m)\u001b[0m\u001b[0;34m\u001b[0m\u001b[0;34m\u001b[0m\u001b[0m\n",
       "\u001b[0;31mFile:\u001b[0m      /app/fightchurn/listings/chap6/listing_6_4_find_metric_groups.py\n",
       "\u001b[0;31mType:\u001b[0m      function"
      ]
     },
     "metadata": {},
     "output_type": "display_data"
    }
   ],
   "source": [
    "find_metric_groups??"
   ]
  },
  {
   "cell_type": "code",
   "execution_count": 9,
   "id": "da24b8ba-cc1f-4286-9a81-c94c1826046f",
   "metadata": {},
   "outputs": [
    {
     "data": {
      "text/plain": [
       "\u001b[0;31mSignature:\u001b[0m \u001b[0mapply_metric_groups\u001b[0m\u001b[0;34m(\u001b[0m\u001b[0mdata_set_path\u001b[0m\u001b[0;34m)\u001b[0m\u001b[0;34m\u001b[0m\u001b[0;34m\u001b[0m\u001b[0m\n",
       "\u001b[0;31mDocstring:\u001b[0m <no docstring>\n",
       "\u001b[0;31mSource:\u001b[0m   \n",
       "\u001b[0;32mdef\u001b[0m \u001b[0mapply_metric_groups\u001b[0m\u001b[0;34m(\u001b[0m\u001b[0mdata_set_path\u001b[0m\u001b[0;34m)\u001b[0m\u001b[0;34m:\u001b[0m\u001b[0;34m\u001b[0m\n",
       "\u001b[0;34m\u001b[0m\u001b[0;34m\u001b[0m\n",
       "\u001b[0;34m\u001b[0m    \u001b[0mscore_save_path\u001b[0m\u001b[0;34m=\u001b[0m\u001b[0mdata_set_path\u001b[0m\u001b[0;34m.\u001b[0m\u001b[0mreplace\u001b[0m\u001b[0;34m(\u001b[0m\u001b[0;34m'.csv'\u001b[0m\u001b[0;34m,\u001b[0m\u001b[0;34m'_scores.csv'\u001b[0m\u001b[0;34m)\u001b[0m\u001b[0;34m\u001b[0m\n",
       "\u001b[0;34m\u001b[0m    \u001b[0;32massert\u001b[0m \u001b[0mos\u001b[0m\u001b[0;34m.\u001b[0m\u001b[0mpath\u001b[0m\u001b[0;34m.\u001b[0m\u001b[0misfile\u001b[0m\u001b[0;34m(\u001b[0m\u001b[0mscore_save_path\u001b[0m\u001b[0;34m)\u001b[0m\u001b[0;34m,\u001b[0m\u001b[0;34m'You must run listing 5.3 or 7.5 to save metric scores first'\u001b[0m\u001b[0;34m\u001b[0m\n",
       "\u001b[0;34m\u001b[0m    \u001b[0mscore_data\u001b[0m \u001b[0;34m=\u001b[0m \u001b[0mpd\u001b[0m\u001b[0;34m.\u001b[0m\u001b[0mread_csv\u001b[0m\u001b[0;34m(\u001b[0m\u001b[0mscore_save_path\u001b[0m\u001b[0;34m,\u001b[0m\u001b[0mindex_col\u001b[0m\u001b[0;34m=\u001b[0m\u001b[0;34m[\u001b[0m\u001b[0;36m0\u001b[0m\u001b[0;34m,\u001b[0m\u001b[0;36m1\u001b[0m\u001b[0;34m]\u001b[0m\u001b[0;34m)\u001b[0m\u001b[0;34m\u001b[0m\n",
       "\u001b[0;34m\u001b[0m    \u001b[0mdata_2group\u001b[0m \u001b[0;34m=\u001b[0m \u001b[0mscore_data\u001b[0m\u001b[0;34m.\u001b[0m\u001b[0mdrop\u001b[0m\u001b[0;34m(\u001b[0m\u001b[0;34m'is_churn'\u001b[0m\u001b[0;34m,\u001b[0m\u001b[0maxis\u001b[0m\u001b[0;34m=\u001b[0m\u001b[0;36m1\u001b[0m\u001b[0;34m)\u001b[0m\u001b[0;34m\u001b[0m\n",
       "\u001b[0;34m\u001b[0m\u001b[0;34m\u001b[0m\n",
       "\u001b[0;34m\u001b[0m    \u001b[0mload_mat_path\u001b[0m \u001b[0;34m=\u001b[0m \u001b[0mdata_set_path\u001b[0m\u001b[0;34m.\u001b[0m\u001b[0mreplace\u001b[0m\u001b[0;34m(\u001b[0m\u001b[0;34m'.csv'\u001b[0m\u001b[0;34m,\u001b[0m \u001b[0;34m'_load_mat.csv'\u001b[0m\u001b[0;34m)\u001b[0m\u001b[0;34m\u001b[0m\n",
       "\u001b[0;34m\u001b[0m    \u001b[0;32massert\u001b[0m \u001b[0mos\u001b[0m\u001b[0;34m.\u001b[0m\u001b[0mpath\u001b[0m\u001b[0;34m.\u001b[0m\u001b[0misfile\u001b[0m\u001b[0;34m(\u001b[0m\u001b[0mload_mat_path\u001b[0m\u001b[0;34m)\u001b[0m\u001b[0;34m,\u001b[0m\u001b[0;34m'You must run listing 6.4 to save a loading matrix first'\u001b[0m\u001b[0;34m\u001b[0m\n",
       "\u001b[0;34m\u001b[0m    \u001b[0mload_mat_df\u001b[0m \u001b[0;34m=\u001b[0m \u001b[0mpd\u001b[0m\u001b[0;34m.\u001b[0m\u001b[0mread_csv\u001b[0m\u001b[0;34m(\u001b[0m\u001b[0mload_mat_path\u001b[0m\u001b[0;34m,\u001b[0m \u001b[0mindex_col\u001b[0m\u001b[0;34m=\u001b[0m\u001b[0;36m0\u001b[0m\u001b[0;34m)\u001b[0m\u001b[0;34m\u001b[0m\n",
       "\u001b[0;34m\u001b[0m    \u001b[0mload_mat_ndarray\u001b[0m \u001b[0;34m=\u001b[0m \u001b[0mload_mat_df\u001b[0m\u001b[0;34m.\u001b[0m\u001b[0mto_numpy\u001b[0m\u001b[0;34m(\u001b[0m\u001b[0;34m)\u001b[0m\u001b[0;34m\u001b[0m\n",
       "\u001b[0;34m\u001b[0m\u001b[0;34m\u001b[0m\n",
       "\u001b[0;34m\u001b[0m    \u001b[0;31m# Make sure the data is in the same column order as the rows of the loading matrix\u001b[0m\u001b[0;34m\u001b[0m\n",
       "\u001b[0;34m\u001b[0m    \u001b[0mndarray_2group\u001b[0m \u001b[0;34m=\u001b[0m \u001b[0mdata_2group\u001b[0m\u001b[0;34m[\u001b[0m\u001b[0mload_mat_df\u001b[0m\u001b[0;34m.\u001b[0m\u001b[0mindex\u001b[0m\u001b[0;34m.\u001b[0m\u001b[0mvalues\u001b[0m\u001b[0;34m]\u001b[0m\u001b[0;34m.\u001b[0m\u001b[0mto_numpy\u001b[0m\u001b[0;34m(\u001b[0m\u001b[0;34m)\u001b[0m\u001b[0;34m\u001b[0m\n",
       "\u001b[0;34m\u001b[0m    \u001b[0mgrouped_ndarray\u001b[0m \u001b[0;34m=\u001b[0m \u001b[0mnp\u001b[0m\u001b[0;34m.\u001b[0m\u001b[0mmatmul\u001b[0m\u001b[0;34m(\u001b[0m\u001b[0mndarray_2group\u001b[0m\u001b[0;34m,\u001b[0m \u001b[0mload_mat_ndarray\u001b[0m\u001b[0;34m)\u001b[0m\u001b[0;34m\u001b[0m\n",
       "\u001b[0;34m\u001b[0m\u001b[0;34m\u001b[0m\n",
       "\u001b[0;34m\u001b[0m    \u001b[0mchurn_data_grouped\u001b[0m \u001b[0;34m=\u001b[0m \u001b[0mpd\u001b[0m\u001b[0;34m.\u001b[0m\u001b[0mDataFrame\u001b[0m\u001b[0;34m(\u001b[0m\u001b[0mgrouped_ndarray\u001b[0m\u001b[0;34m,\u001b[0m\u001b[0mcolumns\u001b[0m\u001b[0;34m=\u001b[0m\u001b[0mload_mat_df\u001b[0m\u001b[0;34m.\u001b[0m\u001b[0mcolumns\u001b[0m\u001b[0;34m.\u001b[0m\u001b[0mvalues\u001b[0m\u001b[0;34m,\u001b[0m \u001b[0mindex\u001b[0m\u001b[0;34m=\u001b[0m\u001b[0mscore_data\u001b[0m\u001b[0;34m.\u001b[0m\u001b[0mindex\u001b[0m\u001b[0;34m)\u001b[0m\u001b[0;34m\u001b[0m\n",
       "\u001b[0;34m\u001b[0m\u001b[0;34m\u001b[0m\n",
       "\u001b[0;34m\u001b[0m    \u001b[0mchurn_data_grouped\u001b[0m\u001b[0;34m[\u001b[0m\u001b[0;34m'is_churn'\u001b[0m\u001b[0;34m]\u001b[0m \u001b[0;34m=\u001b[0m \u001b[0mscore_data\u001b[0m\u001b[0;34m[\u001b[0m\u001b[0;34m'is_churn'\u001b[0m\u001b[0;34m]\u001b[0m\u001b[0;34m\u001b[0m\n",
       "\u001b[0;34m\u001b[0m\u001b[0;34m\u001b[0m\n",
       "\u001b[0;34m\u001b[0m    \u001b[0msave_path\u001b[0m \u001b[0;34m=\u001b[0m \u001b[0mdata_set_path\u001b[0m\u001b[0;34m.\u001b[0m\u001b[0mreplace\u001b[0m\u001b[0;34m(\u001b[0m\u001b[0;34m'.csv'\u001b[0m\u001b[0;34m,\u001b[0m \u001b[0;34m'_groupscore.csv'\u001b[0m\u001b[0;34m)\u001b[0m\u001b[0;34m\u001b[0m\n",
       "\u001b[0;34m\u001b[0m    \u001b[0mchurn_data_grouped\u001b[0m\u001b[0;34m.\u001b[0m\u001b[0mto_csv\u001b[0m\u001b[0;34m(\u001b[0m\u001b[0msave_path\u001b[0m\u001b[0;34m,\u001b[0m\u001b[0mheader\u001b[0m\u001b[0;34m=\u001b[0m\u001b[0;32mTrue\u001b[0m\u001b[0;34m)\u001b[0m\u001b[0;34m\u001b[0m\n",
       "\u001b[0;34m\u001b[0m    \u001b[0mprint\u001b[0m\u001b[0;34m(\u001b[0m\u001b[0;34m'Saved grouped data  to '\u001b[0m \u001b[0;34m+\u001b[0m \u001b[0msave_path\u001b[0m\u001b[0;34m)\u001b[0m\u001b[0;34m\u001b[0m\u001b[0;34m\u001b[0m\u001b[0m\n",
       "\u001b[0;31mFile:\u001b[0m      /app/fightchurn/listings/chap6/listing_6_3_apply_metric_groups.py\n",
       "\u001b[0;31mType:\u001b[0m      function"
      ]
     },
     "metadata": {},
     "output_type": "display_data"
    }
   ],
   "source": [
    "apply_metric_groups??"
   ]
  },
  {
   "cell_type": "code",
   "execution_count": 10,
   "id": "9d372fe6-3a39-4ecc-acf0-2c64bbe18499",
   "metadata": {},
   "outputs": [
    {
     "data": {
      "text/plain": [
       "\u001b[0;31mSignature:\u001b[0m \u001b[0mordered_correlation_matrix\u001b[0m\u001b[0;34m(\u001b[0m\u001b[0mdata_set_path\u001b[0m\u001b[0;34m)\u001b[0m\u001b[0;34m\u001b[0m\u001b[0;34m\u001b[0m\u001b[0m\n",
       "\u001b[0;31mDocstring:\u001b[0m <no docstring>\n",
       "\u001b[0;31mSource:\u001b[0m   \n",
       "\u001b[0;32mdef\u001b[0m \u001b[0mordered_correlation_matrix\u001b[0m\u001b[0;34m(\u001b[0m\u001b[0mdata_set_path\u001b[0m\u001b[0;34m)\u001b[0m\u001b[0;34m:\u001b[0m\u001b[0;34m\u001b[0m\n",
       "\u001b[0;34m\u001b[0m\u001b[0;34m\u001b[0m\n",
       "\u001b[0;34m\u001b[0m    \u001b[0mchurn_data\u001b[0m \u001b[0;34m=\u001b[0m \u001b[0mpd\u001b[0m\u001b[0;34m.\u001b[0m\u001b[0mread_csv\u001b[0m\u001b[0;34m(\u001b[0m\u001b[0mdata_set_path\u001b[0m\u001b[0;34m.\u001b[0m\u001b[0mreplace\u001b[0m\u001b[0;34m(\u001b[0m\u001b[0;34m'.csv'\u001b[0m\u001b[0;34m,\u001b[0m\u001b[0;34m'_scores.csv'\u001b[0m\u001b[0;34m)\u001b[0m\u001b[0;34m,\u001b[0m\u001b[0mindex_col\u001b[0m\u001b[0;34m=\u001b[0m\u001b[0;34m[\u001b[0m\u001b[0;36m0\u001b[0m\u001b[0;34m,\u001b[0m\u001b[0;36m1\u001b[0m\u001b[0;34m]\u001b[0m\u001b[0;34m)\u001b[0m\u001b[0;34m\u001b[0m\n",
       "\u001b[0;34m\u001b[0m\u001b[0;34m\u001b[0m\n",
       "\u001b[0;34m\u001b[0m    \u001b[0mload_mat_df\u001b[0m \u001b[0;34m=\u001b[0m \u001b[0mpd\u001b[0m\u001b[0;34m.\u001b[0m\u001b[0mread_csv\u001b[0m\u001b[0;34m(\u001b[0m\u001b[0mdata_set_path\u001b[0m\u001b[0;34m.\u001b[0m\u001b[0mreplace\u001b[0m\u001b[0;34m(\u001b[0m\u001b[0;34m'.csv'\u001b[0m\u001b[0;34m,\u001b[0m \u001b[0;34m'_load_mat.csv'\u001b[0m\u001b[0;34m)\u001b[0m\u001b[0;34m,\u001b[0m \u001b[0mindex_col\u001b[0m\u001b[0;34m=\u001b[0m\u001b[0;36m0\u001b[0m\u001b[0;34m)\u001b[0m\u001b[0;34m\u001b[0m\n",
       "\u001b[0;34m\u001b[0m\u001b[0;34m\u001b[0m\n",
       "\u001b[0;34m\u001b[0m    \u001b[0mchurn_data\u001b[0m\u001b[0;34m=\u001b[0m\u001b[0mchurn_data\u001b[0m\u001b[0;34m[\u001b[0m\u001b[0mload_mat_df\u001b[0m\u001b[0;34m.\u001b[0m\u001b[0mindex\u001b[0m\u001b[0;34m.\u001b[0m\u001b[0mvalues\u001b[0m\u001b[0;34m]\u001b[0m\u001b[0;34m\u001b[0m\n",
       "\u001b[0;34m\u001b[0m\u001b[0;34m\u001b[0m\n",
       "\u001b[0;34m\u001b[0m    \u001b[0mcorr\u001b[0m \u001b[0;34m=\u001b[0m \u001b[0mchurn_data\u001b[0m\u001b[0;34m.\u001b[0m\u001b[0mcorr\u001b[0m\u001b[0;34m(\u001b[0m\u001b[0;34m)\u001b[0m\u001b[0;34m\u001b[0m\n",
       "\u001b[0;34m\u001b[0m\u001b[0;34m\u001b[0m\n",
       "\u001b[0;34m\u001b[0m    \u001b[0msave_name\u001b[0m \u001b[0;34m=\u001b[0m \u001b[0mdata_set_path\u001b[0m\u001b[0;34m.\u001b[0m\u001b[0mreplace\u001b[0m\u001b[0;34m(\u001b[0m\u001b[0;34m'.csv'\u001b[0m\u001b[0;34m,\u001b[0m \u001b[0;34m'_ordered_correlation_matrix.csv'\u001b[0m\u001b[0;34m)\u001b[0m\u001b[0;34m\u001b[0m\n",
       "\u001b[0;34m\u001b[0m    \u001b[0mcorr\u001b[0m\u001b[0;34m.\u001b[0m\u001b[0mto_csv\u001b[0m\u001b[0;34m(\u001b[0m\u001b[0msave_name\u001b[0m\u001b[0;34m)\u001b[0m\u001b[0;34m\u001b[0m\n",
       "\u001b[0;34m\u001b[0m    \u001b[0mprint\u001b[0m\u001b[0;34m(\u001b[0m\u001b[0;34m'Saved correlation matrix to '\u001b[0m \u001b[0;34m+\u001b[0m \u001b[0msave_name\u001b[0m\u001b[0;34m)\u001b[0m\u001b[0;34m\u001b[0m\u001b[0;34m\u001b[0m\u001b[0m\n",
       "\u001b[0;31mFile:\u001b[0m      /app/fightchurn/listings/chap6/listing_6_5_ordered_correlation_matrix.py\n",
       "\u001b[0;31mType:\u001b[0m      function"
      ]
     },
     "metadata": {},
     "output_type": "display_data"
    }
   ],
   "source": [
    "ordered_correlation_matrix??"
   ]
  },
  {
   "cell_type": "code",
   "execution_count": null,
   "id": "8b147e82-3541-4a43-b84d-b4a172cf6bd8",
   "metadata": {},
   "outputs": [],
   "source": []
  },
  {
   "cell_type": "code",
   "execution_count": null,
   "id": "fec3932e-497e-44e1-96af-f0ba431a7edf",
   "metadata": {},
   "outputs": [],
   "source": []
  },
  {
   "cell_type": "code",
   "execution_count": null,
   "id": "d2a37077-9f55-4368-b658-5085f85de678",
   "metadata": {},
   "outputs": [],
   "source": []
  },
  {
   "cell_type": "markdown",
   "id": "dd0e3092-8566-4135-b108-b1f6da33d42a",
   "metadata": {},
   "source": [
    "## Modelling"
   ]
  },
  {
   "cell_type": "code",
   "execution_count": 14,
   "id": "f9824714-a7fa-4fdd-85de-d3d62930b15b",
   "metadata": {},
   "outputs": [
    {
     "name": "stdout",
     "output_type": "stream",
     "text": [
      "{'defaults': {'data_set_path': 'socialnet7/socialnet7_dataset2.csv',\n",
      "              'type': 'py'},\n",
      " 'list0': {'name': 'dataset2',\n",
      "           'params': {'%from_yyyy-mm-dd': '2020-03-01',\n",
      "                      '%metric_interval': '7 day',\n",
      "                      '%to_yyyy-mm-dd': '2020-05-10',\n",
      "                      'mode': 'save',\n",
      "                      'type': 'sql'}},\n",
      " 'list1': {'name': 'prepare_data',\n",
      "           'params': Box({'group_corr_thresh': 0.65}),\n",
      "           'v2': Box({'data_set_path': 'socialnet7/socialnet7_dataset.csv'}),\n",
      "           'v3': {'data_set_path': 'socialnet7/socialnet7_dataset3_nocat.csv'}},\n",
      " 'list2': {'name': 'logistic_regression',\n",
      "           'params': Box({}),\n",
      "           'v1': Box({'as_retention': False})},\n",
      " 'list3': {'name': 'dataset2_current',\n",
      "           'params': {'%metric_interval': '7 day',\n",
      "                      'mode': 'save',\n",
      "                      'type': 'sql'}},\n",
      " 'list4': Box({'name': 'rescore_metrics', 'params': {}}),\n",
      " 'list5': {'name': 'churn_forecast',\n",
      "           'params': Box({}),\n",
      "           'v1': Box({}),\n",
      "           'v2': {'data_set_path': 'socialnet7/socialnet7_dataset3.csv',\n",
      "                  'model_name': 'logreg_model_c0.040'}},\n",
      " 'list6': Box({'name': 'rescore_metrics', 'params': {}})}\n"
     ]
    }
   ],
   "source": [
    "pprint(chap8)"
   ]
  },
  {
   "cell_type": "code",
   "execution_count": null,
   "id": "df55529e-bb31-49cb-a76a-2667185c9dc7",
   "metadata": {},
   "outputs": [],
   "source": []
  },
  {
   "cell_type": "code",
   "execution_count": null,
   "id": "2b1435f5-e234-475b-bd89-121e2a385eb0",
   "metadata": {},
   "outputs": [],
   "source": []
  },
  {
   "cell_type": "markdown",
   "id": "bc359b2d-a0c2-4e19-af64-6cd11960b99b",
   "metadata": {},
   "source": [
    "### Listing 8.2 Logistic Regression"
   ]
  },
  {
   "cell_type": "code",
   "execution_count": null,
   "id": "6088dc55-f45d-4952-b89d-cda087076e8a",
   "metadata": {},
   "outputs": [],
   "source": [
    "import pandas as pd\n",
    "import numpy as np\n",
    "import os\n",
    "from sklearn.linear_model import LogisticRegression\n",
    "from math import exp\n",
    "import pickle\n",
    "\n",
    "def logistic_regression(data_set_path,as_retention=True):\n",
    "    X,y = prepare_data(data_set_path,as_retention=as_retention)\n",
    "    retain_reg = LogisticRegression(penalty='l1', solver='liblinear', fit_intercept=True)\n",
    "    retain_reg.fit(X, y)\n",
    "    file_ext = '' if as_retention else '_churn'\n",
    "    save_regression_summary(data_set_path,retain_reg, file_ext)\n",
    "    save_regression_model(data_set_path,retain_reg, file_ext)\n",
    "    save_dataset_predictions(data_set_path,retain_reg,X, file_ext)\n",
    "\n",
    "def prepare_data(data_set_path,ext='_groupscore',as_retention=True):\n",
    "    score_save_path = data_set_path.replace('.csv', '{}.csv'.format(ext))\n",
    "    assert os.path.isfile(score_save_path), 'You must run listing 6.3 to save grouped metric scores first'\n",
    "    grouped_data = pd.read_csv(score_save_path,index_col=[0,1])\n",
    "    y = grouped_data['is_churn'].astype(int)\n",
    "    if as_retention: y=np.subtract(1,y)\n",
    "    X = grouped_data.drop(['is_churn'],axis=1)\n",
    "    return X,y\n",
    "\n",
    "def calculate_impacts(retain_reg):\n",
    "    average_retain=s_curve(-retain_reg.intercept_)\n",
    "    one_stdev_retain=np.array( [ s_curve(-retain_reg.intercept_-c) for c in  retain_reg.coef_[0]])\n",
    "    one_stdev_impact=one_stdev_retain-average_retain\n",
    "    return one_stdev_impact, average_retain\n",
    "\n",
    "def s_curve(x):\n",
    "    return 1.0 - (1.0/(1.0+exp(-x)))\n",
    "\n",
    "def save_regression_summary(data_set_path,retain_reg,ext=''):\n",
    "    one_stdev_impact,average_retain = calculate_impacts(retain_reg)\n",
    "    group_lists = pd.read_csv(data_set_path.replace('.csv', '_groupmets.csv'),index_col=0)\n",
    "    coef_df = pd.DataFrame.from_dict(\n",
    "        {'group_metric_offset':  np.append(group_lists.index,'offset'),\n",
    "         'weight': np.append(retain_reg.coef_[0],retain_reg.intercept_),\n",
    "         'retain_impact' : np.append(one_stdev_impact,average_retain),\n",
    "         'group_metrics' : np.append(group_lists['metrics'],'(baseline)')})\n",
    "    save_path = data_set_path.replace('.csv', '_logreg_summary{}.csv'.format(ext))\n",
    "    coef_df.to_csv(save_path, index=False)\n",
    "    print('Saved coefficients to ' + save_path)\n",
    "\n",
    "def save_regression_model(data_set_path,retain_reg,ext=''):\n",
    "    pickle_path = data_set_path.replace('.csv', '_logreg_model{}.pkl'.format(ext))\n",
    "    with open(pickle_path, 'wb') as fid:\n",
    "        pickle.dump(retain_reg, fid)\n",
    "    print('Saved model pickle to ' + pickle_path)\n",
    "\n",
    "def save_dataset_predictions(data_set_path, retain_reg, X,ext=''):\n",
    "    predictions = retain_reg.predict_proba(X)\n",
    "    predict_df = pd.DataFrame(predictions,index=X.index,columns=['churn_prob','retain_prob'])\n",
    "    predict_path = data_set_path.replace('.csv', '_predictions{}.csv'.format(ext))\n",
    "    predict_df.to_csv(predict_path,header=True)\n",
    "    print('Saved dataset predictions to ' + predict_path)\n"
   ]
  },
  {
   "cell_type": "code",
   "execution_count": null,
   "id": "fe2d6b42-8cf2-4ed2-a8d3-bc50db6d52ed",
   "metadata": {},
   "outputs": [],
   "source": []
  },
  {
   "cell_type": "markdown",
   "id": "1c60574f-413e-456a-a330-fd85058015e2",
   "metadata": {},
   "source": [
    "### Listing 8.4 Rescore Metrics"
   ]
  },
  {
   "cell_type": "code",
   "execution_count": null,
   "id": "5fc3d4da-4c90-4815-b111-e1051d89bc77",
   "metadata": {},
   "outputs": [],
   "source": [
    "import pandas as pd\n",
    "import numpy as np\n",
    "import os\n",
    "from fightchurn.listings.chap7.listing_7_5_fat_tail_scores import transform_fattail_columns, transform_skew_columns\n",
    "\n",
    "def rescore_metrics(data_set_path):\n",
    "\n",
    "    load_mat_df = reload_churn_data(data_set_path,'load_mat','6.4',is_customer_data=False)\n",
    "    score_df = reload_churn_data(data_set_path,'score_params','7.5',is_customer_data=False)\n",
    "    current_data = reload_churn_data(data_set_path,'current','8.3',is_customer_data=True)\n",
    "    assert set(score_df.index.values)==set(current_data.columns.values),\"Data to re-score does not match transform params\"\n",
    "    assert set(load_mat_df.index.values)==set(current_data.columns.values),\"Data to re-score does not match lodaasasdfasdfasdf matrix\"\n",
    "\n",
    "    transform_skew_columns(current_data,score_df[score_df['skew_score']].index.values)\n",
    "    transform_fattail_columns(current_data,score_df[score_df['fattail_score']].index.values)\n",
    "    scaled_data = score_current_data(current_data,score_df,data_set_path)\n",
    "    grouped_data = group_current_data(scaled_data, load_mat_df,data_set_path)\n",
    "    save_segment_data(grouped_data,current_data,load_mat_df,data_set_path)\n",
    "\n",
    "def score_current_data(current_data,score_df, data_set_path):\n",
    "    current_data=current_data[score_df.index.values]\n",
    "    scaled_data=(current_data-score_df['mean'])/score_df['std']\n",
    "    score_save_path=data_set_path.replace('.csv','_current_scores.csv')\n",
    "    scaled_data.to_csv(score_save_path,header=True)\n",
    "    print('Saving score results to %s' % score_save_path)\n",
    "    return scaled_data\n",
    "\n",
    "def group_current_data(scaled_data,load_mat_df,data_set_path):\n",
    "    scaled_data = scaled_data[load_mat_df.index.values]\n",
    "    grouped_ndarray = np.matmul(scaled_data.to_numpy(), load_mat_df.to_numpy())\n",
    "    current_data_grouped = pd.DataFrame(grouped_ndarray,columns=load_mat_df.columns.values, index=scaled_data.index)\n",
    "    score_save_path=data_set_path.replace('.csv','_current_groupscore.csv')\n",
    "    current_data_grouped.to_csv(score_save_path,header=True)\n",
    "    print('Saving grouped results to %s' % score_save_path)\n",
    "    return current_data_grouped\n",
    "\n",
    "def save_segment_data(current_data_grouped, current_data, load_mat_df, data_set_path):\n",
    "    group_cols =  load_mat_df.columns[load_mat_df.astype(bool).sum(axis=0) > 1]\n",
    "    no_group_cols = load_mat_df.columns[load_mat_df.astype(bool).sum(axis=0) == 1]\n",
    "    segment_df = current_data_grouped[group_cols].join(current_data[no_group_cols])\n",
    "    segment_df.to_csv(data_set_path.replace('.csv','_current_groupmets_segment.csv'),header=True)\n",
    "\n",
    "def reload_churn_data(data_set_path,suffix,listing,is_customer_data):\n",
    "    data_path = data_set_path.replace('.csv', '_{}.csv'.format(suffix))\n",
    "    assert os.path.isfile(data_path),'You must run listing {} to save {} first'.format(listing,suffix)\n",
    "    ic = [0,1] if is_customer_data else 0\n",
    "    churn_data = pd.read_csv(data_path, index_col=ic)\n",
    "    return churn_data"
   ]
  },
  {
   "cell_type": "code",
   "execution_count": null,
   "id": "9f068742-1c1b-4dd5-bea6-bdaba67b402b",
   "metadata": {},
   "outputs": [],
   "source": []
  },
  {
   "cell_type": "markdown",
   "id": "816b0142-faf9-4e6e-a9d2-07f0413d60cf",
   "metadata": {},
   "source": [
    "### Listing 8.5 Churn Prediction"
   ]
  },
  {
   "cell_type": "code",
   "execution_count": null,
   "id": "23324046-a641-4637-a9e3-bd05ac4b87b9",
   "metadata": {},
   "outputs": [],
   "source": [
    "import pandas as pd\n",
    "import os\n",
    "import pickle\n",
    "import matplotlib.pyplot as plt\n",
    "from fightchurn.listings.chap8.listing_8_4_rescore_metrics import reload_churn_data\n",
    "\n",
    "def churn_forecast(data_set_path,model_name='logreg_model'):\n",
    "\n",
    "    pickle_path = data_set_path.replace('.csv', '_{}.pkl'.format(model_name))\n",
    "    assert os.path.isfile(pickle_path), 'You must run listing 8.2 to save a logistic regression model first'\n",
    "    with open(pickle_path, 'rb') as fid:\n",
    "        logreg_model = pickle.load(fid)\n",
    "\n",
    "    current_score_df = reload_churn_data(data_set_path,'current_groupscore','8.4',is_customer_data=True)\n",
    "\n",
    "    predictions = logreg_model.predict_proba(current_score_df.to_numpy())\n",
    "\n",
    "    predict_df = pd.DataFrame(predictions, index=current_score_df.index, columns=['churn_prob', 'retain_prob'])\n",
    "    forecast_save_path = data_set_path.replace('.csv', '_current_predictions.csv')\n",
    "    print('Saving results to %s' % forecast_save_path)\n",
    "    predict_df.to_csv(forecast_save_path, header=True)\n",
    "\n",
    "    forecast_histogram(data_set_path,predict_df)\n",
    "\n",
    "def forecast_histogram(data_set_path,predict_df,ext='reg'):\n",
    "    plt.figure(figsize=[6,4])\n",
    "    n, bins,_ = plt.hist(predict_df['churn_prob'].values,bins=20)\n",
    "    plt.xlabel('Churn Probability')\n",
    "    plt.ylabel('# of Accounts')\n",
    "    plt.title('Histogram of Active Customer Churn Probability ({})'.format(ext))\n",
    "    plt.grid()\n",
    "    plt.savefig(data_set_path.replace('.csv', '_{}_churnhist.png'.format(ext)), format='png')\n",
    "    plt.close()\n",
    "    hist_df=pd.DataFrame({'n':n,'bins':bins[1:]})\n",
    "    hist_df.to_csv(data_set_path.replace('.csv', '_current_churnhist.csv'))\n"
   ]
  },
  {
   "cell_type": "code",
   "execution_count": null,
   "id": "1ebca558-ca66-4a7b-a429-c480f98b8aeb",
   "metadata": {},
   "outputs": [],
   "source": []
  },
  {
   "cell_type": "markdown",
   "id": "e2b15fd9-5534-4792-bc19-ffa9336aacfb",
   "metadata": {
    "tags": []
   },
   "source": [
    "### Listing 8.6 Rescore Metrics"
   ]
  },
  {
   "cell_type": "code",
   "execution_count": null,
   "id": "0763ca08-7449-49a3-8223-4c73c7de93ea",
   "metadata": {},
   "outputs": [],
   "source": [
    "import pandas as pd\n",
    "import numpy as np\n",
    "from fightchurn.listings.chap7.listing_7_5_fat_tail_scores import transform_fattail_columns, transform_skew_columns\n",
    "from fightchurn.listings.chap8.listing_8_4_rescore_metrics import reload_churn_data\n",
    "\n",
    "def clip_hi_cols(data, hi_vals):\n",
    "    for col in hi_vals.index.values:\n",
    "        data.loc[data[col] > hi_vals[col],col] = hi_vals[col]\n",
    "\n",
    "def clip_lo_cols(data, lo_vals):\n",
    "    for col in lo_vals.index.values:\n",
    "        data.loc[data[col] < lo_vals[col],col] = lo_vals[col]\n",
    "\n",
    "def rescore_metrics(data_set_path):\n",
    "\n",
    "    current_data = reload_churn_data(data_set_path,'current','8.3',is_customer_data=True)\n",
    "    load_mat_df = reload_churn_data(data_set_path,'load_mat','6.4',is_customer_data=False)\n",
    "    score_df = reload_churn_data(data_set_path,'score_params','7.5',is_customer_data=False)\n",
    "    stats = reload_churn_data(data_set_path,'summarystats','5.2',is_customer_data=False)\n",
    "    stats.drop('is_churn',inplace=True)\n",
    "    assert set(score_df.index.values)==set(current_data.columns.values),\"Data to re-score does not match transform params\"\n",
    "    assert set(load_mat_df.index.values)==set(current_data.columns.values),\"Data to re-score does not match load matrix\"\n",
    "    assert set(stats.index.values)==set(current_data.columns.values),\"Data to re-score does not match summary stats\"\n",
    "\n",
    "    clip_hi_cols(current_data, stats['99pct'])\n",
    "    clip_lo_cols(current_data, stats['1pct'])\n",
    "\n",
    "    transform_skew_columns(current_data, score_df[score_df['skew_score']].index.values)\n",
    "    transform_fattail_columns(current_data, score_df[score_df['skew_score']].index.values)\n",
    "\n",
    "    current_data=current_data[score_df.index.values]\n",
    "    scaled_data=(current_data-score_df['mean'])/score_df['std']\n",
    "\n",
    "    scaled_data = scaled_data[load_mat_df.index.values]\n",
    "    grouped_ndarray = np.matmul(scaled_data.to_numpy(), load_mat_df.to_numpy())\n",
    "\n",
    "    current_data_grouped = pd.DataFrame(grouped_ndarray,columns=load_mat_df.columns.values, index=current_data.index)\n",
    "\n",
    "    score_save_path=data_set_path.replace('.csv','_current_groupscore.csv')\n",
    "    current_data_grouped.to_csv(score_save_path,header=True)\n",
    "    print('Saving results to %s' % score_save_path)\n",
    "\n",
    "\n"
   ]
  },
  {
   "cell_type": "code",
   "execution_count": null,
   "id": "3af27f3b-04a1-4e0c-871f-d17866c956aa",
   "metadata": {},
   "outputs": [],
   "source": []
  }
 ],
 "metadata": {
  "kernelspec": {
   "display_name": "Python 3 (ipykernel)",
   "language": "python",
   "name": "python3"
  },
  "language_info": {
   "codemirror_mode": {
    "name": "ipython",
    "version": 3
   },
   "file_extension": ".py",
   "mimetype": "text/x-python",
   "name": "python",
   "nbconvert_exporter": "python",
   "pygments_lexer": "ipython3",
   "version": "3.8.16"
  }
 },
 "nbformat": 4,
 "nbformat_minor": 5
}
