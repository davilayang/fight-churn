{
 "cells": [
  {
   "cell_type": "markdown",
   "id": "f703ab61-6c70-4d82-a1f4-4a5baa3b09ad",
   "metadata": {},
   "source": [
    "# Fight Churn with Data\n",
    "\n",
    "> using Python to explore the mocking data in PostgresSQL"
   ]
  },
  {
   "cell_type": "code",
   "execution_count": null,
   "id": "7fb7dd01-5461-4b64-93f3-373dac1b2367",
   "metadata": {},
   "outputs": [],
   "source": []
  }
 ],
 "metadata": {
  "kernelspec": {
   "display_name": "Python 3 (ipykernel)",
   "language": "python",
   "name": "python3"
  },
  "language_info": {
   "codemirror_mode": {
    "name": "ipython",
    "version": 3
   },
   "file_extension": ".py",
   "mimetype": "text/x-python",
   "name": "python",
   "nbconvert_exporter": "python",
   "pygments_lexer": "ipython3",
   "version": "3.8.16"
  }
 },
 "nbformat": 4,
 "nbformat_minor": 5
}
