{
 "cells": [
  {
   "cell_type": "markdown",
   "id": "ae513752-e614-4db3-8add-f743dc881826",
   "metadata": {
    "tags": []
   },
   "source": [
    "# 08 Forcasting Churn"
   ]
  },
  {
   "cell_type": "code",
   "execution_count": 3,
   "id": "cfcdf370-9ce3-4e1e-bb5f-f9d33114f649",
   "metadata": {
    "tags": []
   },
   "outputs": [],
   "source": [
    "import json\n",
    "import sqlalchemy\n",
    "import numpy as np\n",
    "import numpy.typing as npt\n",
    "import pandas as pd\n",
    "import matplotlib.pyplot as plt\n",
    "\n",
    "from pprint import pprint\n",
    "from typing import Tuple, List, Dict"
   ]
  },
  {
   "cell_type": "code",
   "execution_count": 4,
   "id": "278be3f7-ab37-4e17-9359-f921b6a4b8db",
   "metadata": {
    "tags": []
   },
   "outputs": [
    {
     "data": {
      "text/html": [
       "<div>\n",
       "<style scoped>\n",
       "    .dataframe tbody tr th:only-of-type {\n",
       "        vertical-align: middle;\n",
       "    }\n",
       "\n",
       "    .dataframe tbody tr th {\n",
       "        vertical-align: top;\n",
       "    }\n",
       "\n",
       "    .dataframe thead th {\n",
       "        text-align: right;\n",
       "    }\n",
       "</style>\n",
       "<table border=\"1\" class=\"dataframe\">\n",
       "  <thead>\n",
       "    <tr style=\"text-align: right;\">\n",
       "      <th></th>\n",
       "      <th>table_catalog</th>\n",
       "      <th>table_schema</th>\n",
       "      <th>table_name</th>\n",
       "      <th>table_type</th>\n",
       "      <th>self_referencing_column_name</th>\n",
       "      <th>reference_generation</th>\n",
       "      <th>user_defined_type_catalog</th>\n",
       "      <th>user_defined_type_schema</th>\n",
       "      <th>user_defined_type_name</th>\n",
       "      <th>is_insertable_into</th>\n",
       "      <th>is_typed</th>\n",
       "      <th>commit_action</th>\n",
       "    </tr>\n",
       "  </thead>\n",
       "  <tbody>\n",
       "    <tr>\n",
       "      <th>0</th>\n",
       "      <td>churn</td>\n",
       "      <td>socialnet7</td>\n",
       "      <td>active_period</td>\n",
       "      <td>BASE TABLE</td>\n",
       "      <td>None</td>\n",
       "      <td>None</td>\n",
       "      <td>None</td>\n",
       "      <td>None</td>\n",
       "      <td>None</td>\n",
       "      <td>YES</td>\n",
       "      <td>NO</td>\n",
       "      <td>None</td>\n",
       "    </tr>\n",
       "    <tr>\n",
       "      <th>1</th>\n",
       "      <td>churn</td>\n",
       "      <td>socialnet7</td>\n",
       "      <td>event_type</td>\n",
       "      <td>BASE TABLE</td>\n",
       "      <td>None</td>\n",
       "      <td>None</td>\n",
       "      <td>None</td>\n",
       "      <td>None</td>\n",
       "      <td>None</td>\n",
       "      <td>YES</td>\n",
       "      <td>NO</td>\n",
       "      <td>None</td>\n",
       "    </tr>\n",
       "    <tr>\n",
       "      <th>2</th>\n",
       "      <td>churn</td>\n",
       "      <td>socialnet7</td>\n",
       "      <td>metric_name</td>\n",
       "      <td>BASE TABLE</td>\n",
       "      <td>None</td>\n",
       "      <td>None</td>\n",
       "      <td>None</td>\n",
       "      <td>None</td>\n",
       "      <td>None</td>\n",
       "      <td>YES</td>\n",
       "      <td>NO</td>\n",
       "      <td>None</td>\n",
       "    </tr>\n",
       "  </tbody>\n",
       "</table>\n",
       "</div>"
      ],
      "text/plain": [
       "  table_catalog table_schema     table_name  table_type  \\\n",
       "0         churn   socialnet7  active_period  BASE TABLE   \n",
       "1         churn   socialnet7     event_type  BASE TABLE   \n",
       "2         churn   socialnet7    metric_name  BASE TABLE   \n",
       "\n",
       "  self_referencing_column_name reference_generation user_defined_type_catalog  \\\n",
       "0                         None                 None                      None   \n",
       "1                         None                 None                      None   \n",
       "2                         None                 None                      None   \n",
       "\n",
       "  user_defined_type_schema user_defined_type_name is_insertable_into is_typed  \\\n",
       "0                     None                   None                YES       NO   \n",
       "1                     None                   None                YES       NO   \n",
       "2                     None                   None                YES       NO   \n",
       "\n",
       "  commit_action  \n",
       "0          None  \n",
       "1          None  \n",
       "2          None  "
      ]
     },
     "execution_count": 4,
     "metadata": {},
     "output_type": "execute_result"
    }
   ],
   "source": [
    "# Make a sql connection with sqlalchmey\n",
    "conn_string = \"postgresql://postgres-db/churn?user=postgres&password=password\" \n",
    "engine = sqlalchemy.create_engine(\n",
    "    conn_string, connect_args={'options': '-csearch_path={}'.format(\"socialnet7,public\")}\n",
    ")\n",
    "conn = engine.connect()\n",
    "# conn.close()\n",
    "\n",
    "# Query with Pandas, e.g. list all tables\n",
    "tables = pd.read_sql_query(\"SELECT * FROM information_schema.tables;\", conn)\n",
    "tables.head(3)"
   ]
  },
  {
   "cell_type": "code",
   "execution_count": 5,
   "id": "ebb1327b-8450-46fa-92ef-a5ae4682905a",
   "metadata": {
    "tags": []
   },
   "outputs": [],
   "source": [
    "import json \n",
    "\n",
    "with open(\"/app/fightchurn/listings/conf/socialnet7_listings.json\", \"r\") as f: \n",
    "    conf = json.loads(f.read())\n",
    "    # conf = Box(json.loads(f.read()))\n",
    "\n",
    "chap8 = conf[\"chap8\"]"
   ]
  },
  {
   "cell_type": "code",
   "execution_count": 6,
   "id": "a618ba0c-e226-48e8-bb33-4def8ade945f",
   "metadata": {
    "tags": []
   },
   "outputs": [],
   "source": [
    "import sys\n",
    "sys.path.append(\"/app\") # for importing module locally in /app"
   ]
  },
  {
   "cell_type": "code",
   "execution_count": null,
   "id": "cdc788f8-ca15-4d3c-965f-04936f106f33",
   "metadata": {
    "tags": []
   },
   "outputs": [],
   "source": []
  },
  {
   "cell_type": "markdown",
   "id": "8b913796-60fc-40ed-9bed-5512507cb1a4",
   "metadata": {
    "tags": []
   },
   "source": [
    "## Dependent Data"
   ]
  },
  {
   "cell_type": "code",
   "execution_count": 4,
   "id": "def5940c-2b37-4f1d-8722-7ca438dd6543",
   "metadata": {
    "tags": []
   },
   "outputs": [
    {
     "data": {
      "text/html": [
       "<div>\n",
       "<style scoped>\n",
       "    .dataframe tbody tr th:only-of-type {\n",
       "        vertical-align: middle;\n",
       "    }\n",
       "\n",
       "    .dataframe tbody tr th {\n",
       "        vertical-align: top;\n",
       "    }\n",
       "\n",
       "    .dataframe thead th {\n",
       "        text-align: right;\n",
       "    }\n",
       "</style>\n",
       "<table border=\"1\" class=\"dataframe\">\n",
       "  <thead>\n",
       "    <tr style=\"text-align: right;\">\n",
       "      <th></th>\n",
       "      <th>metric_name_id</th>\n",
       "      <th>metric_name</th>\n",
       "    </tr>\n",
       "  </thead>\n",
       "  <tbody>\n",
       "    <tr>\n",
       "      <th>16</th>\n",
       "      <td>28</td>\n",
       "      <td>unfriend_per_newfriend_scaled</td>\n",
       "    </tr>\n",
       "    <tr>\n",
       "      <th>17</th>\n",
       "      <td>30</td>\n",
       "      <td>new_friends_pcnt_change</td>\n",
       "    </tr>\n",
       "    <tr>\n",
       "      <th>18</th>\n",
       "      <td>31</td>\n",
       "      <td>days_since_newfriend</td>\n",
       "    </tr>\n",
       "    <tr>\n",
       "      <th>19</th>\n",
       "      <td>33</td>\n",
       "      <td>unfriend_28day_avg_84day_obs</td>\n",
       "    </tr>\n",
       "    <tr>\n",
       "      <th>20</th>\n",
       "      <td>34</td>\n",
       "      <td>unfriend_28day_avg_84day_obs_scaled</td>\n",
       "    </tr>\n",
       "  </tbody>\n",
       "</table>\n",
       "</div>"
      ],
      "text/plain": [
       "    metric_name_id                          metric_name\n",
       "16              28        unfriend_per_newfriend_scaled\n",
       "17              30              new_friends_pcnt_change\n",
       "18              31                 days_since_newfriend\n",
       "19              33         unfriend_28day_avg_84day_obs\n",
       "20              34  unfriend_28day_avg_84day_obs_scaled"
      ]
     },
     "execution_count": 4,
     "metadata": {},
     "output_type": "execute_result"
    }
   ],
   "source": [
    "tmp = pd.read_sql_query(\"SELECT * FROM metric_name ORDER BY metric_name_id\", conn)\n",
    "tmp.tail()"
   ]
  },
  {
   "cell_type": "code",
   "execution_count": 5,
   "id": "d2f99399-1995-47e6-a915-6706e0d84aa0",
   "metadata": {
    "tags": []
   },
   "outputs": [
    {
     "data": {
      "text/html": [
       "<div>\n",
       "<style scoped>\n",
       "    .dataframe tbody tr th:only-of-type {\n",
       "        vertical-align: middle;\n",
       "    }\n",
       "\n",
       "    .dataframe tbody tr th {\n",
       "        vertical-align: top;\n",
       "    }\n",
       "\n",
       "    .dataframe thead th {\n",
       "        text-align: right;\n",
       "    }\n",
       "</style>\n",
       "<table border=\"1\" class=\"dataframe\">\n",
       "  <thead>\n",
       "    <tr style=\"text-align: right;\">\n",
       "      <th></th>\n",
       "      <th>account_id</th>\n",
       "      <th>metric_time</th>\n",
       "      <th>metric_name_id</th>\n",
       "      <th>metric_value</th>\n",
       "    </tr>\n",
       "  </thead>\n",
       "  <tbody>\n",
       "    <tr>\n",
       "      <th>0</th>\n",
       "      <td>3698</td>\n",
       "      <td>2020-03-08</td>\n",
       "      <td>1</td>\n",
       "      <td>2.00</td>\n",
       "    </tr>\n",
       "    <tr>\n",
       "      <th>1</th>\n",
       "      <td>5203</td>\n",
       "      <td>2020-04-26</td>\n",
       "      <td>7</td>\n",
       "      <td>6.00</td>\n",
       "    </tr>\n",
       "    <tr>\n",
       "      <th>2</th>\n",
       "      <td>12014</td>\n",
       "      <td>2020-05-10</td>\n",
       "      <td>22</td>\n",
       "      <td>0.25</td>\n",
       "    </tr>\n",
       "    <tr>\n",
       "      <th>3</th>\n",
       "      <td>5338</td>\n",
       "      <td>2020-03-22</td>\n",
       "      <td>26</td>\n",
       "      <td>117.00</td>\n",
       "    </tr>\n",
       "    <tr>\n",
       "      <th>4</th>\n",
       "      <td>260</td>\n",
       "      <td>2020-04-12</td>\n",
       "      <td>7</td>\n",
       "      <td>2.00</td>\n",
       "    </tr>\n",
       "  </tbody>\n",
       "</table>\n",
       "</div>"
      ],
      "text/plain": [
       "   account_id metric_time  metric_name_id  metric_value\n",
       "0        3698  2020-03-08               1          2.00\n",
       "1        5203  2020-04-26               7          6.00\n",
       "2       12014  2020-05-10              22          0.25\n",
       "3        5338  2020-03-22              26        117.00\n",
       "4         260  2020-04-12               7          2.00"
      ]
     },
     "execution_count": 5,
     "metadata": {},
     "output_type": "execute_result"
    }
   ],
   "source": [
    "tmp = pd.read_sql_query(\"SELECT * FROM metric ORDER BY RANDOM() LIMIT 10000\", conn)\n",
    "tmp.head()"
   ]
  },
  {
   "cell_type": "code",
   "execution_count": null,
   "id": "2f941b45-d48a-4f08-9ba2-c487e9f8432b",
   "metadata": {},
   "outputs": [],
   "source": []
  },
  {
   "cell_type": "markdown",
   "id": "0945a913-aeb5-4794-b3a5-1f75ceb35ffd",
   "metadata": {},
   "source": [
    "## Model Validations"
   ]
  },
  {
   "cell_type": "markdown",
   "id": "5ea31212-90ff-44fe-8f76-03040f137a2d",
   "metadata": {},
   "source": [
    "### Listing 9.1 AUC"
   ]
  },
  {
   "cell_type": "code",
   "execution_count": null,
   "id": "0bf8728e-b989-4841-9941-fd7d5fc170cb",
   "metadata": {},
   "outputs": [],
   "source": [
    "import os\n",
    "import pickle\n",
    "from sklearn.metrics import roc_auc_score\n",
    "from fightchurn.listings.chap8.listing_8_2_logistic_regression import prepare_data\n",
    "\n",
    "def reload_regression(data_set_path):\n",
    "    pickle_path = data_set_path.replace('.csv', '_logreg_model.pkl')\n",
    "    assert os.path.isfile(pickle_path), 'You must run listing 8.2 to save a logistic regression model first'\n",
    "    with open(pickle_path, 'rb') as fid:\n",
    "        logreg_model = pickle.load(fid)\n",
    "    return logreg_model\n",
    "\n",
    "def regression_auc(data_set_path):\n",
    "\n",
    "    logreg_model = reload_regression(data_set_path)\n",
    "    X,y = prepare_data(data_set_path)\n",
    "    predictions = logreg_model.predict_proba(X)\n",
    "    auc_score = roc_auc_score(y,predictions[:,1])\n",
    "    print('Regression AUC score={:.3f}'.format(auc_score))\n"
   ]
  },
  {
   "cell_type": "code",
   "execution_count": null,
   "id": "e5e82350-8a30-4821-9197-e6394eb9b89f",
   "metadata": {},
   "outputs": [],
   "source": []
  },
  {
   "cell_type": "code",
   "execution_count": null,
   "id": "00eb57cd-6c0a-4070-b8c9-ac49d55b8dcc",
   "metadata": {},
   "outputs": [],
   "source": []
  },
  {
   "cell_type": "markdown",
   "id": "c286603a-3440-4c70-842c-b5fbad658385",
   "metadata": {},
   "source": [
    "### Listing 9.2 Top Decile Lift"
   ]
  },
  {
   "cell_type": "code",
   "execution_count": null,
   "id": "e54c5f61-2172-472b-bb53-0c2b5948cae6",
   "metadata": {},
   "outputs": [],
   "source": [
    "from fightchurn.listings.chap8.listing_8_2_logistic_regression import prepare_data\n",
    "from fightchurn.listings.chap9.listing_9_1_regression_auc  import reload_regression\n",
    "import numpy\n",
    "\n",
    "def calc_lift(y_true, y_pred):\n",
    "    if numpy.unique(y_pred).size < 10:\n",
    "        return 1.0\n",
    "    sort_by_pred=[(p,t) for p,t in sorted(zip(y_pred, y_true))]\n",
    "    overall_churn = sum(y_true)/len(y_true)\n",
    "    i90=int(round(len(y_true)*0.9))\n",
    "    top_decile_count=sum([p[1] for p in sort_by_pred[i90:]])\n",
    "    top_decile_churn = top_decile_count/(len(y_true)-i90)\n",
    "    lift = top_decile_churn/overall_churn\n",
    "    return lift\n",
    "\n",
    "def top_decile_lift(data_set_path):\n",
    "\n",
    "    logreg_model = reload_regression(data_set_path)\n",
    "    X,y = prepare_data(data_set_path,as_retention=False)\n",
    "    predictions = logreg_model.predict_proba(X)\n",
    "    lift = calc_lift(y,predictions[:,0])\n",
    "    print('Regression Lift score={:.3f}'.format(lift))\n"
   ]
  },
  {
   "cell_type": "code",
   "execution_count": null,
   "id": "777d870b-06d6-4772-a8e4-0288158b141b",
   "metadata": {},
   "outputs": [],
   "source": []
  },
  {
   "cell_type": "markdown",
   "id": "f24edf62-1046-4075-a223-28079c4fcc5e",
   "metadata": {},
   "source": [
    "### Listing 9.3 Backtesting"
   ]
  },
  {
   "cell_type": "code",
   "execution_count": 1,
   "id": "804938c8-0ba3-4c77-88ed-7d910ced8a50",
   "metadata": {
    "tags": []
   },
   "outputs": [
    {
     "ename": "ModuleNotFoundError",
     "evalue": "No module named 'fightchurn'",
     "output_type": "error",
     "traceback": [
      "\u001b[0;31m---------------------------------------------------------------------------\u001b[0m",
      "\u001b[0;31mModuleNotFoundError\u001b[0m                       Traceback (most recent call last)",
      "Cell \u001b[0;32mIn[1], line 6\u001b[0m\n\u001b[1;32m      3\u001b[0m \u001b[38;5;28;01mfrom\u001b[39;00m \u001b[38;5;21;01msklearn\u001b[39;00m\u001b[38;5;21;01m.\u001b[39;00m\u001b[38;5;21;01mmetrics\u001b[39;00m \u001b[38;5;28;01mimport\u001b[39;00m make_scorer\n\u001b[1;32m      4\u001b[0m \u001b[38;5;28;01mfrom\u001b[39;00m \u001b[38;5;21;01msklearn\u001b[39;00m\u001b[38;5;21;01m.\u001b[39;00m\u001b[38;5;21;01mlinear_model\u001b[39;00m \u001b[38;5;28;01mimport\u001b[39;00m LogisticRegression\n\u001b[0;32m----> 6\u001b[0m \u001b[38;5;28;01mfrom\u001b[39;00m \u001b[38;5;21;01mfightchurn\u001b[39;00m\u001b[38;5;21;01m.\u001b[39;00m\u001b[38;5;21;01mlistings\u001b[39;00m\u001b[38;5;21;01m.\u001b[39;00m\u001b[38;5;21;01mchap8\u001b[39;00m\u001b[38;5;21;01m.\u001b[39;00m\u001b[38;5;21;01mlisting_8_2_logistic_regression\u001b[39;00m \u001b[38;5;28;01mimport\u001b[39;00m prepare_data\n\u001b[1;32m      7\u001b[0m \u001b[38;5;28;01mfrom\u001b[39;00m \u001b[38;5;21;01mfightchurn\u001b[39;00m\u001b[38;5;21;01m.\u001b[39;00m\u001b[38;5;21;01mlistings\u001b[39;00m\u001b[38;5;21;01m.\u001b[39;00m\u001b[38;5;21;01mchap9\u001b[39;00m\u001b[38;5;21;01m.\u001b[39;00m\u001b[38;5;21;01mlisting_9_2_top_decile_lift\u001b[39;00m \u001b[38;5;28;01mimport\u001b[39;00m calc_lift\n\u001b[1;32m     10\u001b[0m \u001b[38;5;28;01mdef\u001b[39;00m \u001b[38;5;21mbacktest\u001b[39m(data_set_path,n_test_split):\n",
      "\u001b[0;31mModuleNotFoundError\u001b[0m: No module named 'fightchurn'"
     ]
    }
   ],
   "source": [
    "import pandas as pd\n",
    "from sklearn.model_selection import GridSearchCV, TimeSeriesSplit\n",
    "from sklearn.metrics import make_scorer\n",
    "from sklearn.linear_model import LogisticRegression\n",
    "\n",
    "from fightchurn.listings.chap8.listing_8_2_logistic_regression import prepare_data\n",
    "from fightchurn.listings.chap9.listing_9_2_top_decile_lift import calc_lift\n",
    "\n",
    "\n",
    "def backtest(data_set_path,n_test_split):\n",
    "\n",
    "    X,y = prepare_data(data_set_path,as_retention=False)\n",
    "\n",
    "    tscv = TimeSeriesSplit(n_splits=n_test_split)\n",
    "\n",
    "    lift_scorer = make_scorer(calc_lift, needs_proba=True)\n",
    "    score_models = {'lift': lift_scorer, 'AUC': 'roc_auc'}\n",
    "\n",
    "    retain_reg = LogisticRegression(penalty='l1', solver='liblinear', fit_intercept=True)\n",
    "\n",
    "    gsearch = GridSearchCV(estimator=retain_reg,scoring=score_models, cv=tscv, verbose=1,\n",
    "                           return_train_score=False,  param_grid={'C' : [1]}, refit='AUC')\n",
    "\n",
    "    gsearch.fit(X,y)\n",
    "    result_df = pd.DataFrame(gsearch.cv_results_)\n",
    "\n",
    "    save_path = data_set_path.replace('.csv', '_backtest.csv')\n",
    "    result_df.to_csv(save_path, index=False)\n",
    "    print('Saved test scores to ' + save_path)\n"
   ]
  },
  {
   "cell_type": "code",
   "execution_count": null,
   "id": "008c692f-ea66-4c76-91d7-6222ec64ef3b",
   "metadata": {},
   "outputs": [],
   "source": []
  }
 ],
 "metadata": {
  "kernelspec": {
   "display_name": "Python 3 (ipykernel)",
   "language": "python",
   "name": "python3"
  },
  "language_info": {
   "codemirror_mode": {
    "name": "ipython",
    "version": 3
   },
   "file_extension": ".py",
   "mimetype": "text/x-python",
   "name": "python",
   "nbconvert_exporter": "python",
   "pygments_lexer": "ipython3",
   "version": "3.8.16"
  }
 },
 "nbformat": 4,
 "nbformat_minor": 5
}
