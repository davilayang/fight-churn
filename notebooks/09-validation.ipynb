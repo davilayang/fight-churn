{
 "cells": [
  {
   "cell_type": "markdown",
   "id": "ae513752-e614-4db3-8add-f743dc881826",
   "metadata": {
    "tags": []
   },
   "source": [
    "# 08 Forcasting Churn"
   ]
  },
  {
   "cell_type": "code",
   "execution_count": 1,
   "id": "cfcdf370-9ce3-4e1e-bb5f-f9d33114f649",
   "metadata": {
    "tags": []
   },
   "outputs": [],
   "source": [
    "import json\n",
    "import sqlalchemy\n",
    "import numpy as np\n",
    "import numpy.typing as npt\n",
    "import pandas as pd\n",
    "import matplotlib.pyplot as plt\n",
    "\n",
    "from pprint import pprint\n",
    "from typing import Tuple, List, Dict"
   ]
  },
  {
   "cell_type": "code",
   "execution_count": 2,
   "id": "278be3f7-ab37-4e17-9359-f921b6a4b8db",
   "metadata": {
    "tags": []
   },
   "outputs": [
    {
     "data": {
      "text/html": [
       "<div>\n",
       "<style scoped>\n",
       "    .dataframe tbody tr th:only-of-type {\n",
       "        vertical-align: middle;\n",
       "    }\n",
       "\n",
       "    .dataframe tbody tr th {\n",
       "        vertical-align: top;\n",
       "    }\n",
       "\n",
       "    .dataframe thead th {\n",
       "        text-align: right;\n",
       "    }\n",
       "</style>\n",
       "<table border=\"1\" class=\"dataframe\">\n",
       "  <thead>\n",
       "    <tr style=\"text-align: right;\">\n",
       "      <th></th>\n",
       "      <th>table_catalog</th>\n",
       "      <th>table_schema</th>\n",
       "      <th>table_name</th>\n",
       "      <th>table_type</th>\n",
       "      <th>self_referencing_column_name</th>\n",
       "      <th>reference_generation</th>\n",
       "      <th>user_defined_type_catalog</th>\n",
       "      <th>user_defined_type_schema</th>\n",
       "      <th>user_defined_type_name</th>\n",
       "      <th>is_insertable_into</th>\n",
       "      <th>is_typed</th>\n",
       "      <th>commit_action</th>\n",
       "    </tr>\n",
       "  </thead>\n",
       "  <tbody>\n",
       "    <tr>\n",
       "      <th>0</th>\n",
       "      <td>churn</td>\n",
       "      <td>socialnet7</td>\n",
       "      <td>active_period</td>\n",
       "      <td>BASE TABLE</td>\n",
       "      <td>None</td>\n",
       "      <td>None</td>\n",
       "      <td>None</td>\n",
       "      <td>None</td>\n",
       "      <td>None</td>\n",
       "      <td>YES</td>\n",
       "      <td>NO</td>\n",
       "      <td>None</td>\n",
       "    </tr>\n",
       "    <tr>\n",
       "      <th>1</th>\n",
       "      <td>churn</td>\n",
       "      <td>socialnet7</td>\n",
       "      <td>event_type</td>\n",
       "      <td>BASE TABLE</td>\n",
       "      <td>None</td>\n",
       "      <td>None</td>\n",
       "      <td>None</td>\n",
       "      <td>None</td>\n",
       "      <td>None</td>\n",
       "      <td>YES</td>\n",
       "      <td>NO</td>\n",
       "      <td>None</td>\n",
       "    </tr>\n",
       "    <tr>\n",
       "      <th>2</th>\n",
       "      <td>churn</td>\n",
       "      <td>socialnet7</td>\n",
       "      <td>metric_name</td>\n",
       "      <td>BASE TABLE</td>\n",
       "      <td>None</td>\n",
       "      <td>None</td>\n",
       "      <td>None</td>\n",
       "      <td>None</td>\n",
       "      <td>None</td>\n",
       "      <td>YES</td>\n",
       "      <td>NO</td>\n",
       "      <td>None</td>\n",
       "    </tr>\n",
       "  </tbody>\n",
       "</table>\n",
       "</div>"
      ],
      "text/plain": [
       "  table_catalog table_schema     table_name  table_type  \\\n",
       "0         churn   socialnet7  active_period  BASE TABLE   \n",
       "1         churn   socialnet7     event_type  BASE TABLE   \n",
       "2         churn   socialnet7    metric_name  BASE TABLE   \n",
       "\n",
       "  self_referencing_column_name reference_generation user_defined_type_catalog  \\\n",
       "0                         None                 None                      None   \n",
       "1                         None                 None                      None   \n",
       "2                         None                 None                      None   \n",
       "\n",
       "  user_defined_type_schema user_defined_type_name is_insertable_into is_typed  \\\n",
       "0                     None                   None                YES       NO   \n",
       "1                     None                   None                YES       NO   \n",
       "2                     None                   None                YES       NO   \n",
       "\n",
       "  commit_action  \n",
       "0          None  \n",
       "1          None  \n",
       "2          None  "
      ]
     },
     "execution_count": 2,
     "metadata": {},
     "output_type": "execute_result"
    }
   ],
   "source": [
    "# Make a sql connection with sqlalchmey\n",
    "conn_string = \"postgresql://postgres-db/churn?user=postgres&password=password\" \n",
    "engine = sqlalchemy.create_engine(\n",
    "    conn_string, connect_args={'options': '-csearch_path={}'.format(\"socialnet7,public\")}\n",
    ")\n",
    "conn = engine.connect()\n",
    "# conn.close()\n",
    "\n",
    "# Query with Pandas, e.g. list all tables\n",
    "tables = pd.read_sql_query(\"SELECT * FROM information_schema.tables;\", conn)\n",
    "tables.head(3)"
   ]
  },
  {
   "cell_type": "code",
   "execution_count": 3,
   "id": "ebb1327b-8450-46fa-92ef-a5ae4682905a",
   "metadata": {
    "tags": []
   },
   "outputs": [],
   "source": [
    "import json \n",
    "\n",
    "with open(\"/app/fightchurn/listings/conf/socialnet7_listings.json\", \"r\") as f: \n",
    "    conf = json.loads(f.read())\n",
    "    # conf = Box(json.loads(f.read()))\n",
    "\n",
    "chap8 = conf[\"chap8\"]"
   ]
  },
  {
   "cell_type": "raw",
   "id": "e07e02b7-07d3-469b-b1ce-8d528db8c24b",
   "metadata": {
    "tags": []
   },
   "source": [
    "import sys\n",
    "sys.path.append(\"/app\") # for importing module locally in /app"
   ]
  },
  {
   "cell_type": "code",
   "execution_count": null,
   "id": "cdc788f8-ca15-4d3c-965f-04936f106f33",
   "metadata": {
    "tags": []
   },
   "outputs": [],
   "source": []
  },
  {
   "cell_type": "markdown",
   "id": "8b913796-60fc-40ed-9bed-5512507cb1a4",
   "metadata": {
    "tags": []
   },
   "source": [
    "## Dependent Data"
   ]
  },
  {
   "cell_type": "code",
   "execution_count": 4,
   "id": "8e5eea90-6cc5-4dcb-8cec-65dd4d5ccb1c",
   "metadata": {},
   "outputs": [
    {
     "data": {
      "text/plain": [
       "dict_keys(['raw_train_data', 'raw_test_data', 'train_data', 'test_data', 'logreg_model'])"
      ]
     },
     "execution_count": 4,
     "metadata": {},
     "output_type": "execute_result"
    }
   ],
   "source": [
    "import pickle\n",
    "\n",
    "with open(\"/app/ch8-export.pickle\", \"rb\") as handle:\n",
    "    d = pickle.load(handle)\n",
    "    \n",
    "train_data = d[\"train_data\"]\n",
    "model = d[\"logreg_model\"]\n",
    "d.keys()"
   ]
  },
  {
   "cell_type": "code",
   "execution_count": 5,
   "id": "6da4af10-c93d-4fa0-b5d5-7b281d621998",
   "metadata": {},
   "outputs": [
    {
     "data": {
      "text/html": [
       "<div>\n",
       "<style scoped>\n",
       "    .dataframe tbody tr th:only-of-type {\n",
       "        vertical-align: middle;\n",
       "    }\n",
       "\n",
       "    .dataframe tbody tr th {\n",
       "        vertical-align: top;\n",
       "    }\n",
       "\n",
       "    .dataframe thead th {\n",
       "        text-align: right;\n",
       "    }\n",
       "</style>\n",
       "<table border=\"1\" class=\"dataframe\">\n",
       "  <thead>\n",
       "    <tr style=\"text-align: right;\">\n",
       "      <th>group_name</th>\n",
       "      <th>metric_group_0</th>\n",
       "      <th>metric_group_1</th>\n",
       "      <th>newfriend_pcnt_chng</th>\n",
       "      <th>unfriend_per_newfriend</th>\n",
       "      <th>days_since_newfriend</th>\n",
       "      <th>unfriend_per_month</th>\n",
       "      <th>post_per_message</th>\n",
       "      <th>newfriend_per_month</th>\n",
       "      <th>adview_per_post</th>\n",
       "      <th>like_per_post</th>\n",
       "      <th>dislike_per_month</th>\n",
       "      <th>dislike_pcnt</th>\n",
       "      <th>reply_per_message</th>\n",
       "      <th>is_churn</th>\n",
       "    </tr>\n",
       "  </thead>\n",
       "  <tbody>\n",
       "    <tr>\n",
       "      <th>0</th>\n",
       "      <td>-0.549097</td>\n",
       "      <td>2.110926</td>\n",
       "      <td>-0.201102</td>\n",
       "      <td>-0.286460</td>\n",
       "      <td>-0.278495</td>\n",
       "      <td>-0.781045</td>\n",
       "      <td>-1.007845</td>\n",
       "      <td>-0.495320</td>\n",
       "      <td>-0.648489</td>\n",
       "      <td>0.529170</td>\n",
       "      <td>-0.177503</td>\n",
       "      <td>-0.443625</td>\n",
       "      <td>0.652640</td>\n",
       "      <td>False</td>\n",
       "    </tr>\n",
       "    <tr>\n",
       "      <th>1</th>\n",
       "      <td>0.168510</td>\n",
       "      <td>-1.119100</td>\n",
       "      <td>-0.201102</td>\n",
       "      <td>-0.286460</td>\n",
       "      <td>-0.278495</td>\n",
       "      <td>1.814266</td>\n",
       "      <td>1.937971</td>\n",
       "      <td>-0.268273</td>\n",
       "      <td>-0.881792</td>\n",
       "      <td>-0.876925</td>\n",
       "      <td>-0.177503</td>\n",
       "      <td>-0.335889</td>\n",
       "      <td>0.775205</td>\n",
       "      <td>False</td>\n",
       "    </tr>\n",
       "    <tr>\n",
       "      <th>2</th>\n",
       "      <td>-0.637119</td>\n",
       "      <td>1.577264</td>\n",
       "      <td>-0.201102</td>\n",
       "      <td>3.132593</td>\n",
       "      <td>-0.278495</td>\n",
       "      <td>-0.781045</td>\n",
       "      <td>-0.851206</td>\n",
       "      <td>-0.835891</td>\n",
       "      <td>-0.544171</td>\n",
       "      <td>-0.815355</td>\n",
       "      <td>-0.830230</td>\n",
       "      <td>-0.247713</td>\n",
       "      <td>0.605700</td>\n",
       "      <td>False</td>\n",
       "    </tr>\n",
       "    <tr>\n",
       "      <th>3</th>\n",
       "      <td>0.683287</td>\n",
       "      <td>2.265722</td>\n",
       "      <td>-0.698891</td>\n",
       "      <td>-0.286460</td>\n",
       "      <td>-0.278495</td>\n",
       "      <td>1.814266</td>\n",
       "      <td>-0.756789</td>\n",
       "      <td>-0.268273</td>\n",
       "      <td>0.936099</td>\n",
       "      <td>-1.270974</td>\n",
       "      <td>-2.135683</td>\n",
       "      <td>-1.076572</td>\n",
       "      <td>0.254015</td>\n",
       "      <td>False</td>\n",
       "    </tr>\n",
       "    <tr>\n",
       "      <th>4</th>\n",
       "      <td>0.176218</td>\n",
       "      <td>-1.119100</td>\n",
       "      <td>0.246908</td>\n",
       "      <td>-0.286460</td>\n",
       "      <td>-0.278495</td>\n",
       "      <td>-0.781045</td>\n",
       "      <td>0.697051</td>\n",
       "      <td>-0.041226</td>\n",
       "      <td>0.940821</td>\n",
       "      <td>1.312412</td>\n",
       "      <td>0.279693</td>\n",
       "      <td>-0.513573</td>\n",
       "      <td>0.775205</td>\n",
       "      <td>False</td>\n",
       "    </tr>\n",
       "  </tbody>\n",
       "</table>\n",
       "</div>"
      ],
      "text/plain": [
       "group_name  metric_group_0  metric_group_1  newfriend_pcnt_chng  \\\n",
       "0                -0.549097        2.110926            -0.201102   \n",
       "1                 0.168510       -1.119100            -0.201102   \n",
       "2                -0.637119        1.577264            -0.201102   \n",
       "3                 0.683287        2.265722            -0.698891   \n",
       "4                 0.176218       -1.119100             0.246908   \n",
       "\n",
       "group_name  unfriend_per_newfriend  days_since_newfriend  unfriend_per_month  \\\n",
       "0                        -0.286460             -0.278495           -0.781045   \n",
       "1                        -0.286460             -0.278495            1.814266   \n",
       "2                         3.132593             -0.278495           -0.781045   \n",
       "3                        -0.286460             -0.278495            1.814266   \n",
       "4                        -0.286460             -0.278495           -0.781045   \n",
       "\n",
       "group_name  post_per_message  newfriend_per_month  adview_per_post  \\\n",
       "0                  -1.007845            -0.495320        -0.648489   \n",
       "1                   1.937971            -0.268273        -0.881792   \n",
       "2                  -0.851206            -0.835891        -0.544171   \n",
       "3                  -0.756789            -0.268273         0.936099   \n",
       "4                   0.697051            -0.041226         0.940821   \n",
       "\n",
       "group_name  like_per_post  dislike_per_month  dislike_pcnt  reply_per_message  \\\n",
       "0                0.529170          -0.177503     -0.443625           0.652640   \n",
       "1               -0.876925          -0.177503     -0.335889           0.775205   \n",
       "2               -0.815355          -0.830230     -0.247713           0.605700   \n",
       "3               -1.270974          -2.135683     -1.076572           0.254015   \n",
       "4                1.312412           0.279693     -0.513573           0.775205   \n",
       "\n",
       "group_name  is_churn  \n",
       "0              False  \n",
       "1              False  \n",
       "2              False  \n",
       "3              False  \n",
       "4              False  "
      ]
     },
     "execution_count": 5,
     "metadata": {},
     "output_type": "execute_result"
    }
   ],
   "source": [
    "# training data\n",
    "train_data.head()"
   ]
  },
  {
   "cell_type": "code",
   "execution_count": 6,
   "id": "6ff9c805-b2af-4bff-8cb1-0d859691e89c",
   "metadata": {},
   "outputs": [
    {
     "data": {
      "text/plain": [
       "LogisticRegression(penalty='l1', solver='liblinear')"
      ]
     },
     "execution_count": 6,
     "metadata": {},
     "output_type": "execute_result"
    }
   ],
   "source": [
    "model"
   ]
  },
  {
   "cell_type": "code",
   "execution_count": 7,
   "id": "5738fa74-9d2d-4563-9bf3-0aa48879a7f9",
   "metadata": {
    "tags": []
   },
   "outputs": [
    {
     "data": {
      "text/plain": [
       "((24450, 13), (24450,), 'is_retained')"
      ]
     },
     "execution_count": 7,
     "metadata": {},
     "output_type": "execute_result"
    }
   ],
   "source": [
    "def prepare_data(grouped_data: pd.DataFrame, as_retention: bool = True) \\\n",
    "    -> Tuple[pd.DataFrame, pd.Series]:\n",
    "    \"\"\"Prepare data as X and y, with option to convert churn rate to retention rate\"\"\"\n",
    "    \n",
    "    X = grouped_data.drop(columns=['is_churn'])\n",
    "    \n",
    "    # as churn\n",
    "    y = grouped_data['is_churn'].astype(int)\n",
    "    \n",
    "    # convert y values to retention, n.b. retention rate + churn rate = 1\n",
    "    if as_retention: \n",
    "        # `is_churn = False` converted to `is_retained = True`\n",
    "        y = np.subtract(1, y).rename(\"is_retained\")\n",
    "    \n",
    "    return X, y\n",
    "X, y = prepare_data(train_data, as_retention=True)\n",
    "X.shape, y.shape, y.name"
   ]
  },
  {
   "cell_type": "code",
   "execution_count": null,
   "id": "9a78eca2-e897-4378-8616-a3e449a47935",
   "metadata": {},
   "outputs": [],
   "source": []
  },
  {
   "cell_type": "code",
   "execution_count": null,
   "id": "2f941b45-d48a-4f08-9ba2-c487e9f8432b",
   "metadata": {},
   "outputs": [],
   "source": []
  },
  {
   "cell_type": "markdown",
   "id": "0945a913-aeb5-4794-b3a5-1f75ceb35ffd",
   "metadata": {},
   "source": [
    "## Model Validations"
   ]
  },
  {
   "cell_type": "markdown",
   "id": "5ea31212-90ff-44fe-8f76-03040f137a2d",
   "metadata": {},
   "source": [
    "### Listing 9.1 AUC\n",
    "\n",
    "- https://www.analyticsvidhya.com/blog/2020/06/auc-roc-curve-machine-learning/\n",
    "- https://scikit-learn.org/stable/modules/generated/sklearn.metrics.roc_auc_score.html#sklearn.metrics.roc_auc_score\n",
    "- https://scikit-learn.org/stable/modules/generated/sklearn.metrics.auc.html"
   ]
  },
  {
   "cell_type": "code",
   "execution_count": 8,
   "id": "80849721-23bd-4363-94a0-2a2d168ac331",
   "metadata": {},
   "outputs": [],
   "source": [
    "from sklearn.linear_model import LogisticRegression\n",
    "from sklearn.metrics import (\n",
    "    roc_auc_score, roc_curve, auc, confusion_matrix,  ConfusionMatrixDisplay\n",
    ")"
   ]
  },
  {
   "cell_type": "code",
   "execution_count": 9,
   "id": "0bf8728e-b989-4841-9941-fd7d5fc170cb",
   "metadata": {},
   "outputs": [
    {
     "data": {
      "text/plain": [
       "0.7790057389174814"
      ]
     },
     "execution_count": 9,
     "metadata": {},
     "output_type": "execute_result"
    }
   ],
   "source": [
    "def regression_auc(data: pd.DataFrame, model: LogisticRegression) -> float:\n",
    "    \"\"\"Compute AUC score with given churn data\"\"\"\n",
    "\n",
    "    X, y = prepare_data(data, as_retention=True)\n",
    "    \n",
    "    predictions = model.predict_proba(X)\n",
    "    auc_score = roc_auc_score(y, predictions[:,1])\n",
    "    \n",
    "    return auc_score\n",
    "\n",
    "regression_auc(train_data, model)"
   ]
  },
  {
   "cell_type": "code",
   "execution_count": 10,
   "id": "d5074148-1ff2-4e20-9459-210c3a9ac133",
   "metadata": {},
   "outputs": [
    {
     "name": "stdout",
     "output_type": "stream",
     "text": [
      "array([[   33,  1350],\n",
      "       [   18, 23049]])\n"
     ]
    }
   ],
   "source": [
    "X, y = prepare_data(train_data, as_retention=True)\n",
    "\n",
    "y_preds_proba = model.predict_proba(X)\n",
    "# first column is \"not_retained\", second column is \"is_retained\"\n",
    "y_preds = model.predict(X)\n",
    "cm = confusion_matrix(y, y_preds)\n",
    "pprint(cm)"
   ]
  },
  {
   "cell_type": "code",
   "execution_count": 11,
   "id": "6aa79b32-b469-4cb0-94f8-044f55d6dc5c",
   "metadata": {},
   "outputs": [
    {
     "data": {
      "text/plain": [
       "1    23067\n",
       "0     1383\n",
       "Name: is_retained, dtype: int64"
      ]
     },
     "execution_count": 11,
     "metadata": {},
     "output_type": "execute_result"
    }
   ],
   "source": [
    "y.value_counts()\n",
    "# 1 as retained, 0 as not retained (churned)"
   ]
  },
  {
   "cell_type": "code",
   "execution_count": 12,
   "id": "5e9f1bcc-27b3-4c13-bc45-c1df5ae74d9d",
   "metadata": {},
   "outputs": [
    {
     "data": {
      "text/plain": [
       "1    24399\n",
       "0       51\n",
       "Name: is_retained_predictions, dtype: int64"
      ]
     },
     "execution_count": 12,
     "metadata": {},
     "output_type": "execute_result"
    }
   ],
   "source": [
    "pd.Series(y_preds, name=\"is_retained_predictions\").value_counts()"
   ]
  },
  {
   "cell_type": "code",
   "execution_count": 13,
   "id": "331aeaa6-2993-48ca-bd03-25c83ed29958",
   "metadata": {},
   "outputs": [
    {
     "data": {
      "image/png": "[encoded data removed]",
      "text/plain": [
       "<Figure size 500x500 with 2 Axes>"
      ]
     },
     "metadata": {},
     "output_type": "display_data"
    }
   ],
   "source": [
    "fig, ax = plt.subplots(figsize=(5, 5))\n",
    "ConfusionMatrixDisplay(cm, display_labels=[\"not_retained\", \"is_retained\"]).plot(ax=ax)\n",
    "# ConfusionMatrixDisplay.from_predictions(y, y_preds).plot(ax=ax)\n",
    "fig.show()"
   ]
  },
  {
   "cell_type": "markdown",
   "id": "36efb7f2-5d01-4d9f-9b19-60cf58216d17",
   "metadata": {},
   "source": [
    "Notes \n",
    "\n",
    "- True Positive, i.e both True\n",
    "  - predicted as \"is_retained\" and label is \"is_retained\" (23049)\n",
    "- True Negative, i.e. both False\n",
    "  - \"not_retained\" and \"not_retained\", (1350)\n",
    "- False Positive, i.e. falsely classified as positive\n",
    "  - predicted as \"is_retained\" but label is \"not_retained\"\n",
    "- False Negative, i.e. falsely classified as negative\n",
    "  - predicted as \"not_retained\" but label is \"is_retained\"\n",
    "- True Positive Rate = True Positives / All Positives, also 'Sensitivity' or 'Recall'\n",
    "- False Positive Rate = False Positives / All negatives, also 'Specificity'\n",
    "- "
   ]
  },
  {
   "cell_type": "code",
   "execution_count": 14,
   "id": "bf023fdd-8a45-47c0-9a5c-13fe66135876",
   "metadata": {},
   "outputs": [
    {
     "data": {
      "text/plain": [
       "0.5115404179111551"
      ]
     },
     "execution_count": 14,
     "metadata": {},
     "output_type": "execute_result"
    }
   ],
   "source": [
    "roc_auc_score(y, y_preds)"
   ]
  },
  {
   "cell_type": "code",
   "execution_count": 15,
   "id": "3993f370-fe39-4d6c-a012-ad25a864dd45",
   "metadata": {},
   "outputs": [
    {
     "data": {
      "text/plain": [
       "0.7790057389174814"
      ]
     },
     "execution_count": 15,
     "metadata": {},
     "output_type": "execute_result"
    }
   ],
   "source": [
    "roc_auc_score(y, y_preds_proba[:, 1])"
   ]
  },
  {
   "cell_type": "code",
   "execution_count": 16,
   "id": "46bd1ed1-4b34-4325-8d61-b40b22f1a970",
   "metadata": {},
   "outputs": [
    {
     "data": {
      "image/png": "[encoded data removed]",
      "text/plain": [
       "<Figure size 500x500 with 1 Axes>"
      ]
     },
     "metadata": {},
     "output_type": "display_data"
    }
   ],
   "source": [
    "y_preds_proba = model.predict_proba(X)[::,1]\n",
    "fpr, tpr, _ = roc_curve(y, y_preds_proba)\n",
    "auc = roc_auc_score(y, y_preds_proba)\n",
    "\n",
    "#create ROC curve\n",
    "plt.figure(figsize=(5, 5))\n",
    "plt.plot(fpr,tpr, label=f\"AUC={auc}\")\n",
    "plt.ylabel('True Positive Rate'); plt.xlabel('False Positive Rate')\n",
    "plt.legend()\n",
    "plt.show()"
   ]
  },
  {
   "cell_type": "code",
   "execution_count": null,
   "id": "a9565a8b-2b25-44bf-8818-b8949e2ddc53",
   "metadata": {},
   "outputs": [],
   "source": []
  },
  {
   "cell_type": "code",
   "execution_count": null,
   "id": "00eb57cd-6c0a-4070-b8c9-ac49d55b8dcc",
   "metadata": {},
   "outputs": [],
   "source": []
  },
  {
   "cell_type": "markdown",
   "id": "c286603a-3440-4c70-842c-b5fbad658385",
   "metadata": {},
   "source": [
    "### Listing 9.2 Top Decile Lift\n",
    "\n",
    "- Lift\n",
    "  - the relative increase in responses due to some treatment, relative to the baseline\n",
    "  - lift = 2.0, when baseline is 1% and the increased value is 2%, (2% divided by 1%)\n",
    "  - measures improvement over baseline\n",
    "- Top Decile Lift\n",
    "  - the ratio of churn rate in the top decile predicted to most at risk, to the overall churn rate\n",
    "  - (Top decile churn rate, i.e. top 10% churn rate) divided by (Overall churn rate)\n",
    "  - If in the top 10%, 2 are predicted as churn out of 5, i.e. 40% churn rate\n",
    "    - Overall churn rate is 10%\n",
    "    - Then Top Decile Lift is 40% / 10% = 4.0\n",
    "  - Overall churn rate as baseline, because that is the churn rate if randomly guessing\n",
    "  \n"
   ]
  },
  {
   "cell_type": "code",
   "execution_count": 18,
   "id": "a8845af3-d089-4489-a5fa-a21166c091a7",
   "metadata": {},
   "outputs": [
    {
     "data": {
      "text/plain": [
       "4.389009399855387"
      ]
     },
     "execution_count": 18,
     "metadata": {},
     "output_type": "execute_result"
    }
   ],
   "source": [
    "def calculat_top_decile_lift(y_true: npt.NDArray, y_pred_proba: npt.NDArray) -> float:\n",
    "    \n",
    "    if np.unique(y_pred_proba).size < 10:\n",
    "        return 1.0\n",
    "    \n",
    "    # overall churn rate\n",
    "    overall_churn = y_true.sum() / y_true.shape[0]\n",
    "    \n",
    "    # top decile churn rate (top 10% at risk)\n",
    "    ## sort by risk/probability to churn\n",
    "    sort_by_risk = sorted(zip(y_pred_proba, y_true), key=lambda v: v[0], reverse=True)\n",
    "    ## get top 10 count & index\n",
    "    top10_count = round(y_true.shape[0] * .1)\n",
    "    top10_churned_count = sum([v[1] for v in sort_by_risk[:top10_count]])\n",
    "    ## top 10% churn rate\n",
    "    top_decile_churn = top10_churned_count / top10_count\n",
    "    \n",
    "    # top decile lift\n",
    "    lift = top_decile_churn / overall_churn\n",
    "    \n",
    "    return lift\n",
    "\n",
    "def top_decile_lift(data: pd.DataFrame, model: LogisticRegression) -> float:\n",
    "\n",
    "    X, y = prepare_data(data, as_retention=True)\n",
    "    \n",
    "    # first column is \"not_retained\", second column is \"is_retained\"\n",
    "    # or, first is probabilty to become churned\n",
    "    # or, first is risk to become churned\n",
    "    predictions = model.predict_proba(X)\n",
    "    \n",
    "    # actual label on churn, 1 means the observation has churned\n",
    "    # since the model is trained on as_retention=True, we need churn labels for lift\n",
    "    y_churned = (1 - y).rename(\"is_churned\")\n",
    "    \n",
    "    # top decile lift is about the top 10% most at-risk, so only on \"not_churned\"\n",
    "    lift = calculat_top_decile_lift(y_churned, predictions[:, 0])\n",
    "    \n",
    "    return lift\n",
    "\n",
    "top_decile_lift(train_data, model)"
   ]
  },
  {
   "cell_type": "code",
   "execution_count": null,
   "id": "23f89edb-a10e-4fd5-b4b9-8a02e9daef77",
   "metadata": {},
   "outputs": [],
   "source": []
  },
  {
   "cell_type": "code",
   "execution_count": null,
   "id": "5b9af788-d7bf-4cd0-937c-0bbf94435837",
   "metadata": {},
   "outputs": [],
   "source": []
  },
  {
   "cell_type": "markdown",
   "id": "f24edf62-1046-4075-a223-28079c4fcc5e",
   "metadata": {},
   "source": [
    "### Listing 9.3 Backtesting"
   ]
  },
  {
   "cell_type": "code",
   "execution_count": 19,
   "id": "cc11b9fa-46fa-4fe8-8ee7-164b55fba38d",
   "metadata": {
    "tags": []
   },
   "outputs": [],
   "source": [
    "from sklearn.model_selection import GridSearchCV, TimeSeriesSplit\n",
    "from sklearn.metrics import make_scorer"
   ]
  },
  {
   "cell_type": "code",
   "execution_count": 21,
   "id": "8128353d-14bd-4211-b98b-50d8c2df1883",
   "metadata": {
    "tags": []
   },
   "outputs": [],
   "source": [
    "def backtest(data, n_test_split):\n",
    "\n",
    "    X,y = prepare_data(data, as_retention=False)\n",
    "\n",
    "    tscv = TimeSeriesSplit(n_splits=n_test_split)\n",
    "\n",
    "    lift_scorer = make_scorer(calculat_top_decile_lift, needs_proba=True)\n",
    "    score_models = {'lift': lift_scorer, 'AUC': 'roc_auc'}\n",
    "\n",
    "    retain_reg = LogisticRegression(penalty='l1', solver='liblinear', fit_intercept=True)\n",
    "\n",
    "    gsearch = GridSearchCV(estimator=retain_reg,scoring=score_models, cv=tscv, verbose=1,\n",
    "                           return_train_score=False,  param_grid={'C' : [1]}, refit='AUC')\n",
    "\n",
    "    gsearch.fit(X,y)\n",
    "    result_df = pd.DataFrame(gsearch.cv_results_)\n",
    "\n",
    "    # save_path = data_set_path.replace('.csv', '_backtest.csv')\n",
    "    # result_df.to_csv(save_path, index=False)\n",
    "    # print('Saved test scores to ' + save_path)\n",
    "    return result_df"
   ]
  },
  {
   "cell_type": "code",
   "execution_count": 24,
   "id": "008c692f-ea66-4c76-91d7-6222ec64ef3b",
   "metadata": {},
   "outputs": [
    {
     "name": "stdout",
     "output_type": "stream",
     "text": [
      "Fitting 5 folds for each of 1 candidates, totalling 5 fits\n",
      "CPU times: user 4.88 s, sys: 2.86 s, total: 7.74 s\n",
      "Wall time: 4.29 s\n"
     ]
    }
   ],
   "source": [
    "%%time\n",
    "result =  backtest(train_data, 5)"
   ]
  },
  {
   "cell_type": "code",
   "execution_count": 26,
   "id": "8f83eccd-0de1-46f2-bc92-530af43f7095",
   "metadata": {},
   "outputs": [
    {
     "data": {
      "text/html": [
       "<div>\n",
       "<style scoped>\n",
       "    .dataframe tbody tr th:only-of-type {\n",
       "        vertical-align: middle;\n",
       "    }\n",
       "\n",
       "    .dataframe tbody tr th {\n",
       "        vertical-align: top;\n",
       "    }\n",
       "\n",
       "    .dataframe thead th {\n",
       "        text-align: right;\n",
       "    }\n",
       "</style>\n",
       "<table border=\"1\" class=\"dataframe\">\n",
       "  <thead>\n",
       "    <tr style=\"text-align: right;\">\n",
       "      <th></th>\n",
       "      <th>0</th>\n",
       "    </tr>\n",
       "  </thead>\n",
       "  <tbody>\n",
       "    <tr>\n",
       "      <th>mean_fit_time</th>\n",
       "      <td>0.798314</td>\n",
       "    </tr>\n",
       "    <tr>\n",
       "      <th>std_fit_time</th>\n",
       "      <td>0.523139</td>\n",
       "    </tr>\n",
       "    <tr>\n",
       "      <th>mean_score_time</th>\n",
       "      <td>0.017413</td>\n",
       "    </tr>\n",
       "    <tr>\n",
       "      <th>std_score_time</th>\n",
       "      <td>0.003153</td>\n",
       "    </tr>\n",
       "    <tr>\n",
       "      <th>param_C</th>\n",
       "      <td>1</td>\n",
       "    </tr>\n",
       "    <tr>\n",
       "      <th>params</th>\n",
       "      <td>{'C': 1}</td>\n",
       "    </tr>\n",
       "    <tr>\n",
       "      <th>split0_test_lift</th>\n",
       "      <td>4.443078</td>\n",
       "    </tr>\n",
       "    <tr>\n",
       "      <th>split1_test_lift</th>\n",
       "      <td>4.31189</td>\n",
       "    </tr>\n",
       "    <tr>\n",
       "      <th>split2_test_lift</th>\n",
       "      <td>3.995098</td>\n",
       "    </tr>\n",
       "    <tr>\n",
       "      <th>split3_test_lift</th>\n",
       "      <td>4.449086</td>\n",
       "    </tr>\n",
       "    <tr>\n",
       "      <th>split4_test_lift</th>\n",
       "      <td>3.329248</td>\n",
       "    </tr>\n",
       "    <tr>\n",
       "      <th>mean_test_lift</th>\n",
       "      <td>4.10568</td>\n",
       "    </tr>\n",
       "    <tr>\n",
       "      <th>std_test_lift</th>\n",
       "      <td>0.421749</td>\n",
       "    </tr>\n",
       "    <tr>\n",
       "      <th>rank_test_lift</th>\n",
       "      <td>1</td>\n",
       "    </tr>\n",
       "    <tr>\n",
       "      <th>split0_test_AUC</th>\n",
       "      <td>0.788758</td>\n",
       "    </tr>\n",
       "    <tr>\n",
       "      <th>split1_test_AUC</th>\n",
       "      <td>0.781512</td>\n",
       "    </tr>\n",
       "    <tr>\n",
       "      <th>split2_test_AUC</th>\n",
       "      <td>0.748337</td>\n",
       "    </tr>\n",
       "    <tr>\n",
       "      <th>split3_test_AUC</th>\n",
       "      <td>0.778644</td>\n",
       "    </tr>\n",
       "    <tr>\n",
       "      <th>split4_test_AUC</th>\n",
       "      <td>0.761322</td>\n",
       "    </tr>\n",
       "    <tr>\n",
       "      <th>mean_test_AUC</th>\n",
       "      <td>0.771715</td>\n",
       "    </tr>\n",
       "    <tr>\n",
       "      <th>std_test_AUC</th>\n",
       "      <td>0.014758</td>\n",
       "    </tr>\n",
       "    <tr>\n",
       "      <th>rank_test_AUC</th>\n",
       "      <td>1</td>\n",
       "    </tr>\n",
       "  </tbody>\n",
       "</table>\n",
       "</div>"
      ],
      "text/plain": [
       "                         0\n",
       "mean_fit_time     0.798314\n",
       "std_fit_time      0.523139\n",
       "mean_score_time   0.017413\n",
       "std_score_time    0.003153\n",
       "param_C                  1\n",
       "params            {'C': 1}\n",
       "split0_test_lift  4.443078\n",
       "split1_test_lift   4.31189\n",
       "split2_test_lift  3.995098\n",
       "split3_test_lift  4.449086\n",
       "split4_test_lift  3.329248\n",
       "mean_test_lift     4.10568\n",
       "std_test_lift     0.421749\n",
       "rank_test_lift           1\n",
       "split0_test_AUC   0.788758\n",
       "split1_test_AUC   0.781512\n",
       "split2_test_AUC   0.748337\n",
       "split3_test_AUC   0.778644\n",
       "split4_test_AUC   0.761322\n",
       "mean_test_AUC     0.771715\n",
       "std_test_AUC      0.014758\n",
       "rank_test_AUC            1"
      ]
     },
     "execution_count": 26,
     "metadata": {},
     "output_type": "execute_result"
    }
   ],
   "source": [
    "result.transpose()"
   ]
  },
  {
   "cell_type": "code",
   "execution_count": null,
   "id": "8f1275d5-2486-46d9-9585-04651f4c0728",
   "metadata": {},
   "outputs": [],
   "source": []
  },
  {
   "cell_type": "code",
   "execution_count": null,
   "id": "02e01515-1ba2-47cb-9da5-afcd671cb5ae",
   "metadata": {},
   "outputs": [],
   "source": []
  }
 ],
 "metadata": {
  "kernelspec": {
   "display_name": "Python 3 (ipykernel)",
   "language": "python",
   "name": "python3"
  },
  "language_info": {
   "codemirror_mode": {
    "name": "ipython",
    "version": 3
   },
   "file_extension": ".py",
   "mimetype": "text/x-python",
   "name": "python",
   "nbconvert_exporter": "python",
   "pygments_lexer": "ipython3",
   "version": "3.8.16"
  }
 },
 "nbformat": 4,
 "nbformat_minor": 5
}
