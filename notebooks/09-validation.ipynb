{
 "cells": [
  {
   "cell_type": "markdown",
   "id": "ae513752-e614-4db3-8add-f743dc881826",
   "metadata": {
    "tags": []
   },
   "source": [
    "# 08 Forcasting Churn"
   ]
  },
  {
   "cell_type": "code",
   "execution_count": 1,
   "id": "cfcdf370-9ce3-4e1e-bb5f-f9d33114f649",
   "metadata": {
    "tags": []
   },
   "outputs": [],
   "source": [
    "import json\n",
    "import sqlalchemy\n",
    "import numpy as np\n",
    "import numpy.typing as npt\n",
    "import pandas as pd\n",
    "import matplotlib.pyplot as plt\n",
    "\n",
    "from pprint import pprint\n",
    "from typing import Tuple, List, Dict"
   ]
  },
  {
   "cell_type": "code",
   "execution_count": 2,
   "id": "278be3f7-ab37-4e17-9359-f921b6a4b8db",
   "metadata": {
    "tags": []
   },
   "outputs": [
    {
     "data": {
      "text/html": [
       "<div>\n",
       "<style scoped>\n",
       "    .dataframe tbody tr th:only-of-type {\n",
       "        vertical-align: middle;\n",
       "    }\n",
       "\n",
       "    .dataframe tbody tr th {\n",
       "        vertical-align: top;\n",
       "    }\n",
       "\n",
       "    .dataframe thead th {\n",
       "        text-align: right;\n",
       "    }\n",
       "</style>\n",
       "<table border=\"1\" class=\"dataframe\">\n",
       "  <thead>\n",
       "    <tr style=\"text-align: right;\">\n",
       "      <th></th>\n",
       "      <th>table_catalog</th>\n",
       "      <th>table_schema</th>\n",
       "      <th>table_name</th>\n",
       "      <th>table_type</th>\n",
       "      <th>self_referencing_column_name</th>\n",
       "      <th>reference_generation</th>\n",
       "      <th>user_defined_type_catalog</th>\n",
       "      <th>user_defined_type_schema</th>\n",
       "      <th>user_defined_type_name</th>\n",
       "      <th>is_insertable_into</th>\n",
       "      <th>is_typed</th>\n",
       "      <th>commit_action</th>\n",
       "    </tr>\n",
       "  </thead>\n",
       "  <tbody>\n",
       "    <tr>\n",
       "      <th>0</th>\n",
       "      <td>churn</td>\n",
       "      <td>socialnet7</td>\n",
       "      <td>active_period</td>\n",
       "      <td>BASE TABLE</td>\n",
       "      <td>None</td>\n",
       "      <td>None</td>\n",
       "      <td>None</td>\n",
       "      <td>None</td>\n",
       "      <td>None</td>\n",
       "      <td>YES</td>\n",
       "      <td>NO</td>\n",
       "      <td>None</td>\n",
       "    </tr>\n",
       "    <tr>\n",
       "      <th>1</th>\n",
       "      <td>churn</td>\n",
       "      <td>socialnet7</td>\n",
       "      <td>event_type</td>\n",
       "      <td>BASE TABLE</td>\n",
       "      <td>None</td>\n",
       "      <td>None</td>\n",
       "      <td>None</td>\n",
       "      <td>None</td>\n",
       "      <td>None</td>\n",
       "      <td>YES</td>\n",
       "      <td>NO</td>\n",
       "      <td>None</td>\n",
       "    </tr>\n",
       "    <tr>\n",
       "      <th>2</th>\n",
       "      <td>churn</td>\n",
       "      <td>socialnet7</td>\n",
       "      <td>metric_name</td>\n",
       "      <td>BASE TABLE</td>\n",
       "      <td>None</td>\n",
       "      <td>None</td>\n",
       "      <td>None</td>\n",
       "      <td>None</td>\n",
       "      <td>None</td>\n",
       "      <td>YES</td>\n",
       "      <td>NO</td>\n",
       "      <td>None</td>\n",
       "    </tr>\n",
       "  </tbody>\n",
       "</table>\n",
       "</div>"
      ],
      "text/plain": [
       "  table_catalog table_schema     table_name  table_type  \\\n",
       "0         churn   socialnet7  active_period  BASE TABLE   \n",
       "1         churn   socialnet7     event_type  BASE TABLE   \n",
       "2         churn   socialnet7    metric_name  BASE TABLE   \n",
       "\n",
       "  self_referencing_column_name reference_generation user_defined_type_catalog  \\\n",
       "0                         None                 None                      None   \n",
       "1                         None                 None                      None   \n",
       "2                         None                 None                      None   \n",
       "\n",
       "  user_defined_type_schema user_defined_type_name is_insertable_into is_typed  \\\n",
       "0                     None                   None                YES       NO   \n",
       "1                     None                   None                YES       NO   \n",
       "2                     None                   None                YES       NO   \n",
       "\n",
       "  commit_action  \n",
       "0          None  \n",
       "1          None  \n",
       "2          None  "
      ]
     },
     "execution_count": 2,
     "metadata": {},
     "output_type": "execute_result"
    }
   ],
   "source": [
    "# Make a sql connection with sqlalchmey\n",
    "conn_string = \"postgresql://postgres-db/churn?user=postgres&password=password\" \n",
    "engine = sqlalchemy.create_engine(\n",
    "    conn_string, connect_args={'options': '-csearch_path={}'.format(\"socialnet7,public\")}\n",
    ")\n",
    "conn = engine.connect()\n",
    "# conn.close()\n",
    "\n",
    "# Query with Pandas, e.g. list all tables\n",
    "tables = pd.read_sql_query(\"SELECT * FROM information_schema.tables;\", conn)\n",
    "tables.head(3)"
   ]
  },
  {
   "cell_type": "code",
   "execution_count": 3,
   "id": "ebb1327b-8450-46fa-92ef-a5ae4682905a",
   "metadata": {
    "tags": []
   },
   "outputs": [],
   "source": [
    "import json \n",
    "\n",
    "with open(\"/app/fightchurn/listings/conf/socialnet7_listings.json\", \"r\") as f: \n",
    "    conf = json.loads(f.read())\n",
    "    # conf = Box(json.loads(f.read()))\n",
    "\n",
    "chap9 = conf[\"chap9\"]"
   ]
  },
  {
   "cell_type": "raw",
   "id": "e07e02b7-07d3-469b-b1ce-8d528db8c24b",
   "metadata": {
    "tags": []
   },
   "source": [
    "import sys\n",
    "sys.path.append(\"/app\") # for importing module locally in /app"
   ]
  },
  {
   "cell_type": "code",
   "execution_count": 4,
   "id": "4c976f88-6f02-4c64-b507-a5deb9776092",
   "metadata": {},
   "outputs": [
    {
     "name": "stdout",
     "output_type": "stream",
     "text": [
      "{'defaults': {'data_set_path': 'socialnet7/socialnet7_dataset2.csv',\n",
      "              'type': 'py'},\n",
      " 'list1': {'name': 'regression_auc', 'params': {}},\n",
      " 'list2': {'name': 'top_decile_lift', 'params': {}},\n",
      " 'list3': {'name': 'backtest', 'params': {'n_test_split': 2}},\n",
      " 'list4': {'name': 'regression_cparam',\n",
      "           'params': {'C_param': 0.02},\n",
      "           'v1': {},\n",
      "           'v2': {'C_param': 0.01},\n",
      "           'v3': {'C_param': 0.005},\n",
      "           'v4': {'C_param': 0.32,\n",
      "                  'data_set_path': 'socialnet7/socialnet7_dataset3_dummies.csv'},\n",
      "           'v5': {'C_param': 0.04,\n",
      "                  'data_set_path': 'socialnet7/socialnet7_dataset3.csv'},\n",
      "           'v6': {'C_param': 0.04}},\n",
      " 'list5': {'name': 'crossvalidate',\n",
      "           'params': {'n_test_split': 2},\n",
      "           'v1': {'data_set_path': 'socialnet7/socialnet7_dataset.csv'},\n",
      "           'v2': {'data_set_path': 'socialnet7/socialnet7_dataset3_dummies.csv'},\n",
      "           'v3': {'data_set_path': 'socialnet7/socialnet7_dataset3.csv'}},\n",
      " 'list6': {'name': 'crossvalidate_xgb',\n",
      "           'params': {'n_test_split': 2},\n",
      "           'v1': {'data_set_path': 'socialnet7/socialnet7_dataset.csv'},\n",
      "           'v2': {'data_set_path': 'socialnet7/socialnet7_dataset3_xgbdummies.csv'}},\n",
      " 'list7': {'name': 'churn_forecast_xgb',\n",
      "           'params': {},\n",
      "           'v2': {'data_set_path': 'socialnet7/socialnet7_dataset3_xgbdummies.csv'}},\n",
      " 'list8': {'name': 'shap_explain_xgb',\n",
      "           'params': {},\n",
      "           'v1': {'plot_n': [0, 1, 2, 3, 4, 5]}},\n",
      " 'list9': {'name': 'shap_explain_logreg', 'params': {}}}\n"
     ]
    }
   ],
   "source": [
    "pprint(chap9)"
   ]
  },
  {
   "cell_type": "code",
   "execution_count": null,
   "id": "cdc788f8-ca15-4d3c-965f-04936f106f33",
   "metadata": {
    "tags": []
   },
   "outputs": [],
   "source": []
  },
  {
   "cell_type": "markdown",
   "id": "8b913796-60fc-40ed-9bed-5512507cb1a4",
   "metadata": {
    "tags": []
   },
   "source": [
    "## Dependent Data & Functions\n",
    "\n",
    "- Data are output of Chapter 8 notebook\n",
    "- Functions are forked from Chapter 8 notebooks"
   ]
  },
  {
   "cell_type": "code",
   "execution_count": 73,
   "id": "8e5eea90-6cc5-4dcb-8cec-65dd4d5ccb1c",
   "metadata": {},
   "outputs": [
    {
     "data": {
      "text/plain": [
       "dict_keys(['raw_train_data', 'raw_test_data', 'train_data', 'metric_groups', 'test_data', 'logreg_model'])"
      ]
     },
     "execution_count": 73,
     "metadata": {},
     "output_type": "execute_result"
    }
   ],
   "source": [
    "import pickle\n",
    "\n",
    "with open(\"/app/ch8-export.pickle\", \"rb\") as handle:\n",
    "    d = pickle.load(handle)\n",
    "    \n",
    "train_data = d[\"train_data\"]\n",
    "metric_groups = d[\"metric_groups\"]\n",
    "model = d[\"logreg_model\"]\n",
    "d.keys()"
   ]
  },
  {
   "cell_type": "code",
   "execution_count": 7,
   "id": "6da4af10-c93d-4fa0-b5d5-7b281d621998",
   "metadata": {},
   "outputs": [
    {
     "data": {
      "text/html": [
       "<div>\n",
       "<style scoped>\n",
       "    .dataframe tbody tr th:only-of-type {\n",
       "        vertical-align: middle;\n",
       "    }\n",
       "\n",
       "    .dataframe tbody tr th {\n",
       "        vertical-align: top;\n",
       "    }\n",
       "\n",
       "    .dataframe thead th {\n",
       "        text-align: right;\n",
       "    }\n",
       "</style>\n",
       "<table border=\"1\" class=\"dataframe\">\n",
       "  <thead>\n",
       "    <tr style=\"text-align: right;\">\n",
       "      <th>group_name</th>\n",
       "      <th>metric_group_0</th>\n",
       "      <th>metric_group_1</th>\n",
       "      <th>newfriend_pcnt_chng</th>\n",
       "      <th>unfriend_per_newfriend</th>\n",
       "      <th>days_since_newfriend</th>\n",
       "      <th>unfriend_per_month</th>\n",
       "      <th>post_per_message</th>\n",
       "      <th>newfriend_per_month</th>\n",
       "      <th>adview_per_post</th>\n",
       "      <th>like_per_post</th>\n",
       "      <th>dislike_per_month</th>\n",
       "      <th>dislike_pcnt</th>\n",
       "      <th>reply_per_message</th>\n",
       "      <th>is_churn</th>\n",
       "    </tr>\n",
       "  </thead>\n",
       "  <tbody>\n",
       "    <tr>\n",
       "      <th>0</th>\n",
       "      <td>-0.549097</td>\n",
       "      <td>2.110926</td>\n",
       "      <td>-0.201102</td>\n",
       "      <td>-0.286460</td>\n",
       "      <td>-0.278495</td>\n",
       "      <td>-0.781045</td>\n",
       "      <td>-1.007845</td>\n",
       "      <td>-0.495320</td>\n",
       "      <td>-0.648489</td>\n",
       "      <td>0.529170</td>\n",
       "      <td>-0.177503</td>\n",
       "      <td>-0.443625</td>\n",
       "      <td>0.652640</td>\n",
       "      <td>False</td>\n",
       "    </tr>\n",
       "    <tr>\n",
       "      <th>1</th>\n",
       "      <td>0.168510</td>\n",
       "      <td>-1.119100</td>\n",
       "      <td>-0.201102</td>\n",
       "      <td>-0.286460</td>\n",
       "      <td>-0.278495</td>\n",
       "      <td>1.814266</td>\n",
       "      <td>1.937971</td>\n",
       "      <td>-0.268273</td>\n",
       "      <td>-0.881792</td>\n",
       "      <td>-0.876925</td>\n",
       "      <td>-0.177503</td>\n",
       "      <td>-0.335889</td>\n",
       "      <td>0.775205</td>\n",
       "      <td>False</td>\n",
       "    </tr>\n",
       "    <tr>\n",
       "      <th>2</th>\n",
       "      <td>-0.637119</td>\n",
       "      <td>1.577264</td>\n",
       "      <td>-0.201102</td>\n",
       "      <td>3.132593</td>\n",
       "      <td>-0.278495</td>\n",
       "      <td>-0.781045</td>\n",
       "      <td>-0.851206</td>\n",
       "      <td>-0.835891</td>\n",
       "      <td>-0.544171</td>\n",
       "      <td>-0.815355</td>\n",
       "      <td>-0.830230</td>\n",
       "      <td>-0.247713</td>\n",
       "      <td>0.605700</td>\n",
       "      <td>False</td>\n",
       "    </tr>\n",
       "    <tr>\n",
       "      <th>3</th>\n",
       "      <td>0.683287</td>\n",
       "      <td>2.265722</td>\n",
       "      <td>-0.698891</td>\n",
       "      <td>-0.286460</td>\n",
       "      <td>-0.278495</td>\n",
       "      <td>1.814266</td>\n",
       "      <td>-0.756789</td>\n",
       "      <td>-0.268273</td>\n",
       "      <td>0.936099</td>\n",
       "      <td>-1.270974</td>\n",
       "      <td>-2.135683</td>\n",
       "      <td>-1.076572</td>\n",
       "      <td>0.254015</td>\n",
       "      <td>False</td>\n",
       "    </tr>\n",
       "    <tr>\n",
       "      <th>4</th>\n",
       "      <td>0.176218</td>\n",
       "      <td>-1.119100</td>\n",
       "      <td>0.246908</td>\n",
       "      <td>-0.286460</td>\n",
       "      <td>-0.278495</td>\n",
       "      <td>-0.781045</td>\n",
       "      <td>0.697051</td>\n",
       "      <td>-0.041226</td>\n",
       "      <td>0.940821</td>\n",
       "      <td>1.312412</td>\n",
       "      <td>0.279693</td>\n",
       "      <td>-0.513573</td>\n",
       "      <td>0.775205</td>\n",
       "      <td>False</td>\n",
       "    </tr>\n",
       "  </tbody>\n",
       "</table>\n",
       "</div>"
      ],
      "text/plain": [
       "group_name  metric_group_0  metric_group_1  newfriend_pcnt_chng  \\\n",
       "0                -0.549097        2.110926            -0.201102   \n",
       "1                 0.168510       -1.119100            -0.201102   \n",
       "2                -0.637119        1.577264            -0.201102   \n",
       "3                 0.683287        2.265722            -0.698891   \n",
       "4                 0.176218       -1.119100             0.246908   \n",
       "\n",
       "group_name  unfriend_per_newfriend  days_since_newfriend  unfriend_per_month  \\\n",
       "0                        -0.286460             -0.278495           -0.781045   \n",
       "1                        -0.286460             -0.278495            1.814266   \n",
       "2                         3.132593             -0.278495           -0.781045   \n",
       "3                        -0.286460             -0.278495            1.814266   \n",
       "4                        -0.286460             -0.278495           -0.781045   \n",
       "\n",
       "group_name  post_per_message  newfriend_per_month  adview_per_post  \\\n",
       "0                  -1.007845            -0.495320        -0.648489   \n",
       "1                   1.937971            -0.268273        -0.881792   \n",
       "2                  -0.851206            -0.835891        -0.544171   \n",
       "3                  -0.756789            -0.268273         0.936099   \n",
       "4                   0.697051            -0.041226         0.940821   \n",
       "\n",
       "group_name  like_per_post  dislike_per_month  dislike_pcnt  reply_per_message  \\\n",
       "0                0.529170          -0.177503     -0.443625           0.652640   \n",
       "1               -0.876925          -0.177503     -0.335889           0.775205   \n",
       "2               -0.815355          -0.830230     -0.247713           0.605700   \n",
       "3               -1.270974          -2.135683     -1.076572           0.254015   \n",
       "4                1.312412           0.279693     -0.513573           0.775205   \n",
       "\n",
       "group_name  is_churn  \n",
       "0              False  \n",
       "1              False  \n",
       "2              False  \n",
       "3              False  \n",
       "4              False  "
      ]
     },
     "execution_count": 7,
     "metadata": {},
     "output_type": "execute_result"
    }
   ],
   "source": [
    "# training data\n",
    "train_data.head()"
   ]
  },
  {
   "cell_type": "code",
   "execution_count": 74,
   "id": "f623b023-97a5-47a7-9f40-dffd3d6a96d7",
   "metadata": {},
   "outputs": [
    {
     "data": {
      "text/html": [
       "<div>\n",
       "<style scoped>\n",
       "    .dataframe tbody tr th:only-of-type {\n",
       "        vertical-align: middle;\n",
       "    }\n",
       "\n",
       "    .dataframe tbody tr th {\n",
       "        vertical-align: top;\n",
       "    }\n",
       "\n",
       "    .dataframe thead th {\n",
       "        text-align: right;\n",
       "    }\n",
       "</style>\n",
       "<table border=\"1\" class=\"dataframe\">\n",
       "  <thead>\n",
       "    <tr style=\"text-align: right;\">\n",
       "      <th></th>\n",
       "      <th>group_id</th>\n",
       "      <th>group_name</th>\n",
       "      <th>cluster_label</th>\n",
       "      <th>metrics</th>\n",
       "      <th>metric_counts</th>\n",
       "    </tr>\n",
       "  </thead>\n",
       "  <tbody>\n",
       "    <tr>\n",
       "      <th>0</th>\n",
       "      <td>0</td>\n",
       "      <td>metric_group_0</td>\n",
       "      <td>cluster-1</td>\n",
       "      <td>[like_per_month, post_per_month, adview_per_mo...</td>\n",
       "      <td>3</td>\n",
       "    </tr>\n",
       "    <tr>\n",
       "      <th>1</th>\n",
       "      <td>1</td>\n",
       "      <td>metric_group_1</td>\n",
       "      <td>cluster-8</td>\n",
       "      <td>[message_per_month, reply_per_month]</td>\n",
       "      <td>2</td>\n",
       "    </tr>\n",
       "    <tr>\n",
       "      <th>2</th>\n",
       "      <td>2</td>\n",
       "      <td>newfriend_pcnt_chng</td>\n",
       "      <td>cluster-10</td>\n",
       "      <td>[newfriend_pcnt_chng]</td>\n",
       "      <td>1</td>\n",
       "    </tr>\n",
       "    <tr>\n",
       "      <th>3</th>\n",
       "      <td>3</td>\n",
       "      <td>unfriend_per_newfriend</td>\n",
       "      <td>cluster-11</td>\n",
       "      <td>[unfriend_per_newfriend]</td>\n",
       "      <td>1</td>\n",
       "    </tr>\n",
       "    <tr>\n",
       "      <th>4</th>\n",
       "      <td>4</td>\n",
       "      <td>days_since_newfriend</td>\n",
       "      <td>cluster-12</td>\n",
       "      <td>[days_since_newfriend]</td>\n",
       "      <td>1</td>\n",
       "    </tr>\n",
       "  </tbody>\n",
       "</table>\n",
       "</div>"
      ],
      "text/plain": [
       "   group_id              group_name cluster_label  \\\n",
       "0         0          metric_group_0     cluster-1   \n",
       "1         1          metric_group_1     cluster-8   \n",
       "2         2     newfriend_pcnt_chng    cluster-10   \n",
       "3         3  unfriend_per_newfriend    cluster-11   \n",
       "4         4    days_since_newfriend    cluster-12   \n",
       "\n",
       "                                             metrics  metric_counts  \n",
       "0  [like_per_month, post_per_month, adview_per_mo...              3  \n",
       "1               [message_per_month, reply_per_month]              2  \n",
       "2                              [newfriend_pcnt_chng]              1  \n",
       "3                           [unfriend_per_newfriend]              1  \n",
       "4                             [days_since_newfriend]              1  "
      ]
     },
     "execution_count": 74,
     "metadata": {},
     "output_type": "execute_result"
    }
   ],
   "source": [
    "metric_groups.head()"
   ]
  },
  {
   "cell_type": "code",
   "execution_count": 8,
   "id": "6ff9c805-b2af-4bff-8cb1-0d859691e89c",
   "metadata": {},
   "outputs": [
    {
     "data": {
      "text/plain": [
       "LogisticRegression(penalty='l1', solver='liblinear')"
      ]
     },
     "execution_count": 8,
     "metadata": {},
     "output_type": "execute_result"
    }
   ],
   "source": [
    "model"
   ]
  },
  {
   "cell_type": "code",
   "execution_count": 9,
   "id": "5738fa74-9d2d-4563-9bf3-0aa48879a7f9",
   "metadata": {
    "tags": []
   },
   "outputs": [
    {
     "data": {
      "text/plain": [
       "((24450, 13), (24450,), 'is_retained')"
      ]
     },
     "execution_count": 9,
     "metadata": {},
     "output_type": "execute_result"
    }
   ],
   "source": [
    "def prepare_data(grouped_data: pd.DataFrame, as_retention: bool = True) \\\n",
    "    -> Tuple[pd.DataFrame, pd.Series]:\n",
    "    \"\"\"Prepare data as X and y, with option to convert churn rate to retention rate\"\"\"\n",
    "    \n",
    "    X = grouped_data.drop(columns=['is_churn'])\n",
    "    \n",
    "    # as churn\n",
    "    y = grouped_data['is_churn'].astype(int)\n",
    "    \n",
    "    # convert y values to retention, n.b. retention rate + churn rate = 1\n",
    "    if as_retention: \n",
    "        # `is_churn = False` converted to `is_retained = True`\n",
    "        y = np.subtract(1, y).rename(\"is_retained\")\n",
    "    \n",
    "    return X, y\n",
    "X, y = prepare_data(train_data, as_retention=True)\n",
    "X.shape, y.shape, y.name"
   ]
  },
  {
   "cell_type": "code",
   "execution_count": 57,
   "id": "7f5b52d8-b8d8-4606-a08d-b2b8c94d31e6",
   "metadata": {},
   "outputs": [],
   "source": [
    "def sigmoid(x: npt.NDArray, rev: bool = False) -> npt.NDArray:\n",
    "    \"\"\"S (Sigmoid) curve with logistic, with optional reversed argument\"\"\"\n",
    "    \n",
    "    # regular shape of sigmoid function, from low to high\n",
    "    probs =  1.0 / (1.0 + np.exp(-x))\n",
    "    if rev: \n",
    "    # reversed shape of sigmoid, from high to low\n",
    "        return 1 - probs\n",
    "        \n",
    "    return probs"
   ]
  },
  {
   "cell_type": "code",
   "execution_count": 59,
   "id": "2115e984-c5f1-4686-b17e-196ee0379cfe",
   "metadata": {
    "tags": []
   },
   "outputs": [],
   "source": [
    "def calculate_retention_impacts(model: LogisticRegression) -> Tuple[npt.NDArray, npt.NDArray]:\n",
    "    \"\"\"\n",
    "    logistict regression model is: logit(p) = β0 + β1x1 + β2x2 + ... + βnxn\n",
    "    where \n",
    "        β0 is the bias (intercept) term \n",
    "        β1...βn are the weights (coefficients)\n",
    "    \n",
    "    N.B. the give scored group metrics (X) have been processed to have mean=0 and std=1\n",
    "    \n",
    "    OUTPUTS:\n",
    "      metric_retain_impacts - marginal probability for a metric having 1 std higher than average\n",
    "      average_retain_prob - probability of retention for an average observation (all metric have value = 0)\n",
    "    \"\"\"\n",
    "    \n",
    "    n_feat = model.n_features_in_\n",
    "    coefs = model.coef_[0]\n",
    "    intercept = model.intercept_\n",
    "    \n",
    "    # Average observation is when every metric equals to mean (0), i.e. x1...xn are all 0\n",
    "    average_obs =  np.zeros((n_feat, ))\n",
    "    average_retain_prob = sigmoid(np.dot(average_obs, coefs) + intercept)\n",
    "    \n",
    "    # Only one metric has value=1, others are 0\n",
    "    # n.b. since std=1, it also means the observation is 1 std higher than average on that given metric\n",
    "    only_one_metric_obs = pd.DataFrame(np.eye(n_feat)) # each column is a metric group, each row is a pseudo observation\n",
    "    metric_retain_probs = []\n",
    "    for idx, row in only_one_metric_obs.iterrows():\n",
    "        metric_retain_probs.append(sigmoid(np.dot(row.values, coefs) + intercept))\n",
    "    metric_retain_probs = np.array(metric_retain_probs)\n",
    "    \n",
    "    # For each metric, get its marginal impact on retention probabilty, as the difference to average\n",
    "    # n.b. since data is 1 std higher than average, it's 1 std impact\n",
    "    metric_retain_impacts = metric_retain_probs.ravel() - average_retain_prob\n",
    "    \n",
    "    return metric_retain_impacts, average_retain_prob"
   ]
  },
  {
   "cell_type": "code",
   "execution_count": 60,
   "id": "e5238167-7a10-495e-b189-74166a2541af",
   "metadata": {
    "tags": []
   },
   "outputs": [],
   "source": [
    "def save_regression_summary(model: LogisticRegression, cluster_groups: pd.DataFrame) -> pd.DataFrame:\n",
    "    \n",
    "    one_stdev_impact, average_retain = calculate_retention_impacts(model)\n",
    "    \n",
    "    model_summary = pd.DataFrame.from_dict({\n",
    "        'group_metric_or_offset':  np.append(cluster_groups.index,'offset'), \n",
    "        'weight': np.append(model.coef_[0], model.intercept_), \n",
    "        'metric_retention_marginal_impact' : np.append(one_stdev_impact, average_retain), \n",
    "        'group_metrics' : np.append(cluster_groups.metrics, '(baseline)')\n",
    "    })\n",
    "    \n",
    "    return model_summary\n",
    "\n",
    "def save_dataset_predictions(model: LogisticRegression, X: pd.DataFrame) -> pd.DataFrame:\n",
    "    \n",
    "    preds = model.predict_proba(X)\n",
    "    predictions = pd.DataFrame(\n",
    "        preds, index=X.index, columns=['churn_prob','retain_prob']\n",
    "        # preds has two columns, class=0 and class=1\n",
    "    )\n",
    "    \n",
    "    return predictions"
   ]
  },
  {
   "cell_type": "code",
   "execution_count": 40,
   "id": "3dab6984-0c80-471a-b218-efbf18fa4c9e",
   "metadata": {
    "tags": []
   },
   "outputs": [],
   "source": [
    "def logistic_regression(grouped_data, cluster_groups, as_retention=True):\n",
    "    \n",
    "    # get X and y as training data\n",
    "    # default to convert to is_retained\n",
    "    X, y = prepare_data(grouped_data, as_retention=as_retention)\n",
    "    \n",
    "    # fit model with training data\n",
    "    model = LogisticRegression(penalty='l1', solver='liblinear', fit_intercept=True)\n",
    "    model.fit(X, y)\n",
    "    \n",
    "    # export summary\n",
    "    summary = save_regression_summary(model, cluster_groups)\n",
    "    # export predictions\n",
    "    preds = save_dataset_predictions(model, X)\n",
    "    \n",
    "    return (X, y), model, summary, preds"
   ]
  },
  {
   "cell_type": "code",
   "execution_count": null,
   "id": "9a78eca2-e897-4378-8616-a3e449a47935",
   "metadata": {},
   "outputs": [],
   "source": []
  },
  {
   "cell_type": "code",
   "execution_count": null,
   "id": "2f941b45-d48a-4f08-9ba2-c487e9f8432b",
   "metadata": {},
   "outputs": [],
   "source": []
  },
  {
   "cell_type": "markdown",
   "id": "0945a913-aeb5-4794-b3a5-1f75ceb35ffd",
   "metadata": {},
   "source": [
    "## Model Validations"
   ]
  },
  {
   "cell_type": "markdown",
   "id": "5ea31212-90ff-44fe-8f76-03040f137a2d",
   "metadata": {},
   "source": [
    "### Listing 9.1 AUC\n",
    "\n",
    "> Area Under Curve\n",
    "- https://www.analyticsvidhya.com/blog/2020/06/auc-roc-curve-machine-learning/\n",
    "- https://scikit-learn.org/stable/modules/generated/sklearn.metrics.roc_auc_score.html#sklearn.metrics.roc_auc_score\n",
    "- https://scikit-learn.org/stable/modules/generated/sklearn.metrics.auc.html"
   ]
  },
  {
   "cell_type": "code",
   "execution_count": 10,
   "id": "80849721-23bd-4363-94a0-2a2d168ac331",
   "metadata": {},
   "outputs": [],
   "source": [
    "from sklearn.linear_model import LogisticRegression\n",
    "from sklearn.metrics import (\n",
    "    roc_auc_score, roc_curve, auc, confusion_matrix,  ConfusionMatrixDisplay\n",
    ")"
   ]
  },
  {
   "cell_type": "code",
   "execution_count": 12,
   "id": "0bf8728e-b989-4841-9941-fd7d5fc170cb",
   "metadata": {},
   "outputs": [
    {
     "data": {
      "text/plain": [
       "0.7790053627615189"
      ]
     },
     "execution_count": 12,
     "metadata": {},
     "output_type": "execute_result"
    }
   ],
   "source": [
    "def regression_auc(data: pd.DataFrame, model: LogisticRegression) -> float:\n",
    "    \"\"\"Compute AUC score with given churn data\"\"\"\n",
    "\n",
    "    X, y = prepare_data(data, as_retention=True)\n",
    "    \n",
    "    predictions = model.predict_proba(X)\n",
    "    auc_score = roc_auc_score(y, predictions[:,1])\n",
    "    \n",
    "    return auc_score\n",
    "\n",
    "regression_auc(train_data, model)"
   ]
  },
  {
   "cell_type": "code",
   "execution_count": 13,
   "id": "d5074148-1ff2-4e20-9459-210c3a9ac133",
   "metadata": {},
   "outputs": [
    {
     "name": "stdout",
     "output_type": "stream",
     "text": [
      "array([[   33,  1350],\n",
      "       [   18, 23049]])\n"
     ]
    }
   ],
   "source": [
    "X, y = prepare_data(train_data, as_retention=True)\n",
    "\n",
    "y_preds_proba = model.predict_proba(X)\n",
    "# first column is \"not_retained\", second column is \"is_retained\"\n",
    "y_preds = model.predict(X)\n",
    "cm = confusion_matrix(y, y_preds)\n",
    "pprint(cm)"
   ]
  },
  {
   "cell_type": "code",
   "execution_count": 14,
   "id": "6aa79b32-b469-4cb0-94f8-044f55d6dc5c",
   "metadata": {},
   "outputs": [
    {
     "data": {
      "text/plain": [
       "1    23067\n",
       "0     1383\n",
       "Name: is_retained, dtype: int64"
      ]
     },
     "execution_count": 14,
     "metadata": {},
     "output_type": "execute_result"
    }
   ],
   "source": [
    "y.value_counts()\n",
    "# 1 as retained, 0 as not retained (churned)"
   ]
  },
  {
   "cell_type": "code",
   "execution_count": 15,
   "id": "5e9f1bcc-27b3-4c13-bc45-c1df5ae74d9d",
   "metadata": {},
   "outputs": [
    {
     "data": {
      "text/plain": [
       "1    24399\n",
       "0       51\n",
       "Name: is_retained_predictions, dtype: int64"
      ]
     },
     "execution_count": 15,
     "metadata": {},
     "output_type": "execute_result"
    }
   ],
   "source": [
    "pd.Series(y_preds, name=\"is_retained_predictions\").value_counts()\n",
    "# 0 as predicted not reatined, 1 as predicted as retained"
   ]
  },
  {
   "cell_type": "code",
   "execution_count": 17,
   "id": "331aeaa6-2993-48ca-bd03-25c83ed29958",
   "metadata": {},
   "outputs": [
    {
     "data": {
      "image/png": "[encoded data removed]",
      "text/plain": [
       "<Figure size 500x500 with 2 Axes>"
      ]
     },
     "metadata": {},
     "output_type": "display_data"
    }
   ],
   "source": [
    "fig, ax = plt.subplots(figsize=(5, 5))\n",
    "ConfusionMatrixDisplay(cm, display_labels=[\"not_retained\", \"is_retained\"]).plot(ax=ax)\n",
    "# ConfusionMatrixDisplay.from_predictions(y, y_preds).plot(ax=ax)\n",
    "fig.show()"
   ]
  },
  {
   "cell_type": "markdown",
   "id": "36efb7f2-5d01-4d9f-9b19-60cf58216d17",
   "metadata": {},
   "source": [
    "Notes \n",
    "\n",
    "- True Positive, i.e both True\n",
    "  - predicted as \"is_retained\" and label is \"is_retained\" (23049)\n",
    "- True Negative, i.e. both False\n",
    "  - \"not_retained\" and \"not_retained\", (1350)\n",
    "- False Positive, i.e. falsely classified as positive\n",
    "  - predicted as \"is_retained\" but label is \"not_retained\"\n",
    "- False Negative, i.e. falsely classified as negative\n",
    "  - predicted as \"not_retained\" but label is \"is_retained\"\n",
    "- True Positive Rate = True Positives / All Positives, also 'Sensitivity' or 'Recall'\n",
    "- False Positive Rate = False Positives / All negatives, also 'Specificity'\n",
    "- "
   ]
  },
  {
   "cell_type": "code",
   "execution_count": 18,
   "id": "bf023fdd-8a45-47c0-9a5c-13fe66135876",
   "metadata": {},
   "outputs": [
    {
     "data": {
      "text/plain": [
       "0.5115404179111551"
      ]
     },
     "execution_count": 18,
     "metadata": {},
     "output_type": "execute_result"
    }
   ],
   "source": [
    "roc_auc_score(y, y_preds)"
   ]
  },
  {
   "cell_type": "code",
   "execution_count": 19,
   "id": "3993f370-fe39-4d6c-a012-ad25a864dd45",
   "metadata": {},
   "outputs": [
    {
     "data": {
      "text/plain": [
       "0.7790053627615189"
      ]
     },
     "execution_count": 19,
     "metadata": {},
     "output_type": "execute_result"
    }
   ],
   "source": [
    "roc_auc_score(y, y_preds_proba[:, 1])"
   ]
  },
  {
   "cell_type": "code",
   "execution_count": 21,
   "id": "46bd1ed1-4b34-4325-8d61-b40b22f1a970",
   "metadata": {},
   "outputs": [
    {
     "data": {
      "image/png": "[encoded data removed]",
      "text/plain": [
       "<Figure size 500x500 with 1 Axes>"
      ]
     },
     "metadata": {},
     "output_type": "display_data"
    }
   ],
   "source": [
    "y_preds_proba = model.predict_proba(X)[::,1]\n",
    "fpr, tpr, _ = roc_curve(y, y_preds_proba)\n",
    "auc = roc_auc_score(y, y_preds_proba)\n",
    "\n",
    "#create ROC curve\n",
    "plt.figure(figsize=(5, 5))\n",
    "plt.plot(fpr,tpr, label=f\"AUC={auc:.4f}\")\n",
    "plt.ylabel('True Positive Rate'); plt.xlabel('False Positive Rate')\n",
    "plt.legend()\n",
    "plt.show()"
   ]
  },
  {
   "cell_type": "code",
   "execution_count": null,
   "id": "a9565a8b-2b25-44bf-8818-b8949e2ddc53",
   "metadata": {},
   "outputs": [],
   "source": []
  },
  {
   "cell_type": "code",
   "execution_count": null,
   "id": "00eb57cd-6c0a-4070-b8c9-ac49d55b8dcc",
   "metadata": {},
   "outputs": [],
   "source": []
  },
  {
   "cell_type": "markdown",
   "id": "c286603a-3440-4c70-842c-b5fbad658385",
   "metadata": {},
   "source": [
    "### Listing 9.2 Top Decile Lift\n",
    "\n",
    "- Lift\n",
    "  - the relative increase in responses due to some treatment, relative to the baseline\n",
    "  - e.g. lift = 2.0; when baseline is 1% and the increased value is 2%, (2% divided by 1%)\n",
    "  - measures improvement over baseline\n",
    "- Top Decile Lift\n",
    "  - the ratio of churn rate in the top decile predicted to most at risk, to the overall churn rate\n",
    "  - (Top decile churn rate, i.e. top 10% churn rate) divided by (Overall churn rate)\n",
    "  - If in the top 10%, 2 are predicted as churn out of 5, i.e. 40% churn rate\n",
    "    - Overall churn rate is 10%\n",
    "    - Then Top Decile Lift is 40% / 10% = 4.0\n",
    "  - Overall churn rate as baseline, because that is the churn rate if randomly guessing\n",
    "  \n"
   ]
  },
  {
   "cell_type": "code",
   "execution_count": 22,
   "id": "bbc8a306-9171-4c65-9733-3c80165064fb",
   "metadata": {},
   "outputs": [],
   "source": [
    "def calculat_top_decile_lift(y_true: npt.NDArray, y_pred_proba: npt.NDArray) -> float:\n",
    "    \n",
    "    if np.unique(y_pred_proba).size < 10:\n",
    "        return 1.0\n",
    "    \n",
    "    # overall churn rate\n",
    "    overall_churn = y_true.sum() / y_true.shape[0]\n",
    "    \n",
    "    # top decile churn rate (top 10% at risk)\n",
    "    ## sort by risk/probability to churn\n",
    "    sort_by_risk = sorted(zip(y_pred_proba, y_true), key=lambda v: v[0], reverse=True)\n",
    "    ## get top 10 count & index\n",
    "    top10_count = round(y_true.shape[0] * .1)\n",
    "    top10_churned_count = sum([v[1] for v in sort_by_risk[:top10_count]])\n",
    "    ## top 10% churn rate\n",
    "    top_decile_churn = top10_churned_count / top10_count\n",
    "    \n",
    "    # top decile lift\n",
    "    lift = top_decile_churn / overall_churn\n",
    "    \n",
    "    return lift"
   ]
  },
  {
   "cell_type": "code",
   "execution_count": 22,
   "id": "0cfb8dff-6b15-41bc-b5d3-4de790f9fad8",
   "metadata": {},
   "outputs": [
    {
     "data": {
      "text/plain": [
       "4.389009399855387"
      ]
     },
     "execution_count": 22,
     "metadata": {},
     "output_type": "execute_result"
    }
   ],
   "source": [
    "def top_decile_lift(data: pd.DataFrame, model: LogisticRegression) -> float:\n",
    "\n",
    "    X, y = prepare_data(data, as_retention=True)\n",
    "    \n",
    "    # first column is \"not_retained\", second column is \"is_retained\"\n",
    "    # or, first is probabilty to become churned\n",
    "    # or, first is risk to become churned\n",
    "    predictions = model.predict_proba(X)\n",
    "    \n",
    "    # actual label on churn, 1 means the observation has churned\n",
    "    # since the model is trained on as_retention=True, we need churn labels for lift\n",
    "    y_churned = (1 - y).rename(\"is_churned\")\n",
    "    \n",
    "    # top decile lift is about the top 10% most at-risk, so only on \"not_churned\"\n",
    "    lift = calculat_top_decile_lift(y_churned, predictions[:, 0])\n",
    "    \n",
    "    return lift\n",
    "\n",
    "top_decile_lift(train_data, model)"
   ]
  },
  {
   "cell_type": "code",
   "execution_count": null,
   "id": "23f89edb-a10e-4fd5-b4b9-8a02e9daef77",
   "metadata": {},
   "outputs": [],
   "source": []
  },
  {
   "cell_type": "code",
   "execution_count": null,
   "id": "5b9af788-d7bf-4cd0-937c-0bbf94435837",
   "metadata": {},
   "outputs": [],
   "source": []
  },
  {
   "cell_type": "markdown",
   "id": "f24edf62-1046-4075-a223-28079c4fcc5e",
   "metadata": {},
   "source": [
    "### Listing 9.3 Backtesting\n",
    "\n",
    "> i.e. Time Series Split\n",
    "\n",
    "- https://scikit-learn.org/stable/modules/generated/sklearn.model_selection.GridSearchCV.html\n",
    "  - Exhaustive search over specified parameter values for an estimator.\n",
    "- https://scikit-learn.org/stable/modules/generated/sklearn.model_selection.TimeSeriesSplit.html\n",
    "  - Provides train/test indices to split time series data samples that are observed at fixed time intervals, in train/test sets. \n",
    "- https://scikit-learn.org/stable/modules/generated/sklearn.metrics.make_scorer.html\n",
    "  - Make a scorer from a performance metric or loss function."
   ]
  },
  {
   "cell_type": "code",
   "execution_count": 28,
   "id": "cc11b9fa-46fa-4fe8-8ee7-164b55fba38d",
   "metadata": {
    "tags": []
   },
   "outputs": [],
   "source": [
    "from sklearn.model_selection import GridSearchCV, TimeSeriesSplit\n",
    "from sklearn.metrics import make_scorer"
   ]
  },
  {
   "cell_type": "code",
   "execution_count": 29,
   "id": "69147296-9cf3-4f2d-9d1d-3beb9af580dc",
   "metadata": {},
   "outputs": [
    {
     "name": "stdout",
     "output_type": "stream",
     "text": [
      "{'name': 'backtest', 'params': {'n_test_split': 2}}\n"
     ]
    }
   ],
   "source": [
    "pprint(chap9[\"list3\"])"
   ]
  },
  {
   "cell_type": "code",
   "execution_count": 117,
   "id": "8128353d-14bd-4211-b98b-50d8c2df1883",
   "metadata": {
    "tags": []
   },
   "outputs": [],
   "source": [
    "def backtest(data: pd.DataFrame, n_test_split: int) -> pd.DataFrame:\n",
    "\n",
    "    X, y = prepare_data(data, as_retention=False)\n",
    "\n",
    "    tscv = TimeSeriesSplit(n_splits=n_test_split)\n",
    "\n",
    "    lift_scorer = make_scorer(calculat_top_decile_lift, needs_proba=True)\n",
    "    score_models = {'lift': lift_scorer, 'AUC': 'roc_auc'}\n",
    "\n",
    "    # Perform grid search\n",
    "    retain_reg = LogisticRegression(penalty='l1', solver='liblinear', fit_intercept=True)\n",
    "    gsearch = GridSearchCV(\n",
    "        estimator=retain_reg, \n",
    "        param_grid={'C': [1]}, \n",
    "        scoring=score_models, \n",
    "        cv=tscv, \n",
    "        verbose=1, \n",
    "        return_train_score=False,  \n",
    "        refit='AUC'\n",
    "    )\n",
    "    gsearch.fit(X,y)\n",
    "    \n",
    "    result_df = pd.DataFrame(gsearch.cv_results_)\n",
    "\n",
    "    # save_path = data_set_path.replace('.csv', '_backtest.csv')\n",
    "    # result_df.to_csv(save_path, index=False)\n",
    "    # print('Saved test scores to ' + save_path)\n",
    "    return result_df"
   ]
  },
  {
   "cell_type": "code",
   "execution_count": 31,
   "id": "008c692f-ea66-4c76-91d7-6222ec64ef3b",
   "metadata": {},
   "outputs": [
    {
     "name": "stdout",
     "output_type": "stream",
     "text": [
      "Fitting 2 folds for each of 1 candidates, totalling 2 fits\n",
      "CPU times: user 648 ms, sys: 1.18 s, total: 1.83 s\n",
      "Wall time: 495 ms\n"
     ]
    }
   ],
   "source": [
    "%%time\n",
    "result =  backtest(train_data, chap9[\"list3\"][\"params\"][\"n_test_split\"])"
   ]
  },
  {
   "cell_type": "code",
   "execution_count": 34,
   "id": "8f83eccd-0de1-46f2-bc92-530af43f7095",
   "metadata": {},
   "outputs": [
    {
     "data": {
      "text/html": [
       "<div>\n",
       "<style scoped>\n",
       "    .dataframe tbody tr th:only-of-type {\n",
       "        vertical-align: middle;\n",
       "    }\n",
       "\n",
       "    .dataframe tbody tr th {\n",
       "        vertical-align: top;\n",
       "    }\n",
       "\n",
       "    .dataframe thead th {\n",
       "        text-align: right;\n",
       "    }\n",
       "</style>\n",
       "<table border=\"1\" class=\"dataframe\">\n",
       "  <thead>\n",
       "    <tr style=\"text-align: right;\">\n",
       "      <th></th>\n",
       "      <th>mean_fit_time</th>\n",
       "      <th>std_fit_time</th>\n",
       "      <th>mean_score_time</th>\n",
       "      <th>std_score_time</th>\n",
       "      <th>param_C</th>\n",
       "      <th>params</th>\n",
       "      <th>split0_test_lift</th>\n",
       "      <th>split1_test_lift</th>\n",
       "      <th>mean_test_lift</th>\n",
       "      <th>std_test_lift</th>\n",
       "      <th>rank_test_lift</th>\n",
       "      <th>split0_test_AUC</th>\n",
       "      <th>split1_test_AUC</th>\n",
       "      <th>mean_test_AUC</th>\n",
       "      <th>std_test_AUC</th>\n",
       "      <th>rank_test_AUC</th>\n",
       "    </tr>\n",
       "  </thead>\n",
       "  <tbody>\n",
       "    <tr>\n",
       "      <th>0</th>\n",
       "      <td>0.153767</td>\n",
       "      <td>0.085924</td>\n",
       "      <td>0.018172</td>\n",
       "      <td>0.000957</td>\n",
       "      <td>1</td>\n",
       "      <td>{'C': 1}</td>\n",
       "      <td>4.175589</td>\n",
       "      <td>4.090909</td>\n",
       "      <td>4.133249</td>\n",
       "      <td>0.04234</td>\n",
       "      <td>1</td>\n",
       "      <td>0.765167</td>\n",
       "      <td>0.771695</td>\n",
       "      <td>0.768431</td>\n",
       "      <td>0.003264</td>\n",
       "      <td>1</td>\n",
       "    </tr>\n",
       "  </tbody>\n",
       "</table>\n",
       "</div>"
      ],
      "text/plain": [
       "   mean_fit_time  std_fit_time  mean_score_time  std_score_time param_C  \\\n",
       "0       0.153767      0.085924         0.018172        0.000957       1   \n",
       "\n",
       "     params  split0_test_lift  split1_test_lift  mean_test_lift  \\\n",
       "0  {'C': 1}          4.175589          4.090909        4.133249   \n",
       "\n",
       "   std_test_lift  rank_test_lift  split0_test_AUC  split1_test_AUC  \\\n",
       "0        0.04234               1         0.765167         0.771695   \n",
       "\n",
       "   mean_test_AUC  std_test_AUC  rank_test_AUC  \n",
       "0       0.768431      0.003264              1  "
      ]
     },
     "execution_count": 34,
     "metadata": {},
     "output_type": "execute_result"
    }
   ],
   "source": [
    "result"
   ]
  },
  {
   "cell_type": "code",
   "execution_count": 38,
   "id": "3d80c2b5-1671-456f-bc69-478504ed3872",
   "metadata": {},
   "outputs": [
    {
     "data": {
      "text/plain": [
       "TimeSeriesSplit(gap=0, max_train_size=None, n_splits=2, test_size=None)"
      ]
     },
     "execution_count": 38,
     "metadata": {},
     "output_type": "execute_result"
    }
   ],
   "source": [
    "X, y = prepare_data(train_data, as_retention=False)\n",
    "\n",
    "# time series cross validator\n",
    "tscv = TimeSeriesSplit(n_splits=2, test_size=None)\n",
    "tscv"
   ]
  },
  {
   "cell_type": "code",
   "execution_count": 40,
   "id": "5c91c6ba-8f94-4d62-9d4c-bd40b0fb1b57",
   "metadata": {},
   "outputs": [
    {
     "data": {
      "text/plain": [
       "(24450, 13)"
      ]
     },
     "execution_count": 40,
     "metadata": {},
     "output_type": "execute_result"
    }
   ],
   "source": [
    "X.shape"
   ]
  },
  {
   "cell_type": "code",
   "execution_count": 50,
   "id": "2d61b998-2cb7-4e44-8184-6a5c7d0ab414",
   "metadata": {},
   "outputs": [
    {
     "name": "stdout",
     "output_type": "stream",
     "text": [
      "Fold 0:\n",
      "  Train: index=[   0    1    2 ... 8147 8148 8149]\n",
      "  Test:  index=[ 8150  8151  8152 ... 16297 16298 16299]\n",
      "Fold 1:\n",
      "  Train: index=[    0     1     2 ... 16297 16298 16299]\n",
      "  Test:  index=[16300 16301 16302 ... 24447 24448 24449]\n"
     ]
    }
   ],
   "source": [
    "for i, (train_index, test_index) in enumerate(tscv.split(X, y)):\n",
    "    print(f\"Fold {i}:\")\n",
    "    print(f\"  Train: index={train_index}\")\n",
    "    print(f\"  Test:  index={test_index}\")\n",
    "# so first fold is using 0 to 8149 as train and 8150 to 16299 as test\n",
    "# second fold is using 0 to 16299 as train, and rest as test"
   ]
  },
  {
   "cell_type": "code",
   "execution_count": 51,
   "id": "2134fd2d-3b01-4ea5-8ce3-bbc9370be421",
   "metadata": {},
   "outputs": [
    {
     "data": {
      "text/plain": [
       "make_scorer(calculat_top_decile_lift, needs_proba=True)"
      ]
     },
     "execution_count": 51,
     "metadata": {},
     "output_type": "execute_result"
    }
   ],
   "source": [
    "# wraps scoring functions for use in GridSearchCV and cross_val_score\n",
    "lift_scorer = make_scorer(calculat_top_decile_lift, needs_proba=True)\n",
    "lift_scorer"
   ]
  },
  {
   "cell_type": "code",
   "execution_count": 52,
   "id": "a5e7f66d-f9fd-4179-8dad-dd360f780f33",
   "metadata": {},
   "outputs": [
    {
     "name": "stdout",
     "output_type": "stream",
     "text": [
      "Fitting 2 folds for each of 1 candidates, totalling 2 fits\n"
     ]
    },
    {
     "data": {
      "text/plain": [
       "GridSearchCV(cv=TimeSeriesSplit(gap=0, max_train_size=None, n_splits=2, test_size=None),\n",
       "             estimator=LogisticRegression(penalty='l1', solver='liblinear'),\n",
       "             param_grid={'C': [1]}, refit='AUC',\n",
       "             scoring={'AUC': 'roc_auc',\n",
       "                      'lift': make_scorer(calculat_top_decile_lift, needs_proba=True)},\n",
       "             verbose=1)"
      ]
     },
     "execution_count": 52,
     "metadata": {},
     "output_type": "execute_result"
    }
   ],
   "source": [
    "score_models = {'lift': lift_scorer, 'AUC': 'roc_auc'}\n",
    "\n",
    "# Perform grid search\n",
    "retain_reg = LogisticRegression(penalty='l1', solver='liblinear', fit_intercept=True)\n",
    "gsearch = GridSearchCV(\n",
    "    estimator=retain_reg,\n",
    "    param_grid={'C': [1]}, \n",
    "    scoring=score_models, # score with both lift and AUC \n",
    "    cv=tscv,  # timeseries cross validator, i.e .backtesting\n",
    "    verbose=1, \n",
    "    return_train_score=False,\n",
    "    refit='AUC' # refit a final model on all the data\n",
    ")\n",
    "gsearch.fit(X, y)"
   ]
  },
  {
   "cell_type": "code",
   "execution_count": 53,
   "id": "02e01515-1ba2-47cb-9da5-afcd671cb5ae",
   "metadata": {},
   "outputs": [
    {
     "data": {
      "text/html": [
       "<div>\n",
       "<style scoped>\n",
       "    .dataframe tbody tr th:only-of-type {\n",
       "        vertical-align: middle;\n",
       "    }\n",
       "\n",
       "    .dataframe tbody tr th {\n",
       "        vertical-align: top;\n",
       "    }\n",
       "\n",
       "    .dataframe thead th {\n",
       "        text-align: right;\n",
       "    }\n",
       "</style>\n",
       "<table border=\"1\" class=\"dataframe\">\n",
       "  <thead>\n",
       "    <tr style=\"text-align: right;\">\n",
       "      <th></th>\n",
       "      <th>mean_fit_time</th>\n",
       "      <th>std_fit_time</th>\n",
       "      <th>mean_score_time</th>\n",
       "      <th>std_score_time</th>\n",
       "      <th>param_C</th>\n",
       "      <th>params</th>\n",
       "      <th>split0_test_lift</th>\n",
       "      <th>split1_test_lift</th>\n",
       "      <th>mean_test_lift</th>\n",
       "      <th>std_test_lift</th>\n",
       "      <th>rank_test_lift</th>\n",
       "      <th>split0_test_AUC</th>\n",
       "      <th>split1_test_AUC</th>\n",
       "      <th>mean_test_AUC</th>\n",
       "      <th>std_test_AUC</th>\n",
       "      <th>rank_test_AUC</th>\n",
       "    </tr>\n",
       "  </thead>\n",
       "  <tbody>\n",
       "    <tr>\n",
       "      <th>0</th>\n",
       "      <td>0.526288</td>\n",
       "      <td>0.047747</td>\n",
       "      <td>0.026082</td>\n",
       "      <td>0.000309</td>\n",
       "      <td>1</td>\n",
       "      <td>{'C': 1}</td>\n",
       "      <td>4.175589</td>\n",
       "      <td>4.090909</td>\n",
       "      <td>4.133249</td>\n",
       "      <td>0.04234</td>\n",
       "      <td>1</td>\n",
       "      <td>0.765174</td>\n",
       "      <td>0.771699</td>\n",
       "      <td>0.768436</td>\n",
       "      <td>0.003263</td>\n",
       "      <td>1</td>\n",
       "    </tr>\n",
       "  </tbody>\n",
       "</table>\n",
       "</div>"
      ],
      "text/plain": [
       "   mean_fit_time  std_fit_time  mean_score_time  std_score_time param_C  \\\n",
       "0       0.526288      0.047747         0.026082        0.000309       1   \n",
       "\n",
       "     params  split0_test_lift  split1_test_lift  mean_test_lift  \\\n",
       "0  {'C': 1}          4.175589          4.090909        4.133249   \n",
       "\n",
       "   std_test_lift  rank_test_lift  split0_test_AUC  split1_test_AUC  \\\n",
       "0        0.04234               1         0.765174         0.771699   \n",
       "\n",
       "   mean_test_AUC  std_test_AUC  rank_test_AUC  \n",
       "0       0.768436      0.003263              1  "
      ]
     },
     "execution_count": 53,
     "metadata": {},
     "output_type": "execute_result"
    }
   ],
   "source": [
    "pd.DataFrame(gsearch.cv_results_)"
   ]
  },
  {
   "cell_type": "code",
   "execution_count": null,
   "id": "1112bb64-6868-4190-b6b8-d98425bf62ed",
   "metadata": {},
   "outputs": [],
   "source": []
  },
  {
   "cell_type": "code",
   "execution_count": null,
   "id": "149d0072-e810-4fb3-915a-78def38be33e",
   "metadata": {},
   "outputs": [],
   "source": []
  },
  {
   "cell_type": "markdown",
   "id": "3e5f1f0b-060d-4f26-a925-56df2f44f4da",
   "metadata": {},
   "source": [
    "### Listing 9.4 Cost parameter"
   ]
  },
  {
   "cell_type": "code",
   "execution_count": 55,
   "id": "dbe11b73-fb77-4d9d-97e3-b46c37825ae2",
   "metadata": {},
   "outputs": [
    {
     "name": "stdout",
     "output_type": "stream",
     "text": [
      "{'name': 'regression_cparam',\n",
      " 'params': {'C_param': 0.02},\n",
      " 'v1': {},\n",
      " 'v2': {'C_param': 0.01},\n",
      " 'v3': {'C_param': 0.005},\n",
      " 'v4': {'C_param': 0.32,\n",
      "        'data_set_path': 'socialnet7/socialnet7_dataset3_dummies.csv'},\n",
      " 'v5': {'C_param': 0.04, 'data_set_path': 'socialnet7/socialnet7_dataset3.csv'},\n",
      " 'v6': {'C_param': 0.04}}\n"
     ]
    }
   ],
   "source": [
    "pprint(chap9[\"list4\"])"
   ]
  },
  {
   "cell_type": "code",
   "execution_count": 61,
   "id": "4eb62ded-4dfb-4e20-9418-2f6744147b25",
   "metadata": {
    "tags": []
   },
   "outputs": [],
   "source": [
    "def logistic_regression_params(grouped_data, cluster_groups, C_param, as_retention=True):\n",
    "    \n",
    "    # get X and y as training data\n",
    "    # default to convert to is_retained\n",
    "    X, y = prepare_data(grouped_data, as_retention=as_retention)\n",
    "    \n",
    "    # fit model with training data\n",
    "    model = LogisticRegression(C=C_param, penalty='l1', solver='liblinear', fit_intercept=True)\n",
    "    model.fit(X, y)\n",
    "    \n",
    "    # export summary\n",
    "    summary = save_regression_summary(model, cluster_groups)\n",
    "    # export predictions\n",
    "    preds = save_dataset_predictions(model, X)\n",
    "    \n",
    "    return (X, y), model, summary, preds"
   ]
  },
  {
   "cell_type": "code",
   "execution_count": 102,
   "id": "bd09f018-68c6-47b5-b920-82b257858011",
   "metadata": {},
   "outputs": [
    {
     "data": {
      "text/plain": [
       "[0.005, 0.01, 0.02, 0.04, 0.04, 0.32]"
      ]
     },
     "execution_count": 102,
     "metadata": {},
     "output_type": "execute_result"
    }
   ],
   "source": [
    "params = [\n",
    "    chap9[\"list4\"][\"params\"][\"C_param\"], \n",
    "    *[chap9[\"list4\"][f\"v{i}\"][\"C_param\"] for i in range(2, 7)]\n",
    "]\n",
    "sorted(params)"
   ]
  },
  {
   "cell_type": "code",
   "execution_count": 103,
   "id": "6b30c21a-ae34-4835-9206-1dff257e2b1d",
   "metadata": {},
   "outputs": [
    {
     "data": {
      "text/plain": [
       "dict_keys(['C=0.005', 'C=0.01', 'C=0.02', 'C=0.04', 'C=0.32'])"
      ]
     },
     "execution_count": 103,
     "metadata": {},
     "output_type": "execute_result"
    }
   ],
   "source": [
    "summaries = {}\n",
    "for param in sorted(params): \n",
    "    _, model, summary, preds = logistic_regression_params(train_data, metric_groups, param)\n",
    "    summaries[f\"C={param}\"] = summary[[\"group_metric_or_offset\", \"weight\"]].rename(columns={\"weight\": f\"weight-C={param}\"})\n",
    "    \n",
    "summaries.keys()"
   ]
  },
  {
   "cell_type": "code",
   "execution_count": 114,
   "id": "9406d6f3-01a1-42b0-8e1d-60545d3c4fe1",
   "metadata": {},
   "outputs": [
    {
     "data": {
      "text/html": [
       "<div>\n",
       "<style scoped>\n",
       "    .dataframe tbody tr th:only-of-type {\n",
       "        vertical-align: middle;\n",
       "    }\n",
       "\n",
       "    .dataframe tbody tr th {\n",
       "        vertical-align: top;\n",
       "    }\n",
       "\n",
       "    .dataframe thead th {\n",
       "        text-align: right;\n",
       "    }\n",
       "</style>\n",
       "<table border=\"1\" class=\"dataframe\">\n",
       "  <thead>\n",
       "    <tr style=\"text-align: right;\">\n",
       "      <th></th>\n",
       "      <th>group_metric_or_offset</th>\n",
       "      <th>weight-C=0.005</th>\n",
       "      <th>weight-C=0.01</th>\n",
       "      <th>weight-C=0.02</th>\n",
       "      <th>weight-C=0.04</th>\n",
       "      <th>weight-C=0.32</th>\n",
       "    </tr>\n",
       "  </thead>\n",
       "  <tbody>\n",
       "    <tr>\n",
       "      <th>0</th>\n",
       "      <td>0</td>\n",
       "      <td>0.255575</td>\n",
       "      <td>0.303578</td>\n",
       "      <td>0.319166</td>\n",
       "      <td>0.325950</td>\n",
       "      <td>0.330850</td>\n",
       "    </tr>\n",
       "    <tr>\n",
       "      <th>1</th>\n",
       "      <td>1</td>\n",
       "      <td>0.392962</td>\n",
       "      <td>0.509696</td>\n",
       "      <td>0.582689</td>\n",
       "      <td>0.625659</td>\n",
       "      <td>0.670454</td>\n",
       "    </tr>\n",
       "    <tr>\n",
       "      <th>2</th>\n",
       "      <td>2</td>\n",
       "      <td>0.000000</td>\n",
       "      <td>0.047079</td>\n",
       "      <td>0.081403</td>\n",
       "      <td>0.100195</td>\n",
       "      <td>0.117475</td>\n",
       "    </tr>\n",
       "    <tr>\n",
       "      <th>3</th>\n",
       "      <td>3</td>\n",
       "      <td>-0.252136</td>\n",
       "      <td>-0.280579</td>\n",
       "      <td>-0.292228</td>\n",
       "      <td>-0.297666</td>\n",
       "      <td>-0.302395</td>\n",
       "    </tr>\n",
       "    <tr>\n",
       "      <th>4</th>\n",
       "      <td>4</td>\n",
       "      <td>0.013014</td>\n",
       "      <td>0.088569</td>\n",
       "      <td>0.138635</td>\n",
       "      <td>0.168415</td>\n",
       "      <td>0.197993</td>\n",
       "    </tr>\n",
       "    <tr>\n",
       "      <th>5</th>\n",
       "      <td>5</td>\n",
       "      <td>0.000000</td>\n",
       "      <td>-0.041429</td>\n",
       "      <td>-0.082102</td>\n",
       "      <td>-0.103406</td>\n",
       "      <td>-0.122847</td>\n",
       "    </tr>\n",
       "    <tr>\n",
       "      <th>6</th>\n",
       "      <td>6</td>\n",
       "      <td>0.000000</td>\n",
       "      <td>0.000000</td>\n",
       "      <td>0.000000</td>\n",
       "      <td>0.000000</td>\n",
       "      <td>0.000000</td>\n",
       "    </tr>\n",
       "    <tr>\n",
       "      <th>7</th>\n",
       "      <td>7</td>\n",
       "      <td>0.000000</td>\n",
       "      <td>0.047469</td>\n",
       "      <td>0.122899</td>\n",
       "      <td>0.172640</td>\n",
       "      <td>0.224804</td>\n",
       "    </tr>\n",
       "    <tr>\n",
       "      <th>8</th>\n",
       "      <td>8</td>\n",
       "      <td>-0.178617</td>\n",
       "      <td>-0.289205</td>\n",
       "      <td>-0.372924</td>\n",
       "      <td>-0.418063</td>\n",
       "      <td>-0.459983</td>\n",
       "    </tr>\n",
       "    <tr>\n",
       "      <th>9</th>\n",
       "      <td>9</td>\n",
       "      <td>0.000000</td>\n",
       "      <td>0.054827</td>\n",
       "      <td>0.131641</td>\n",
       "      <td>0.173335</td>\n",
       "      <td>0.212000</td>\n",
       "    </tr>\n",
       "    <tr>\n",
       "      <th>10</th>\n",
       "      <td>10</td>\n",
       "      <td>0.000000</td>\n",
       "      <td>0.000000</td>\n",
       "      <td>0.000000</td>\n",
       "      <td>0.000000</td>\n",
       "      <td>0.000000</td>\n",
       "    </tr>\n",
       "    <tr>\n",
       "      <th>11</th>\n",
       "      <td>11</td>\n",
       "      <td>-0.119299</td>\n",
       "      <td>-0.153033</td>\n",
       "      <td>-0.155861</td>\n",
       "      <td>-0.157803</td>\n",
       "      <td>-0.160185</td>\n",
       "    </tr>\n",
       "    <tr>\n",
       "      <th>12</th>\n",
       "      <td>12</td>\n",
       "      <td>0.000000</td>\n",
       "      <td>0.000000</td>\n",
       "      <td>0.000000</td>\n",
       "      <td>-0.005765</td>\n",
       "      <td>-0.024949</td>\n",
       "    </tr>\n",
       "    <tr>\n",
       "      <th>13</th>\n",
       "      <td>offset</td>\n",
       "      <td>2.872520</td>\n",
       "      <td>3.071560</td>\n",
       "      <td>3.211443</td>\n",
       "      <td>3.296752</td>\n",
       "      <td>3.383237</td>\n",
       "    </tr>\n",
       "  </tbody>\n",
       "</table>\n",
       "</div>"
      ],
      "text/plain": [
       "   group_metric_or_offset  weight-C=0.005  weight-C=0.01  weight-C=0.02  \\\n",
       "0                       0        0.255575       0.303578       0.319166   \n",
       "1                       1        0.392962       0.509696       0.582689   \n",
       "2                       2        0.000000       0.047079       0.081403   \n",
       "3                       3       -0.252136      -0.280579      -0.292228   \n",
       "4                       4        0.013014       0.088569       0.138635   \n",
       "5                       5        0.000000      -0.041429      -0.082102   \n",
       "6                       6        0.000000       0.000000       0.000000   \n",
       "7                       7        0.000000       0.047469       0.122899   \n",
       "8                       8       -0.178617      -0.289205      -0.372924   \n",
       "9                       9        0.000000       0.054827       0.131641   \n",
       "10                     10        0.000000       0.000000       0.000000   \n",
       "11                     11       -0.119299      -0.153033      -0.155861   \n",
       "12                     12        0.000000       0.000000       0.000000   \n",
       "13                 offset        2.872520       3.071560       3.211443   \n",
       "\n",
       "    weight-C=0.04  weight-C=0.32  \n",
       "0        0.325950       0.330850  \n",
       "1        0.625659       0.670454  \n",
       "2        0.100195       0.117475  \n",
       "3       -0.297666      -0.302395  \n",
       "4        0.168415       0.197993  \n",
       "5       -0.103406      -0.122847  \n",
       "6        0.000000       0.000000  \n",
       "7        0.172640       0.224804  \n",
       "8       -0.418063      -0.459983  \n",
       "9        0.173335       0.212000  \n",
       "10       0.000000       0.000000  \n",
       "11      -0.157803      -0.160185  \n",
       "12      -0.005765      -0.024949  \n",
       "13       3.296752       3.383237  "
      ]
     },
     "execution_count": 114,
     "metadata": {},
     "output_type": "execute_result"
    }
   ],
   "source": [
    "result = (\n",
    "    pd.concat(summaries.values(), axis=1).loc[:, lambda d: ~d.columns.duplicated()]\n",
    "    # .style.format(precision=0)\n",
    ")\n",
    "# result.loc[:, ~result.columns.duplicated()]\n",
    "# TODO: use .style.format to set 0 value as red\n",
    "result"
   ]
  },
  {
   "cell_type": "code",
   "execution_count": null,
   "id": "df954dfb-8f12-43b8-9efb-4a12c35d57f6",
   "metadata": {},
   "outputs": [],
   "source": []
  },
  {
   "cell_type": "markdown",
   "id": "a65005a8-df0b-44bd-a256-2f2a4186719e",
   "metadata": {},
   "source": [
    "### Listing 9.5 Cross Validation"
   ]
  },
  {
   "cell_type": "code",
   "execution_count": 115,
   "id": "e5808a06-e841-425f-b06b-8ce79890c752",
   "metadata": {},
   "outputs": [],
   "source": [
    "from sklearn.model_selection import GridSearchCV, TimeSeriesSplit\n",
    "from sklearn.metrics import make_scorer\n",
    "from sklearn.linear_model import LogisticRegression\n",
    "\n",
    "# from fightchurn.listings.chap8.listing_8_2_logistic_regression import prepare_data\n",
    "# from fightchurn.listings.chap9.listing_9_2_top_decile_lift import calc_lift"
   ]
  },
  {
   "cell_type": "code",
   "execution_count": 116,
   "id": "f038801f-14aa-4e3f-b4e1-7ec44eadad3b",
   "metadata": {},
   "outputs": [
    {
     "name": "stdout",
     "output_type": "stream",
     "text": [
      "{'name': 'crossvalidate',\n",
      " 'params': {'n_test_split': 2},\n",
      " 'v1': {'data_set_path': 'socialnet7/socialnet7_dataset.csv'},\n",
      " 'v2': {'data_set_path': 'socialnet7/socialnet7_dataset3_dummies.csv'},\n",
      " 'v3': {'data_set_path': 'socialnet7/socialnet7_dataset3.csv'}}\n"
     ]
    }
   ],
   "source": [
    "pprint(chap9[\"list5\"])"
   ]
  },
  {
   "cell_type": "code",
   "execution_count": 130,
   "id": "0f2fe7ef-312e-4f61-b3b7-e5638a81fad2",
   "metadata": {},
   "outputs": [],
   "source": [
    "def test_n_weights(X: pd.DataFrame, y: pd.Series, c_params: List[float]):\n",
    "    \"\"\"For each C param, run test to get number of non-zero coefficients \"\"\"\n",
    "    \n",
    "    n_weights = []\n",
    "    for c in c_params:\n",
    "        lr = LogisticRegression(penalty='l1',C=c, solver='liblinear', fit_intercept=True)\n",
    "        res = lr.fit(X, ~y) # inverse of \"is_churn\" y\n",
    "        \n",
    "        n_weights.append(res.coef_[0].astype(bool).sum(axis=0))\n",
    "\n",
    "    return n_weights"
   ]
  },
  {
   "cell_type": "code",
   "execution_count": 131,
   "id": "e130ba27-8cbd-4c1a-ae2d-3f6003f6aa7e",
   "metadata": {},
   "outputs": [],
   "source": [
    "def cross_validate(data: pd.DataFrame, n_test_split: int) -> pd.DataFrame:\n",
    "\n",
    "    X, y = prepare_data(data, as_retention=False)\n",
    "\n",
    "    tscv = TimeSeriesSplit(n_splits=n_test_split)\n",
    "\n",
    "    lift_scorer = make_scorer(calculat_top_decile_lift, needs_proba=True)\n",
    "    score_models = {'lift': lift_scorer, 'AUC': 'roc_auc'}\n",
    "    test_params = {'C' : [0.64, 0.32, 0.16, 0.08, 0.04, 0.02, 0.01, 0.005, 0.0025]}\n",
    "\n",
    "    # Perform grid search\n",
    "    retain_reg = LogisticRegression(penalty='l1', solver='liblinear', fit_intercept=True)\n",
    "    gsearch = GridSearchCV(\n",
    "        estimator=retain_reg, \n",
    "        param_grid=test_params, \n",
    "        scoring=score_models, \n",
    "        cv=tscv, \n",
    "        verbose=1, \n",
    "        return_train_score=False,  \n",
    "        refit=False,\n",
    "    )\n",
    "    gsearch.fit(X,y)\n",
    "    \n",
    "    result_df = pd.DataFrame(gsearch.cv_results_)\n",
    "    \n",
    "    # Test on number of weights with non-zero coefficients\n",
    "    result_df['n_weights'] = test_n_weights(X, y, test_params[\"C\"])\n",
    "    \n",
    "    return result_df"
   ]
  },
  {
   "cell_type": "code",
   "execution_count": 133,
   "id": "90c3cd7d-81fe-4e59-bdd5-202df845981a",
   "metadata": {},
   "outputs": [
    {
     "name": "stdout",
     "output_type": "stream",
     "text": [
      "Fitting 2 folds for each of 9 candidates, totalling 18 fits\n",
      "CPU times: user 5.26 s, sys: 9.09 s, total: 14.4 s\n",
      "Wall time: 3.49 s\n"
     ]
    }
   ],
   "source": [
    "%%time\n",
    "result = cross_validate(train_data, chap9[\"list5\"][\"params\"][\"n_test_split\"])"
   ]
  },
  {
   "cell_type": "code",
   "execution_count": 170,
   "id": "75f3151a-e38a-4196-b047-88088ef9fc29",
   "metadata": {},
   "outputs": [
    {
     "data": {
      "image/png": "[encoded data removed]",
      "text/plain": [
       "<Figure size 800x800 with 3 Axes>"
      ]
     },
     "metadata": {},
     "output_type": "display_data"
    }
   ],
   "source": [
    "fig, (ax1, ax2, ax3) = plt.subplots(3, 1, sharex=True, figsize=(8, 8))\n",
    "\n",
    "ax1.plot(result[\"mean_test_AUC\"], label=\"mean_test_AUC\", marker=\"o\")\n",
    "ax1.set_title(\"Cross Validation\")\n",
    "ax1.grid(); ax1.legend()\n",
    "\n",
    "ax2.plot(result[\"mean_test_lift\"], label=\"mean_test_lift\", marker=\"o\")\n",
    "ax2.grid(); ax2.legend()\n",
    "\n",
    "ax3.plot(result[\"n_weights\"], label=\"n_weights\", marker=\"o\")\n",
    "ax3.grid(); ax3.legend()\n",
    "ax3.set_xlabel(\"Logistict Regression C Params\")\n",
    "\n",
    "fig.show()"
   ]
  },
  {
   "cell_type": "markdown",
   "id": "98c9dc1c-7e80-425d-a306-86b664b2a128",
   "metadata": {},
   "source": [
    "Notes\n",
    "\n",
    "- With this implementation, best is at 6 C params, when no huge impact on AUC and Lift is observed with further reduction"
   ]
  },
  {
   "cell_type": "code",
   "execution_count": null,
   "id": "ebedfa57-3207-4b0c-8add-fc7c1f89240f",
   "metadata": {},
   "outputs": [],
   "source": []
  },
  {
   "cell_type": "code",
   "execution_count": null,
   "id": "ced73ce4-4ae7-445e-9a72-ce701368721f",
   "metadata": {},
   "outputs": [],
   "source": []
  }
 ],
 "metadata": {
  "kernelspec": {
   "display_name": "Python 3 (ipykernel)",
   "language": "python",
   "name": "python3"
  },
  "language_info": {
   "codemirror_mode": {
    "name": "ipython",
    "version": 3
   },
   "file_extension": ".py",
   "mimetype": "text/x-python",
   "name": "python",
   "nbconvert_exporter": "python",
   "pygments_lexer": "ipython3",
   "version": "3.8.16"
  }
 },
 "nbformat": 4,
 "nbformat_minor": 5
}
