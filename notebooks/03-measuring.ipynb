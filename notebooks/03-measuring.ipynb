{
 "cells": [
  {
   "cell_type": "markdown",
   "id": "ae513752-e614-4db3-8add-f743dc881826",
   "metadata": {},
   "source": [
    "# 03 Measuring Customers"
   ]
  },
  {
   "cell_type": "code",
   "execution_count": 1,
   "id": "cfcdf370-9ce3-4e1e-bb5f-f9d33114f649",
   "metadata": {},
   "outputs": [],
   "source": [
    "import json\n",
    "import sqlalchemy\n",
    "import pandas as pd\n",
    "\n",
    "from pprint import pprint"
   ]
  },
  {
   "cell_type": "code",
   "execution_count": 2,
   "id": "bc776646-caf3-4d2d-8eb0-86c9131fdd84",
   "metadata": {},
   "outputs": [
    {
     "data": {
      "text/html": [
       "<div>\n",
       "<style scoped>\n",
       "    .dataframe tbody tr th:only-of-type {\n",
       "        vertical-align: middle;\n",
       "    }\n",
       "\n",
       "    .dataframe tbody tr th {\n",
       "        vertical-align: top;\n",
       "    }\n",
       "\n",
       "    .dataframe thead th {\n",
       "        text-align: right;\n",
       "    }\n",
       "</style>\n",
       "<table border=\"1\" class=\"dataframe\">\n",
       "  <thead>\n",
       "    <tr style=\"text-align: right;\">\n",
       "      <th></th>\n",
       "      <th>table_catalog</th>\n",
       "      <th>table_schema</th>\n",
       "      <th>table_name</th>\n",
       "      <th>table_type</th>\n",
       "      <th>self_referencing_column_name</th>\n",
       "      <th>reference_generation</th>\n",
       "      <th>user_defined_type_catalog</th>\n",
       "      <th>user_defined_type_schema</th>\n",
       "      <th>user_defined_type_name</th>\n",
       "      <th>is_insertable_into</th>\n",
       "      <th>is_typed</th>\n",
       "      <th>commit_action</th>\n",
       "    </tr>\n",
       "  </thead>\n",
       "  <tbody>\n",
       "    <tr>\n",
       "      <th>0</th>\n",
       "      <td>churn</td>\n",
       "      <td>socialnet7</td>\n",
       "      <td>active_period</td>\n",
       "      <td>BASE TABLE</td>\n",
       "      <td>None</td>\n",
       "      <td>None</td>\n",
       "      <td>None</td>\n",
       "      <td>None</td>\n",
       "      <td>None</td>\n",
       "      <td>YES</td>\n",
       "      <td>NO</td>\n",
       "      <td>None</td>\n",
       "    </tr>\n",
       "    <tr>\n",
       "      <th>1</th>\n",
       "      <td>churn</td>\n",
       "      <td>socialnet7</td>\n",
       "      <td>event_type</td>\n",
       "      <td>BASE TABLE</td>\n",
       "      <td>None</td>\n",
       "      <td>None</td>\n",
       "      <td>None</td>\n",
       "      <td>None</td>\n",
       "      <td>None</td>\n",
       "      <td>YES</td>\n",
       "      <td>NO</td>\n",
       "      <td>None</td>\n",
       "    </tr>\n",
       "    <tr>\n",
       "      <th>2</th>\n",
       "      <td>churn</td>\n",
       "      <td>socialnet7</td>\n",
       "      <td>metric_name</td>\n",
       "      <td>BASE TABLE</td>\n",
       "      <td>None</td>\n",
       "      <td>None</td>\n",
       "      <td>None</td>\n",
       "      <td>None</td>\n",
       "      <td>None</td>\n",
       "      <td>YES</td>\n",
       "      <td>NO</td>\n",
       "      <td>None</td>\n",
       "    </tr>\n",
       "  </tbody>\n",
       "</table>\n",
       "</div>"
      ],
      "text/plain": [
       "  table_catalog table_schema     table_name  table_type  \\\n",
       "0         churn   socialnet7  active_period  BASE TABLE   \n",
       "1         churn   socialnet7     event_type  BASE TABLE   \n",
       "2         churn   socialnet7    metric_name  BASE TABLE   \n",
       "\n",
       "  self_referencing_column_name reference_generation user_defined_type_catalog  \\\n",
       "0                         None                 None                      None   \n",
       "1                         None                 None                      None   \n",
       "2                         None                 None                      None   \n",
       "\n",
       "  user_defined_type_schema user_defined_type_name is_insertable_into is_typed  \\\n",
       "0                     None                   None                YES       NO   \n",
       "1                     None                   None                YES       NO   \n",
       "2                     None                   None                YES       NO   \n",
       "\n",
       "  commit_action  \n",
       "0          None  \n",
       "1          None  \n",
       "2          None  "
      ]
     },
     "execution_count": 2,
     "metadata": {},
     "output_type": "execute_result"
    }
   ],
   "source": [
    "# Make a sql connection with sqlalchmey\n",
    "conn_string = \"postgresql://postgres-db/churn?user=postgres&password=password\" \n",
    "engine = sqlalchemy.create_engine(\n",
    "    conn_string, connect_args={'options': '-csearch_path={}'.format(\"socialnet7,public\")}\n",
    ")\n",
    "conn = engine.connect()\n",
    "\n",
    "# Query with Pandas, e.g. list all tables\n",
    "tables = pd.read_sql_query(\"SELECT * FROM information_schema.tables;\", conn)\n",
    "tables.head(3)"
   ]
  },
  {
   "cell_type": "code",
   "execution_count": 3,
   "id": "70b7a729-0bfc-4b7d-bec3-170642aac4b1",
   "metadata": {},
   "outputs": [],
   "source": [
    "with open(\"/app/fightchurn/listings/conf/socialnet7_listings.json\", \"r\") as f: \n",
    "    conf = json.loads(f.read())\n",
    "\n",
    "chap3 = conf[\"chap3\"]"
   ]
  },
  {
   "cell_type": "code",
   "execution_count": null,
   "id": "80ec8b9d-ac9c-47dd-8be3-2453c9625a3b",
   "metadata": {},
   "outputs": [],
   "source": []
  },
  {
   "cell_type": "markdown",
   "id": "5bee3540-c2ea-4954-a85f-feb2ca76b405",
   "metadata": {},
   "source": [
    "## Dependent Data"
   ]
  },
  {
   "cell_type": "code",
   "execution_count": 4,
   "id": "1a28f42d-f466-4002-9900-3d1014eded9e",
   "metadata": {},
   "outputs": [
    {
     "data": {
      "text/plain": [
       "(15000, 3)"
      ]
     },
     "metadata": {},
     "output_type": "display_data"
    },
    {
     "data": {
      "text/html": [
       "<div>\n",
       "<style scoped>\n",
       "    .dataframe tbody tr th:only-of-type {\n",
       "        vertical-align: middle;\n",
       "    }\n",
       "\n",
       "    .dataframe tbody tr th {\n",
       "        vertical-align: top;\n",
       "    }\n",
       "\n",
       "    .dataframe thead th {\n",
       "        text-align: right;\n",
       "    }\n",
       "</style>\n",
       "<table border=\"1\" class=\"dataframe\">\n",
       "  <thead>\n",
       "    <tr style=\"text-align: right;\">\n",
       "      <th></th>\n",
       "      <th>account_id</th>\n",
       "      <th>event_time</th>\n",
       "      <th>event_type_id</th>\n",
       "    </tr>\n",
       "  </thead>\n",
       "  <tbody>\n",
       "    <tr>\n",
       "      <th>0</th>\n",
       "      <td>32</td>\n",
       "      <td>2020-03-11 14:35:16</td>\n",
       "      <td>6</td>\n",
       "    </tr>\n",
       "    <tr>\n",
       "      <th>1</th>\n",
       "      <td>32</td>\n",
       "      <td>2020-03-11 19:15:36</td>\n",
       "      <td>6</td>\n",
       "    </tr>\n",
       "    <tr>\n",
       "      <th>2</th>\n",
       "      <td>32</td>\n",
       "      <td>2020-03-11 02:19:26</td>\n",
       "      <td>6</td>\n",
       "    </tr>\n",
       "    <tr>\n",
       "      <th>3</th>\n",
       "      <td>32</td>\n",
       "      <td>2020-03-11 18:07:15</td>\n",
       "      <td>6</td>\n",
       "    </tr>\n",
       "    <tr>\n",
       "      <th>4</th>\n",
       "      <td>32</td>\n",
       "      <td>2020-03-11 23:32:31</td>\n",
       "      <td>6</td>\n",
       "    </tr>\n",
       "  </tbody>\n",
       "</table>\n",
       "</div>"
      ],
      "text/plain": [
       "   account_id          event_time  event_type_id\n",
       "0          32 2020-03-11 14:35:16              6\n",
       "1          32 2020-03-11 19:15:36              6\n",
       "2          32 2020-03-11 02:19:26              6\n",
       "3          32 2020-03-11 18:07:15              6\n",
       "4          32 2020-03-11 23:32:31              6"
      ]
     },
     "execution_count": 4,
     "metadata": {},
     "output_type": "execute_result"
    }
   ],
   "source": [
    "event = pd.read_sql_query(\"SELECT * FROM event LIMIT 15000\", conn) \n",
    "display(event.shape)\n",
    "event.head()"
   ]
  },
  {
   "cell_type": "code",
   "execution_count": 5,
   "id": "95a9c238-58b7-4884-8e5f-a971d6161c78",
   "metadata": {},
   "outputs": [
    {
     "data": {
      "text/plain": [
       "6    8421\n",
       "7    1906\n",
       "2    1813\n",
       "0     986\n",
       "3     898\n",
       "4     699\n",
       "1     261\n",
       "5      16\n",
       "Name: event_type_id, dtype: int64"
      ]
     },
     "execution_count": 5,
     "metadata": {},
     "output_type": "execute_result"
    }
   ],
   "source": [
    "event.event_type_id.value_counts()"
   ]
  },
  {
   "cell_type": "code",
   "execution_count": 6,
   "id": "799993c7-a900-48ce-9ce7-20f1fde9e349",
   "metadata": {},
   "outputs": [
    {
     "data": {
      "text/plain": [
       "(8, 2)"
      ]
     },
     "metadata": {},
     "output_type": "display_data"
    },
    {
     "data": {
      "text/html": [
       "<div>\n",
       "<style scoped>\n",
       "    .dataframe tbody tr th:only-of-type {\n",
       "        vertical-align: middle;\n",
       "    }\n",
       "\n",
       "    .dataframe tbody tr th {\n",
       "        vertical-align: top;\n",
       "    }\n",
       "\n",
       "    .dataframe thead th {\n",
       "        text-align: right;\n",
       "    }\n",
       "</style>\n",
       "<table border=\"1\" class=\"dataframe\">\n",
       "  <thead>\n",
       "    <tr style=\"text-align: right;\">\n",
       "      <th></th>\n",
       "      <th>event_type_id</th>\n",
       "      <th>event_type_name</th>\n",
       "    </tr>\n",
       "  </thead>\n",
       "  <tbody>\n",
       "    <tr>\n",
       "      <th>0</th>\n",
       "      <td>0</td>\n",
       "      <td>post</td>\n",
       "    </tr>\n",
       "    <tr>\n",
       "      <th>1</th>\n",
       "      <td>1</td>\n",
       "      <td>newfriend</td>\n",
       "    </tr>\n",
       "    <tr>\n",
       "      <th>2</th>\n",
       "      <td>2</td>\n",
       "      <td>like</td>\n",
       "    </tr>\n",
       "    <tr>\n",
       "      <th>3</th>\n",
       "      <td>3</td>\n",
       "      <td>adview</td>\n",
       "    </tr>\n",
       "    <tr>\n",
       "      <th>4</th>\n",
       "      <td>4</td>\n",
       "      <td>dislike</td>\n",
       "    </tr>\n",
       "  </tbody>\n",
       "</table>\n",
       "</div>"
      ],
      "text/plain": [
       "   event_type_id event_type_name\n",
       "0              0            post\n",
       "1              1       newfriend\n",
       "2              2            like\n",
       "3              3          adview\n",
       "4              4         dislike"
      ]
     },
     "execution_count": 6,
     "metadata": {},
     "output_type": "execute_result"
    }
   ],
   "source": [
    "event_type = pd.read_sql_query(\"SELECT * FROM event_type\", conn) \n",
    "display(event_type.shape)\n",
    "event_type.head()"
   ]
  },
  {
   "cell_type": "markdown",
   "id": "bd581842-171b-4acc-832a-c76e0867bec9",
   "metadata": {},
   "source": [
    "### Result Data"
   ]
  },
  {
   "cell_type": "code",
   "execution_count": 29,
   "id": "c2a4c4dc-6286-4626-8672-e731b160f67f",
   "metadata": {},
   "outputs": [
    {
     "data": {
      "text/html": [
       "<div>\n",
       "<style scoped>\n",
       "    .dataframe tbody tr th:only-of-type {\n",
       "        vertical-align: middle;\n",
       "    }\n",
       "\n",
       "    .dataframe tbody tr th {\n",
       "        vertical-align: top;\n",
       "    }\n",
       "\n",
       "    .dataframe thead th {\n",
       "        text-align: right;\n",
       "    }\n",
       "</style>\n",
       "<table border=\"1\" class=\"dataframe\">\n",
       "  <thead>\n",
       "    <tr style=\"text-align: right;\">\n",
       "      <th></th>\n",
       "      <th>metric_name_id</th>\n",
       "      <th>count</th>\n",
       "    </tr>\n",
       "  </thead>\n",
       "  <tbody>\n",
       "    <tr>\n",
       "      <th>0</th>\n",
       "      <td>0</td>\n",
       "      <td>163450</td>\n",
       "    </tr>\n",
       "    <tr>\n",
       "      <th>1</th>\n",
       "      <td>1</td>\n",
       "      <td>144501</td>\n",
       "    </tr>\n",
       "    <tr>\n",
       "      <th>2</th>\n",
       "      <td>2</td>\n",
       "      <td>160936</td>\n",
       "    </tr>\n",
       "    <tr>\n",
       "      <th>3</th>\n",
       "      <td>3</td>\n",
       "      <td>160510</td>\n",
       "    </tr>\n",
       "    <tr>\n",
       "      <th>4</th>\n",
       "      <td>4</td>\n",
       "      <td>154133</td>\n",
       "    </tr>\n",
       "    <tr>\n",
       "      <th>5</th>\n",
       "      <td>5</td>\n",
       "      <td>39979</td>\n",
       "    </tr>\n",
       "    <tr>\n",
       "      <th>6</th>\n",
       "      <td>6</td>\n",
       "      <td>155804</td>\n",
       "    </tr>\n",
       "    <tr>\n",
       "      <th>7</th>\n",
       "      <td>7</td>\n",
       "      <td>124663</td>\n",
       "    </tr>\n",
       "  </tbody>\n",
       "</table>\n",
       "</div>"
      ],
      "text/plain": [
       "   metric_name_id   count\n",
       "0               0  163450\n",
       "1               1  144501\n",
       "2               2  160936\n",
       "3               3  160510\n",
       "4               4  154133\n",
       "5               5   39979\n",
       "6               6  155804\n",
       "7               7  124663"
      ]
     },
     "execution_count": 29,
     "metadata": {},
     "output_type": "execute_result"
    }
   ],
   "source": [
    "tmp = pd.read_sql_query(\"SELECT metric_name_id, COUNT(*) FROM metric GROUP BY metric_name_id\", conn) \n",
    "tmp"
   ]
  },
  {
   "cell_type": "code",
   "execution_count": 8,
   "id": "e7239351-feb8-4dae-81bb-d39199281ebc",
   "metadata": {},
   "outputs": [
    {
     "data": {
      "text/plain": [
       "(9, 2)"
      ]
     },
     "metadata": {},
     "output_type": "display_data"
    },
    {
     "data": {
      "text/html": [
       "<div>\n",
       "<style scoped>\n",
       "    .dataframe tbody tr th:only-of-type {\n",
       "        vertical-align: middle;\n",
       "    }\n",
       "\n",
       "    .dataframe tbody tr th {\n",
       "        vertical-align: top;\n",
       "    }\n",
       "\n",
       "    .dataframe thead th {\n",
       "        text-align: right;\n",
       "    }\n",
       "</style>\n",
       "<table border=\"1\" class=\"dataframe\">\n",
       "  <thead>\n",
       "    <tr style=\"text-align: right;\">\n",
       "      <th></th>\n",
       "      <th>metric_name_id</th>\n",
       "      <th>metric_name</th>\n",
       "    </tr>\n",
       "  </thead>\n",
       "  <tbody>\n",
       "    <tr>\n",
       "      <th>0</th>\n",
       "      <td>0</td>\n",
       "      <td>like_per_month</td>\n",
       "    </tr>\n",
       "    <tr>\n",
       "      <th>1</th>\n",
       "      <td>1</td>\n",
       "      <td>newfriend_per_month</td>\n",
       "    </tr>\n",
       "    <tr>\n",
       "      <th>2</th>\n",
       "      <td>2</td>\n",
       "      <td>post_per_month</td>\n",
       "    </tr>\n",
       "    <tr>\n",
       "      <th>3</th>\n",
       "      <td>3</td>\n",
       "      <td>adview_per_month</td>\n",
       "    </tr>\n",
       "    <tr>\n",
       "      <th>4</th>\n",
       "      <td>4</td>\n",
       "      <td>dislike_per_month</td>\n",
       "    </tr>\n",
       "  </tbody>\n",
       "</table>\n",
       "</div>"
      ],
      "text/plain": [
       "   metric_name_id          metric_name\n",
       "0               0       like_per_month\n",
       "1               1  newfriend_per_month\n",
       "2               2       post_per_month\n",
       "3               3     adview_per_month\n",
       "4               4    dislike_per_month"
      ]
     },
     "execution_count": 8,
     "metadata": {},
     "output_type": "execute_result"
    }
   ],
   "source": [
    "tmp = pd.read_sql_query(\"SELECT * FROM metric_name\", conn) \n",
    "display(tmp.shape)\n",
    "tmp.head()"
   ]
  },
  {
   "cell_type": "code",
   "execution_count": null,
   "id": "0db281b9-139b-41ad-a384-0b8fff8a8d81",
   "metadata": {},
   "outputs": [],
   "source": []
  },
  {
   "cell_type": "code",
   "execution_count": null,
   "id": "c3adfca4-c842-4b04-9507-536c9105de98",
   "metadata": {},
   "outputs": [],
   "source": []
  },
  {
   "cell_type": "markdown",
   "id": "45465f27-c1fc-4cc9-a503-3c0f9bd9febe",
   "metadata": {},
   "source": [
    "## Insert Queries"
   ]
  },
  {
   "cell_type": "code",
   "execution_count": 9,
   "id": "6efa9576-85d1-40c5-b8a4-87650d2c3348",
   "metadata": {},
   "outputs": [
    {
     "name": "stdout",
     "output_type": "stream",
     "text": [
      "{'%event2measure': 'like',\n",
      " '%field2sum': '0',\n",
      " '%from_yyyy-mm-dd': '2020-02-02',\n",
      " '%to_yyyy-mm-dd': '2020-05-10',\n",
      " 'mode': 'top',\n",
      " 'type': 'sql'}\n"
     ]
    }
   ],
   "source": [
    "pprint(chap3[\"defaults\"])"
   ]
  },
  {
   "cell_type": "markdown",
   "id": "9b74af74-af3c-4330-bea7-ef84f77a21ce",
   "metadata": {},
   "source": [
    "### Listing 3: metric table"
   ]
  },
  {
   "cell_type": "code",
   "execution_count": 10,
   "id": "02d343c9-fbc3-470e-a61d-1a7737cb5078",
   "metadata": {},
   "outputs": [
    {
     "name": "stdout",
     "output_type": "stream",
     "text": [
      "{'name': 'count_metric_insert',\n",
      " 'params': {'%new_metric_id': 0, 'mode': 'run'},\n",
      " 'v1': {'%event2measure': 'like'},\n",
      " 'v2': {'%event2measure': 'newfriend', '%new_metric_id': 1},\n",
      " 'v3': {'%event2measure': 'post', '%new_metric_id': 2},\n",
      " 'v4': {'%event2measure': 'adview', '%new_metric_id': 3},\n",
      " 'v5': {'%event2measure': 'dislike', '%new_metric_id': 4},\n",
      " 'v6': {'%event2measure': 'unfriend', '%new_metric_id': 5},\n",
      " 'v7': {'%event2measure': 'message', '%new_metric_id': 6},\n",
      " 'v8': {'%event2measure': 'reply', '%new_metric_id': 7}}\n"
     ]
    }
   ],
   "source": [
    "pprint(chap3[\"list3\"])"
   ]
  },
  {
   "cell_type": "code",
   "execution_count": 11,
   "id": "e30664ba-1816-4d29-ba7b-816f19e9001b",
   "metadata": {},
   "outputs": [
    {
     "data": {
      "text/plain": [
       "('2020-02-02', '2020-05-10', 0, 'like')"
      ]
     },
     "execution_count": 11,
     "metadata": {},
     "output_type": "execute_result"
    }
   ],
   "source": [
    "from_yyyy_mm_dd = chap3[\"defaults\"][\"%from_yyyy-mm-dd\"]\n",
    "to_yyyy_mm_dd = chap3[\"defaults\"][\"%to_yyyy-mm-dd\"]\n",
    "new_metric_id = chap3[\"list3\"][\"params\"][\"%new_metric_id\"]\n",
    "event2measure = chap3[\"list3\"][\"v1\"][\"%event2measure\"]\n",
    "\n",
    "from_yyyy_mm_dd, to_yyyy_mm_dd, new_metric_id, event2measure"
   ]
  },
  {
   "cell_type": "code",
   "execution_count": 12,
   "id": "72c6f6a8-04f3-4604-8d96-5e28e8799b98",
   "metadata": {},
   "outputs": [
    {
     "data": {
      "text/plain": [
       "[(0, 'like'),\n",
       " (1, 'newfriend'),\n",
       " (2, 'post'),\n",
       " (3, 'adview'),\n",
       " (4, 'dislike'),\n",
       " (5, 'unfriend'),\n",
       " (6, 'message'),\n",
       " (7, 'reply')]"
      ]
     },
     "execution_count": 12,
     "metadata": {},
     "output_type": "execute_result"
    }
   ],
   "source": [
    "metric_ids = [chap3[\"list3\"][\"params\"][\"%new_metric_id\"], *[chap3[\"list3\"][f\"v{i}\"][\"%new_metric_id\"] for i in range(2, 9)]]\n",
    "event_names = [chap3[\"list3\"][f\"v{i}\"][\"%event2measure\"] for i in range(1, 9)]\n",
    "\n",
    "(zipped := list(zip(metric_ids, event_names)))"
   ]
  },
  {
   "cell_type": "code",
   "execution_count": 13,
   "id": "6e4d6892-1b99-42b2-89cf-00f0cb2e6764",
   "metadata": {},
   "outputs": [
    {
     "name": "stdout",
     "output_type": "stream",
     "text": [
      "CPU times: user 805 ms, sys: 64.2 ms, total: 869 ms\n",
      "Wall time: 19 s\n"
     ]
    },
    {
     "data": {
      "text/html": [
       "<div>\n",
       "<style scoped>\n",
       "    .dataframe tbody tr th:only-of-type {\n",
       "        vertical-align: middle;\n",
       "    }\n",
       "\n",
       "    .dataframe tbody tr th {\n",
       "        vertical-align: top;\n",
       "    }\n",
       "\n",
       "    .dataframe thead th {\n",
       "        text-align: right;\n",
       "    }\n",
       "</style>\n",
       "<table border=\"1\" class=\"dataframe\">\n",
       "  <thead>\n",
       "    <tr style=\"text-align: right;\">\n",
       "      <th></th>\n",
       "      <th>account_id</th>\n",
       "      <th>metric_time</th>\n",
       "      <th>metric_name_id</th>\n",
       "      <th>metric_value</th>\n",
       "    </tr>\n",
       "  </thead>\n",
       "  <tbody>\n",
       "    <tr>\n",
       "      <th>0</th>\n",
       "      <td>1</td>\n",
       "      <td>2020-02-02</td>\n",
       "      <td>0</td>\n",
       "      <td>1</td>\n",
       "    </tr>\n",
       "    <tr>\n",
       "      <th>1</th>\n",
       "      <td>1</td>\n",
       "      <td>2020-02-09</td>\n",
       "      <td>0</td>\n",
       "      <td>1</td>\n",
       "    </tr>\n",
       "    <tr>\n",
       "      <th>2</th>\n",
       "      <td>1</td>\n",
       "      <td>2020-02-16</td>\n",
       "      <td>0</td>\n",
       "      <td>1</td>\n",
       "    </tr>\n",
       "    <tr>\n",
       "      <th>3</th>\n",
       "      <td>1</td>\n",
       "      <td>2020-02-23</td>\n",
       "      <td>0</td>\n",
       "      <td>2</td>\n",
       "    </tr>\n",
       "    <tr>\n",
       "      <th>4</th>\n",
       "      <td>1</td>\n",
       "      <td>2020-03-01</td>\n",
       "      <td>0</td>\n",
       "      <td>1</td>\n",
       "    </tr>\n",
       "  </tbody>\n",
       "</table>\n",
       "</div>"
      ],
      "text/plain": [
       "   account_id metric_time  metric_name_id  metric_value\n",
       "0           1  2020-02-02               0             1\n",
       "1           1  2020-02-09               0             1\n",
       "2           1  2020-02-16               0             1\n",
       "3           1  2020-02-23               0             2\n",
       "4           1  2020-03-01               0             1"
      ]
     },
     "execution_count": 13,
     "metadata": {},
     "output_type": "execute_result"
    }
   ],
   "source": [
    "%%time\n",
    "# listing_3_3_count_metric_insert.sql\n",
    "\n",
    "query = f\"\"\"\\\n",
    "WITH date_vals AS (\n",
    "  SELECT \n",
    "      i::timestamp AS metric_date \n",
    "    FROM \n",
    "      generate_series('{from_yyyy_mm_dd}', '{to_yyyy_mm_dd}', '7 day'::interval) AS i\n",
    ")\n",
    "-- INSERT INTO metric (account_id, metric_time, metric_name_id, metric_value)\n",
    "\n",
    "    SELECT \n",
    "        account_id, \n",
    "        metric_date AS metric_time, \n",
    "        {new_metric_id} AS metric_name_id,  \n",
    "        count(*) AS metric_value\n",
    "      FROM event\n",
    "INNER JOIN date_vals AS date\n",
    "        ON event.event_time < date.metric_date \n",
    "       AND event.event_time >= (date.metric_date - interval '28 day')\n",
    "INNER JOIN event_type AS type \n",
    "        ON type.event_type_id = event.event_type_id\n",
    "    WHERE type.event_type_name = '{event2measure}'\n",
    " GROUP BY event.account_id, date.metric_date\n",
    "\n",
    "-- ON CONFLICT DO NOTHING;\n",
    "\"\"\"\n",
    "res = pd.read_sql_query(query, conn)\n",
    "res.head()"
   ]
  },
  {
   "cell_type": "code",
   "execution_count": null,
   "id": "f5179cd0-dac3-4f39-9e40-0818519ba6ec",
   "metadata": {},
   "outputs": [],
   "source": []
  },
  {
   "cell_type": "markdown",
   "id": "b5f0f8c2-e5eb-4490-b4c5-6b0014cd5c2b",
   "metadata": {},
   "source": [
    "#### insert execution"
   ]
  },
  {
   "cell_type": "code",
   "execution_count": 16,
   "id": "b2d3b5aa-fb1c-4367-9bda-69952629749c",
   "metadata": {},
   "outputs": [],
   "source": [
    "def insert_metric_query(metric_id, event_name, from_yyyy_mm_dd, to_yyyy_mm_dd):\n",
    "    \n",
    "    query = f\"\"\"\\\n",
    "    WITH date_vals AS (\n",
    "      SELECT \n",
    "          i::timestamp AS metric_date \n",
    "        FROM \n",
    "          generate_series('{from_yyyy_mm_dd}', '{to_yyyy_mm_dd}', '7 day'::interval) AS i\n",
    "    )\n",
    "    \n",
    "    INSERT INTO metric (account_id, metric_time, metric_name_id, metric_value)\n",
    "\n",
    "        SELECT \n",
    "            account_id, \n",
    "            metric_date AS metric_time, \n",
    "            {metric_id} AS metric_name_id,  \n",
    "            count(*) AS metric_value\n",
    "          FROM event\n",
    "    INNER JOIN date_vals AS date\n",
    "            ON event.event_time < date.metric_date \n",
    "           AND event.event_time >= (date.metric_date - interval '28 day')\n",
    "    INNER JOIN event_type AS type \n",
    "            ON type.event_type_id = event.event_type_id\n",
    "        WHERE type.event_type_name = '{event_name}'\n",
    "     GROUP BY event.account_id, date.metric_date\n",
    "\n",
    "    ON CONFLICT DO NOTHING;\n",
    "    \"\"\"\n",
    "    return query"
   ]
  },
  {
   "cell_type": "code",
   "execution_count": 25,
   "id": "f82601e6-4551-47c7-93b0-dd16aa71e935",
   "metadata": {},
   "outputs": [],
   "source": [
    "# with engine.begin() as connection:\n",
    "#     result = connection.execute(\"DELETE FROM metric\")\n",
    "# result"
   ]
  },
  {
   "cell_type": "code",
   "execution_count": 26,
   "id": "41578e59-2f32-4aec-a499-d217256409ad",
   "metadata": {},
   "outputs": [
    {
     "name": "stdout",
     "output_type": "stream",
     "text": [
      "CPU times: user 35.1 ms, sys: 11.9 ms, total: 47.1 ms\n",
      "Wall time: 2min 10s\n"
     ]
    },
    {
     "data": {
      "text/plain": [
       "[<sqlalchemy.engine.cursor.LegacyCursorResult at 0x7fc55fdf8370>,\n",
       " <sqlalchemy.engine.cursor.LegacyCursorResult at 0x7fc55fdf8220>,\n",
       " <sqlalchemy.engine.cursor.LegacyCursorResult at 0x7fc55d20b250>,\n",
       " <sqlalchemy.engine.cursor.LegacyCursorResult at 0x7fc55a219e50>,\n",
       " <sqlalchemy.engine.cursor.LegacyCursorResult at 0x7fc55a219a90>,\n",
       " <sqlalchemy.engine.cursor.LegacyCursorResult at 0x7fc55a219fd0>,\n",
       " <sqlalchemy.engine.cursor.LegacyCursorResult at 0x7fc55a219a30>,\n",
       " <sqlalchemy.engine.cursor.LegacyCursorResult at 0x7fc55a219280>]"
      ]
     },
     "execution_count": 26,
     "metadata": {},
     "output_type": "execute_result"
    }
   ],
   "source": [
    "%%time\n",
    " \n",
    "tmp = pd.read_sql_query(\"SELECT * FROM metric\", conn) \n",
    "assert tmp.shape[0] == 0, \"Table 'metric' already populated with data\"\n",
    "\n",
    "results = []\n",
    "for mid, name in zipped: \n",
    "    m_query = insert_metric_query(mid, name, from_yyyy_mm_dd, to_yyyy_mm_dd)\n",
    "    \n",
    "    with engine.begin() as connection:\n",
    "        result = connection.execute(m_query)\n",
    "    results.append(result)\n",
    "    \n",
    "results"
   ]
  },
  {
   "cell_type": "code",
   "execution_count": 27,
   "id": "abcbd0ec-cc32-46dd-bbe4-4a78664176bb",
   "metadata": {},
   "outputs": [
    {
     "data": {
      "text/html": [
       "<div>\n",
       "<style scoped>\n",
       "    .dataframe tbody tr th:only-of-type {\n",
       "        vertical-align: middle;\n",
       "    }\n",
       "\n",
       "    .dataframe tbody tr th {\n",
       "        vertical-align: top;\n",
       "    }\n",
       "\n",
       "    .dataframe thead th {\n",
       "        text-align: right;\n",
       "    }\n",
       "</style>\n",
       "<table border=\"1\" class=\"dataframe\">\n",
       "  <thead>\n",
       "    <tr style=\"text-align: right;\">\n",
       "      <th></th>\n",
       "      <th>metric_name_id</th>\n",
       "      <th>count</th>\n",
       "    </tr>\n",
       "  </thead>\n",
       "  <tbody>\n",
       "    <tr>\n",
       "      <th>0</th>\n",
       "      <td>0</td>\n",
       "      <td>163450</td>\n",
       "    </tr>\n",
       "    <tr>\n",
       "      <th>1</th>\n",
       "      <td>1</td>\n",
       "      <td>144501</td>\n",
       "    </tr>\n",
       "    <tr>\n",
       "      <th>2</th>\n",
       "      <td>2</td>\n",
       "      <td>160936</td>\n",
       "    </tr>\n",
       "    <tr>\n",
       "      <th>3</th>\n",
       "      <td>3</td>\n",
       "      <td>160510</td>\n",
       "    </tr>\n",
       "    <tr>\n",
       "      <th>4</th>\n",
       "      <td>4</td>\n",
       "      <td>154133</td>\n",
       "    </tr>\n",
       "    <tr>\n",
       "      <th>5</th>\n",
       "      <td>5</td>\n",
       "      <td>39979</td>\n",
       "    </tr>\n",
       "    <tr>\n",
       "      <th>6</th>\n",
       "      <td>6</td>\n",
       "      <td>155804</td>\n",
       "    </tr>\n",
       "    <tr>\n",
       "      <th>7</th>\n",
       "      <td>7</td>\n",
       "      <td>124663</td>\n",
       "    </tr>\n",
       "  </tbody>\n",
       "</table>\n",
       "</div>"
      ],
      "text/plain": [
       "   metric_name_id   count\n",
       "0               0  163450\n",
       "1               1  144501\n",
       "2               2  160936\n",
       "3               3  160510\n",
       "4               4  154133\n",
       "5               5   39979\n",
       "6               6  155804\n",
       "7               7  124663"
      ]
     },
     "execution_count": 27,
     "metadata": {},
     "output_type": "execute_result"
    }
   ],
   "source": [
    "tmp = pd.read_sql_query(\"SELECT metric_name_id, COUNT(*) FROM metric GROUP BY metric_name_id\", conn) \n",
    "tmp"
   ]
  },
  {
   "cell_type": "code",
   "execution_count": null,
   "id": "e02a0062-f61c-4e11-9df5-1b35137c13e0",
   "metadata": {},
   "outputs": [],
   "source": []
  },
  {
   "cell_type": "markdown",
   "id": "944fb8e3-62b3-4e49-90fc-7167dde4dc48",
   "metadata": {},
   "source": [
    "### Listing 4: metric_name table"
   ]
  },
  {
   "cell_type": "code",
   "execution_count": 12,
   "id": "428373d9-dfba-4179-8544-20688cce5338",
   "metadata": {},
   "outputs": [
    {
     "name": "stdout",
     "output_type": "stream",
     "text": [
      "{'name': 'metric_name_insert',\n",
      " 'params': {'%new_metric_id': 0,\n",
      "            '%new_metric_name': 'like_per_month',\n",
      "            'mode': 'run'},\n",
      " 'v1': {},\n",
      " 'v11': {'%new_metric_id': 8, '%new_metric_name': 'account_tenure'},\n",
      " 'v2': {'%new_metric_id': 1, '%new_metric_name': 'newfriend_per_month'},\n",
      " 'v3': {'%new_metric_id': 2, '%new_metric_name': 'post_per_month'},\n",
      " 'v4': {'%new_metric_id': 3, '%new_metric_name': 'adview_per_month'},\n",
      " 'v5': {'%new_metric_id': 4, '%new_metric_name': 'dislike_per_month'},\n",
      " 'v6': {'%new_metric_id': 5, '%new_metric_name': 'unfriend_per_month'},\n",
      " 'v7': {'%new_metric_id': 6, '%new_metric_name': 'message_per_month'},\n",
      " 'v8': {'%new_metric_id': 7, '%new_metric_name': 'reply_per_month'}}\n"
     ]
    }
   ],
   "source": [
    "pprint(chap3[\"list4\"])"
   ]
  },
  {
   "cell_type": "code",
   "execution_count": 25,
   "id": "7513eaab-f520-47f9-9977-edd3488f6520",
   "metadata": {},
   "outputs": [
    {
     "data": {
      "text/plain": [
       "(0, 'like')"
      ]
     },
     "execution_count": 25,
     "metadata": {},
     "output_type": "execute_result"
    }
   ],
   "source": [
    "new_metric_id = chap3[\"list4\"][\"params\"][\"%new_metric_id\"]\n",
    "new_metric_name = chap3[\"list4\"][\"params\"][\"%new_metric_name\"]\n",
    "\n",
    "new_metric_id, new_metric_name"
   ]
  },
  {
   "cell_type": "code",
   "execution_count": 43,
   "id": "0d82c3cf-bc7f-4e51-bfdf-9b74eac3bb6e",
   "metadata": {},
   "outputs": [
    {
     "data": {
      "text/plain": [
       "[(0, 'like_per_month'),\n",
       " (1, 'newfriend_per_month'),\n",
       " (2, 'post_per_month'),\n",
       " (3, 'adview_per_month'),\n",
       " (4, 'dislike_per_month'),\n",
       " (5, 'unfriend_per_month'),\n",
       " (6, 'message_per_month'),\n",
       " (7, 'reply_per_month'),\n",
       " (8, 'account_tenure')]"
      ]
     },
     "execution_count": 43,
     "metadata": {},
     "output_type": "execute_result"
    }
   ],
   "source": [
    "metric_ids = [\n",
    "    chap3[\"list4\"][\"params\"][\"%new_metric_id\"], \n",
    "    *[chap3[\"list4\"][f\"v{i}\"][\"%new_metric_id\"] for i in list(range(2, 9))+[11]]\n",
    "]\n",
    "metric_names = [\n",
    "    chap3[\"list4\"][\"params\"][\"%new_metric_name\"], \n",
    "    *[chap3[\"list4\"][f\"v{i}\"][\"%new_metric_name\"] for i in list(range(2, 9))+[11]]\n",
    "]\n",
    "\n",
    "(zipped := list(zip(metric_ids, metric_names)))"
   ]
  },
  {
   "cell_type": "code",
   "execution_count": 44,
   "id": "a45f512e-7dbd-4694-874b-d2b744c04892",
   "metadata": {},
   "outputs": [],
   "source": [
    "# listing_3_4_metric_name_insert.sql\n",
    "\n",
    "query = f\"\"\"\\\n",
    "INSERT INTO metric_name VALUES ({new_metric_id},'{new_metric_name}')\n",
    "ON CONFLICT DO NOTHING;\n",
    "\"\"\""
   ]
  },
  {
   "cell_type": "code",
   "execution_count": null,
   "id": "650d8632-22af-4bba-a56f-3f47eaa9db3f",
   "metadata": {},
   "outputs": [],
   "source": []
  },
  {
   "cell_type": "markdown",
   "id": "efac740f-8e15-4095-9c38-c1193327f864",
   "metadata": {},
   "source": [
    "#### insert execution"
   ]
  },
  {
   "cell_type": "code",
   "execution_count": 45,
   "id": "a19c1277-c48c-493b-90e4-98eb0cc04178",
   "metadata": {},
   "outputs": [],
   "source": [
    "def insert_metric_name_query(metric_id, metric_name):\n",
    "     \n",
    "    query = f\"\"\"\\\n",
    "    INSERT INTO metric_name VALUES ({metric_id},'{metric_name}')\n",
    "    ON CONFLICT DO NOTHING;\n",
    "    \"\"\"\n",
    "    return query\n"
   ]
  },
  {
   "cell_type": "code",
   "execution_count": 46,
   "id": "2d195564-aff8-439e-a3dc-70c35b5c0f05",
   "metadata": {},
   "outputs": [
    {
     "name": "stdout",
     "output_type": "stream",
     "text": [
      "CPU times: user 12.5 ms, sys: 425 µs, total: 12.9 ms\n",
      "Wall time: 21.4 ms\n"
     ]
    },
    {
     "data": {
      "text/plain": [
       "[<sqlalchemy.engine.cursor.LegacyCursorResult at 0x7f326c371100>,\n",
       " <sqlalchemy.engine.cursor.LegacyCursorResult at 0x7f3225abe940>,\n",
       " <sqlalchemy.engine.cursor.LegacyCursorResult at 0x7f32250a0160>,\n",
       " <sqlalchemy.engine.cursor.LegacyCursorResult at 0x7f32250acf70>,\n",
       " <sqlalchemy.engine.cursor.LegacyCursorResult at 0x7f322586a880>,\n",
       " <sqlalchemy.engine.cursor.LegacyCursorResult at 0x7f322586a640>,\n",
       " <sqlalchemy.engine.cursor.LegacyCursorResult at 0x7f322586a190>,\n",
       " <sqlalchemy.engine.cursor.LegacyCursorResult at 0x7f322586a070>,\n",
       " <sqlalchemy.engine.cursor.LegacyCursorResult at 0x7f322586adc0>]"
      ]
     },
     "execution_count": 46,
     "metadata": {},
     "output_type": "execute_result"
    }
   ],
   "source": [
    "%%time\n",
    " \n",
    "tmp = pd.read_sql_query(\"SELECT * FROM metric_name\", conn) \n",
    "assert tmp.shape[0] == 0, \"Table 'metric_name' already populated with data\"\n",
    "\n",
    "results = []\n",
    "for mid, mname in zipped: \n",
    "    m_query = insert_metric_name_query(mid, mname)\n",
    "    \n",
    "    with engine.begin() as connection:\n",
    "        result = connection.execute(m_query)\n",
    "    results.append(result)\n",
    "    \n",
    "results"
   ]
  },
  {
   "cell_type": "code",
   "execution_count": null,
   "id": "aa2bed5f-4e3d-4ff3-969b-e7a5ab7ec20e",
   "metadata": {},
   "outputs": [],
   "source": []
  },
  {
   "cell_type": "markdown",
   "id": "7f8274a0-e6e5-435f-a72e-03f953907445",
   "metadata": {},
   "source": [
    "### Listing 13: account_tenure metric"
   ]
  },
  {
   "cell_type": "code",
   "execution_count": 47,
   "id": "75579e58-7189-4185-8275-5d2179315ab9",
   "metadata": {},
   "outputs": [
    {
     "name": "stdout",
     "output_type": "stream",
     "text": [
      "{'name': 'account_tenure_insert',\n",
      " 'params': {'%new_metric_id': 8, 'mode': 'run'}}\n"
     ]
    }
   ],
   "source": [
    "pprint(chap3[\"list13\"])"
   ]
  },
  {
   "cell_type": "code",
   "execution_count": 48,
   "id": "c2468633-1e1d-49b5-b9a9-32cf19ac7c1a",
   "metadata": {},
   "outputs": [
    {
     "data": {
      "text/plain": [
       "('2020-02-02', '2020-05-10', 8)"
      ]
     },
     "execution_count": 48,
     "metadata": {},
     "output_type": "execute_result"
    }
   ],
   "source": [
    "from_yyyy_mm_dd = chap3[\"defaults\"][\"%from_yyyy-mm-dd\"]\n",
    "to_yyyy_mm_dd = chap3[\"defaults\"][\"%to_yyyy-mm-dd\"]\n",
    "new_metric_id = chap3[\"list13\"][\"params\"][\"%new_metric_id\"]\n",
    "\n",
    "from_yyyy_mm_dd, to_yyyy_mm_dd, new_metric_id"
   ]
  },
  {
   "cell_type": "code",
   "execution_count": 49,
   "id": "f590dab7-3895-49d7-a6c0-2c66ec5df008",
   "metadata": {},
   "outputs": [
    {
     "name": "stdout",
     "output_type": "stream",
     "text": [
      "CPU times: user 750 ms, sys: 43.3 ms, total: 794 ms\n",
      "Wall time: 3.34 s\n"
     ]
    },
    {
     "data": {
      "text/html": [
       "<div>\n",
       "<style scoped>\n",
       "    .dataframe tbody tr th:only-of-type {\n",
       "        vertical-align: middle;\n",
       "    }\n",
       "\n",
       "    .dataframe tbody tr th {\n",
       "        vertical-align: top;\n",
       "    }\n",
       "\n",
       "    .dataframe thead th {\n",
       "        text-align: right;\n",
       "    }\n",
       "</style>\n",
       "<table border=\"1\" class=\"dataframe\">\n",
       "  <thead>\n",
       "    <tr style=\"text-align: right;\">\n",
       "      <th></th>\n",
       "      <th>account_id</th>\n",
       "      <th>metric_time</th>\n",
       "      <th>metric_name_id</th>\n",
       "      <th>metric_value</th>\n",
       "    </tr>\n",
       "  </thead>\n",
       "  <tbody>\n",
       "    <tr>\n",
       "      <th>0</th>\n",
       "      <td>1</td>\n",
       "      <td>2020-02-02</td>\n",
       "      <td>8</td>\n",
       "      <td>5.0</td>\n",
       "    </tr>\n",
       "    <tr>\n",
       "      <th>1</th>\n",
       "      <td>1</td>\n",
       "      <td>2020-02-09</td>\n",
       "      <td>8</td>\n",
       "      <td>12.0</td>\n",
       "    </tr>\n",
       "    <tr>\n",
       "      <th>2</th>\n",
       "      <td>1</td>\n",
       "      <td>2020-02-16</td>\n",
       "      <td>8</td>\n",
       "      <td>19.0</td>\n",
       "    </tr>\n",
       "    <tr>\n",
       "      <th>3</th>\n",
       "      <td>1</td>\n",
       "      <td>2020-02-23</td>\n",
       "      <td>8</td>\n",
       "      <td>26.0</td>\n",
       "    </tr>\n",
       "    <tr>\n",
       "      <th>4</th>\n",
       "      <td>1</td>\n",
       "      <td>2020-03-01</td>\n",
       "      <td>8</td>\n",
       "      <td>33.0</td>\n",
       "    </tr>\n",
       "  </tbody>\n",
       "</table>\n",
       "</div>"
      ],
      "text/plain": [
       "   account_id metric_time  metric_name_id  metric_value\n",
       "0           1  2020-02-02               8           5.0\n",
       "1           1  2020-02-09               8          12.0\n",
       "2           1  2020-02-16               8          19.0\n",
       "3           1  2020-02-23               8          26.0\n",
       "4           1  2020-03-01               8          33.0"
      ]
     },
     "execution_count": 49,
     "metadata": {},
     "output_type": "execute_result"
    }
   ],
   "source": [
    "%%time\n",
    "# listing_3_13_account_tenure_insert.sql\n",
    "\n",
    "query = f\"\"\"\\\n",
    "\n",
    "with RECURSIVE date_vals AS (    \n",
    "    SELECT \n",
    "        i::timestamp AS metric_date     \n",
    "      FROM \n",
    "        generate_series('{from_yyyy_mm_dd}', '{to_yyyy_mm_dd}', '7 day'::interval) AS i\n",
    "),\n",
    "earlier_starts AS (\n",
    "    SELECT \n",
    "        account_id, \n",
    "        metric_date, \n",
    "        MIN(start_date) AS start_date\n",
    "      FROM subscription \n",
    "INNER JOIN date_vals\n",
    "        ON start_date <= metric_date    \n",
    "       AND (end_date > metric_date OR end_date IS null)\n",
    "  GROUP BY account_id, metric_date\n",
    "\n",
    "    UNION\n",
    "\n",
    "    SELECT \n",
    "        sub.account_id, \n",
    "        metric_date, \n",
    "        sub.start_date    \n",
    "      FROM \n",
    "        subscription AS sub \n",
    "INNER JOIN \n",
    "        earlier_starts AS early -- self recursive join\n",
    "        ON sub.account_id = early.account_id\n",
    "       AND sub.start_date < early.start_date\n",
    "       AND sub.end_date >= (early.start_date - 31)\n",
    ")\n",
    "\n",
    "-- INSERT INTO metric (account_id,metric_time,metric_name_id, metric_value)\n",
    "\n",
    "    SELECT \n",
    "        account_id,\n",
    "        metric_date AS metric_time, \n",
    "        {new_metric_id} AS metric_name_id, \n",
    "        EXTRACT(days FROM metric_date-MIN(start_date)) AS metric_value\n",
    "      FROM \n",
    "        earlier_starts\n",
    "  GROUP BY account_id, metric_date\n",
    "  ORDER BY account_id, metric_date\n",
    "\n",
    "-- ON CONFLICT DO NOTHING;\n",
    "\"\"\"\n",
    "\n",
    "res = pd.read_sql_query(query, conn)\n",
    "res.head()"
   ]
  },
  {
   "cell_type": "code",
   "execution_count": null,
   "id": "0cb59652-bd6e-4c24-bcaf-baca0a2745fa",
   "metadata": {},
   "outputs": [],
   "source": []
  },
  {
   "cell_type": "markdown",
   "id": "f27cfd10-65fe-4b87-80f2-06a088dd820e",
   "metadata": {},
   "source": [
    "#### insert execution"
   ]
  },
  {
   "cell_type": "code",
   "execution_count": 30,
   "id": "60c3102e-b317-4602-a810-eaf3aa554448",
   "metadata": {},
   "outputs": [
    {
     "data": {
      "text/plain": [
       "('2020-02-02', '2020-05-10', 8)"
      ]
     },
     "execution_count": 30,
     "metadata": {},
     "output_type": "execute_result"
    }
   ],
   "source": [
    "from_yyyy_mm_dd = chap3[\"defaults\"][\"%from_yyyy-mm-dd\"]\n",
    "to_yyyy_mm_dd = chap3[\"defaults\"][\"%to_yyyy-mm-dd\"]\n",
    "new_metric_id = chap3[\"list13\"][\"params\"][\"%new_metric_id\"]\n",
    "\n",
    "from_yyyy_mm_dd, to_yyyy_mm_dd, new_metric_id"
   ]
  },
  {
   "cell_type": "code",
   "execution_count": 31,
   "id": "e4cdcb97-5447-4571-beff-06a25c272900",
   "metadata": {},
   "outputs": [
    {
     "data": {
      "text/plain": [
       "<sqlalchemy.engine.cursor.LegacyCursorResult at 0x7fc55d1d92b0>"
      ]
     },
     "execution_count": 31,
     "metadata": {},
     "output_type": "execute_result"
    }
   ],
   "source": [
    "query = f\"\"\"\\\n",
    "\n",
    "with RECURSIVE date_vals AS (    \n",
    "    SELECT \n",
    "        i::timestamp AS metric_date     \n",
    "      FROM \n",
    "        generate_series('{from_yyyy_mm_dd}', '{to_yyyy_mm_dd}', '7 day'::interval) AS i\n",
    "),\n",
    "earlier_starts AS (\n",
    "    SELECT \n",
    "        account_id, \n",
    "        metric_date, \n",
    "        MIN(start_date) AS start_date\n",
    "      FROM subscription \n",
    "INNER JOIN date_vals\n",
    "        ON start_date <= metric_date    \n",
    "       AND (end_date > metric_date OR end_date IS null)\n",
    "  GROUP BY account_id, metric_date\n",
    "\n",
    "    UNION\n",
    "\n",
    "    SELECT \n",
    "        sub.account_id, \n",
    "        metric_date, \n",
    "        sub.start_date    \n",
    "      FROM \n",
    "        subscription AS sub \n",
    "INNER JOIN \n",
    "        earlier_starts AS early -- self recursive join\n",
    "        ON sub.account_id = early.account_id\n",
    "       AND sub.start_date < early.start_date\n",
    "       AND sub.end_date >= (early.start_date - 31)\n",
    ")\n",
    "\n",
    "INSERT INTO metric (account_id,metric_time,metric_name_id, metric_value)\n",
    "\n",
    "    SELECT \n",
    "        account_id,\n",
    "        metric_date AS metric_time, \n",
    "        {new_metric_id} AS metric_name_id, \n",
    "        EXTRACT(days FROM metric_date-MIN(start_date)) AS metric_value\n",
    "      FROM \n",
    "        earlier_starts\n",
    "  GROUP BY account_id, metric_date\n",
    "  ORDER BY account_id, metric_date\n",
    "\n",
    "ON CONFLICT DO NOTHING;\n",
    "\"\"\"\n",
    "\n",
    "with engine.begin() as connection:\n",
    "    result = connection.execute(query)\n",
    "result"
   ]
  },
  {
   "cell_type": "code",
   "execution_count": 32,
   "id": "0fbaf5d1-c65f-48f6-b149-84a577c55872",
   "metadata": {},
   "outputs": [
    {
     "data": {
      "text/html": [
       "<div>\n",
       "<style scoped>\n",
       "    .dataframe tbody tr th:only-of-type {\n",
       "        vertical-align: middle;\n",
       "    }\n",
       "\n",
       "    .dataframe tbody tr th {\n",
       "        vertical-align: top;\n",
       "    }\n",
       "\n",
       "    .dataframe thead th {\n",
       "        text-align: right;\n",
       "    }\n",
       "</style>\n",
       "<table border=\"1\" class=\"dataframe\">\n",
       "  <thead>\n",
       "    <tr style=\"text-align: right;\">\n",
       "      <th></th>\n",
       "      <th>metric_name_id</th>\n",
       "      <th>count</th>\n",
       "    </tr>\n",
       "  </thead>\n",
       "  <tbody>\n",
       "    <tr>\n",
       "      <th>0</th>\n",
       "      <td>0</td>\n",
       "      <td>163450</td>\n",
       "    </tr>\n",
       "    <tr>\n",
       "      <th>1</th>\n",
       "      <td>1</td>\n",
       "      <td>144501</td>\n",
       "    </tr>\n",
       "    <tr>\n",
       "      <th>2</th>\n",
       "      <td>2</td>\n",
       "      <td>160936</td>\n",
       "    </tr>\n",
       "    <tr>\n",
       "      <th>3</th>\n",
       "      <td>3</td>\n",
       "      <td>160510</td>\n",
       "    </tr>\n",
       "    <tr>\n",
       "      <th>4</th>\n",
       "      <td>4</td>\n",
       "      <td>154133</td>\n",
       "    </tr>\n",
       "    <tr>\n",
       "      <th>5</th>\n",
       "      <td>5</td>\n",
       "      <td>39979</td>\n",
       "    </tr>\n",
       "    <tr>\n",
       "      <th>6</th>\n",
       "      <td>6</td>\n",
       "      <td>155804</td>\n",
       "    </tr>\n",
       "    <tr>\n",
       "      <th>7</th>\n",
       "      <td>7</td>\n",
       "      <td>124663</td>\n",
       "    </tr>\n",
       "    <tr>\n",
       "      <th>8</th>\n",
       "      <td>8</td>\n",
       "      <td>158237</td>\n",
       "    </tr>\n",
       "  </tbody>\n",
       "</table>\n",
       "</div>"
      ],
      "text/plain": [
       "   metric_name_id   count\n",
       "0               0  163450\n",
       "1               1  144501\n",
       "2               2  160936\n",
       "3               3  160510\n",
       "4               4  154133\n",
       "5               5   39979\n",
       "6               6  155804\n",
       "7               7  124663\n",
       "8               8  158237"
      ]
     },
     "execution_count": 32,
     "metadata": {},
     "output_type": "execute_result"
    }
   ],
   "source": [
    "tmp = pd.read_sql_query(\"SELECT metric_name_id, COUNT(*) FROM metric GROUP BY metric_name_id\", conn) \n",
    "tmp"
   ]
  },
  {
   "cell_type": "code",
   "execution_count": null,
   "id": "ba0b43dd-ca17-4fe9-9e03-69cd6a55f156",
   "metadata": {},
   "outputs": [],
   "source": []
  }
 ],
 "metadata": {
  "kernelspec": {
   "display_name": "Python 3 (ipykernel)",
   "language": "python",
   "name": "python3"
  },
  "language_info": {
   "codemirror_mode": {
    "name": "ipython",
    "version": 3
   },
   "file_extension": ".py",
   "mimetype": "text/x-python",
   "name": "python",
   "nbconvert_exporter": "python",
   "pygments_lexer": "ipython3",
   "version": "3.8.16"
  }
 },
 "nbformat": 4,
 "nbformat_minor": 5
}
